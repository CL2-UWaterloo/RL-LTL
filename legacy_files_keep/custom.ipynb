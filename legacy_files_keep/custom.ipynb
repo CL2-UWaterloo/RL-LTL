{
 "cells": [
  {
   "cell_type": "code",
   "execution_count": 1,
   "metadata": {},
   "outputs": [
    {
     "name": "stderr",
     "output_type": "stream",
     "text": [
      "2023-09-04 17:09:10.747148: I tensorflow/core/platform/cpu_feature_guard.cc:193] This TensorFlow binary is optimized with oneAPI Deep Neural Network Library (oneDNN) to use the following CPU instructions in performance-critical operations:  SSE4.1 SSE4.2 AVX AVX2 FMA\n",
      "To enable them in other operations, rebuild TensorFlow with the appropriate compiler flags.\n"
     ]
    }
   ],
   "source": [
    "from NN import *\n",
    "from LTL import *\n",
    "from Utility_funcs import *\n",
    "\n",
    "from csrl.mdp import GridMDP\n",
    "from csrl.oa import OmegaAutomaton\n",
    "from csrl import ControlSynthesis\n",
    "import numpy as np\n",
    "import os\n",
    "\n",
    "from matplotlib import pyplot as plt\n",
    "import time "
   ]
  },
  {
   "cell_type": "code",
   "execution_count": 2,
   "metadata": {},
   "outputs": [
    {
     "name": "stdout",
     "output_type": "stream",
     "text": [
      "Number of Omega-automaton states (including the trap state): 3\n"
     ]
    },
    {
     "data": {
      "image/png": "[encoded data removed]",
      "text/plain": [
       "<Figure size 500x500 with 1 Axes>"
      ]
     },
     "metadata": {},
     "output_type": "display_data"
    }
   ],
   "source": [
    "ltl = (\"(G !d) & (F G a)\")\n",
    "\n",
    "# Translate the LTL formula to an LDBA\n",
    "oa = OmegaAutomaton(ltl)\n",
    "print('Number of Omega-automaton states (including the trap state):',oa.shape[1])\n",
    "\n",
    "# MDP Description\n",
    "shape = (6,3)\n",
    "# E: Empty, T: Trap, B: Obstacle\n",
    "structure = np.array([\n",
    "['E',  'T',  'E'],\n",
    "['E',  'E',  'E'],\n",
    "['E',  'E',  'E'],\n",
    "['E',  'E',  'E'],\n",
    "['E',  'E',  'E'],\n",
    "['E',  'E',  'E']\n",
    "])\n",
    "\n",
    "# Labels of the states\n",
    "label = np.array([\n",
    "[(),    ('a',),   ()],\n",
    "[(),    ('d',),   ()],\n",
    "[(),    ('d',),   ()],\n",
    "[(),    ('d',),   ()],\n",
    "[(),    ('d',),   ()],\n",
    "[(),    (),   ()],\n",
    "],dtype=object)\n",
    "# Colors of the labels \n",
    "lcmap={\n",
    "    ('a',):'yellow',\n",
    "    ('b',):'greenyellow',\n",
    "    ('c',):'turquoise',\n",
    "    ('d',):'pink'\n",
    "}\n",
    "# u, d, r, l = moves\n",
    "p = 0.8\n",
    "grid_mdp = GridMDP(shape=shape,structure=structure,label=label,lcmap=lcmap, p=p, figsize=5)  # Use figsize=4 for smaller figures\n",
    "grid_mdp.plot(save=\"env.pdf\")\n",
    "\n",
    "# Construct the product MDP\n",
    "csrl = ControlSynthesis(grid_mdp,oa)\n",
    "max_rew = round(csrl.reward.max(), 3)\n",
    "\n",
    "s_vectors = state_vectors(csrl)\n",
    "enc = list(np.unique(grid_mdp.label))\n",
    "enc.pop(enc.index(()))\n",
    "ch_states = channeled(csrl, enc)\n",
    "total_number_of_states = csrl.mdp.shape[0]*csrl.mdp.shape[1]*csrl.oa.shape[1]"
   ]
  },
  {
   "cell_type": "code",
   "execution_count": 3,
   "metadata": {},
   "outputs": [
    {
     "name": "stdout",
     "output_type": "stream",
     "text": [
      "{'a': [1], 'd': [4, 7, 10, 13]}\n"
     ]
    }
   ],
   "source": [
    "t = \"[] ~d /\\ (<> [] a)\"\n",
    "\n",
    "LTL_formula = parser.parse(t)\n",
    "predicates=get_predicates(grid_mdp)\n",
    "print(predicates)"
   ]
  },
  {
   "cell_type": "code",
   "execution_count": 4,
   "metadata": {},
   "outputs": [
    {
     "name": "stderr",
     "output_type": "stream",
     "text": [
      "2023-09-04 17:09:16.406779: I tensorflow/core/platform/cpu_feature_guard.cc:193] This TensorFlow binary is optimized with oneAPI Deep Neural Network Library (oneDNN) to use the following CPU instructions in performance-critical operations:  SSE4.1 SSE4.2 AVX AVX2 FMA\n",
      "To enable them in other operations, rebuild TensorFlow with the appropriate compiler flags.\n",
      "2023-09-04 17:09:16.407218: I tensorflow/core/common_runtime/process_util.cc:146] Creating new thread pool with default inter op setting: 2. Tune using inter_op_parallelism_threads for best performance.\n"
     ]
    }
   ],
   "source": [
    "model = build_model(ch_states[(0,0,0,0)].shape, csrl.shape[-1])\n",
    "N, W, Q, P, visited = np.zeros(csrl.shape), np.zeros(csrl.shape), np.zeros(csrl.shape), np.zeros(csrl.shape), set()\n",
    "# model.summary()"
   ]
  },
  {
   "cell_type": "code",
   "execution_count": 5,
   "metadata": {},
   "outputs": [
    {
     "data": {
      "text/plain": [
       "([(0, 2, 2, 1), (0, 2, 0, 1), (0, 2, 1, 0)],\n",
       " [0.09999999999999998, 0.09999999999999998, 0.8])"
      ]
     },
     "execution_count": 5,
     "metadata": {},
     "output_type": "execute_result"
    }
   ],
   "source": [
    "csrl.transition_probs[(0,0,1,1)][3]"
   ]
  },
  {
   "cell_type": "code",
   "execution_count": 6,
   "metadata": {},
   "outputs": [
    {
     "name": "stdout",
     "output_type": "stream",
     "text": [
      "C: 1 | tow: 1\n",
      "[0. 0. 0. 0.] 0\n",
      "0 ) MCTS conf: -0.43 , det: 0.8 | LTL [---]  LDBA [ 0.0 ] path: [16, 17, 16, 15, 15, 15, 12, 13]\n",
      "[0. 0. 0. 0.] 42\n",
      "1 ) MCTS conf: 0.97 , det: 0.54 | LTL [+++]  LDBA [ 0.25 ] path: [16, 15, 15, 15, 12, 9, 6, 3, 0, 1, 1, 1, 1, 1, 1, 1, 1, 1, 1, 1, 1, 1, 1, 1, 1, 1, 1, 1, 1, 1, 1, 1, 1, 1, 1]\n",
      "[0. 0. 0. 0.] 42\n",
      "2 ) MCTS conf: 0.93 , det: 0.49 | LTL [+++]  LDBA [ 0.27 ] path: [16, 15, 12, 9, 6, 3, 0, 1, 1, 1, 1, 1, 1, 1, 1, 1, 1, 1, 1, 1, 1, 1, 1, 1, 1, 1, 1, 1, 1, 1, 1, 1, 1, 1, 1]\n",
      "[0. 0. 0. 0.] 42\n",
      "3 ) MCTS conf: 0.97 , det: 0.55 | LTL [---]  LDBA [ 0.0 ] path: [16, 13]\n",
      "[0. 0. 0. 0.] 42\n",
      "4 ) MCTS conf: 0.88 , det: 0.59 | LTL [---]  LDBA [ 0.0 ] path: [16, 16, 15, 12, 12, 13]\n",
      "[0. 0. 0. 0.] 42\n",
      "5 ) MCTS conf: 0.9 , det: 0.66 | LTL [---]  LDBA [ 0.0 ] path: [16, 16, 15, 12, 9, 9, 10]\n",
      "[0. 0. 0. 0.] 42\n",
      "6 ) MCTS conf: 1.0 , det: 0.7 | LTL [---]  LDBA [ 0.0 ] path: [16, 15, 16, 15, 15, 12, 9, 6, 7]\n",
      "[0. 0. 0. 0.] 42\n",
      "7 ) MCTS conf: 0.95 , det: 0.74 | LTL [+++]  LDBA [ 0.23 ] path: [16, 15, 16, 15, 12, 9, 6, 3, 3, 3, 0, 1, 1, 1, 1, 1, 1, 1, 1, 1, 1, 1, 1, 1, 1, 1, 1, 1, 1, 1, 1, 1, 1, 1, 1]\n",
      "[0. 0. 0. 0.] 42\n",
      "8 ) MCTS conf: 0.93 , det: 0.77 | LTL [+++]  LDBA [ 0.27 ] path: [16, 15, 12, 9, 6, 3, 0, 1, 1, 1, 1, 1, 1, 1, 1, 1, 1, 1, 1, 1, 1, 1, 1, 1, 1, 1, 1, 1, 1, 1, 1, 1, 1, 1, 1]\n",
      "[0. 0. 0. 0.] 42\n",
      "9 ) MCTS conf: 0.97 , det: 0.78 | LTL [+++]  LDBA [ 0.25 ] path: [16, 15, 12, 9, 6, 3, 0, 3, 0, 1, 1, 1, 1, 1, 1, 1, 1, 1, 1, 1, 1, 1, 1, 1, 1, 1, 1, 1, 1, 1, 1, 1, 1, 1, 1]\n",
      "Train wins: 5 / 10\n",
      "None ) MCTS conf: 0.69 , det: 0.93 | LTL [+++]  LDBA [ 0.24 ] path: [16, 16, 15, 12, 9, 6, 3, 0, 0, 0, 1, 1, 1, 1, 1, 1, 1, 1, 1, 1, 1, 1, 1, 1, 1, 1, 1, 1, 1, 1, 1, 1, 1, 1, 1]\n",
      "None ) MCTS conf: 0.93 , det: 0.98 | LTL [---]  LDBA [ 0.0 ] path: [16, 16, 15, 12, 13]\n",
      "None ) MCTS conf: 0.98 , det: 0.99 | LTL [+++]  LDBA [ 0.26 ] path: [16, 15, 12, 9, 9, 6, 3, 0, 1, 1, 1, 1, 1, 1, 1, 1, 1, 1, 1, 1, 1, 1, 1, 1, 1, 1, 1, 1, 1, 1, 1, 1, 1, 1, 1]\n",
      "None ) MCTS conf: 0.92 , det: 0.99 | LTL [---]  LDBA [ 0.0 ] path: [16, 16, 13]\n",
      "None ) MCTS conf: 0.92 , det: 0.99 | LTL [---]  LDBA [ 0.0 ] path: [16, 15, 15, 12, 13]\n",
      "None ) MCTS conf: 0.91 , det: 0.99 | LTL [---]  LDBA [ 0.0 ] path: [16, 15, 15, 12, 13]\n",
      "None ) MCTS conf: 0.88 , det: 0.99 | LTL [+++]  LDBA [ 0.25 ] path: [16, 15, 12, 9, 6, 3, 3, 3, 0, 1, 1, 1, 1, 1, 1, 1, 1, 1, 1, 1, 1, 1, 1, 1, 1, 1, 1, 1, 1, 1, 1, 1, 1, 1, 1]\n",
      "None ) MCTS conf: 1.0 , det: 0.99 | LTL [---]  LDBA [ 0.0 ] path: [16, 15, 12, 12, 9, 10]\n",
      "None ) MCTS conf: 0.92 , det: 0.99 | LTL [+++]  LDBA [ 0.25 ] path: [16, 15, 16, 15, 12, 9, 6, 3, 0, 1, 1, 1, 1, 1, 1, 1, 1, 1, 1, 1, 1, 1, 1, 1, 1, 1, 1, 1, 1, 1, 1, 1, 1, 1, 1]\n",
      "None ) MCTS conf: 0.89 , det: 0.99 | LTL [+++]  LDBA [ 0.24 ] path: [16, 15, 16, 15, 12, 9, 6, 6, 3, 0, 1, 1, 1, 1, 1, 1, 1, 1, 1, 1, 1, 1, 1, 1, 1, 1, 1, 1, 1, 1, 1, 1, 1, 1, 1]\n",
      "Test wins: 5 / 10\n"
     ]
    }
   ],
   "source": [
    "visited_states_train = []\n",
    "visited_states_test = []\n",
    "LTL_coef = 10\n",
    "NN_value_active = False\n",
    "\n",
    "search_depth = 30\n",
    "MCTS_samples = 1000\n",
    "\n",
    "num_training_epochs =  10\n",
    "num_test_epochs = 10\n",
    "training = True\n",
    "epochs = 10\n",
    "Cs = [0.01, 0.1, 1]\n",
    "tows = [0.1, 0.5, 1]\n",
    "T = [35]\n",
    "K = 1\n",
    "batch_size = 32\n",
    "steps_per_epoch = 4\n",
    "idx = 0\n",
    "success_rates = []\n",
    "succes_std = []\n",
    "win_hist = []\n",
    "train_history = []\n",
    "\n",
    "os.remove(\"Log_run.txt\")\n",
    "for i in T:\n",
    "    # C , tow = Cs[idx % 3], tows[idx // 3]\n",
    "    C , tow = 1, 1\n",
    "    print(\"C:\",C, \"| tow:\",tow)\n",
    "    idx += 1\n",
    "    # TRAIN ##############################\n",
    "    train_wins = 0\n",
    "    # num_training_epochs = int(200 - 1.9*i)\n",
    "    model = build_model(ch_states[(0,0,0,0)].shape, csrl.shape[-1])\n",
    "    N, W, Q, P, visited_train = np.zeros(csrl.shape), np.zeros(csrl.shape), np.zeros(csrl.shape), np.zeros(csrl.shape), set()\n",
    "    for epoch in range(num_training_epochs):\n",
    "        t1 = time.time()\n",
    "        print(Q[(0,0,4,1)][:4], len(visited_train))\n",
    "        state_history, channeled_states, trajectory, action_history, reward_history, better_policy = MC_learning(csrl, model, LTL_formula,\n",
    "                predicates, csrl.reward, ch_states, N = N, W = W, Q = Q, P = P, C=C, tow=tow, n_samples=MCTS_samples, visited=visited_train,\n",
    "                start=(5,1), search_depth=search_depth, verbose=0, T=i, K=K, NN_value_active=NN_value_active, run_num=epoch, ltl_f_rew=False)\n",
    "        \n",
    "        # print('N',N[(0,0,4,1)][:5])\n",
    "        visited_states_train += state_history\n",
    "        t2 = time.time()\n",
    "        # print(t2-t1, \" run episode\")\n",
    "\n",
    "        # win = check_LTL(LTL_formula, trajectory, predicates)[0]\n",
    "        if reward_history[-1]>0:\n",
    "            train_wins+=1\n",
    "            NN_value_active = True\n",
    "\n",
    "        if training and len(action_history)>0:\n",
    "            if epoch==0:\n",
    "                x_train = np.array(channeled_states)[:-1]\n",
    "                y1_train = np.array(better_policy)\n",
    "                y2_train = np.array(reward_history) + LTL_coef*reward_history[-1]\n",
    "                # y2_train = np.array(reward_history)\n",
    "                y2_train = y2_train[:-1]\n",
    "            else:\n",
    "                x_train = np.concatenate((x_train, np.array(channeled_states)[:-1]),0)\n",
    "                y1_train = np.concatenate((y1_train, np.array(better_policy)),0)\n",
    "                y2_train_curr = np.array(reward_history) + LTL_coef*reward_history[-1]\n",
    "                # y2_train_curr = np.array(reward_history)\n",
    "                y2_train = np.concatenate((y2_train, y2_train_curr[:-1]),0)\n",
    "            t3= time.time()\n",
    "            # print(t3-t2, \" build database\")\n",
    "            tr_hist = model.fit(x_train, [y1_train, y2_train], epochs=epochs, batch_size=batch_size,\n",
    "                                steps_per_epoch=steps_per_epoch if len(x_train)>steps_per_epoch*epochs*batch_size else None, verbose=0)\n",
    "            train_history += tr_hist.history['loss']\n",
    "        # win_hist.append(win)\n",
    "        t4 = time.time()\n",
    "        # print(t4-t3, \"fit\", len(x_train))\n",
    "    print(\"Train wins:\",train_wins,\"/\", num_training_epochs)\n",
    "\n",
    "    # TEST ##############################\n",
    "    test_wins = 0\n",
    "    N, W, Q, P, visited_test = np.zeros(csrl.shape), np.zeros(csrl.shape), np.zeros(csrl.shape), np.zeros(csrl.shape), set()\n",
    "    for epoch in range(num_test_epochs):\n",
    "        \n",
    "        state_history, channeled_states, trajectory, action_history, reward_history, better_policy = MC_learning(csrl, model, LTL_formula,\n",
    "                predicates, csrl.reward, ch_states, N = N, W = W, Q = Q, P = P, C=1, tow=1, n_samples=MCTS_samples, visited=visited_test,\n",
    "                start=(5,1), search_depth=search_depth, verbose=0, T=i, K=1, NN_value_active=True)\n",
    "\n",
    "        # win = check_LTL(LTL_formula, trajectory, predicates)[0]\n",
    "        win = reward_history[-1]\n",
    "        if win: test_wins+=1\n",
    "        win_hist.append(win)\n",
    "        visited_states_test += state_history\n",
    "        \n",
    "    success_rates.append(100*test_wins/num_test_epochs)\n",
    "    temp = np.zeros(num_test_epochs)\n",
    "    temp[:test_wins]=1\n",
    "    std = np.sqrt(num_test_epochs*np.var(temp))\n",
    "    succes_std.append((success_rates[-1]-std, success_rates[-1]+std))\n",
    "    ###############################################################\n",
    "    print(\"Test wins:\",test_wins,\"/\",num_test_epochs)\n",
    "    # print(\"last reward:\", reward_history[-1], \"  | trajectory:\", trajectory)\n",
    "    # print(\"Actions:\", action_history)\n",
    "\n",
    "encode_visited_states_test = [i[1]*csrl.shape[-2]*csrl.shape[-3]+i[2]*csrl.shape[-2]+i[3] for i in visited_states_test]\n",
    "encode_visited_states_train = [i[1]*csrl.shape[-2]*csrl.shape[-3]+i[2]*csrl.shape[-2]+i[3] for i in visited_states_train]\n",
    "\n",
    "# u, d, r, l"
   ]
  },
  {
   "cell_type": "code",
   "execution_count": 12,
   "metadata": {},
   "outputs": [
    {
     "name": "stdout",
     "output_type": "stream",
     "text": [
      "[ 1.97562335  0.         -0.5         0.03183528  0.         -0.28769572\n",
      "  0.        ]\n",
      "[5.421e+04 0.000e+00 1.100e+01 9.000e+00 0.000e+00 5.000e+00 0.000e+00]\n"
     ]
    },
    {
     "data": {
      "text/plain": [
       "([(0, 0, 2, 0), (0, 0, 0, 0), (0, 0, 1, 0)],\n",
       " [0.09999999999999998, 0.09999999999999998, 0.8])"
      ]
     },
     "execution_count": 12,
     "metadata": {},
     "output_type": "execute_result"
    }
   ],
   "source": [
    "# u, d, r, l\n",
    "state = (0, 0, 1, 0)\n",
    "print(Q[state])\n",
    "print(N[state])\n",
    "csrl.transition_probs[state][3]"
   ]
  },
  {
   "cell_type": "code",
   "execution_count": null,
   "metadata": {},
   "outputs": [],
   "source": []
  }
 ],
 "metadata": {
  "kernelspec": {
   "display_name": "base",
   "language": "python",
   "name": "python3"
  },
  "language_info": {
   "codemirror_mode": {
    "name": "ipython",
    "version": 3
   },
   "file_extension": ".py",
   "mimetype": "text/x-python",
   "name": "python",
   "nbconvert_exporter": "python",
   "pygments_lexer": "ipython3",
   "version": "3.8.16"
  },
  "orig_nbformat": 4
 },
 "nbformat": 4,
 "nbformat_minor": 2
}
