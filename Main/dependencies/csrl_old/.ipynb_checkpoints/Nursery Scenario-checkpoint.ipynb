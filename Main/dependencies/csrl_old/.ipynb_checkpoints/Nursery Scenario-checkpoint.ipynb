{
 "cells": [
  {
   "cell_type": "markdown",
   "metadata": {},
   "source": [
    "# Nursery Scenario"
   ]
  },
  {
   "cell_type": "code",
   "execution_count": 1,
   "metadata": {},
   "outputs": [
    {
     "name": "stdout",
     "output_type": "stream",
     "text": [
      "Number of Omega-automaton states (including the trap state): 52\n"
     ]
    },
    {
     "data": {
      "text/plain": [
       "<csrl.oa.OmegaAutomaton at 0x1a068cbedc0>"
      ]
     },
     "metadata": {},
     "output_type": "display_data"
    },
    {
     "data": {
      "image/png": "[encoded data removed]",
      "text/plain": [
       "<Figure size 360x360 with 1 Axes>"
      ]
     },
     "metadata": {
      "needs_background": "light"
     },
     "output_type": "display_data"
    }
   ],
   "source": [
    "%matplotlib inline\n",
    "from csrl.mdp import GridMDP\n",
    "from csrl.oa import OmegaAutomaton\n",
    "from csrl import ControlSynthesis\n",
    "import numpy as np \n",
    "\n",
    "# LTL Specification\n",
    "ltl = ('G ('\n",
    "    '(!d) & '\n",
    "    '((b & (!(X b)))->(X ((!b) U (a|c)))) & '\n",
    "    '(((!b) & (X b) & (!(X X b)))->((!a) U c)) & '\n",
    "    '(a->(X ((!a) U b))) & '\n",
    "    '(c->((!a) U b)) & '\n",
    "    '((b & (X b))->(F a))'\n",
    "')')\n",
    "\n",
    "# Translate the LTL formula to an LDBA\n",
    "oa = OmegaAutomaton(ltl)\n",
    "print('Number of Omega-automaton states (including the trap state):',oa.shape[1])\n",
    "display(oa)\n",
    "\n",
    "# MDP Description\n",
    "shape = (5,4)\n",
    "# E: Empty, T: Trap, B: Obstacle\n",
    "structure = np.array([\n",
    "['E',  'E',  'E',  'E'],\n",
    "['E',  'E',  'E',  'E'],\n",
    "['E',  'E',  'E',  'E'],\n",
    "['E',  'E',  'E',  'E'],\n",
    "['E',  'E',  'E',  'E']\n",
    "])\n",
    "\n",
    "# Labels of the states\n",
    "label = np.array([\n",
    "[(),    (),    ('b',),('d',)],\n",
    "[(),    (),    (),    ()],\n",
    "[(),    (),    (),    ()],\n",
    "[('a',),(),    (),    ()],\n",
    "[(),    ('c',),(),    ()]\n",
    "],dtype=object)\n",
    "# Colors of the labels\n",
    "lcmap={\n",
    "    ('a',):'yellow',\n",
    "    ('b',):'greenyellow',\n",
    "    ('c',):'turquoise',\n",
    "    ('d',):'pink'\n",
    "}\n",
    "grid_mdp = GridMDP(shape=shape,structure=structure,label=label,lcmap=lcmap,figsize=5)  # Use figsize=4 for smaller figures\n",
    "grid_mdp.plot()\n",
    "\n",
    "# Construct the product MDP\n",
    "csrl = ControlSynthesis(grid_mdp,oa)"
   ]
  },
  {
   "cell_type": "code",
   "execution_count": 87,
   "metadata": {
    "tags": []
   },
   "outputs": [
    {
     "data": {
      "text/plain": [
       "array([[[[0.  , 0.  , 0.  , 0.  ],\n",
       "         [0.  , 0.  , 0.  , 0.  ],\n",
       "         [0.  , 0.  , 0.  , 0.  ],\n",
       "         [0.  , 0.  , 0.  , 0.  ],\n",
       "         [0.  , 0.  , 0.  , 0.  ]],\n",
       "\n",
       "        [[0.  , 0.  , 0.  , 0.  ],\n",
       "         [0.  , 0.  , 0.  , 0.  ],\n",
       "         [0.  , 0.  , 0.  , 0.  ],\n",
       "         [0.  , 0.  , 0.  , 0.  ],\n",
       "         [0.  , 0.  , 0.  , 0.  ]],\n",
       "\n",
       "        [[0.  , 0.  , 0.  , 0.  ],\n",
       "         [0.  , 0.  , 0.  , 0.  ],\n",
       "         [0.  , 0.  , 0.  , 0.  ],\n",
       "         [0.  , 0.  , 0.  , 0.  ],\n",
       "         [0.  , 0.  , 0.  , 0.  ]],\n",
       "\n",
       "        ...,\n",
       "\n",
       "        [[0.  , 0.  , 0.  , 0.  ],\n",
       "         [0.  , 0.  , 0.  , 0.  ],\n",
       "         [0.  , 0.  , 0.  , 0.  ],\n",
       "         [0.  , 0.  , 0.  , 0.  ],\n",
       "         [0.  , 0.  , 0.  , 0.  ]],\n",
       "\n",
       "        [[0.  , 0.  , 0.01, 0.  ],\n",
       "         [0.  , 0.  , 0.  , 0.  ],\n",
       "         [0.  , 0.  , 0.  , 0.  ],\n",
       "         [0.  , 0.  , 0.  , 0.  ],\n",
       "         [0.  , 0.  , 0.  , 0.  ]],\n",
       "\n",
       "        [[0.  , 0.  , 0.  , 0.  ],\n",
       "         [0.  , 0.  , 0.  , 0.  ],\n",
       "         [0.  , 0.  , 0.  , 0.  ],\n",
       "         [0.  , 0.  , 0.  , 0.  ],\n",
       "         [0.  , 0.  , 0.  , 0.  ]]]])"
      ]
     },
     "execution_count": 87,
     "metadata": {},
     "output_type": "execute_result"
    }
   ],
   "source": [
    "x=csrl.reward\n",
    "x"
   ]
  },
  {
   "cell_type": "code",
   "execution_count": 52,
   "metadata": {},
   "outputs": [
    {
     "data": {
      "text/plain": [
       "True"
      ]
     },
     "execution_count": 52,
     "metadata": {},
     "output_type": "execute_result"
    }
   ],
   "source": [
    "x = set()\n",
    "x.add((1,1,1,1))\n",
    "(1,1,1,1) in x"
   ]
  },
  {
   "cell_type": "code",
   "execution_count": 3,
   "metadata": {},
   "outputs": [
    {
     "ename": "KeyboardInterrupt",
     "evalue": "",
     "output_type": "error",
     "traceback": [
      "\u001b[1;31m---------------------------------------------------------------------------\u001b[0m",
      "\u001b[1;31mKeyboardInterrupt\u001b[0m                         Traceback (most recent call last)",
      "Input \u001b[1;32mIn [3]\u001b[0m, in \u001b[0;36m<module>\u001b[1;34m\u001b[0m\n\u001b[1;32m----> 1\u001b[0m Q\u001b[38;5;241m=\u001b[39m\u001b[43mcsrl\u001b[49m\u001b[38;5;241;43m.\u001b[39;49m\u001b[43mq_learning\u001b[49m\u001b[43m(\u001b[49m\u001b[43mstart\u001b[49m\u001b[38;5;241;43m=\u001b[39;49m\u001b[43m(\u001b[49m\u001b[38;5;241;43m4\u001b[39;49m\u001b[43m,\u001b[49m\u001b[38;5;241;43m1\u001b[39;49m\u001b[43m)\u001b[49m\u001b[43m,\u001b[49m\u001b[43mT\u001b[49m\u001b[38;5;241;43m=\u001b[39;49m\u001b[38;5;241;43m1000\u001b[39;49m\u001b[43m,\u001b[49m\u001b[43mK\u001b[49m\u001b[38;5;241;43m=\u001b[39;49m\u001b[38;5;241;43m100000\u001b[39;49m\u001b[43m)\u001b[49m\n",
      "File \u001b[1;32mD:\\soroush\\MSc\\research\\Code\\csrl\\csrl\\__init__.py:141\u001b[0m, in \u001b[0;36mControlSynthesis.q_learning\u001b[1;34m(self, start, T, K)\u001b[0m\n\u001b[0;32m    139\u001b[0m \u001b[38;5;66;03m# Observe the next state\u001b[39;00m\n\u001b[0;32m    140\u001b[0m states, probs \u001b[38;5;241m=\u001b[39m \u001b[38;5;28mself\u001b[39m\u001b[38;5;241m.\u001b[39mtransition_probs[state][action]\n\u001b[1;32m--> 141\u001b[0m next_state \u001b[38;5;241m=\u001b[39m states[\u001b[43mnp\u001b[49m\u001b[38;5;241;43m.\u001b[39;49m\u001b[43mrandom\u001b[49m\u001b[38;5;241;43m.\u001b[39;49m\u001b[43mchoice\u001b[49m\u001b[43m(\u001b[49m\u001b[38;5;28;43mlen\u001b[39;49m\u001b[43m(\u001b[49m\u001b[43mstates\u001b[49m\u001b[43m)\u001b[49m\u001b[43m,\u001b[49m\u001b[43mp\u001b[49m\u001b[38;5;241;43m=\u001b[39;49m\u001b[43mprobs\u001b[49m\u001b[43m)\u001b[49m]\n\u001b[0;32m    143\u001b[0m \u001b[38;5;66;03m# Q-update\u001b[39;00m\n\u001b[0;32m    144\u001b[0m Q[state][action] \u001b[38;5;241m+\u001b[39m\u001b[38;5;241m=\u001b[39m alpha \u001b[38;5;241m*\u001b[39m (reward \u001b[38;5;241m+\u001b[39m gamma\u001b[38;5;241m*\u001b[39mnp\u001b[38;5;241m.\u001b[39mmax(Q[next_state]) \u001b[38;5;241m-\u001b[39m Q[state][action])\n",
      "\u001b[1;31mKeyboardInterrupt\u001b[0m: "
     ]
    }
   ],
   "source": [
    "Q=csrl.q_learning(start=(4,1),T=1000,K=100000)"
   ]
  },
  {
   "cell_type": "code",
   "execution_count": null,
   "metadata": {},
   "outputs": [],
   "source": [
    "value=np.max(Q,axis=4)\n",
    "csrl.plot(value)"
   ]
  },
  {
   "cell_type": "code",
   "execution_count": null,
   "metadata": {},
   "outputs": [],
   "source": [
    "policy=np.argmax(Q,axis=4)\n",
    "csrl.plot(value,policy)"
   ]
  },
  {
   "cell_type": "code",
   "execution_count": null,
   "metadata": {},
   "outputs": [],
   "source": [
    "episode=csrl.simulate(policy,start=(4,1),T=1000,plot=False)\n",
    "elements, counts = np.unique(np.array(episode)[:,1], return_counts=True)\n",
    "sorted(zip(elements,counts),key=lambda x:-x[1])"
   ]
  },
  {
   "cell_type": "code",
   "execution_count": null,
   "metadata": {},
   "outputs": [],
   "source": [
    "# Plot the important parts of the policy\n",
    "\n",
    "policy=np.argmax(Q,axis=4)\n",
    "\n",
    "hidden = [(0,0),(1,0),(2,0),(3,0),(4,0),(4,1),(0,2),(0,3)]\n",
    "path = {\n",
    "    (4,1) : 'r',\n",
    "    (4,2) : 'lu',\n",
    "    (3,2) : 'du',\n",
    "    (2,2) : 'du',\n",
    "    (1,2) : 'du',\n",
    "    (0,2) : 'd'\n",
    "}\n",
    "csrl.plot(value,policy,iq=(0,2),save='nursery_scenario_policy_cb.pdf',path=path,hidden=hidden)\n",
    "\n",
    "\n",
    "hidden = [(3,0),(4,0),(4,1),(0,2),(0,3)]\n",
    "path = {\n",
    "    (0,2) : 'l',\n",
    "    (0,1) : 'lr',\n",
    "    (0,0) : 'rd',\n",
    "    (1,0) : 'ur',\n",
    "    (1,1) : 'ld',\n",
    "    (2,1) : 'ur',\n",
    "    (2,2) : 'ld',\n",
    "    (3,2) : 'ud',\n",
    "    (4,2) : 'ul',\n",
    "    (4,1) : 'r'\n",
    "}\n",
    "csrl.plot(value,policy,iq=(0,41),save='nursery_scenario_policy_bc.pdf',hidden=hidden,path=path)\n",
    "\n",
    "hidden=[(3,0),(4,0),(4,1),(4,2),(4,3),(0,2),(0,3)]\n",
    "path = {\n",
    "    (0,2) : 'l',\n",
    "    (0,1) : 'lr',\n",
    "    (0,0) : 'rd',\n",
    "    (1,0) : 'ud',\n",
    "    (2,0) : 'ud',\n",
    "    (3,0) : 'u'\n",
    "}\n",
    "csrl.plot(value,policy,iq=(0,12),save='nursery_scenario_policy_ba.pdf',hidden=hidden,path=path)\n",
    "\n",
    "hidden=[(3,0),(4,0),(0,2),(0,3),(4,1)]\n",
    "path = {\n",
    "    (3,0) : 'r',\n",
    "    (3,1) : 'lr',\n",
    "    (3,2) : 'lu',\n",
    "    (2,2) : 'du',\n",
    "    (1,2) : 'du',\n",
    "    (0,2) : 'd'\n",
    "}\n",
    "csrl.plot(value,policy,iq=(0,9),save='nursery_scenario_policy_ab.pdf',hidden=hidden,path=path)"
   ]
  },
  {
   "cell_type": "code",
   "execution_count": null,
   "metadata": {},
   "outputs": [],
   "source": [
    "# Save the animation\n",
    "episode=csrl.simulate(policy,start=(4,1),T=200, animation='test')"
   ]
  },
  {
   "cell_type": "code",
   "execution_count": null,
   "metadata": {},
   "outputs": [],
   "source": []
  }
 ],
 "metadata": {
  "kernelspec": {
   "display_name": "Python 3 (ipykernel)",
   "language": "python",
   "name": "python3"
  },
  "language_info": {
   "codemirror_mode": {
    "name": "ipython",
    "version": 3
   },
   "file_extension": ".py",
   "mimetype": "text/x-python",
   "name": "python",
   "nbconvert_exporter": "python",
   "pygments_lexer": "ipython3",
   "version": "3.9.10"
  }
 },
 "nbformat": 4,
 "nbformat_minor": 4
}
