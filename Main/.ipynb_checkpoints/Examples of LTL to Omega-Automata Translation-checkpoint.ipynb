{
 "cells": [
  {
   "cell_type": "markdown",
   "metadata": {},
   "source": [
    "# Examples of LTL to Omega-Automata Translation"
   ]
  },
  {
   "cell_type": "code",
   "execution_count": 1,
   "metadata": {},
   "outputs": [],
   "source": [
    "from csrl.oa import OmegaAutomaton"
   ]
  },
  {
   "cell_type": "markdown",
   "metadata": {},
   "source": [
    "## A Buchi Automaton"
   ]
  },
  {
   "cell_type": "code",
   "execution_count": 2,
   "metadata": {},
   "outputs": [
    {
     "name": "stdout",
     "output_type": "stream",
     "text": [
      "Initial state: 0\n",
      "Transition function: [\n",
      "  {(): 0, ('a',): 0},\n",
      "  {(): 1, ('a',): 1}\n",
      "]\n",
      "Acceptance: [\n",
      "  {(): [None], ('a',): [True]},\n",
      "  {(): [None], ('a',): [None]}\n",
      "]\n"
     ]
    },
    {
     "data": {
      "text/plain": [
       "<csrl.oa.OmegaAutomaton at 0x1d5eb501040>"
      ]
     },
     "execution_count": 2,
     "metadata": {},
     "output_type": "execute_result"
    }
   ],
   "source": [
    "ltl = 'G F a' \n",
    "ba = OmegaAutomaton(ltl,'ldba')\n",
    "print('Initial state:',ba.q0)\n",
    "print('Transition function: ['),print(*['  '+str(t) for t in ba.delta],sep=',\\n'),print(']')\n",
    "print('Acceptance: ['),print(*['  '+str(t) for t in ba.acc],sep=',\\n'),print(']')\n",
    "ba"
   ]
  },
  {
   "cell_type": "markdown",
   "metadata": {},
   "source": [
    "The transition function as can be seen is a list of dictionaries; $\\texttt{dra.delta[q][label]}$ stores the id of the next state where $\\texttt{q}$ is the id of the current state and $\\texttt{label}$ is a tuple of strings representing the label.\n",
    "\n",
    "The acceptance condition is represented in a similar way; $\\texttt{dra.acc[q][label][i]}$ is False if the state $\\texttt{q}$ belongs to the first set of the $\\texttt{i}$th Rabin pair, it is True if the state belongs to the second set, and None if it doesn't belong either of them."
   ]
  },
  {
   "cell_type": "markdown",
   "metadata": {},
   "source": [
    "## A Rabin Automaton with Index 1 "
   ]
  },
  {
   "cell_type": "code",
   "execution_count": 3,
   "metadata": {},
   "outputs": [
    {
     "name": "stdout",
     "output_type": "stream",
     "text": [
      "Initial state: 0\n",
      "Transition function: [\n",
      "  {(): 0, ('a',): 0},\n",
      "  {(): 1, ('a',): 1}\n",
      "]\n",
      "Acceptance: [\n",
      "  {(): [False], ('a',): [True]},\n",
      "  {(): [None], ('a',): [None]}\n",
      "]\n"
     ]
    },
    {
     "data": {
      "text/plain": [
       "<csrl.oa.OmegaAutomaton at 0x1d5eb50dfd0>"
      ]
     },
     "execution_count": 3,
     "metadata": {},
     "output_type": "execute_result"
    }
   ],
   "source": [
    "ltl = 'F G a'\n",
    "dra = OmegaAutomaton(ltl,'dra')\n",
    "print('Initial state:',dra.q0)\n",
    "print('Transition function: ['),print(*['  '+str(t) for t in dra.delta],sep=',\\n'),print(']')\n",
    "print('Acceptance: ['),print(*['  '+str(t) for t in dra.acc],sep=',\\n'),print(']')\n",
    "dra"
   ]
  },
  {
   "cell_type": "markdown",
   "metadata": {},
   "source": [
    "## A Rabin Automaton with Index 2"
   ]
  },
  {
   "cell_type": "code",
   "execution_count": 4,
   "metadata": {},
   "outputs": [
    {
     "name": "stdout",
     "output_type": "stream",
     "text": [
      "Initial state: 0\n",
      "Transition function: [\n",
      "  {(): 0, ('a',): 0, ('b',): 0, ('a', 'b'): 0},\n",
      "  {(): 1, ('a',): 1, ('b',): 1, ('a', 'b'): 1}\n",
      "]\n",
      "Acceptance: [\n",
      "  {(): [False, False], ('a',): [True, False], ('b',): [False, True], ('a', 'b'): [True, True]},\n",
      "  {(): [None, None], ('a',): [None, None], ('b',): [None, None], ('a', 'b'): [None, None]}\n",
      "]\n"
     ]
    },
    {
     "data": {
      "text/plain": [
       "<csrl.oa.OmegaAutomaton at 0x1d5eb501af0>"
      ]
     },
     "execution_count": 4,
     "metadata": {},
     "output_type": "execute_result"
    }
   ],
   "source": [
    "ltl = 'F G a | F G b'\n",
    "dra = OmegaAutomaton(ltl,'dra')\n",
    "print('Initial state:',dra.q0)\n",
    "print('Transition function: ['),print(*['  '+str(t) for t in dra.delta],sep=',\\n'),print(']')\n",
    "print('Acceptance: ['),print(*['  '+str(t) for t in dra.acc],sep=',\\n'),print(']')\n",
    "dra"
   ]
  },
  {
   "cell_type": "markdown",
   "metadata": {},
   "source": [
    "## A Limit-Deterministic Buchi Automaton"
   ]
  },
  {
   "cell_type": "code",
   "execution_count": 5,
   "metadata": {},
   "outputs": [
    {
     "name": "stdout",
     "output_type": "stream",
     "text": [
      "Initial state: 0\n",
      "Transition function: [\n",
      "  {(): 0, ('a',): 0, ('b',): 0, ('a', 'b'): 0},\n",
      "  {(): 3, ('a',): 3, ('b',): 1, ('a', 'b'): 1},\n",
      "  {(): 3, ('a',): 2, ('b',): 3, ('a', 'b'): 2},\n",
      "  {(): 3, ('a',): 3, ('b',): 3, ('a', 'b'): 3}\n",
      "]\n",
      "Acceptance: [\n",
      "  {(): [None], ('a',): [None], ('b',): [None], ('a', 'b'): [None]},\n",
      "  {(): [None], ('a',): [None], ('b',): [True], ('a', 'b'): [True]},\n",
      "  {(): [None], ('a',): [True], ('b',): [None], ('a', 'b'): [True]},\n",
      "  {(): [None], ('a',): [None], ('b',): [None], ('a', 'b'): [None]}\n",
      "]\n"
     ]
    },
    {
     "data": {
      "text/plain": [
       "<csrl.oa.OmegaAutomaton at 0x1d5eb50d3a0>"
      ]
     },
     "execution_count": 5,
     "metadata": {},
     "output_type": "execute_result"
    }
   ],
   "source": [
    "ltl = 'F G a | F G b'\n",
    "ldba = OmegaAutomaton(ltl,'ldba')\n",
    "print('Initial state:',ldba.q0)\n",
    "print('Transition function: ['),print(*['  '+str(t) for t in ldba.delta],sep=',\\n'),print(']')\n",
    "print('Acceptance: ['),print(*['  '+str(t) for t in ldba.acc],sep=',\\n'),print(']')\n",
    "ldba"
   ]
  },
  {
   "cell_type": "code",
   "execution_count": null,
   "metadata": {},
   "outputs": [],
   "source": []
  }
 ],
 "metadata": {
  "kernelspec": {
   "display_name": "Python 3 (ipykernel)",
   "language": "python",
   "name": "python3"
  },
  "language_info": {
   "codemirror_mode": {
    "name": "ipython",
    "version": 3
   },
   "file_extension": ".py",
   "mimetype": "text/x-python",
   "name": "python",
   "nbconvert_exporter": "python",
   "pygments_lexer": "ipython3",
   "version": "3.9.10"
  }
 },
 "nbformat": 4,
 "nbformat_minor": 4
}
