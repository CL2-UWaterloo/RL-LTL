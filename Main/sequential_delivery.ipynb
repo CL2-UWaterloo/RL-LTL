{
 "cells": [
  {
   "cell_type": "code",
   "execution_count": 1,
   "metadata": {},
   "outputs": [
    {
     "name": "stderr",
     "output_type": "stream",
     "text": [
      "2024-01-27 12:58:12.166822: I tensorflow/core/platform/cpu_feature_guard.cc:193] This TensorFlow binary is optimized with oneAPI Deep Neural Network Library (oneDNN) to use the following CPU instructions in performance-critical operations:  SSE4.1 SSE4.2 AVX AVX2 FMA\n",
      "To enable them in other operations, rebuild TensorFlow with the appropriate compiler flags.\n"
     ]
    }
   ],
   "source": [
    "from dependencies.NN import *\n",
    "from dependencies.LTL import *\n",
    "from dependencies.Utility_funcs import *\n",
    "from dependencies.maps import grid_world\n",
    "from dependencies.RL_LTL import RL_LTL\n",
    "\n",
    "from dependencies.csrl.mdp import GridMDP\n",
    "from dependencies.csrl.oa import OmegaAutomaton\n",
    "from dependencies.csrl import ControlSynthesis\n",
    "import numpy as np\n",
    "\n",
    "from matplotlib import pyplot as plt"
   ]
  },
  {
   "cell_type": "code",
   "execution_count": 2,
   "metadata": {},
   "outputs": [
    {
     "name": "stdout",
     "output_type": "stream",
     "text": [
      "Number of Omega-automaton states (including the trap state): 6\n"
     ]
    },
    {
     "data": {
      "image/png": "[encoded data removed]",
      "text/plain": [
       "<Figure size 500x500 with 1 Axes>"
      ]
     },
     "metadata": {},
     "output_type": "display_data"
    }
   ],
   "source": [
    "x = grid_world('sequential_delivery')"
   ]
  },
  {
   "cell_type": "code",
   "execution_count": 3,
   "metadata": {},
   "outputs": [
    {
     "name": "stderr",
     "output_type": "stream",
     "text": [
      "2024-01-27 12:58:17.815273: I tensorflow/core/platform/cpu_feature_guard.cc:193] This TensorFlow binary is optimized with oneAPI Deep Neural Network Library (oneDNN) to use the following CPU instructions in performance-critical operations:  SSE4.1 SSE4.2 AVX AVX2 FMA\n",
      "To enable them in other operations, rebuild TensorFlow with the appropriate compiler flags.\n",
      "2024-01-27 12:58:17.815870: I tensorflow/core/common_runtime/process_util.cc:146] Creating new thread pool with default inter op setting: 2. Tune using inter_op_parallelism_threads for best performance.\n"
     ]
    }
   ],
   "source": [
    "model = build_model(x.ch_states[(0,0,0,0)].shape, x.csrl.shape[-1])\n",
    "N, W, Q, P, visited = np.zeros(x.csrl.shape), np.zeros(x.csrl.shape), np.zeros(x.csrl.shape), np.zeros(x.csrl.shape), set()\n",
    "# model.summary()"
   ]
  },
  {
   "cell_type": "code",
   "execution_count": 4,
   "metadata": {},
   "outputs": [
    {
     "data": {
      "text/plain": [
       "<tensorflow.python.checkpoint.checkpoint.CheckpointLoadStatus at 0x7f035369b220>"
      ]
     },
     "execution_count": 4,
     "metadata": {},
     "output_type": "execute_result"
    }
   ],
   "source": [
    "model.load_weights(f'outputs/models/seq_del_p{x.p}')"
   ]
  },
  {
   "cell_type": "code",
   "execution_count": 8,
   "metadata": {},
   "outputs": [
    {
     "name": "stdout",
     "output_type": "stream",
     "text": [
      "[0. 0. 0. 0.]\n",
      "0 ) MCTS conf: -0.06 , det: 1.0 | LTL [+++]  LDBA [ 0.0 ] path: [14, 9, 4, 3, 2, 2, 3, 4, 9, 14, 19, 24, 23, 22, 23, 24, 19, 14, 9, 4, 3, 3, 2, 1, 0, 5, 10, 15]\n",
      "[0. 0. 0. 0.]\n",
      "1 ) MCTS conf: 0.6 , det: 1.0 | LTL [+++]  LDBA [ 0.0 ] path: [23, 24, 19, 14, 9, 4, 3, 2, 2, 3, 4, 9, 14, 19, 24, 23, 22, 23, 24, 19, 14, 9, 4, 3, 3, 2, 1, 0, 5, 10, 15]\n",
      "[  1.  49. 101.  20.]\n",
      "2 ) MCTS conf: 1.0 , det: 1.0 | LTL [+++]  LDBA [ 0.0 ] path: [14, 9, 4, 3, 2, 2, 3, 4, 9, 14, 19, 24, 23, 22, 23, 24, 19, 14, 9, 4, 3, 3, 2, 1, 0, 5, 10, 15]\n",
      "Test wins: 3 / 3\n"
     ]
    }
   ],
   "source": [
    "env = RL_LTL(x, model)\n",
    "env.test(3)"
   ]
  },
  {
   "cell_type": "code",
   "execution_count": 7,
   "metadata": {},
   "outputs": [
    {
     "data": {
      "text/plain": [
       "array([7.000e+00, 1.000e+00, 3.000e+01, 1.352e+03, 0.000e+00, 0.000e+00,\n",
       "       0.000e+00, 0.000e+00, 0.000e+00, 0.000e+00])"
      ]
     },
     "execution_count": 7,
     "metadata": {},
     "output_type": "execute_result"
    }
   ],
   "source": [
    "N1[(0,0,4,2)]"
   ]
  },
  {
   "cell_type": "code",
   "execution_count": 52,
   "metadata": {},
   "outputs": [
    {
     "data": {
      "text/plain": [
       "'outputs\\\\models\\\\seq_del_p0.9'"
      ]
     },
     "execution_count": 52,
     "metadata": {},
     "output_type": "execute_result"
    }
   ],
   "source": [
    "f'outputs\\models\\seq_del_p{p}'"
   ]
  },
  {
   "cell_type": "code",
   "execution_count": 60,
   "metadata": {},
   "outputs": [],
   "source": [
    "model.save_weights(f'outputs/models/seq_del_p{p}')"
   ]
  },
  {
   "cell_type": "code",
   "execution_count": 5,
   "metadata": {},
   "outputs": [],
   "source": [
    "N1 = np.load(f'outputs/Ours/SD_{p}.npy')"
   ]
  },
  {
   "cell_type": "code",
   "execution_count": 8,
   "metadata": {},
   "outputs": [
    {
     "data": {
      "text/plain": [
       "array([598., 769.,   5.,   9.,   0.,   0., 597.,   0.,   0.,   0.])"
      ]
     },
     "execution_count": 8,
     "metadata": {},
     "output_type": "execute_result"
    }
   ],
   "source": [
    "N[(0,1,2,0)]"
   ]
  },
  {
   "cell_type": "code",
   "execution_count": 18,
   "metadata": {},
   "outputs": [
    {
     "data": {
      "text/plain": [
       "array([-0.5       , -0.49993477, -0.5       , -0.5       ,  0.        ,\n",
       "        0.        ,  0.        ,  0.        ,  0.        ,  0.        ])"
      ]
     },
     "execution_count": 18,
     "metadata": {},
     "output_type": "execute_result"
    }
   ],
   "source": [
    "Q[(0, 0, 4, 3)]"
   ]
  },
  {
   "cell_type": "code",
   "execution_count": 61,
   "metadata": {},
   "outputs": [],
   "source": [
    "policy2=np.argmax(N1,axis=4)\n",
    "value2=np.max(N1,axis=4)\n",
    "np.save(f'outputs/Ours/SD_{p}', N1)"
   ]
  },
  {
   "cell_type": "code",
   "execution_count": 62,
   "metadata": {},
   "outputs": [
    {
     "name": "stdout",
     "output_type": "stream",
     "text": [
      "Running 1000 simulations with 35 time-steps...\n",
      "Test finished with:\n",
      "\tsuccess rate: 414 / 1000 = 0.414\n"
     ]
    }
   ],
   "source": [
    "episodes, rew = run_Q_test(csrl, policy2, LTL_formula, predicates, start=None, T=35, runs=1000, verbose=0, reachability=True)"
   ]
  },
  {
   "cell_type": "code",
   "execution_count": 77,
   "metadata": {},
   "outputs": [
    {
     "data": {
      "image/png": "[encoded data removed]",
      "text/plain": [
       "<Figure size 500x500 with 1 Axes>"
      ]
     },
     "metadata": {},
     "output_type": "display_data"
    }
   ],
   "source": [
    "grid_mdp.plot(policy=policy2[0, 5])"
   ]
  },
  {
   "cell_type": "code",
   "execution_count": 13,
   "metadata": {},
   "outputs": [
    {
     "data": {
      "text/plain": [
       "('c',)"
      ]
     },
     "execution_count": 13,
     "metadata": {},
     "output_type": "execute_result"
    }
   ],
   "source": [
    "csrl.mdp.label[3,0]"
   ]
  },
  {
   "cell_type": "code",
   "execution_count": 28,
   "metadata": {},
   "outputs": [
    {
     "name": "stderr",
     "output_type": "stream",
     "text": [
      "/tmp/ipykernel_13239/3964365869.py:1: RuntimeWarning: invalid value encountered in divide\n",
      "  (W[state])/N[state]\n"
     ]
    },
    {
     "data": {
      "text/plain": [
       "array([-0.5      , -0.5      , -0.5      , -0.4983165,        nan,\n",
       "              nan,        nan,        nan,        nan,        nan])"
      ]
     },
     "execution_count": 28,
     "metadata": {},
     "output_type": "execute_result"
    }
   ],
   "source": [
    "(W[state])/N[state]"
   ]
  },
  {
   "cell_type": "code",
   "execution_count": 26,
   "metadata": {},
   "outputs": [
    {
     "name": "stdout",
     "output_type": "stream",
     "text": [
      "[-0.5, -0.5, -0.5, -0.5, 0.0, 0.0]\n",
      "[-1.5, -16.5, -8.5, -444.0, 0.0, 0.0]\n",
      "[3.0, 33.0, 17.0, 891.0, 0.0, 0.0, 0.0, 0.0]\n"
     ]
    },
    {
     "data": {
      "text/plain": [
       "([(0, 0, 3, 3), (0, 0, 4, 4)], [0.0, 1])"
      ]
     },
     "execution_count": 26,
     "metadata": {},
     "output_type": "execute_result"
    }
   ],
   "source": [
    "state = (0, 0, 4, 3)\n",
    "print([round(i,2) for i in Q[state][:6]])\n",
    "print([round(i,2) for i in W[state][:6]])\n",
    "print([round(i,2) for i in N1[state][:8]])\n",
    "csrl.transition_probs[(state)][2]"
   ]
  },
  {
   "cell_type": "code",
   "execution_count": null,
   "metadata": {},
   "outputs": [
    {
     "data": {
      "text/plain": [
       "0.8170728068875467"
      ]
     },
     "execution_count": 21,
     "metadata": {},
     "output_type": "execute_result"
    }
   ],
   "source": [
    "# u, d, r, l"
   ]
  },
  {
   "cell_type": "code",
   "execution_count": 7,
   "metadata": {},
   "outputs": [],
   "source": [
    "Q =csrl.q_learning(T=100,K=100000)\n",
    "np.save(f'outputs/CSRL/SD_{p}', Q)"
   ]
  },
  {
   "cell_type": "code",
   "execution_count": 8,
   "metadata": {},
   "outputs": [],
   "source": [
    "policy1=np.argmax(Q,axis=4)\n",
    "value1=np.max(Q,axis=4)"
   ]
  },
  {
   "cell_type": "code",
   "execution_count": 9,
   "metadata": {},
   "outputs": [
    {
     "name": "stdout",
     "output_type": "stream",
     "text": [
      "Running 1000 simulations with 100 time-steps...\n",
      "Test finished with:\n",
      "\tsuccess rate: 0 / 1000 = 0.0\n"
     ]
    }
   ],
   "source": [
    "episodes, rew = run_Q_test(csrl, policy1, LTL_formula, predicates, start=None, T=100, runs=1000, verbose=0, reachability=True)"
   ]
  },
  {
   "cell_type": "code",
   "execution_count": null,
   "metadata": {},
   "outputs": [
    {
     "name": "stdout",
     "output_type": "stream",
     "text": [
      "[0. 0. 0. 0.] 0\n",
      "0 ) MCTS conf: -27.0 , det: 1.0 | "
     ]
    },
    {
     "name": "stderr",
     "output_type": "stream",
     "text": [
      "c:\\Users\\pc-admin\\OneDrive - University of Waterloo\\MSc\\research\\Code\\RL-LTL\\ComputeCanada_scrips\\Utility_funcs.py:300: RuntimeWarning: overflow encountered in power\n",
      "  Pi = (N[root]**(1/tow)) / np.sum(N[root]**(1/tow))\n",
      "c:\\Users\\pc-admin\\OneDrive - University of Waterloo\\MSc\\research\\Code\\RL-LTL\\ComputeCanada_scrips\\Utility_funcs.py:300: RuntimeWarning: invalid value encountered in divide\n",
      "  Pi = (N[root]**(1/tow)) / np.sum(N[root]**(1/tow))\n"
     ]
    },
    {
     "name": "stdout",
     "output_type": "stream",
     "text": [
      "Warning\n",
      "Pi: [ 0.  0.  0. nan  0.  0.  0.  0.  0.  0.]\n",
      "N[root]: [7.000e+00 1.000e+00 4.000e+00 1.239e+03 0.000e+00 0.000e+00 6.000e+00\n",
      " 0.000e+00 0.000e+00 0.000e+00]\n",
      "root: (0, 1, 2, 1)\n",
      "depth: -11\n",
      "trajectory [0, 1, 2, 3, 4, 9, 14, 19, 24, 23, 22, 23, 24, 19, 14, 13, 12] + 11\n"
     ]
    },
    {
     "ename": "ValueError",
     "evalue": "probabilities contain NaN",
     "output_type": "error",
     "traceback": [
      "\u001b[1;31m---------------------------------------------------------------------------\u001b[0m",
      "\u001b[1;31mValueError\u001b[0m                                Traceback (most recent call last)",
      "Cell \u001b[1;32mIn[17], line 36\u001b[0m\n\u001b[0;32m     34\u001b[0m t1 \u001b[39m=\u001b[39m time\u001b[39m.\u001b[39mtime()\n\u001b[0;32m     35\u001b[0m \u001b[39mprint\u001b[39m(Q[(\u001b[39m0\u001b[39m,\u001b[39m0\u001b[39m,\u001b[39m0\u001b[39m,\u001b[39m0\u001b[39m)][:\u001b[39m4\u001b[39m], \u001b[39mlen\u001b[39m(visited_train))\n\u001b[1;32m---> 36\u001b[0m state_history, channeled_states, trajectory, action_history, reward_history, better_policy \u001b[39m=\u001b[39m MC_learning(csrl, model, LTL_formula,\n\u001b[0;32m     37\u001b[0m         predicates, csrl\u001b[39m.\u001b[39;49mreward, ch_states, N \u001b[39m=\u001b[39;49m N, W \u001b[39m=\u001b[39;49m W, Q \u001b[39m=\u001b[39;49m Q, P \u001b[39m=\u001b[39;49m P, C\u001b[39m=\u001b[39;49mCs[idx], tow\u001b[39m=\u001b[39;49mtows[idx], n_samples\u001b[39m=\u001b[39;49mMCTS_samples, visited\u001b[39m=\u001b[39;49mvisited_train,\n\u001b[0;32m     38\u001b[0m         start\u001b[39m=\u001b[39;49m(\u001b[39m0\u001b[39;49m,\u001b[39m0\u001b[39;49m), search_depth\u001b[39m=\u001b[39;49msearch_depth, verbose\u001b[39m=\u001b[39;49m\u001b[39m0\u001b[39;49m, T\u001b[39m=\u001b[39;49mi, K\u001b[39m=\u001b[39;49mK, run_num\u001b[39m=\u001b[39;49mepoch, ltl_f_rew\u001b[39m=\u001b[39;49m\u001b[39mFalse\u001b[39;49;00m)\n\u001b[0;32m     40\u001b[0m \u001b[39m# print('N',N[(0,0,4,1)][:5])\u001b[39;00m\n\u001b[0;32m     41\u001b[0m visited_states_train \u001b[39m+\u001b[39m\u001b[39m=\u001b[39m state_history\n",
      "File \u001b[1;32mc:\\Users\\pc-admin\\OneDrive - University of Waterloo\\MSc\\research\\Code\\RL-LTL\\ComputeCanada_scrips\\Utility_funcs.py:137\u001b[0m, in \u001b[0;36mMC_learning\u001b[1;34m(csrl, model, LTL_formula, predicates, rewards, ch_states, C, tow, n_samples, search_depth, N, W, Q, P, verbose, visited, start, T, K, run_num, ltl_f_rew, NN_value_active)\u001b[0m\n\u001b[0;32m    135\u001b[0m MCTS_win_rate\u001b[39m.\u001b[39mappend(acc_value)\n\u001b[0;32m    136\u001b[0m better_policy\u001b[39m.\u001b[39mappend(Pi\u001b[39m.\u001b[39mcopy())\n\u001b[1;32m--> 137\u001b[0m action \u001b[39m=\u001b[39m np\u001b[39m.\u001b[39;49mrandom\u001b[39m.\u001b[39;49mchoice(\u001b[39mlen\u001b[39;49m(Pi), p\u001b[39m=\u001b[39;49mPi)\n\u001b[0;32m    138\u001b[0m action_history\u001b[39m.\u001b[39mappend(action)\n\u001b[0;32m    139\u001b[0m \u001b[39m# get the next state\u001b[39;00m\n",
      "File \u001b[1;32mmtrand.pyx:935\u001b[0m, in \u001b[0;36mnumpy.random.mtrand.RandomState.choice\u001b[1;34m()\u001b[0m\n",
      "\u001b[1;31mValueError\u001b[0m: probabilities contain NaN"
     ]
    }
   ],
   "source": [
    "visited_states_train = []\n",
    "visited_states_test = []\n",
    "LTL_coef = 10\n",
    "\n",
    "search_depth = 30\n",
    "MCTS_samples = 100\n",
    "\n",
    "num_training_epochs =  30\n",
    "num_test_epochs = 10\n",
    "training = True\n",
    "epochs = 10\n",
    "T = [25]\n",
    "K = 1\n",
    "batch_size = 32\n",
    "steps_per_epoch = 4\n",
    "\n",
    "success_rates = []\n",
    "succes_std = []\n",
    "win_hist = []\n",
    "train_history = []\n",
    "\n",
    "os.remove(\"Log_run.txt\")\n",
    "for i in T:\n",
    "    # TRAIN ##############################\n",
    "    train_wins = 0\n",
    "    # num_training_epochs = int(200 - 1.9*i)\n",
    "    # model = build_model(ch_states[(0,0,0,0)].shape, csrl.shape[-1])\n",
    "    N, W, Q, P, visited_train = np.zeros(csrl.shape), np.zeros(csrl.shape), np.zeros(csrl.shape), np.zeros(csrl.shape), set()\n",
    "    for epoch in range(num_training_epochs):\n",
    "        t1 = time.time()\n",
    "        print(Q[(0,0,0,0)][:4], len(visited_train))\n",
    "        state_history, channeled_states, trajectory, action_history, reward_history, better_policy = MC_learning(csrl, model, LTL_formula,\n",
    "                predicates, csrl.reward, ch_states, N = N, W = W, Q = Q, P = P, C=0.5, tow=1, n_samples=MCTS_samples, visited=visited_train,\n",
    "                start=(0,0), search_depth=search_depth, verbose=0, T=i, K=K, run_num=epoch, ltl_f_rew=False)\n",
    "        \n",
    "        # print('N',N[(0,0,4,1)][:5])\n",
    "        visited_states_train += state_history\n",
    "        t2 = time.time()\n",
    "        # print(t2-t1, \" run episode\")\n",
    "\n",
    "        # win = check_LTL(LTL_formula, trajectory, predicates)[0]\n",
    "        if reward_history[-1]>0: train_wins+=1\n",
    "\n",
    "        if training and len(action_history)>0:\n",
    "            if epoch==0:\n",
    "                x_train = np.array(channeled_states)[:-1]\n",
    "                y1_train = np.array(better_policy)\n",
    "                y2_train = np.array(reward_history) + LTL_coef*reward_history[-1]\n",
    "                # y2_train = np.array(reward_history)\n",
    "                y2_train = y2_train[:-1]\n",
    "            else:\n",
    "                x_train = np.concatenate((x_train, np.array(channeled_states)[:-1]),0)\n",
    "                y1_train = np.concatenate((y1_train, np.array(better_policy)),0)\n",
    "                y2_train_curr = np.array(reward_history) + LTL_coef*reward_history[-1]\n",
    "                # y2_train_curr = np.array(reward_history)\n",
    "                y2_train = np.concatenate((y2_train, y2_train_curr[:-1]),0)\n",
    "            t3= time.time()\n",
    "            # print(t3-t2, \" build database\")\n",
    "            tr_hist = model.fit(x_train, [y1_train, y2_train], epochs=epochs, batch_size=batch_size,\n",
    "                                steps_per_epoch=steps_per_epoch if len(x_train)>steps_per_epoch*epochs*batch_size else None, verbose=0)\n",
    "            train_history += tr_hist.history['loss']\n",
    "        # win_hist.append(win)\n",
    "        t4 = time.time()\n",
    "        # print(t4-t3, \"fit\", len(x_train))\n",
    "    print(\"Train wins:\",train_wins,\"/\", num_training_epochs)\n",
    "\n",
    "    # TEST ##############################\n",
    "    test_wins = 0\n",
    "    N, W, Q, P, visited_test = np.zeros(csrl.shape), np.zeros(csrl.shape), np.zeros(csrl.shape), np.zeros(csrl.shape), set()\n",
    "    for epoch in range(num_test_epochs):\n",
    "        \n",
    "        state_history, channeled_states, trajectory, action_history, reward_history, better_policy = MC_learning(csrl, model, LTL_formula,\n",
    "                predicates, csrl.reward, ch_states, N = N, W = W, Q = Q, P = P, C=1, tow=1, n_samples=MCTS_samples, visited=visited_test,\n",
    "                start=(0,0), search_depth=search_depth, verbose=0, T=i, K=1, NN_value_active=True)\n",
    "\n",
    "        # win = check_LTL(LTL_formula, trajectory, predicates)[0]\n",
    "        win = reward_history[-1]\n",
    "        if win: test_wins+=1\n",
    "        win_hist.append(win)\n",
    "        visited_states_test += state_history\n",
    "        \n",
    "    success_rates.append(100*test_wins/num_test_epochs)\n",
    "    temp = np.zeros(num_test_epochs)\n",
    "    temp[:test_wins]=1\n",
    "    std = np.sqrt(num_test_epochs*np.var(temp))\n",
    "    succes_std.append((success_rates[-1]-std, success_rates[-1]+std))\n",
    "    ###############################################################\n",
    "    print(\"Test wins:\",test_wins,\"/\",num_test_epochs)\n",
    "    # print(\"last reward:\", reward_history[-1], \"  | trajectory:\", trajectory)\n",
    "    # print(\"Actions:\", action_history)\n",
    "\n",
    "encode_visited_states_test = [i[1]*csrl.shape[-2]*csrl.shape[-3]+i[2]*csrl.shape[-2]+i[3] for i in visited_states_test]\n",
    "encode_visited_states_train = [i[1]*csrl.shape[-2]*csrl.shape[-3]+i[2]*csrl.shape[-2]+i[3] for i in visited_states_train]"
   ]
  },
  {
   "cell_type": "code",
   "execution_count": null,
   "metadata": {},
   "outputs": [
    {
     "name": "stdout",
     "output_type": "stream",
     "text": [
      "exploration in training: 0.35\n",
      "exploration in testing: 0.18\n"
     ]
    },
    {
     "data": {
      "image/png": "[encoded data removed]",
      "text/plain": [
       "<Figure size 800x600 with 1 Axes>"
      ]
     },
     "metadata": {},
     "output_type": "display_data"
    }
   ],
   "source": [
    "plt.figure(figsize=(8,6))\n",
    "plt.hist(encode_visited_states_train, bins=range(total_number_of_states), density=True, alpha=0.5, label=\"train\")\n",
    "plt.title(\"MCTS - histogram of visited states during train and test\")\n",
    "plt.xlabel(\"space state\")\n",
    "\n",
    "plt.hist(encode_visited_states_test, bins=range(total_number_of_states), density=True, alpha=0.5, label=\"test\")\n",
    "plt.legend()\n",
    "\n",
    "print(\"exploration in training:\", round(np.unique(encode_visited_states_train).shape[0]/total_number_of_states, 2))\n",
    "print(\"exploration in testing:\", round(np.unique(encode_visited_states_test).shape[0]/total_number_of_states, 2))"
   ]
  },
  {
   "cell_type": "code",
   "execution_count": 8,
   "metadata": {},
   "outputs": [
    {
     "ename": "ValueError",
     "evalue": "x and y must have same first dimension, but have shapes (1,) and (3,)",
     "output_type": "error",
     "traceback": [
      "\u001b[1;31m---------------------------------------------------------------------------\u001b[0m",
      "\u001b[1;31mValueError\u001b[0m                                Traceback (most recent call last)",
      "Cell \u001b[1;32mIn[8], line 6\u001b[0m\n\u001b[0;32m      3\u001b[0m plt\u001b[39m.\u001b[39mfigure(figsize\u001b[39m=\u001b[39m(\u001b[39m7\u001b[39m,\u001b[39m4\u001b[39m))\n\u001b[0;32m      4\u001b[0m plt\u001b[39m.\u001b[39mfill_between(T, succes_std[:,\u001b[39m0\u001b[39m], succes_std[:,\u001b[39m1\u001b[39m], alpha\u001b[39m=\u001b[39m\u001b[39m0.3\u001b[39m, label\u001b[39m=\u001b[39m\u001b[39m\"\u001b[39m\u001b[39mMCTS area of 1 STD\u001b[39m\u001b[39m\"\u001b[39m)\n\u001b[1;32m----> 6\u001b[0m plt\u001b[39m.\u001b[39;49mplot(T, success_rates)\n\u001b[0;32m      7\u001b[0m plt\u001b[39m.\u001b[39mxlabel(\u001b[39m\"\u001b[39m\u001b[39mlength of trajectory (T)\u001b[39m\u001b[39m\"\u001b[39m)\n\u001b[0;32m      8\u001b[0m plt\u001b[39m.\u001b[39mylabel(\u001b[39mf\u001b[39m\u001b[39m\"\u001b[39m\u001b[39msucces rate (out of \u001b[39m\u001b[39m{\u001b[39;00mnum_test_epochs\u001b[39m}\u001b[39;00m\u001b[39m runs)\u001b[39m\u001b[39m\"\u001b[39m)\n",
      "File \u001b[1;32mc:\\Users\\pc-admin\\miniconda3\\lib\\site-packages\\matplotlib\\pyplot.py:2740\u001b[0m, in \u001b[0;36mplot\u001b[1;34m(scalex, scaley, data, *args, **kwargs)\u001b[0m\n\u001b[0;32m   2738\u001b[0m \u001b[39m@_copy_docstring_and_deprecators\u001b[39m(Axes\u001b[39m.\u001b[39mplot)\n\u001b[0;32m   2739\u001b[0m \u001b[39mdef\u001b[39;00m \u001b[39mplot\u001b[39m(\u001b[39m*\u001b[39margs, scalex\u001b[39m=\u001b[39m\u001b[39mTrue\u001b[39;00m, scaley\u001b[39m=\u001b[39m\u001b[39mTrue\u001b[39;00m, data\u001b[39m=\u001b[39m\u001b[39mNone\u001b[39;00m, \u001b[39m*\u001b[39m\u001b[39m*\u001b[39mkwargs):\n\u001b[1;32m-> 2740\u001b[0m     \u001b[39mreturn\u001b[39;00m gca()\u001b[39m.\u001b[39mplot(\n\u001b[0;32m   2741\u001b[0m         \u001b[39m*\u001b[39margs, scalex\u001b[39m=\u001b[39mscalex, scaley\u001b[39m=\u001b[39mscaley,\n\u001b[0;32m   2742\u001b[0m         \u001b[39m*\u001b[39m\u001b[39m*\u001b[39m({\u001b[39m\"\u001b[39m\u001b[39mdata\u001b[39m\u001b[39m\"\u001b[39m: data} \u001b[39mif\u001b[39;00m data \u001b[39mis\u001b[39;00m \u001b[39mnot\u001b[39;00m \u001b[39mNone\u001b[39;00m \u001b[39melse\u001b[39;00m {}), \u001b[39m*\u001b[39m\u001b[39m*\u001b[39mkwargs)\n",
      "File \u001b[1;32mc:\\Users\\pc-admin\\miniconda3\\lib\\site-packages\\matplotlib\\axes\\_axes.py:1662\u001b[0m, in \u001b[0;36mAxes.plot\u001b[1;34m(self, scalex, scaley, data, *args, **kwargs)\u001b[0m\n\u001b[0;32m   1419\u001b[0m \u001b[39m\"\"\"\u001b[39;00m\n\u001b[0;32m   1420\u001b[0m \u001b[39mPlot y versus x as lines and/or markers.\u001b[39;00m\n\u001b[0;32m   1421\u001b[0m \n\u001b[1;32m   (...)\u001b[0m\n\u001b[0;32m   1659\u001b[0m \u001b[39m(``'green'``) or hex strings (``'#008000'``).\u001b[39;00m\n\u001b[0;32m   1660\u001b[0m \u001b[39m\"\"\"\u001b[39;00m\n\u001b[0;32m   1661\u001b[0m kwargs \u001b[39m=\u001b[39m cbook\u001b[39m.\u001b[39mnormalize_kwargs(kwargs, mlines\u001b[39m.\u001b[39mLine2D)\n\u001b[1;32m-> 1662\u001b[0m lines \u001b[39m=\u001b[39m [\u001b[39m*\u001b[39m\u001b[39mself\u001b[39m\u001b[39m.\u001b[39m_get_lines(\u001b[39m*\u001b[39margs, data\u001b[39m=\u001b[39mdata, \u001b[39m*\u001b[39m\u001b[39m*\u001b[39mkwargs)]\n\u001b[0;32m   1663\u001b[0m \u001b[39mfor\u001b[39;00m line \u001b[39min\u001b[39;00m lines:\n\u001b[0;32m   1664\u001b[0m     \u001b[39mself\u001b[39m\u001b[39m.\u001b[39madd_line(line)\n",
      "File \u001b[1;32mc:\\Users\\pc-admin\\miniconda3\\lib\\site-packages\\matplotlib\\axes\\_base.py:311\u001b[0m, in \u001b[0;36m_process_plot_var_args.__call__\u001b[1;34m(self, data, *args, **kwargs)\u001b[0m\n\u001b[0;32m    309\u001b[0m     this \u001b[39m+\u001b[39m\u001b[39m=\u001b[39m args[\u001b[39m0\u001b[39m],\n\u001b[0;32m    310\u001b[0m     args \u001b[39m=\u001b[39m args[\u001b[39m1\u001b[39m:]\n\u001b[1;32m--> 311\u001b[0m \u001b[39myield from\u001b[39;00m \u001b[39mself\u001b[39;49m\u001b[39m.\u001b[39;49m_plot_args(\n\u001b[0;32m    312\u001b[0m     this, kwargs, ambiguous_fmt_datakey\u001b[39m=\u001b[39;49mambiguous_fmt_datakey)\n",
      "File \u001b[1;32mc:\\Users\\pc-admin\\miniconda3\\lib\\site-packages\\matplotlib\\axes\\_base.py:504\u001b[0m, in \u001b[0;36m_process_plot_var_args._plot_args\u001b[1;34m(self, tup, kwargs, return_kwargs, ambiguous_fmt_datakey)\u001b[0m\n\u001b[0;32m    501\u001b[0m     \u001b[39mself\u001b[39m\u001b[39m.\u001b[39maxes\u001b[39m.\u001b[39myaxis\u001b[39m.\u001b[39mupdate_units(y)\n\u001b[0;32m    503\u001b[0m \u001b[39mif\u001b[39;00m x\u001b[39m.\u001b[39mshape[\u001b[39m0\u001b[39m] \u001b[39m!=\u001b[39m y\u001b[39m.\u001b[39mshape[\u001b[39m0\u001b[39m]:\n\u001b[1;32m--> 504\u001b[0m     \u001b[39mraise\u001b[39;00m \u001b[39mValueError\u001b[39;00m(\u001b[39mf\u001b[39m\u001b[39m\"\u001b[39m\u001b[39mx and y must have same first dimension, but \u001b[39m\u001b[39m\"\u001b[39m\n\u001b[0;32m    505\u001b[0m                      \u001b[39mf\u001b[39m\u001b[39m\"\u001b[39m\u001b[39mhave shapes \u001b[39m\u001b[39m{\u001b[39;00mx\u001b[39m.\u001b[39mshape\u001b[39m}\u001b[39;00m\u001b[39m and \u001b[39m\u001b[39m{\u001b[39;00my\u001b[39m.\u001b[39mshape\u001b[39m}\u001b[39;00m\u001b[39m\"\u001b[39m)\n\u001b[0;32m    506\u001b[0m \u001b[39mif\u001b[39;00m x\u001b[39m.\u001b[39mndim \u001b[39m>\u001b[39m \u001b[39m2\u001b[39m \u001b[39mor\u001b[39;00m y\u001b[39m.\u001b[39mndim \u001b[39m>\u001b[39m \u001b[39m2\u001b[39m:\n\u001b[0;32m    507\u001b[0m     \u001b[39mraise\u001b[39;00m \u001b[39mValueError\u001b[39;00m(\u001b[39mf\u001b[39m\u001b[39m\"\u001b[39m\u001b[39mx and y can be no greater than 2D, but have \u001b[39m\u001b[39m\"\u001b[39m\n\u001b[0;32m    508\u001b[0m                      \u001b[39mf\u001b[39m\u001b[39m\"\u001b[39m\u001b[39mshapes \u001b[39m\u001b[39m{\u001b[39;00mx\u001b[39m.\u001b[39mshape\u001b[39m}\u001b[39;00m\u001b[39m and \u001b[39m\u001b[39m{\u001b[39;00my\u001b[39m.\u001b[39mshape\u001b[39m}\u001b[39;00m\u001b[39m\"\u001b[39m)\n",
      "\u001b[1;31mValueError\u001b[0m: x and y must have same first dimension, but have shapes (1,) and (3,)"
     ]
    },
    {
     "data": {
      "image/png": "[encoded data removed]",
      "text/plain": [
       "<Figure size 700x400 with 1 Axes>"
      ]
     },
     "metadata": {},
     "output_type": "display_data"
    }
   ],
   "source": [
    "succes_std = np.array(succes_std)\n",
    "\n",
    "plt.figure(figsize=(7,4))\n",
    "plt.fill_between(T, succes_std[:,0], succes_std[:,1], alpha=0.3, label=\"MCTS area of 1 STD\")\n",
    "\n",
    "plt.plot(T, success_rates)\n",
    "plt.xlabel(\"length of trajectory (T)\")\n",
    "plt.ylabel(f\"succes rate (out of {num_test_epochs} runs)\")\n",
    "plt.title(\"MCTS performance results on the custom gridworld, P=\"+str(p))\n",
    "success_rates"
   ]
  },
  {
   "cell_type": "code",
   "execution_count": null,
   "metadata": {},
   "outputs": [
    {
     "data": {
      "text/plain": [
       "Text(0.5, 1.0, 'training loss')"
      ]
     },
     "execution_count": 15,
     "metadata": {},
     "output_type": "execute_result"
    },
    {
     "data": {
      "image/png": "[encoded data removed]",
      "text/plain": [
       "<Figure size 700x400 with 1 Axes>"
      ]
     },
     "metadata": {},
     "output_type": "display_data"
    }
   ],
   "source": [
    "interval = 400\n",
    "plt.figure(figsize=(7,4))\n",
    "plt.plot(train_history)\n",
    "plt.title(\"training loss\")\n",
    "# plt.xticks(range(1,num_training_epochs*epochs,interval), range(0,num_training_epochs,interval//epochs));"
   ]
  },
  {
   "cell_type": "code",
   "execution_count": 5,
   "metadata": {},
   "outputs": [],
   "source": [
    "Q, visited_states =csrl.q_learning(T=100,K=10000)\n",
    "np.save(f'outputs/CSRL/SD_{p}', Q)"
   ]
  },
  {
   "cell_type": "code",
   "execution_count": 16,
   "metadata": {},
   "outputs": [],
   "source": [
    "policy=np.argmax(Q,axis=4)\n",
    "value=np.max(Q,axis=4)"
   ]
  },
  {
   "cell_type": "code",
   "execution_count": 17,
   "metadata": {},
   "outputs": [
    {
     "name": "stdout",
     "output_type": "stream",
     "text": [
      "Running 100 simulations with 26 time-steps...\n",
      "Test finished with:\n",
      "\tsuccess rate: 0 / 100 = 0.0\n",
      "Running 100 simulations with 50 time-steps...\n",
      "Test finished with:\n",
      "\tsuccess rate: 0 / 100 = 0.0\n",
      "Running 100 simulations with 75 time-steps...\n",
      "Test finished with:\n",
      "\tsuccess rate: 0 / 100 = 0.0\n",
      "Running 100 simulations with 100 time-steps...\n",
      "Test finished with:\n",
      "\tsuccess rate: 0 / 100 = 0.0\n",
      "Running 100 simulations with 150 time-steps...\n",
      "Test finished with:\n",
      "\tsuccess rate: 0 / 100 = 0.0\n",
      "Running 100 simulations with 200 time-steps...\n",
      "Test finished with:\n",
      "\tsuccess rate: 0 / 100 = 0.0\n",
      "Running 100 simulations with 300 time-steps...\n",
      "Test finished with:\n",
      "\tsuccess rate: 0 / 100 = 0.0\n",
      "Running 100 simulations with 400 time-steps...\n",
      "Test finished with:\n",
      "\tsuccess rate: 0 / 100 = 0.0\n"
     ]
    }
   ],
   "source": [
    "rewards_mean = []\n",
    "rewards_std = []\n",
    "n_runs = 100\n",
    "\n",
    "T = [26, 50, 75, 100, 150, 200, 300, 400]\n",
    "\n",
    "for i in T:\n",
    "    episodes, rew = run_Q_test(csrl, policy, LTL_formula, predicates, T=i, start=(0,0), runs=n_runs, verbose=0)\n",
    "    rewards_mean.append(100*np.mean(rew))\n",
    "    rewards_std.append((rewards_mean[-1]-np.sqrt(n_runs*np.var(rew)), rewards_mean[-1]+np.sqrt(n_runs*np.var(rew))))\n",
    "rewards_std = np.array(rewards_std)"
   ]
  },
  {
   "cell_type": "code",
   "execution_count": null,
   "metadata": {},
   "outputs": [
    {
     "data": {
      "text/plain": [
       "<matplotlib.legend.Legend at 0x7f44f10c2040>"
      ]
     },
     "execution_count": 20,
     "metadata": {},
     "output_type": "execute_result"
    },
    {
     "data": {
      "image/png": "[encoded data removed]",
      "text/plain": [
       "<Figure size 700x400 with 1 Axes>"
      ]
     },
     "metadata": {},
     "output_type": "display_data"
    }
   ],
   "source": [
    "plt.figure(figsize=(7,4))\n",
    "\n",
    "plt.fill_between(T, rewards_std[:,0], rewards_std[:,1], alpha=0.3)\n",
    "plt.plot(T, rewards_mean, label=\"CSRL\")\n",
    "plt.xlabel(\"length of trajectory (T)\")\n",
    "plt.ylabel(\"succes rate\")\n",
    "plt.title(\"Comparison on the sequentil delivery case, P=\"+str(p))\n",
    "plt.ylim(-10, 110)\n",
    "\n",
    "plt.fill_between(T, succes_std[:,0], succes_std[:,1], alpha=0.3)\n",
    "plt.plot(T, success_rates, label=\"RL-LTL\")\n",
    "plt.legend()"
   ]
  },
  {
   "cell_type": "code",
   "execution_count": null,
   "metadata": {},
   "outputs": [],
   "source": []
  }
 ],
 "metadata": {
  "kernelspec": {
   "display_name": "base",
   "language": "python",
   "name": "python3"
  },
  "language_info": {
   "codemirror_mode": {
    "name": "ipython",
    "version": 3
   },
   "file_extension": ".py",
   "mimetype": "text/x-python",
   "name": "python",
   "nbconvert_exporter": "python",
   "pygments_lexer": "ipython3",
   "version": "3.8.16"
  },
  "orig_nbformat": 4
 },
 "nbformat": 4,
 "nbformat_minor": 2
}
