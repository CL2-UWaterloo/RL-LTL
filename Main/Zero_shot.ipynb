{
 "cells": [
  {
   "cell_type": "code",
   "execution_count": 174,
   "metadata": {},
   "outputs": [],
   "source": [
    "from dependencies.NN import *\n",
    "from dependencies.LTL import *\n",
    "from dependencies.Utility_funcs import *\n",
    "from dependencies.maps import grid_world\n",
    "from dependencies.RL_LTL import RL_LTL\n",
    "\n",
    "from dependencies.csrl.mdp import GridMDP\n",
    "from dependencies.csrl.oa import OmegaAutomaton\n",
    "from dependencies.csrl import ControlSynthesis\n",
    "import numpy as np\n",
    "\n",
    "from matplotlib import pyplot as plt\n",
    "\n",
    "import torch\n",
    "from torch.utils.data import Dataset\n",
    "import copy"
   ]
  },
  {
   "cell_type": "code",
   "execution_count": 175,
   "metadata": {},
   "outputs": [
    {
     "name": "stdout",
     "output_type": "stream",
     "text": [
      "Number of Omega-automaton states (including the trap state): 6\n"
     ]
    },
    {
     "data": {
      "image/png": "[encoded data removed]",
      "text/plain": [
       "<Figure size 300x300 with 1 Axes>"
      ]
     },
     "metadata": {},
     "output_type": "display_data"
    }
   ],
   "source": [
    "gw = grid_world('custom1', n_danger=6)\n",
    "model = build_model(gw.ch_states[(0,0,0,0)].shape, gw.csrl.shape[-1])\n",
    "# print(model.summary())\n",
    "# model.load_weights(f'outputs/models/seq_del_p{gw.p}')\n",
    "env = RL_LTL(gw, model)"
   ]
  },
  {
   "cell_type": "code",
   "execution_count": 182,
   "metadata": {},
   "outputs": [
    {
     "data": {
      "text/plain": [
       "array([['E', 'E', 'E', 'E', 'E', 'E', 'E', 'E', 'E', 'E'],\n",
       "       ['E', 'E', 'E', 'E', 'E', 'E', 'E', 'E', 'E', 'E'],\n",
       "       ['E', 'E', 'E', 'E', 'E', 'E', 'E', 'E', 'E', 'E'],\n",
       "       ['E', 'E', 'E', 'E', 'E', 'E', 'E', 'E', 'E', 'E'],\n",
       "       ['E', 'E', 'E', 'E', 'E', 'E', 'E', 'E', 'E', 'E'],\n",
       "       ['E', 'E', 'E', 'E', 'E', 'E', 'E', 'E', 'E', 'E'],\n",
       "       ['E', 'E', 'E', 'E', 'E', 'E', 'E', 'E', 'E', 'E'],\n",
       "       ['E', 'E', 'E', 'E', 'E', 'E', 'E', 'E', 'E', 'E'],\n",
       "       ['E', 'E', 'E', 'E', 'E', 'E', 'E', 'E', 'E', 'E'],\n",
       "       ['E', 'E', 'E', 'E', 'E', 'E', 'E', 'E', 'E', 'E']], dtype='<U1')"
      ]
     },
     "execution_count": 182,
     "metadata": {},
     "output_type": "execute_result"
    }
   ],
   "source": [
    "gw.mdp.structure"
   ]
  },
  {
   "cell_type": "code",
   "execution_count": 3,
   "metadata": {},
   "outputs": [
    {
     "name": "stdout",
     "output_type": "stream",
     "text": [
      "##########################\n",
      "C: 0.5 | tow: 0.2\n",
      "0 ) MCTS conf: 0.3 , det: 0.61 | s: 69 LTL_f [---]  LDBA [ 0.0 ] observed labels: [('b',) ('c',)]\n",
      "1 ) MCTS conf: -0.04 , det: 0.99 | s: 42 LTL_f [---]  LDBA [ 0.0 ] observed labels: [('a',) ('b',)]\n",
      "2 ) MCTS conf: 0.04 , det: 0.98 | s: 80 LTL_f [+++]  LDBA [ 0.0 ] observed labels: [('a',) ('b',) ('c',)]\n",
      "Running 500 simulations with 50 time-steps...\n",
      "Test finished with:\n",
      "\tsuccess rate: 100 / 500 = 0.2\n",
      "3 ) MCTS conf: 0.95 , det: 0.91 | s: 73 LTL_f [+++]  LDBA [ 0.0 ] observed labels: [('a',) ('b',) ('c',)]\n",
      "Running 500 simulations with 50 time-steps...\n",
      "Test finished with:\n",
      "\tsuccess rate: 117 / 500 = 0.234\n",
      "4 ) MCTS conf: 0.98 , det: 1.0 | s: 56 LTL_f [+++]  LDBA [ 0.0 ] observed labels: [('a',) ('b',) ('c',)]\n",
      "Running 500 simulations with 50 time-steps...\n",
      "Test finished with:\n",
      "\tsuccess rate: 192 / 500 = 0.384\n",
      "5 ) MCTS conf: 0.52 , det: 0.94 | s: 92 LTL_f [+++]  LDBA [ 0.0 ] observed labels: [('a',) ('b',) ('c',)]\n",
      "Running 500 simulations with 50 time-steps...\n",
      "Test finished with:\n",
      "\tsuccess rate: 245 / 500 = 0.49\n",
      "6 ) MCTS conf: 0.78 , det: 1.0 | s: 28 LTL_f [+++]  LDBA [ 0.0 ] observed labels: [('a',) ('b',) ('c',)]\n",
      "Running 500 simulations with 50 time-steps...\n",
      "Test finished with:\n",
      "\tsuccess rate: 298 / 500 = 0.596\n",
      "7 ) MCTS conf: 0.97 , det: 0.98 | s: 71 LTL_f [+++]  LDBA [ 0.0 ] observed labels: [('a',) ('b',) ('c',)]\n",
      "Running 500 simulations with 50 time-steps...\n",
      "Test finished with:\n",
      "\tsuccess rate: 339 / 500 = 0.678\n",
      "8 ) MCTS conf: 1.0 , det: 0.95 | s: 1 LTL_f [+++]  LDBA [ 0.0 ] observed labels: [('a',) ('b',) ('c',)]\n",
      "Running 500 simulations with 50 time-steps...\n",
      "Test finished with:\n",
      "\tsuccess rate: 348 / 500 = 0.696\n",
      "9 ) MCTS conf: 1.0 , det: 0.78 | s: 20 LTL_f [+++]  LDBA [ 0.0 ] observed labels: [('a',) ('b',) ('c',)]\n",
      "Running 500 simulations with 50 time-steps...\n",
      "Test finished with:\n",
      "\tsuccess rate: 348 / 500 = 0.696\n",
      "10 ) MCTS conf: 0.95 , det: 0.98 | s: 61 LTL_f [+++]  LDBA [ 0.0 ] observed labels: [('a',) ('b',) ('c',)]\n",
      "Running 500 simulations with 50 time-steps...\n",
      "Test finished with:\n",
      "\tsuccess rate: 378 / 500 = 0.756\n",
      "11 ) MCTS conf: 0.73 , det: 0.71 | s: 98 LTL_f [+++]  LDBA [ 0.0 ] observed labels: [('a',) ('b',) ('c',)]\n",
      "Running 500 simulations with 50 time-steps...\n",
      "Test finished with:\n",
      "\tsuccess rate: 396 / 500 = 0.792\n",
      "12 ) MCTS conf: 1.0 , det: 0.99 | s: 3 LTL_f [+++]  LDBA [ 0.0 ] observed labels: [('a',) ('b',) ('c',)]\n",
      "Running 500 simulations with 50 time-steps...\n",
      "Test finished with:\n",
      "\tsuccess rate: 391 / 500 = 0.782\n",
      "13 ) MCTS conf: 0.95 , det: 1.0 | s: 48 LTL_f [+++]  LDBA [ 0.0 ] observed labels: [('a',) ('b',) ('c',)]\n",
      "Running 500 simulations with 50 time-steps...\n",
      "Test finished with:\n",
      "\tsuccess rate: 408 / 500 = 0.816\n",
      "14 ) MCTS conf: 0.95 , det: 0.92 | s: 59 LTL_f [+++]  LDBA [ 0.0 ] observed labels: [('a',) ('b',) ('c',)]\n",
      "Running 500 simulations with 50 time-steps...\n",
      "Test finished with:\n",
      "\tsuccess rate: 427 / 500 = 0.854\n",
      "15 ) MCTS conf: 0.98 , det: 0.97 | s: 10 LTL_f [+++]  LDBA [ 0.0 ] observed labels: [('a',) ('b',) ('c',)]\n",
      "Running 500 simulations with 50 time-steps...\n",
      "Test finished with:\n",
      "\tsuccess rate: 427 / 500 = 0.854\n",
      "16 ) MCTS conf: 1.0 , det: 0.99 | s: 8 LTL_f [+++]  LDBA [ 0.0 ] observed labels: [('a',) ('b',) ('c',)]\n",
      "Running 500 simulations with 50 time-steps...\n",
      "Test finished with:\n",
      "\tsuccess rate: 441 / 500 = 0.882\n",
      "17 ) MCTS conf: 0.94 , det: 0.98 | s: 9 LTL_f [+++]  LDBA [ 0.0 ] observed labels: [('a',) ('b',) ('c',)]\n",
      "Running 500 simulations with 50 time-steps...\n",
      "Test finished with:\n",
      "\tsuccess rate: 437 / 500 = 0.874\n",
      "18 ) MCTS conf: 0.91 , det: 0.78 | s: 70 LTL_f [+++]  LDBA [ 0.0 ] observed labels: [('a',) ('b',) ('c',)]\n",
      "Running 500 simulations with 50 time-steps...\n",
      "Test finished with:\n",
      "\tsuccess rate: 434 / 500 = 0.868\n",
      "19 ) MCTS conf: 0.95 , det: 1.0 | s: 5 LTL_f [+++]  LDBA [ 0.0 ] observed labels: [('a',) ('b',) ('c',)]\n",
      "Running 500 simulations with 50 time-steps...\n",
      "Test finished with:\n",
      "\tsuccess rate: 437 / 500 = 0.874\n",
      "20 ) MCTS conf: 0.94 , det: 0.79 | s: 96 LTL_f [+++]  LDBA [ 0.0 ] observed labels: [('a',) ('b',) ('c',)]\n",
      "Running 500 simulations with 50 time-steps...\n",
      "Test finished with:\n",
      "\tsuccess rate: 462 / 500 = 0.924\n",
      "21 ) MCTS conf: 0.97 , det: 0.96 | s: 94 LTL_f [+++]  LDBA [ 0.0 ] observed labels: [('a',) ('b',) ('c',)]\n",
      "Running 500 simulations with 50 time-steps...\n",
      "Test finished with:\n",
      "\tsuccess rate: 468 / 500 = 0.936\n",
      "22 ) MCTS conf: 0.93 , det: 1.0 | s: 39 LTL_f [+++]  LDBA [ 0.0 ] observed labels: [('a',) ('b',) ('c',)]\n",
      "Running 500 simulations with 50 time-steps...\n",
      "Test finished with:\n",
      "\tsuccess rate: 480 / 500 = 0.96\n",
      "23 ) MCTS conf: 0.98 , det: 0.99 | s: 79 LTL_f [+++]  LDBA [ 0.0 ] observed labels: [('a',) ('b',) ('c',)]\n",
      "Running 500 simulations with 50 time-steps...\n",
      "Test finished with:\n",
      "\tsuccess rate: 484 / 500 = 0.968\n",
      "24 ) MCTS conf: 0.95 , det: 1.0 | s: 49 LTL_f [+++]  LDBA [ 0.0 ] observed labels: [('a',) ('b',) ('c',)]\n",
      "Running 500 simulations with 50 time-steps...\n",
      "Test finished with:\n",
      "\tsuccess rate: 489 / 500 = 0.978\n",
      "25 ) MCTS conf: 0.98 , det: 0.88 | s: 60 LTL_f [+++]  LDBA [ 0.0 ] observed labels: [('a',) ('b',) ('c',)]\n",
      "Running 500 simulations with 50 time-steps...\n",
      "Test finished with:\n",
      "\tsuccess rate: 498 / 500 = 0.996\n",
      "26 ) MCTS conf: 0.95 , det: 1.0 | s: 80 LTL_f [+++]  LDBA [ 0.0 ] observed labels: [('a',) ('b',) ('c',)]\n",
      "Running 500 simulations with 50 time-steps...\n",
      "Test finished with:\n",
      "\tsuccess rate: 495 / 500 = 0.99\n",
      "27 ) MCTS conf: 0.98 , det: 1.0 | s: 34 LTL_f [+++]  LDBA [ 0.0 ] observed labels: [('a',) ('b',) ('c',)]\n",
      "Running 500 simulations with 50 time-steps...\n",
      "Test finished with:\n",
      "\tsuccess rate: 495 / 500 = 0.99\n",
      "28 ) MCTS conf: 0.94 , det: 0.98 | s: 69 LTL_f [+++]  LDBA [ 0.0 ] observed labels: [('a',) ('b',) ('c',)]\n",
      "Running 500 simulations with 50 time-steps...\n",
      "Test finished with:\n",
      "\tsuccess rate: 500 / 500 = 1.0\n",
      "Train wins: 27 / 28\n"
     ]
    }
   ],
   "source": [
    "env.train(50, smart_start=True)"
   ]
  },
  {
   "cell_type": "code",
   "execution_count": 163,
   "metadata": {},
   "outputs": [
    {
     "name": "stdout",
     "output_type": "stream",
     "text": [
      "0 ) MCTS conf: 1.0 , det: 1.0 | s: 77 LTL_f [+++]  LDBA [ 0.0 ] observed labels: [('a',) ('b',) ('c',)]\n",
      "1 ) MCTS conf: 1.0 , det: 1.0 | s: 42 LTL_f [+++]  LDBA [ 0.0 ] observed labels: [('a',) ('b',) ('c',)]\n",
      "2 ) MCTS conf: 1.0 , det: 1.0 | s: 17 LTL_f [+++]  LDBA [ 0.0 ] observed labels: [('a',) ('b',) ('c',)]\n",
      "3 ) MCTS conf: 1.0 , det: 1.0 | s: 40 LTL_f [+++]  LDBA [ 0.0 ] observed labels: [('a',) ('b',) ('c',)]\n",
      "4 ) MCTS conf: 1.0 , det: 1.0 | s: 87 LTL_f [+++]  LDBA [ 0.0 ] observed labels: [('a',) ('b',) ('c',)]\n",
      "5 ) MCTS conf: -0.42 , det: 1.0 | s: 90 LTL_f [---]  LDBA [ 0.0 ] observed labels: [('c',) ('c',) ('c',) ('c',)]\n",
      "6 ) MCTS conf: 1.0 , det: 1.0 | s: 16 LTL_f [+++]  LDBA [ 0.0 ] observed labels: [('a',) ('b',) ('c',)]\n",
      "7 ) MCTS conf: 1.0 , det: 1.0 | s: 73 LTL_f [+++]  LDBA [ 0.0 ] observed labels: [('a',) ('b',) ('c',)]\n",
      "8 ) MCTS conf: 1.0 , det: 1.0 | s: 77 LTL_f [+++]  LDBA [ 0.0 ] observed labels: [('a',) ('b',) ('c',)]\n",
      "9 ) MCTS conf: 1.0 , det: 1.0 | s: 32 LTL_f [+++]  LDBA [ 0.0 ] observed labels: [('a',) ('b',) ('c',)]\n",
      "10 ) MCTS conf: 1.0 , det: 1.0 | s: 34 LTL_f [+++]  LDBA [ 0.0 ] observed labels: [('a',) ('b',) ('c',)]\n",
      "11 ) MCTS conf: 1.0 , det: 1.0 | s: 2 LTL_f [+++]  LDBA [ 0.0 ] observed labels: [('a',) ('b',) ('c',)]\n",
      "12 ) MCTS conf: 1.0 , det: 1.0 | s: 74 LTL_f [+++]  LDBA [ 0.0 ] observed labels: [('a',) ('b',) ('c',)]\n",
      "13 ) MCTS conf: 1.0 , det: 1.0 | s: 61 LTL_f [+++]  LDBA [ 0.0 ] observed labels: [('a',) ('b',) ('c',)]\n",
      "14 ) MCTS conf: 1.0 , det: 1.0 | s: 1 LTL_f [+++]  LDBA [ 0.0 ] observed labels: [('a',) ('b',) ('c',)]\n",
      "15 ) MCTS conf: 1.0 , det: 1.0 | s: 95 LTL_f [+++]  LDBA [ 0.0 ] observed labels: [('a',) ('b',) ('c',)]\n",
      "16 ) MCTS conf: 1.0 , det: 1.0 | s: 28 LTL_f [+++]  LDBA [ 0.0 ] observed labels: [('a',) ('b',) ('c',)]\n",
      "17 ) MCTS conf: 1.0 , det: 1.0 | s: 41 LTL_f [+++]  LDBA [ 0.0 ] observed labels: [('a',) ('b',) ('c',)]\n",
      "18 ) MCTS conf: 1.0 , det: 1.0 | s: 80 LTL_f [+++]  LDBA [ 0.0 ] observed labels: [('a',) ('b',) ('c',)]\n",
      "19 ) MCTS conf: 1.0 , det: 1.0 | s: 8 LTL_f [+++]  LDBA [ 0.0 ] observed labels: [('a',) ('b',) ('c',)]\n",
      "20 ) MCTS conf: 1.0 , det: 1.0 | s: 29 LTL_f [+++]  LDBA [ 0.0 ] observed labels: [('a',) ('b',) ('c',)]\n",
      "21 ) MCTS conf: 1.0 , det: 1.0 | s: 29 LTL_f [+++]  LDBA [ 0.0 ] observed labels: [('a',) ('b',) ('c',)]\n",
      "22 ) MCTS conf: 1.0 , det: 1.0 | s: 86 LTL_f [+++]  LDBA [ 0.0 ] observed labels: [('a',) ('b',) ('c',)]\n",
      "23 ) MCTS conf: 1.0 , det: 1.0 | s: 84 LTL_f [+++]  LDBA [ 0.0 ] observed labels: [('a',) ('b',) ('c',)]\n",
      "24 ) MCTS conf: 1.0 , det: 1.0 | s: 48 LTL_f [+++]  LDBA [ 0.0 ] observed labels: [('a',) ('b',) ('c',)]\n",
      "25 ) MCTS conf: 1.0 , det: 1.0 | s: 8 LTL_f [+++]  LDBA [ 0.0 ] observed labels: [('a',) ('b',) ('c',)]\n",
      "26 ) MCTS conf: 1.0 , det: 1.0 | s: 93 LTL_f [+++]  LDBA [ 0.0 ] observed labels: [('a',) ('b',) ('c',)]\n",
      "27 ) MCTS conf: 1.0 , det: 1.0 | s: 96 LTL_f [+++]  LDBA [ 0.0 ] observed labels: [('a',) ('b',) ('c',)]\n",
      "28 ) MCTS conf: 1.0 , det: 1.0 | s: 20 LTL_f [+++]  LDBA [ 0.0 ] observed labels: [('a',) ('b',) ('c',)]\n",
      "29 ) MCTS conf: 1.0 , det: 1.0 | s: 36 LTL_f [+++]  LDBA [ 0.0 ] observed labels: [('a',) ('b',) ('c',)]\n",
      "30 ) MCTS conf: 1.0 , det: 1.0 | s: 43 LTL_f [+++]  LDBA [ 0.0 ] observed labels: [('a',) ('b',) ('c',)]\n",
      "31 ) MCTS conf: 1.0 , det: 1.0 | s: 72 LTL_f [+++]  LDBA [ 0.0 ] observed labels: [('a',) ('b',) ('c',)]\n",
      "32 ) MCTS conf: 1.0 , det: 1.0 | s: 86 LTL_f [+++]  LDBA [ 0.0 ] observed labels: [('a',) ('b',) ('c',)]\n",
      "33 ) MCTS conf: 1.0 , det: 1.0 | s: 40 LTL_f [+++]  LDBA [ 0.0 ] observed labels: [('a',) ('b',) ('c',)]\n",
      "34 ) MCTS conf: 1.0 , det: 1.0 | s: 34 LTL_f [+++]  LDBA [ 0.0 ] observed labels: [('a',) ('b',) ('c',)]\n",
      "35 ) MCTS conf: 1.0 , det: 1.0 | s: 8 LTL_f [+++]  LDBA [ 0.0 ] observed labels: [('a',) ('b',) ('c',)]\n",
      "36 ) MCTS conf: 1.0 , det: 1.0 | s: 97 LTL_f [+++]  LDBA [ 0.0 ] observed labels: [('a',) ('b',) ('c',)]\n",
      "37 ) MCTS conf: 1.0 , det: 1.0 | s: 73 LTL_f [+++]  LDBA [ 0.0 ] observed labels: [('a',) ('b',) ('c',)]\n",
      "38 ) MCTS conf: 1.0 , det: 1.0 | s: 81 LTL_f [+++]  LDBA [ 0.0 ] observed labels: [('a',) ('b',) ('c',)]\n",
      "39 ) MCTS conf: 1.0 , det: 1.0 | s: 62 LTL_f [+++]  LDBA [ 0.0 ] observed labels: [('a',) ('b',) ('c',)]\n",
      "40 ) MCTS conf: 1.0 , det: 1.0 | s: 1 LTL_f [+++]  LDBA [ 0.0 ] observed labels: [('a',) ('b',) ('c',)]\n",
      "41 ) MCTS conf: 1.0 , det: 1.0 | s: 34 LTL_f [+++]  LDBA [ 0.0 ] observed labels: [('a',) ('b',) ('c',)]\n",
      "42 ) MCTS conf: 1.0 , det: 1.0 | s: 66 LTL_f [+++]  LDBA [ 0.0 ] observed labels: [('a',) ('b',) ('c',)]\n",
      "43 ) MCTS conf: 1.0 , det: 1.0 | s: 2 LTL_f [+++]  LDBA [ 0.0 ] observed labels: [('a',) ('b',) ('c',)]\n",
      "44 ) MCTS conf: 1.0 , det: 1.0 | s: 78 LTL_f [+++]  LDBA [ 0.0 ] observed labels: [('a',) ('b',) ('c',)]\n",
      "45 ) MCTS conf: 1.0 , det: 1.0 | s: 11 LTL_f [+++]  LDBA [ 0.0 ] observed labels: [('a',) ('b',) ('c',)]\n",
      "46 ) MCTS conf: 1.0 , det: 1.0 | s: 34 LTL_f [+++]  LDBA [ 0.0 ] observed labels: [('a',) ('b',) ('c',)]\n",
      "47 ) MCTS conf: 1.0 , det: 1.0 | s: 75 LTL_f [+++]  LDBA [ 0.0 ] observed labels: [('a',) ('b',) ('c',)]\n",
      "48 ) MCTS conf: 1.0 , det: 1.0 | s: 6 LTL_f [+++]  LDBA [ 0.0 ] observed labels: [('a',) ('b',) ('c',)]\n",
      "49 ) MCTS conf: 1.0 , det: 1.0 | s: 40 LTL_f [+++]  LDBA [ 0.0 ] observed labels: [('a',) ('b',) ('c',)]\n",
      "50 ) MCTS conf: 1.0 , det: 1.0 | s: 65 LTL_f [+++]  LDBA [ 0.0 ] observed labels: [('a',) ('b',) ('c',)]\n",
      "51 ) MCTS conf: 1.0 , det: 1.0 | s: 43 LTL_f [+++]  LDBA [ 0.0 ] observed labels: [('a',) ('b',) ('c',)]\n",
      "52 ) MCTS conf: 1.0 , det: 1.0 | s: 86 LTL_f [+++]  LDBA [ 0.0 ] observed labels: [('a',) ('b',) ('c',)]\n",
      "53 ) MCTS conf: 1.0 , det: 1.0 | s: 28 LTL_f [+++]  LDBA [ 0.0 ] observed labels: [('a',) ('b',) ('c',)]\n",
      "54 ) MCTS conf: 1.0 , det: 1.0 | s: 82 LTL_f [+++]  LDBA [ 0.0 ] observed labels: [('a',) ('b',) ('c',)]\n",
      "55 ) MCTS conf: 1.0 , det: 1.0 | s: 89 LTL_f [+++]  LDBA [ 0.0 ] observed labels: [('a',) ('b',) ('c',)]\n",
      "56 ) MCTS conf: 1.0 , det: 1.0 | s: 73 LTL_f [+++]  LDBA [ 0.0 ] observed labels: [('a',) ('b',) ('c',)]\n",
      "57 ) MCTS conf: 1.0 , det: 1.0 | s: 69 LTL_f [+++]  LDBA [ 0.0 ] observed labels: [('a',) ('b',) ('c',)]\n",
      "58 ) MCTS conf: 1.0 , det: 1.0 | s: 16 LTL_f [+++]  LDBA [ 0.0 ] observed labels: [('a',) ('b',) ('c',)]\n",
      "59 ) MCTS conf: 1.0 , det: 1.0 | s: 63 LTL_f [+++]  LDBA [ 0.0 ] observed labels: [('a',) ('b',) ('c',)]\n",
      "60 ) MCTS conf: 1.0 , det: 1.0 | s: 35 LTL_f [+++]  LDBA [ 0.0 ] observed labels: [('a',) ('b',) ('c',)]\n",
      "61 ) MCTS conf: 1.0 , det: 1.0 | s: 94 LTL_f [+++]  LDBA [ 0.0 ] observed labels: [('a',) ('b',) ('c',)]\n",
      "62 ) MCTS conf: 1.0 , det: 1.0 | s: 74 LTL_f [+++]  LDBA [ 0.0 ] observed labels: [('a',) ('b',) ('c',)]\n",
      "63 ) MCTS conf: 1.0 , det: 1.0 | s: 43 LTL_f [+++]  LDBA [ 0.0 ] observed labels: [('a',) ('b',) ('c',)]\n",
      "64 ) MCTS conf: 1.0 , det: 1.0 | s: 35 LTL_f [+++]  LDBA [ 0.0 ] observed labels: [('a',) ('b',) ('c',)]\n",
      "65 ) MCTS conf: 1.0 , det: 1.0 | s: 88 LTL_f [+++]  LDBA [ 0.0 ] observed labels: [('a',) ('b',) ('c',)]\n",
      "66 ) MCTS conf: 1.0 , det: 1.0 | s: 22 LTL_f [+++]  LDBA [ 0.0 ] observed labels: [('a',) ('b',) ('c',)]\n",
      "67 ) MCTS conf: 1.0 , det: 1.0 | s: 97 LTL_f [+++]  LDBA [ 0.0 ] observed labels: [('a',) ('b',) ('c',)]\n",
      "68 ) MCTS conf: 1.0 , det: 1.0 | s: 59 LTL_f [+++]  LDBA [ 0.0 ] observed labels: [('a',) ('b',) ('c',)]\n",
      "69 ) MCTS conf: 1.0 , det: 1.0 | s: 71 LTL_f [+++]  LDBA [ 0.0 ] observed labels: [('a',) ('b',) ('c',)]\n",
      "70 ) MCTS conf: 1.0 , det: 1.0 | s: 42 LTL_f [+++]  LDBA [ 0.0 ] observed labels: [('a',) ('b',) ('c',)]\n",
      "71 ) MCTS conf: 1.0 , det: 1.0 | s: 5 LTL_f [+++]  LDBA [ 0.0 ] observed labels: [('a',) ('b',) ('c',)]\n",
      "72 ) MCTS conf: 1.0 , det: 1.0 | s: 29 LTL_f [+++]  LDBA [ 0.0 ] observed labels: [('a',) ('b',) ('c',)]\n",
      "73 ) MCTS conf: 1.0 , det: 1.0 | s: 19 LTL_f [+++]  LDBA [ 0.0 ] observed labels: [('a',) ('b',) ('c',)]\n",
      "74 ) MCTS conf: 1.0 , det: 1.0 | s: 63 LTL_f [+++]  LDBA [ 0.0 ] observed labels: [('a',) ('b',) ('c',)]\n",
      "75 ) MCTS conf: 1.0 , det: 1.0 | s: 51 LTL_f [+++]  LDBA [ 0.0 ] observed labels: [('a',) ('b',) ('c',)]\n",
      "76 ) MCTS conf: 1.0 , det: 1.0 | s: 35 LTL_f [+++]  LDBA [ 0.0 ] observed labels: [('a',) ('b',) ('c',)]\n",
      "77 ) MCTS conf: 1.0 , det: 1.0 | s: 27 LTL_f [+++]  LDBA [ 0.0 ] observed labels: [('a',) ('b',) ('c',)]\n",
      "78 ) MCTS conf: 1.0 , det: 1.0 | s: 96 LTL_f [+++]  LDBA [ 0.0 ] observed labels: [('a',) ('b',) ('c',)]\n",
      "79 ) MCTS conf: 1.0 , det: 1.0 | s: 39 LTL_f [+++]  LDBA [ 0.0 ] observed labels: [('a',) ('b',) ('c',)]\n",
      "80 ) MCTS conf: 1.0 , det: 1.0 | s: 20 LTL_f [+++]  LDBA [ 0.0 ] observed labels: [('a',) ('b',) ('c',)]\n",
      "81 ) MCTS conf: 1.0 , det: 1.0 | s: 27 LTL_f [+++]  LDBA [ 0.0 ] observed labels: [('a',) ('b',) ('c',)]\n",
      "82 ) MCTS conf: 1.0 , det: 1.0 | s: 34 LTL_f [+++]  LDBA [ 0.0 ] observed labels: [('a',) ('b',) ('c',)]\n",
      "83 ) MCTS conf: 1.0 , det: 1.0 | s: 75 LTL_f [+++]  LDBA [ 0.0 ] observed labels: [('a',) ('b',) ('c',)]\n",
      "84 ) MCTS conf: 1.0 , det: 1.0 | s: 69 LTL_f [+++]  LDBA [ 0.0 ] observed labels: [('a',) ('b',) ('c',)]\n",
      "85 ) MCTS conf: 1.0 , det: 1.0 | s: 50 LTL_f [+++]  LDBA [ 0.0 ] observed labels: [('a',) ('b',) ('c',)]\n",
      "86 ) MCTS conf: 1.0 , det: 1.0 | s: 17 LTL_f [+++]  LDBA [ 0.0 ] observed labels: [('a',) ('b',) ('c',)]\n",
      "87 ) MCTS conf: 1.0 , det: 1.0 | s: 16 LTL_f [+++]  LDBA [ 0.0 ] observed labels: [('a',) ('b',) ('c',)]\n",
      "88 ) MCTS conf: 1.0 , det: 1.0 | s: 35 LTL_f [+++]  LDBA [ 0.0 ] observed labels: [('a',) ('b',) ('c',)]\n",
      "89 ) MCTS conf: 1.0 , det: 1.0 | s: 43 LTL_f [+++]  LDBA [ 0.0 ] observed labels: [('a',) ('b',) ('c',)]\n",
      "90 ) MCTS conf: 1.0 , det: 1.0 | s: 72 LTL_f [+++]  LDBA [ 0.0 ] observed labels: [('a',) ('b',) ('c',)]\n",
      "91 ) MCTS conf: 1.0 , det: 1.0 | s: 19 LTL_f [+++]  LDBA [ 0.0 ] observed labels: [('a',) ('b',) ('c',)]\n",
      "92 ) MCTS conf: 1.0 , det: 1.0 | s: 9 LTL_f [+++]  LDBA [ 0.0 ] observed labels: [('a',) ('b',) ('c',)]\n",
      "93 ) MCTS conf: 1.0 , det: 1.0 | s: 43 LTL_f [+++]  LDBA [ 0.0 ] observed labels: [('a',) ('b',) ('c',)]\n",
      "94 ) MCTS conf: 1.0 , det: 1.0 | s: 48 LTL_f [+++]  LDBA [ 0.0 ] observed labels: [('a',) ('b',) ('c',)]\n",
      "95 ) MCTS conf: 1.0 , det: 1.0 | s: 74 LTL_f [+++]  LDBA [ 0.0 ] observed labels: [('a',) ('b',) ('c',)]\n",
      "96 ) MCTS conf: 1.0 , det: 1.0 | s: 40 LTL_f [+++]  LDBA [ 0.0 ] observed labels: [('a',) ('b',) ('c',)]\n",
      "97 ) MCTS conf: 1.0 , det: 1.0 | s: 21 LTL_f [+++]  LDBA [ 0.0 ] observed labels: [('a',) ('b',) ('c',)]\n",
      "98 ) MCTS conf: 1.0 , det: 1.0 | s: 26 LTL_f [+++]  LDBA [ 0.0 ] observed labels: [('a',) ('b',) ('c',)]\n",
      "99 ) MCTS conf: 1.0 , det: 1.0 | s: 45 LTL_f [+++]  LDBA [ 0.0 ] observed labels: [('a',) ('b',) ('c',)]\n",
      "Test wins: 99 / 100\n",
      "Running 1000 simulations with 50 time-steps...\n",
      "Test finished with:\n",
      "\tsuccess rate: 985 / 1000 = 0.985\n"
     ]
    }
   ],
   "source": [
    "saved_records = env.get_policy(100, reset_tables=False)"
   ]
  },
  {
   "cell_type": "code",
   "execution_count": 146,
   "metadata": {},
   "outputs": [
    {
     "data": {
      "text/plain": [
       "(0, 0, 5, 2)"
      ]
     },
     "execution_count": 146,
     "metadata": {},
     "output_type": "execute_result"
    }
   ],
   "source": [
    "saved_records[0][1][0]"
   ]
  },
  {
   "cell_type": "code",
   "execution_count": 165,
   "metadata": {},
   "outputs": [],
   "source": [
    "class HistoryDataset(Dataset):\n",
    "    def __init__(self, data, max_length):\n",
    "        \"\"\"\n",
    "        Initialize the dataset with the data and the maximum sequence length.\n",
    "        Args:\n",
    "        - data (list): A list containing three lists: state history, action history, and reward history.\n",
    "        - max_length (int): The maximum length of any episode's state/action/reward sequence.\n",
    "        \"\"\"\n",
    "        self.state_history, self.action_history, self.reward_history = data\n",
    "        self.max_length = max_length\n",
    "    \n",
    "    def __len__(self):\n",
    "        \"\"\"\n",
    "        Return the total number of episodes in the dataset.\n",
    "        \"\"\"\n",
    "        return len(self.state_history)\n",
    "    \n",
    "    def __getitem__(self, idx):\n",
    "        \"\"\"\n",
    "        Retrieve the state, action, and reward sequences for the given index,\n",
    "        apply zero-padding, and create a mask.\n",
    "        Args:\n",
    "        - idx (int): Index of the episode to retrieve.\n",
    "        Returns:\n",
    "        - A tuple containing:\n",
    "            - state sequence (Tensor)\n",
    "            - action sequence (Tensor)\n",
    "            - reward sequence (Tensor)\n",
    "            - mask (Tensor)\n",
    "        \"\"\"\n",
    "        states = self.state_history[idx]\n",
    "        actions = self.action_history[idx]\n",
    "        rewards = self.reward_history[idx]\n",
    "        \n",
    "        # Calculate the actual length of the current episode\n",
    "        seq_length = max(len(states), len(actions), len(rewards))\n",
    "\n",
    "        # Create masks where 1s indicate actual data and 0s indicate padding\n",
    "        mask = [1] * seq_length + [0] * (self.max_length - seq_length)\n",
    "\n",
    "        # Zero-pad the sequences to the maximum length\n",
    "        for _ in range((self.max_length - len(states))):\n",
    "            states.append(states[-1])\n",
    "        actions.extend([0] * (self.max_length - len(actions)))\n",
    "        rewards.extend([0] * (self.max_length - len(rewards)))\n",
    "\n",
    "        print(states)\n",
    "        \n",
    "        return torch.tensor(states), torch.tensor(actions), torch.tensor(rewards), torch.tensor(mask)"
   ]
  },
  {
   "cell_type": "code",
   "execution_count": 162,
   "metadata": {},
   "outputs": [
    {
     "data": {
      "text/plain": [
       "array([[(), (), (), (), (), (), (), (), (), ()],\n",
       "       [(), (), (), (), (), (), (), (), (), ()],\n",
       "       [(), (), (), (), (), (), (), (), (), ()],\n",
       "       [(), ('a',), (), (), (), (), (), (), (), ()],\n",
       "       [(), (), (), (), (), (), (), (), (), ()],\n",
       "       [(), (), (), (), (), (), (), (), (), ()],\n",
       "       [(), (), (), (), (), (), (), (), ('b',), ()],\n",
       "       [(), (), (), (), (), (), (), (), (), ()],\n",
       "       [(), (), (), (), (), (), (), (), (), ()],\n",
       "       [(), ('c',), (), (), (), (), (), (), (), ()]], dtype=object)"
      ]
     },
     "execution_count": 162,
     "metadata": {},
     "output_type": "execute_result"
    }
   ],
   "source": [
    "gw.mdp.label"
   ]
  },
  {
   "cell_type": "code",
   "execution_count": 131,
   "metadata": {},
   "outputs": [
    {
     "data": {
      "text/plain": [
       "40"
      ]
     },
     "execution_count": 131,
     "metadata": {},
     "output_type": "execute_result"
    }
   ],
   "source": [
    "len(saved_records[2][0])"
   ]
  },
  {
   "cell_type": "code",
   "execution_count": 166,
   "metadata": {},
   "outputs": [
    {
     "name": "stdout",
     "output_type": "stream",
     "text": [
      "[(0, 0, 1, 7), (0, 0, 1, 6), (0, 0, 1, 5), (0, 0, 1, 4), (0, 0, 1, 3), (0, 0, 1, 2), (0, 0, 1, 1), (0, 0, 2, 1), (0, 0, 3, 1), (0, 1, 4, 1), (0, 1, 4, 0), (0, 1, 5, 0), (0, 1, 6, 0), (0, 1, 7, 0), (0, 1, 8, 0), (0, 1, 8, 1), (0, 1, 8, 2), (0, 1, 8, 3), (0, 1, 8, 4), (0, 1, 8, 5), (0, 1, 7, 5), (0, 1, 6, 5), (0, 1, 6, 6), (0, 1, 7, 6), (0, 1, 7, 7), (0, 1, 7, 8), (0, 1, 6, 8), (0, 2, 6, 7), (0, 2, 6, 6), (0, 2, 6, 5), (0, 2, 7, 5), (0, 4, 7, 5), (0, 5, 7, 4), (0, 5, 6, 4), (0, 5, 6, 3), (0, 5, 6, 2), (0, 5, 6, 1), (0, 5, 7, 1), (0, 5, 7, 0), (0, 5, 8, 0), (0, 5, 9, 0), (0, 5, 9, 1), (0, 5, 9, 1), (0, 5, 9, 1), (0, 5, 9, 1), (0, 5, 9, 1), (0, 5, 9, 1), (0, 5, 9, 1), (0, 5, 9, 1), (0, 5, 9, 1)]\n"
     ]
    }
   ],
   "source": [
    "dataset = HistoryDataset(copy.deepcopy(saved_records), 50)\n",
    "\n",
    "# Getting data for the first episode\n",
    "states, actions, rewards, mask = dataset[0]\n",
    "print(\"States:\", states, states.shape)\n",
    "print(\"Actions:\", actions, actions.shape)\n",
    "print(\"Rewards:\", rewards, rewards.shape)\n",
    "print(\"Mask:\", mask, mask.shape)"
   ]
  },
  {
   "cell_type": "code",
   "execution_count": null,
   "metadata": {},
   "outputs": [],
   "source": []
  },
  {
   "cell_type": "code",
   "execution_count": null,
   "metadata": {},
   "outputs": [],
   "source": []
  },
  {
   "cell_type": "code",
   "execution_count": 167,
   "metadata": {},
   "outputs": [],
   "source": [
    "goal_locations = [(3,1), (6,8), (9,1)]"
   ]
  },
  {
   "cell_type": "code",
   "execution_count": 168,
   "metadata": {},
   "outputs": [
    {
     "name": "stdout",
     "output_type": "stream",
     "text": [
      "Data has been saved to 'my_saved_data.pkl'\n"
     ]
    }
   ],
   "source": [
    "data_to_save = (dataset, goal_locations)\n",
    "\n",
    "# Save the tuple to a file\n",
    "with open('my_saved_data.pkl', 'wb') as file:\n",
    "    pickle.dump(data_to_save, file)\n",
    "    print(\"Data has been saved to 'my_saved_data.pkl'\")"
   ]
  },
  {
   "cell_type": "code",
   "execution_count": 173,
   "metadata": {},
   "outputs": [
    {
     "name": "stdout",
     "output_type": "stream",
     "text": [
      "Loaded Goal Locations: [(3, 1), (6, 8), (9, 1)]\n",
      "[(0, 0, 7, 7), (0, 0, 7, 6), (0, 0, 7, 5), (0, 0, 6, 5), (0, 0, 6, 4), (0, 0, 5, 4), (0, 0, 4, 4), (0, 0, 4, 3), (0, 0, 3, 3), (0, 0, 3, 2), (0, 0, 3, 1), (0, 1, 4, 1), (0, 1, 4, 0), (0, 1, 5, 0), (0, 1, 6, 0), (0, 1, 7, 0), (0, 1, 8, 0), (0, 1, 8, 1), (0, 1, 8, 2), (0, 1, 8, 3), (0, 1, 8, 4), (0, 1, 8, 5), (0, 1, 7, 5), (0, 1, 6, 5), (0, 1, 6, 6), (0, 1, 7, 6), (0, 1, 7, 7), (0, 1, 7, 8), (0, 1, 6, 8), (0, 2, 6, 7), (0, 2, 6, 6), (0, 2, 6, 5), (0, 2, 7, 5), (0, 4, 7, 5), (0, 5, 7, 4), (0, 5, 6, 4), (0, 5, 6, 3), (0, 5, 6, 2), (0, 5, 6, 1), (0, 5, 7, 1), (0, 5, 7, 0), (0, 5, 8, 0), (0, 5, 9, 0), (0, 5, 9, 1), (0, 5, 9, 1), (0, 5, 9, 1), (0, 5, 9, 1), (0, 5, 9, 1), (0, 5, 9, 1), (0, 5, 9, 1)]\n",
      "States: tensor([[0, 0, 7, 7],\n",
      "        [0, 0, 7, 6],\n",
      "        [0, 0, 7, 5],\n",
      "        [0, 0, 6, 5],\n",
      "        [0, 0, 6, 4],\n",
      "        [0, 0, 5, 4],\n",
      "        [0, 0, 4, 4],\n",
      "        [0, 0, 4, 3],\n",
      "        [0, 0, 3, 3],\n",
      "        [0, 0, 3, 2],\n",
      "        [0, 0, 3, 1],\n",
      "        [0, 1, 4, 1],\n",
      "        [0, 1, 4, 0],\n",
      "        [0, 1, 5, 0],\n",
      "        [0, 1, 6, 0],\n",
      "        [0, 1, 7, 0],\n",
      "        [0, 1, 8, 0],\n",
      "        [0, 1, 8, 1],\n",
      "        [0, 1, 8, 2],\n",
      "        [0, 1, 8, 3],\n",
      "        [0, 1, 8, 4],\n",
      "        [0, 1, 8, 5],\n",
      "        [0, 1, 7, 5],\n",
      "        [0, 1, 6, 5],\n",
      "        [0, 1, 6, 6],\n",
      "        [0, 1, 7, 6],\n",
      "        [0, 1, 7, 7],\n",
      "        [0, 1, 7, 8],\n",
      "        [0, 1, 6, 8],\n",
      "        [0, 2, 6, 7],\n",
      "        [0, 2, 6, 6],\n",
      "        [0, 2, 6, 5],\n",
      "        [0, 2, 7, 5],\n",
      "        [0, 4, 7, 5],\n",
      "        [0, 5, 7, 4],\n",
      "        [0, 5, 6, 4],\n",
      "        [0, 5, 6, 3],\n",
      "        [0, 5, 6, 2],\n",
      "        [0, 5, 6, 1],\n",
      "        [0, 5, 7, 1],\n",
      "        [0, 5, 7, 0],\n",
      "        [0, 5, 8, 0],\n",
      "        [0, 5, 9, 0],\n",
      "        [0, 5, 9, 1],\n",
      "        [0, 5, 9, 1],\n",
      "        [0, 5, 9, 1],\n",
      "        [0, 5, 9, 1],\n",
      "        [0, 5, 9, 1],\n",
      "        [0, 5, 9, 1],\n",
      "        [0, 5, 9, 1]]) torch.Size([50, 4])\n",
      "Actions: tensor([3, 3, 0, 3, 0, 0, 3, 0, 3, 3, 1, 3, 1, 1, 1, 1, 2, 2, 2, 2, 2, 0, 0, 2,\n",
      "        1, 2, 2, 0, 3, 3, 3, 1, 8, 3, 0, 3, 3, 3, 1, 3, 1, 1, 2, 0, 0, 0, 0, 0,\n",
      "        0, 0]) torch.Size([50])\n",
      "Rewards: tensor([0., 0., 0., 0., 0., 0., 0., 0., 0., 0., 0., 0., 0., 0., 0., 0., 0., 0.,\n",
      "        0., 0., 0., 0., 0., 0., 0., 0., 0., 0., 0., 0., 0., 0., 0., 0., 0., 0.,\n",
      "        0., 0., 0., 0., 0., 0., 0., 1., 0., 0., 0., 0., 0., 0.],\n",
      "       dtype=torch.float64) torch.Size([50])\n",
      "Mask: tensor([1, 1, 1, 1, 1, 1, 1, 1, 1, 1, 1, 1, 1, 1, 1, 1, 1, 1, 1, 1, 1, 1, 1, 1,\n",
      "        1, 1, 1, 1, 1, 1, 1, 1, 1, 1, 1, 1, 1, 1, 1, 1, 1, 1, 1, 1, 0, 0, 0, 0,\n",
      "        0, 0]) torch.Size([50])\n"
     ]
    }
   ],
   "source": [
    "# The loaded_data contains two items: the dataset object and the list of goal locations: (dataset, goal_locations)\n",
    "with open('my_saved_data.pkl', 'rb') as file:\n",
    "    loaded_data = pickle.load(file)\n",
    "\n",
    "# Extract the dataset from the first element of the tuple\n",
    "loaded_dataset = loaded_data[0]\n",
    "\n",
    "# Extract the list of goal locations from the second element of the tuple\n",
    "# Each item in this list is a tuple representing coordinates (x, y) indicating goal positions.\n",
    "loaded_goal_locations = loaded_data[1]\n",
    "\n",
    "# Display the list of goal locations\n",
    "print(\"Loaded Goal Locations:\", loaded_goal_locations)\n",
    "\n",
    "# print first item in dataset:\n",
    "states, actions, rewards, mask = loaded_dataset[0]\n",
    "print(\"States:\", states, states.shape)\n",
    "print(\"Actions:\", actions, actions.shape)\n",
    "print(\"Rewards:\", rewards, rewards.shape)\n",
    "print(\"Mask:\", mask, mask.shape)"
   ]
  },
  {
   "cell_type": "code",
   "execution_count": null,
   "metadata": {},
   "outputs": [],
   "source": []
  }
 ],
 "metadata": {
  "kernelspec": {
   "display_name": "base",
   "language": "python",
   "name": "python3"
  },
  "language_info": {
   "codemirror_mode": {
    "name": "ipython",
    "version": 3
   },
   "file_extension": ".py",
   "mimetype": "text/x-python",
   "name": "python",
   "nbconvert_exporter": "python",
   "pygments_lexer": "ipython3",
   "version": "3.8.16"
  }
 },
 "nbformat": 4,
 "nbformat_minor": 2
}
