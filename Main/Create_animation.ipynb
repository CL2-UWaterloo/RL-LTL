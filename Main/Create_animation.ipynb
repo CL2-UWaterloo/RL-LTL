{
 "cells": [
  {
   "cell_type": "code",
   "execution_count": 16,
   "metadata": {},
   "outputs": [],
   "source": [
    "from dependencies.NN import *\n",
    "from dependencies.LTL import *\n",
    "from dependencies.Utility_funcs import *\n",
    "from dependencies.maps import grid_world\n",
    "from dependencies.RL_LTL import RL_LTL\n",
    "\n",
    "from dependencies.csrl.mdp import GridMDP\n",
    "from dependencies.csrl.oa import OmegaAutomaton\n",
    "from dependencies.csrl import ControlSynthesis\n",
    "import numpy as np\n",
    "\n",
    "from matplotlib import pyplot as plt"
   ]
  },
  {
   "cell_type": "code",
   "execution_count": 2,
   "metadata": {},
   "outputs": [
    {
     "name": "stdout",
     "output_type": "stream",
     "text": [
      "Number of Omega-automaton states (including the trap state): 6\n",
      "Running 1 simulations with 30 time-steps...\n"
     ]
    },
    {
     "name": "stderr",
     "output_type": "stream",
     "text": [
      "ffmpeg version 4.4.2-0ubuntu0.22.04.1 Copyright (c) 2000-2021 the FFmpeg developers\n",
      "  built with gcc 11 (Ubuntu 11.2.0-19ubuntu1)\n",
      "  configuration: --prefix=/usr --extra-version=0ubuntu0.22.04.1 --toolchain=hardened --libdir=/usr/lib/x86_64-linux-gnu --incdir=/usr/include/x86_64-linux-gnu --arch=amd64 --enable-gpl --disable-stripping --enable-gnutls --enable-ladspa --enable-libaom --enable-libass --enable-libbluray --enable-libbs2b --enable-libcaca --enable-libcdio --enable-libcodec2 --enable-libdav1d --enable-libflite --enable-libfontconfig --enable-libfreetype --enable-libfribidi --enable-libgme --enable-libgsm --enable-libjack --enable-libmp3lame --enable-libmysofa --enable-libopenjpeg --enable-libopenmpt --enable-libopus --enable-libpulse --enable-librabbitmq --enable-librubberband --enable-libshine --enable-libsnappy --enable-libsoxr --enable-libspeex --enable-libsrt --enable-libssh --enable-libtheora --enable-libtwolame --enable-libvidstab --enable-libvorbis --enable-libvpx --enable-libwebp --enable-libx265 --enable-libxml2 --enable-libxvid --enable-libzimg --enable-libzmq --enable-libzvbi --enable-lv2 --enable-omx --enable-openal --enable-opencl --enable-opengl --enable-sdl2 --enable-pocketsphinx --enable-librsvg --enable-libmfx --enable-libdc1394 --enable-libdrm --enable-libiec61883 --enable-chromaprint --enable-frei0r --enable-libx264 --enable-shared\n",
      "  libavutil      56. 70.100 / 56. 70.100\n",
      "  libavcodec     58.134.100 / 58.134.100\n",
      "  libavformat    58. 76.100 / 58. 76.100\n",
      "  libavdevice    58. 13.100 / 58. 13.100\n",
      "  libavfilter     7.110.100 /  7.110.100\n",
      "  libswscale      5.  9.100 /  5.  9.100\n",
      "  libswresample   3.  9.100 /  3.  9.100\n",
      "  libpostproc    55.  9.100 / 55.  9.100\n",
      "Input #0, image2, from 'outputs/gifs/sequential_delivery_6_p1/%05d.png':\n",
      "  Duration: 00:00:01.12, start: 0.000000, bitrate: N/A\n",
      "  Stream #0:0: Video: png, rgba(pc), 427x439 [SAR 3937:3937 DAR 427:439], 25 fps, 25 tbr, 25 tbn, 25 tbc\n",
      "Stream mapping:\n",
      "  Stream #0:0 -> #0:0 (png (native) -> h264 (libx264))\n",
      "Press [q] to stop, [?] for help\n",
      "[libx264 @ 0x556b0323f640] using SAR=1/1\n",
      "[libx264 @ 0x556b0323f640] using cpu capabilities: MMX2 SSE2Fast SSSE3 SSE4.2 AVX FMA3 BMI2 AVX2\n",
      "[libx264 @ 0x556b0323f640] profile High 4:4:4 Predictive, level 2.1, 4:4:4, 8-bit\n",
      "[libx264 @ 0x556b0323f640] 264 - core 163 r3060 5db6aa6 - H.264/MPEG-4 AVC codec - Copyleft 2003-2021 - http://www.videolan.org/x264.html - options: cabac=1 ref=3 deblock=1:0:0 analyse=0x3:0x113 me=hex subme=7 psy=1 psy_rd=1.00:0.00 mixed_ref=1 me_range=16 chroma_me=1 trellis=1 8x8dct=1 cqm=0 deadzone=21,11 fast_pskip=1 chroma_qp_offset=4 threads=6 lookahead_threads=1 sliced_threads=0 nr=0 decimate=1 interlaced=0 bluray_compat=0 constrained_intra=0 bframes=3 b_pyramid=2 b_adapt=1 b_bias=0 direct=1 weightb=1 open_gop=0 weightp=2 keyint=250 keyint_min=3 scenecut=40 intra_refresh=0 rc_lookahead=40 rc=crf mbtree=1 crf=23.0 qcomp=0.60 qpmin=0 qpmax=69 qpstep=4 ip_ratio=1.40 aq=1:1.00\n",
      "Output #0, mp4, to 'outputs/gifs/sequential_delivery_6_p1.mp4':\n",
      "  Metadata:\n",
      "    encoder         : Lavf58.76.100\n",
      "  Stream #0:0: Video: h264 (avc1 / 0x31637661), yuv444p(tv, progressive), 427x439 [SAR 1:1 DAR 427:439], q=2-31, 3 fps, 12288 tbn\n",
      "    Metadata:\n",
      "      encoder         : Lavc58.134.100 libx264\n",
      "    Side data:\n",
      "      cpb: bitrate max/min/avg: 0/0/0 buffer size: 0 vbv_delay: N/A\n",
      "frame=    1 fps=0.0 q=0.0 size=       0kB time=00:00:00.00 bitrate=N/A speed=   0x    \r"
     ]
    },
    {
     "name": "stdout",
     "output_type": "stream",
     "text": [
      "Test finished with:\n",
      "\tsuccess rate: 1 / 1 = 1.0\n"
     ]
    },
    {
     "name": "stderr",
     "output_type": "stream",
     "text": [
      "frame=   28 fps=0.0 q=-1.0 Lsize=      42kB time=00:00:08.33 bitrate=  41.7kbits/s speed=21.1x    \n",
      "video:41kB audio:0kB subtitle:0kB other streams:0kB global headers:0kB muxing overhead: 2.853492%\n",
      "[libx264 @ 0x556b0323f640] frame I:1     Avg QP: 9.98  size: 15294\n",
      "[libx264 @ 0x556b0323f640] frame P:8     Avg QP:16.60  size:  1743\n",
      "[libx264 @ 0x556b0323f640] frame B:19    Avg QP:16.97  size:   649\n",
      "[libx264 @ 0x556b0323f640] consecutive B-frames:  3.6% 14.3% 10.7% 71.4%\n",
      "[libx264 @ 0x556b0323f640] mb I  I16..4: 50.3%  9.1% 40.6%\n",
      "[libx264 @ 0x556b0323f640] mb P  I16..4:  0.8%  1.2%  3.8%  P16..4:  2.4%  0.4%  0.3%  0.0%  0.0%    skip:91.2%\n",
      "[libx264 @ 0x556b0323f640] mb B  I16..4:  0.1%  0.2%  1.1%  B16..8:  6.6%  0.2%  0.1%  direct: 0.1%  skip:91.8%  L0:57.6% L1:42.3% BI: 0.2%\n",
      "[libx264 @ 0x556b0323f640] 8x8 transform intra:13.0% inter:16.1%\n",
      "[libx264 @ 0x556b0323f640] coded y,u,v intra: 30.6% 11.9% 14.3% inter: 0.4% 0.2% 0.2%\n",
      "[libx264 @ 0x556b0323f640] i16 v,h,dc,p: 69% 28%  3%  0%\n",
      "[libx264 @ 0x556b0323f640] i8 v,h,dc,ddl,ddr,vr,hd,vl,hu: 30% 15% 54%  1%  0%  0%  0%  0%  0%\n",
      "[libx264 @ 0x556b0323f640] i4 v,h,dc,ddl,ddr,vr,hd,vl,hu: 31% 22% 26%  4%  3%  4%  4%  4%  3%\n",
      "[libx264 @ 0x556b0323f640] Weighted P-Frames: Y:0.0% UV:0.0%\n",
      "[libx264 @ 0x556b0323f640] ref P L0: 67.0%  2.9% 22.5%  7.6%\n",
      "[libx264 @ 0x556b0323f640] ref B L0: 76.8% 20.7%  2.5%\n",
      "[libx264 @ 0x556b0323f640] ref B L1: 95.9%  4.1%\n",
      "[libx264 @ 0x556b0323f640] kb/s:35.64\n"
     ]
    }
   ],
   "source": [
    "d = 6\n",
    "gw = grid_world(name='sequential_delivery', n_danger=d, plot=False, p=1)\n",
    "policy = np.load(f'outputs/Ours/sequential_delivery_{d}_p{gw.p}.npy')\n",
    "\n",
    "episodes, rew, rew_table = run_Q_test(gw.csrl, policy, gw.LTL_formula, gw.predicates.copy(), start=(2,1), T=30, runs=1,\n",
    "                                      verbose=0, reachability=True, animation=f'outputs/gifs/sequential_delivery_{d}_p{gw.p}')"
   ]
  },
  {
   "cell_type": "code",
   "execution_count": 7,
   "metadata": {},
   "outputs": [
    {
     "name": "stdout",
     "output_type": "stream",
     "text": [
      "Number of Omega-automaton states (including the trap state): 6\n",
      "Running 1 simulations with 70 time-steps...\n"
     ]
    },
    {
     "name": "stderr",
     "output_type": "stream",
     "text": [
      "ffmpeg version 4.4.2-0ubuntu0.22.04.1 Copyright (c) 2000-2021 the FFmpeg developers\n",
      "  built with gcc 11 (Ubuntu 11.2.0-19ubuntu1)\n",
      "  configuration: --prefix=/usr --extra-version=0ubuntu0.22.04.1 --toolchain=hardened --libdir=/usr/lib/x86_64-linux-gnu --incdir=/usr/include/x86_64-linux-gnu --arch=amd64 --enable-gpl --disable-stripping --enable-gnutls --enable-ladspa --enable-libaom --enable-libass --enable-libbluray --enable-libbs2b --enable-libcaca --enable-libcdio --enable-libcodec2 --enable-libdav1d --enable-libflite --enable-libfontconfig --enable-libfreetype --enable-libfribidi --enable-libgme --enable-libgsm --enable-libjack --enable-libmp3lame --enable-libmysofa --enable-libopenjpeg --enable-libopenmpt --enable-libopus --enable-libpulse --enable-librabbitmq --enable-librubberband --enable-libshine --enable-libsnappy --enable-libsoxr --enable-libspeex --enable-libsrt --enable-libssh --enable-libtheora --enable-libtwolame --enable-libvidstab --enable-libvorbis --enable-libvpx --enable-libwebp --enable-libx265 --enable-libxml2 --enable-libxvid --enable-libzimg --enable-libzmq --enable-libzvbi --enable-lv2 --enable-omx --enable-openal --enable-opencl --enable-opengl --enable-sdl2 --enable-pocketsphinx --enable-librsvg --enable-libmfx --enable-libdc1394 --enable-libdrm --enable-libiec61883 --enable-chromaprint --enable-frei0r --enable-libx264 --enable-shared\n",
      "  libavutil      56. 70.100 / 56. 70.100\n",
      "  libavcodec     58.134.100 / 58.134.100\n",
      "  libavformat    58. 76.100 / 58. 76.100\n",
      "  libavdevice    58. 13.100 / 58. 13.100\n",
      "  libavfilter     7.110.100 /  7.110.100\n",
      "  libswscale      5.  9.100 /  5.  9.100\n",
      "  libswresample   3.  9.100 /  3.  9.100\n",
      "  libpostproc    55.  9.100 / 55.  9.100\n",
      "Input #0, image2, from 'outputs/gifs/office_world_p1/%05d.png':\n",
      "  Duration: 00:00:01.40, start: 0.000000, bitrate: N/A\n",
      "  Stream #0:0: Video: png, rgba(pc), 908x679 [SAR 3937:3937 DAR 908:679], 25 fps, 25 tbr, 25 tbn, 25 tbc\n",
      "Stream mapping:\n",
      "  Stream #0:0 -> #0:0 (png (native) -> h264 (libx264))\n",
      "Press [q] to stop, [?] for help\n",
      "[libx264 @ 0x558c75062000] using SAR=1/1\n",
      "[libx264 @ 0x558c75062000] using cpu capabilities: MMX2 SSE2Fast SSSE3 SSE4.2 AVX FMA3 BMI2 AVX2\n",
      "[libx264 @ 0x558c75062000] profile High 4:4:4 Predictive, level 3.1, 4:4:4, 8-bit\n",
      "[libx264 @ 0x558c75062000] 264 - core 163 r3060 5db6aa6 - H.264/MPEG-4 AVC codec - Copyleft 2003-2021 - http://www.videolan.org/x264.html - options: cabac=1 ref=3 deblock=1:0:0 analyse=0x3:0x113 me=hex subme=7 psy=1 psy_rd=1.00:0.00 mixed_ref=1 me_range=16 chroma_me=1 trellis=1 8x8dct=1 cqm=0 deadzone=21,11 fast_pskip=1 chroma_qp_offset=4 threads=6 lookahead_threads=1 sliced_threads=0 nr=0 decimate=1 interlaced=0 bluray_compat=0 constrained_intra=0 bframes=3 b_pyramid=2 b_adapt=1 b_bias=0 direct=1 weightb=1 open_gop=0 weightp=2 keyint=250 keyint_min=3 scenecut=40 intra_refresh=0 rc_lookahead=40 rc=crf mbtree=1 crf=23.0 qcomp=0.60 qpmin=0 qpmax=69 qpstep=4 ip_ratio=1.40 aq=1:1.00\n",
      "Output #0, mp4, to 'outputs/gifs/office_world_p1.mp4':\n",
      "  Metadata:\n",
      "    encoder         : Lavf58.76.100\n",
      "  Stream #0:0: Video: h264 (avc1 / 0x31637661), yuv444p(tv, progressive), 908x679 [SAR 1:1 DAR 908:679], q=2-31, 3 fps, 12288 tbn\n",
      "    Metadata:\n",
      "      encoder         : Lavc58.134.100 libx264\n",
      "    Side data:\n",
      "      cpb: bitrate max/min/avg: 0/0/0 buffer size: 0 vbv_delay: N/A\n",
      "frame=   19 fps=0.0 q=0.0 size=       0kB time=00:00:00.00 bitrate=N/A speed=   0x    \r"
     ]
    },
    {
     "name": "stdout",
     "output_type": "stream",
     "text": [
      "Test finished with:\n",
      "\tsuccess rate: 1 / 1 = 1.0\n"
     ]
    },
    {
     "name": "stderr",
     "output_type": "stream",
     "text": [
      "frame=   35 fps= 22 q=-1.0 Lsize=     101kB time=00:00:10.66 bitrate=  77.6kbits/s speed=6.66x    \n",
      "video:100kB audio:0kB subtitle:0kB other streams:0kB global headers:0kB muxing overhead: 1.271336%\n",
      "[libx264 @ 0x558c75062000] frame I:1     Avg QP:10.10  size: 62304\n",
      "[libx264 @ 0x558c75062000] frame P:9     Avg QP:14.78  size:  2678\n",
      "[libx264 @ 0x558c75062000] frame B:25    Avg QP:17.29  size:   603\n",
      "[libx264 @ 0x558c75062000] consecutive B-frames:  2.9%  5.7%  0.0% 91.4%\n",
      "[libx264 @ 0x558c75062000] mb I  I16..4: 42.6%  3.2% 54.3%\n",
      "[libx264 @ 0x558c75062000] mb P  I16..4:  0.3%  0.3%  1.4%  P16..4:  1.5%  0.4%  0.2%  0.0%  0.0%    skip:95.9%\n",
      "[libx264 @ 0x558c75062000] mb B  I16..4:  0.0%  0.0%  0.3%  B16..8:  4.0%  0.0%  0.0%  direct: 0.0%  skip:95.6%  L0:62.4% L1:37.5% BI: 0.0%\n",
      "[libx264 @ 0x558c75062000] 8x8 transform intra:5.6% inter:16.1%\n",
      "[libx264 @ 0x558c75062000] coded y,u,v intra: 32.4% 4.0% 4.3% inter: 0.2% 0.0% 0.0%\n",
      "[libx264 @ 0x558c75062000] i16 v,h,dc,p: 69% 29%  2%  0%\n",
      "[libx264 @ 0x558c75062000] i8 v,h,dc,ddl,ddr,vr,hd,vl,hu: 30%  9% 60%  0%  0%  0%  0%  0%  0%\n",
      "[libx264 @ 0x558c75062000] i4 v,h,dc,ddl,ddr,vr,hd,vl,hu: 40% 24% 17%  3%  3%  3%  3%  3%  3%\n",
      "[libx264 @ 0x558c75062000] Weighted P-Frames: Y:0.0% UV:0.0%\n",
      "[libx264 @ 0x558c75062000] ref P L0: 86.3%  2.0% 11.0%  0.7%\n",
      "[libx264 @ 0x558c75062000] ref B L0: 81.6% 17.5%  0.8%\n",
      "[libx264 @ 0x558c75062000] ref B L1: 96.4%  3.6%\n",
      "[libx264 @ 0x558c75062000] kb/s:69.59\n"
     ]
    }
   ],
   "source": [
    "gw = grid_world(name='office_world', plot=False, p=1)\n",
    "policy = np.load(f'outputs/Ours/office_world_{gw.p}.npy')\n",
    "\n",
    "episodes, rew, rew_table = run_Q_test(gw.csrl, policy, gw.LTL_formula, gw.predicates.copy(), start=(5,2), T=70, runs=1,\n",
    "                                      verbose=0, reachability=True, animation=f'outputs/gifs/office_world_p{gw.p}')"
   ]
  },
  {
   "cell_type": "code",
   "execution_count": 15,
   "metadata": {},
   "outputs": [
    {
     "name": "stdout",
     "output_type": "stream",
     "text": [
      "Number of Omega-automaton states (including the trap state): 7\n",
      "Running 1 simulations with 35 time-steps...\n"
     ]
    },
    {
     "name": "stderr",
     "output_type": "stream",
     "text": [
      "ffmpeg version 4.4.2-0ubuntu0.22.04.1 Copyright (c) 2000-2021 the FFmpeg developers\n",
      "  built with gcc 11 (Ubuntu 11.2.0-19ubuntu1)\n",
      "  configuration: --prefix=/usr --extra-version=0ubuntu0.22.04.1 --toolchain=hardened --libdir=/usr/lib/x86_64-linux-gnu --incdir=/usr/include/x86_64-linux-gnu --arch=amd64 --enable-gpl --disable-stripping --enable-gnutls --enable-ladspa --enable-libaom --enable-libass --enable-libbluray --enable-libbs2b --enable-libcaca --enable-libcdio --enable-libcodec2 --enable-libdav1d --enable-libflite --enable-libfontconfig --enable-libfreetype --enable-libfribidi --enable-libgme --enable-libgsm --enable-libjack --enable-libmp3lame --enable-libmysofa --enable-libopenjpeg --enable-libopenmpt --enable-libopus --enable-libpulse --enable-librabbitmq --enable-librubberband --enable-libshine --enable-libsnappy --enable-libsoxr --enable-libspeex --enable-libsrt --enable-libssh --enable-libtheora --enable-libtwolame --enable-libvidstab --enable-libvorbis --enable-libvpx --enable-libwebp --enable-libx265 --enable-libxml2 --enable-libxvid --enable-libzimg --enable-libzmq --enable-libzvbi --enable-lv2 --enable-omx --enable-openal --enable-opencl --enable-opengl --enable-sdl2 --enable-pocketsphinx --enable-librsvg --enable-libmfx --enable-libdc1394 --enable-libdrm --enable-libiec61883 --enable-chromaprint --enable-frei0r --enable-libx264 --enable-shared\n",
      "  libavutil      56. 70.100 / 56. 70.100\n",
      "  libavcodec     58.134.100 / 58.134.100\n",
      "  libavformat    58. 76.100 / 58. 76.100\n",
      "  libavdevice    58. 13.100 / 58. 13.100\n",
      "  libavfilter     7.110.100 /  7.110.100\n",
      "  libswscale      5.  9.100 /  5.  9.100\n",
      "  libswresample   3.  9.100 /  3.  9.100\n",
      "  libpostproc    55.  9.100 / 55.  9.100\n",
      "Input #0, image2, from 'outputs/gifs/mine_craft_10_p1/%05d.png':\n",
      "  Duration: 00:00:01.04, start: 0.000000, bitrate: N/A\n",
      "  Stream #0:0: Video: png, rgba(pc), 658x670 [SAR 3937:3937 DAR 329:335], 25 fps, 25 tbr, 25 tbn, 25 tbc\n",
      "Stream mapping:\n",
      "  Stream #0:0 -> #0:0 (png (native) -> h264 (libx264))\n",
      "Press [q] to stop, [?] for help\n",
      "[libx264 @ 0x55e6fb753ec0] using SAR=1/1\n",
      "[libx264 @ 0x55e6fb753ec0] using cpu capabilities: MMX2 SSE2Fast SSSE3 SSE4.2 AVX FMA3 BMI2 AVX2\n",
      "[libx264 @ 0x55e6fb753ec0] profile High 4:4:4 Predictive, level 3.1, 4:4:4, 8-bit\n",
      "[libx264 @ 0x55e6fb753ec0] 264 - core 163 r3060 5db6aa6 - H.264/MPEG-4 AVC codec - Copyleft 2003-2021 - http://www.videolan.org/x264.html - options: cabac=1 ref=3 deblock=1:0:0 analyse=0x3:0x113 me=hex subme=7 psy=1 psy_rd=1.00:0.00 mixed_ref=1 me_range=16 chroma_me=1 trellis=1 8x8dct=1 cqm=0 deadzone=21,11 fast_pskip=1 chroma_qp_offset=4 threads=6 lookahead_threads=1 sliced_threads=0 nr=0 decimate=1 interlaced=0 bluray_compat=0 constrained_intra=0 bframes=3 b_pyramid=2 b_adapt=1 b_bias=0 direct=1 weightb=1 open_gop=0 weightp=2 keyint=250 keyint_min=3 scenecut=40 intra_refresh=0 rc_lookahead=40 rc=crf mbtree=1 crf=23.0 qcomp=0.60 qpmin=0 qpmax=69 qpstep=4 ip_ratio=1.40 aq=1:1.00\n",
      "Output #0, mp4, to 'outputs/gifs/mine_craft_10_p1.mp4':\n",
      "  Metadata:\n",
      "    encoder         : Lavf58.76.100\n",
      "  Stream #0:0: Video: h264 (avc1 / 0x31637661), yuv444p(tv, progressive), 658x670 [SAR 1:1 DAR 329:335], q=2-31, 3 fps, 12288 tbn\n",
      "    Metadata:\n",
      "      encoder         : Lavc58.134.100 libx264\n",
      "    Side data:\n",
      "      cpb: bitrate max/min/avg: 0/0/0 buffer size: 0 vbv_delay: N/A\n",
      "frame=    1 fps=0.0 q=0.0 size=       0kB time=00:00:00.00 bitrate=N/A speed=   0x    \r"
     ]
    },
    {
     "name": "stdout",
     "output_type": "stream",
     "text": [
      "Test finished with:\n",
      "\tsuccess rate: 1 / 1 = 1.0\n"
     ]
    },
    {
     "name": "stderr",
     "output_type": "stream",
     "text": [
      "frame=   26 fps=0.0 q=-1.0 Lsize=      85kB time=00:00:07.66 bitrate=  90.6kbits/s speed=18.8x    \n",
      "video:84kB audio:0kB subtitle:0kB other streams:0kB global headers:0kB muxing overhead: 1.379520%\n",
      "[libx264 @ 0x55e6fb753ec0] frame I:1     Avg QP:10.64  size: 37820\n",
      "[libx264 @ 0x55e6fb753ec0] frame P:7     Avg QP:15.89  size:  4830\n",
      "[libx264 @ 0x55e6fb753ec0] frame B:18    Avg QP:11.72  size:   742\n",
      "[libx264 @ 0x55e6fb753ec0] consecutive B-frames:  3.8%  7.7% 11.5% 76.9%\n",
      "[libx264 @ 0x55e6fb753ec0] mb I  I16..4: 49.8%  5.4% 44.8%\n",
      "[libx264 @ 0x55e6fb753ec0] mb P  I16..4:  1.2%  0.9%  4.5%  P16..4:  4.2%  1.0%  0.6%  0.0%  0.0%    skip:87.6%\n",
      "[libx264 @ 0x55e6fb753ec0] mb B  I16..4:  0.1%  0.2%  0.4%  B16..8:  9.3%  0.2%  0.0%  direct: 0.0%  skip:89.8%  L0:47.3% L1:52.7% BI: 0.0%\n",
      "[libx264 @ 0x55e6fb753ec0] 8x8 transform intra:9.2% inter:19.5%\n",
      "[libx264 @ 0x55e6fb753ec0] coded y,u,v intra: 28.0% 5.7% 6.3% inter: 0.5% 0.1% 0.1%\n",
      "[libx264 @ 0x55e6fb753ec0] i16 v,h,dc,p: 67% 30%  3%  0%\n",
      "[libx264 @ 0x55e6fb753ec0] i8 v,h,dc,ddl,ddr,vr,hd,vl,hu: 26%  8% 64%  1%  0%  0%  0%  0%  0%\n",
      "[libx264 @ 0x55e6fb753ec0] i4 v,h,dc,ddl,ddr,vr,hd,vl,hu: 31% 26% 25%  3%  2%  3%  3%  4%  2%\n",
      "[libx264 @ 0x55e6fb753ec0] Weighted P-Frames: Y:0.0% UV:0.0%\n",
      "[libx264 @ 0x55e6fb753ec0] ref P L0: 58.5%  2.5% 12.5% 26.4%\n",
      "[libx264 @ 0x55e6fb753ec0] ref B L0: 72.3% 23.8%  4.0%\n",
      "[libx264 @ 0x55e6fb753ec0] ref B L1: 97.0%  3.0%\n",
      "[libx264 @ 0x55e6fb753ec0] kb/s:78.46\n"
     ]
    }
   ],
   "source": [
    "n = 10\n",
    "gw = grid_world(name=f'mine_craft_{n}', plot=False, p=1)\n",
    "policy = np.load(f'outputs/Ours/mine_craft_{n}_p{1}.npy')\n",
    "\n",
    "episodes, rew, rew_table = run_Q_test(gw.csrl, policy, gw.LTL_formula, gw.predicates.copy(), start=(9,8), T=35, runs=1,\n",
    "                                      verbose=0, reachability=True, animation=f'outputs/gifs/mine_craft_{n}_p{gw.p}')"
   ]
  },
  {
   "cell_type": "code",
   "execution_count": null,
   "metadata": {},
   "outputs": [],
   "source": []
  }
 ],
 "metadata": {
  "kernelspec": {
   "display_name": "base",
   "language": "python",
   "name": "python3"
  },
  "language_info": {
   "codemirror_mode": {
    "name": "ipython",
    "version": 3
   },
   "file_extension": ".py",
   "mimetype": "text/x-python",
   "name": "python",
   "nbconvert_exporter": "python",
   "pygments_lexer": "ipython3",
   "version": "3.8.16"
  },
  "orig_nbformat": 4,
  "vscode": {
   "interpreter": {
    "hash": "99202338b96e74e315910b3b20b9a2b0621872c4f26ff012cceee1c9c29d9125"
   }
  }
 },
 "nbformat": 4,
 "nbformat_minor": 2
}
