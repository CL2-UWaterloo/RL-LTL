{
 "cells": [
  {
   "cell_type": "code",
   "execution_count": 1,
   "id": "32de8f6d-1359-474d-b1de-d662ff440d54",
   "metadata": {},
   "outputs": [],
   "source": [
    "%matplotlib inline\n",
    "from csrl.mdp import GridMDP\n",
    "from csrl.oa import OmegaAutomaton\n",
    "from csrl import ControlSynthesis\n",
    "import numpy as np\n",
    "from itertools import product"
   ]
  },
  {
   "cell_type": "code",
   "execution_count": 2,
   "id": "34314902-06d8-4887-9799-89e45271d468",
   "metadata": {},
   "outputs": [
    {
     "name": "stdout",
     "output_type": "stream",
     "text": [
      "Number of Omega-automaton states (including the trap state): 3\n",
      "Initial state: 0\n",
      "Transition function: [\n",
      "  {(): 0, ('a',): 1, ('c',): 2, ('a', 'c'): 2},\n",
      "  {(): 1, ('a',): 1, ('c',): 2, ('a', 'c'): 2},\n",
      "  {(): 2, ('a',): 2, ('c',): 2, ('a', 'c'): 2}\n",
      "]\n",
      "Acceptance: [\n",
      "  {(): [None], ('a',): [None], ('c',): [None], ('a', 'c'): [None]},\n",
      "  {(): [True], ('a',): [True], ('c',): [None], ('a', 'c'): [None]},\n",
      "  {(): [None], ('a',): [None], ('c',): [None], ('a', 'c'): [None]}\n",
      "]\n",
      "Epsilon actions: [\n",
      "  [],\n",
      "  [],\n",
      "  []\n",
      "]\n"
     ]
    }
   ],
   "source": [
    "# LTL Specification\n",
    "ltl = 'F a & (G !c)'\n",
    "\n",
    "# Translate the LTL formula to an LDBA\n",
    "oa = OmegaAutomaton(ltl)\n",
    "print('Number of Omega-automaton states (including the trap state):',oa.shape[1])\n",
    "print('Initial state:',oa.q0)\n",
    "print('Transition function: ['),print(*['  '+str(t) for t in oa.delta],sep=',\\n'),print(']')\n",
    "print('Acceptance: ['),print(*['  '+str(t) for t in oa.acc],sep=',\\n'),print(']')\n",
    "print('Epsilon actions: ['),print(*['  '+str(t) for t in oa.eps],sep=',\\n'), print(']');"
   ]
  },
  {
   "cell_type": "code",
   "execution_count": 70,
   "id": "85118b9d-8afb-4ce6-9d51-5a58a892e484",
   "metadata": {},
   "outputs": [
    {
     "name": "stdout",
     "output_type": "stream",
     "text": [
      "added epsilon action: (0, 0, 0, 0) 5 -> (0, 1, 0, 0)\n",
      "added epsilon action: (0, 0, 0, 0) 6 -> (0, 2, 0, 0)\n",
      "added epsilon action: (0, 0, 0, 1) 5 -> (0, 1, 0, 1)\n",
      "added epsilon action: (0, 0, 0, 1) 6 -> (0, 2, 0, 1)\n",
      "added epsilon action: (0, 0, 1, 0) 5 -> (0, 1, 1, 0)\n",
      "added epsilon action: (0, 0, 1, 0) 6 -> (0, 2, 1, 0)\n",
      "added epsilon action: (0, 0, 1, 1) 5 -> (0, 1, 1, 1)\n",
      "added epsilon action: (0, 0, 1, 1) 6 -> (0, 2, 1, 1)\n"
     ]
    },
    {
     "data": {
      "image/png": "[encoded data removed]",
      "text/plain": [
       "<Figure size 360x360 with 1 Axes>"
      ]
     },
     "metadata": {
      "needs_background": "light"
     },
     "output_type": "display_data"
    }
   ],
   "source": [
    "# MDP Description\n",
    "shape = (2,2)\n",
    "# E: Empty, T: Trap, B: Obstacle\n",
    "structure = np.array([\n",
    "['E',  'E'],\n",
    "['B',  'E']\n",
    "])\n",
    "\n",
    "# Labels of the states\n",
    "label = np.array([\n",
    "[(),       ('b',)],\n",
    "[(),       ('a',)]\n",
    "],dtype=object)\n",
    "# Colors of the labels\n",
    "lcmap={\n",
    "    ('a',):'lightgreen',\n",
    "    ('b',):'lightgreen',\n",
    "    ('c',):'pink'\n",
    "}\n",
    "grid_mdp = GridMDP(shape=shape,structure=structure,label=label,lcmap=lcmap, p=1, figsize=5)  # Use figsize=4 for smaller figures\n",
    "grid_mdp.plot()\n",
    "\n",
    "# Construct the product MDP\n",
    "csrl = ControlSynthesis(grid_mdp,oa)"
   ]
  },
  {
   "cell_type": "code",
   "execution_count": 65,
   "id": "4ff1dbde-fc09-475e-a077-159b446c6510",
   "metadata": {},
   "outputs": [
    {
     "data": {
      "text/plain": [
       "array([[ 0.,  3.],\n",
       "       [-1.,  1.]])"
      ]
     },
     "execution_count": 65,
     "metadata": {},
     "output_type": "execute_result"
    }
   ],
   "source": []
  },
  {
   "cell_type": "code",
   "execution_count": null,
   "id": "47c0e5fa-5ef4-4a65-a0a8-b4d606d2957a",
   "metadata": {},
   "outputs": [
    {
     "data": {
      "text/plain": [
       "array([[[[0.  , 0.  ],\n",
       "         [0.  , 0.  ]],\n",
       "\n",
       "        [[0.01, 0.  ],\n",
       "         [0.01, 0.01]],\n",
       "\n",
       "        [[0.  , 0.  ],\n",
       "         [0.  , 0.  ]]]])"
      ]
     },
     "execution_count": 45,
     "metadata": {},
     "output_type": "execute_result"
    }
   ],
   "source": [
    "csrl.reward"
   ]
  },
  {
   "cell_type": "code",
   "execution_count": 71,
   "id": "76fd1b28-8faa-4522-85fb-48a9738a1e4f",
   "metadata": {
    "tags": []
   },
   "outputs": [
    {
     "name": "stdout",
     "output_type": "stream",
     "text": [
      "LDBA state:\n",
      "___________________   MDP state:___________________\n",
      "        ([(0, 0, 0, 1), (0, 0, 0, 0)], [0.0, 1.0])\n",
      "        ([(0, 0, 0, 1), (0, 0, 0, 0)], [0.0, 1.0])\n",
      "        ([(0, 0, 0, 1)], [1])\n",
      "        ([(0, 0, 0, 0)], [1.0])\n",
      "        None\n",
      "        ([(0, 1, 0, 0)], [1.0])\n",
      "        ([(0, 2, 0, 0)], [1.0])\n",
      "        None\n",
      "___________________   MDP state:___________________\n",
      "        ([(0, 0, 0, 0), (0, 0, 0, 1)], [0.0, 1.0])\n",
      "        ([(0, 0, 1, 1), (0, 0, 0, 0)], [1, 0.0])\n",
      "        ([(0, 0, 1, 1), (0, 0, 0, 1)], [0.0, 1.0])\n",
      "        ([(0, 0, 1, 1), (0, 0, 0, 0)], [0.0, 1])\n",
      "        None\n",
      "        ([(0, 1, 0, 1)], [1.0])\n",
      "        ([(0, 2, 0, 1)], [1.0])\n",
      "        None\n",
      "___________________   MDP state:___________________\n",
      "        ([(0, 0, 1, 0)], array([1.]))\n",
      "        ([(0, 0, 1, 0)], array([1.]))\n",
      "        ([(0, 0, 1, 0)], array([1.]))\n",
      "        ([(0, 0, 1, 0)], array([1.]))\n",
      "        None\n",
      "        ([(0, 1, 1, 0)], [1.0])\n",
      "        ([(0, 2, 1, 0)], [1.0])\n",
      "        None\n",
      "___________________   MDP state:___________________\n",
      "        ([(0, 0, 0, 1)], [1])\n",
      "        ([(0, 0, 1, 1)], [1.0])\n",
      "        ([(0, 0, 0, 1), (0, 0, 1, 1)], [0.0, 1.0])\n",
      "        ([(0, 0, 0, 1), (0, 0, 1, 1)], [0.0, 1.0])\n",
      "        None\n",
      "        ([(0, 1, 1, 1)], [1.0])\n",
      "        ([(0, 2, 1, 1)], [1.0])\n",
      "        None\n",
      "LDBA state:\n",
      "___________________   MDP state:___________________\n",
      "        ([(0, 3, 0, 1), (0, 3, 0, 0)], [0.0, 1.0])\n",
      "        ([(0, 3, 0, 1), (0, 3, 0, 0)], [0.0, 1.0])\n",
      "        ([(0, 3, 0, 1)], [1])\n",
      "        ([(0, 3, 0, 0)], [1.0])\n",
      "        None\n",
      "        None\n",
      "        None\n",
      "        None\n",
      "___________________   MDP state:___________________\n",
      "        ([(0, 1, 0, 0), (0, 1, 0, 1)], [0.0, 1.0])\n",
      "        ([(0, 1, 1, 1), (0, 1, 0, 0)], [1, 0.0])\n",
      "        ([(0, 1, 1, 1), (0, 1, 0, 1)], [0.0, 1.0])\n",
      "        ([(0, 1, 1, 1), (0, 1, 0, 0)], [0.0, 1])\n",
      "        None\n",
      "        None\n",
      "        None\n",
      "        None\n",
      "___________________   MDP state:___________________\n",
      "        ([(0, 3, 1, 0)], array([1.]))\n",
      "        ([(0, 3, 1, 0)], array([1.]))\n",
      "        ([(0, 3, 1, 0)], array([1.]))\n",
      "        ([(0, 3, 1, 0)], array([1.]))\n",
      "        None\n",
      "        None\n",
      "        None\n",
      "        None\n",
      "___________________   MDP state:___________________\n",
      "        ([(0, 3, 0, 1)], [1])\n",
      "        ([(0, 3, 1, 1)], [1.0])\n",
      "        ([(0, 3, 0, 1), (0, 3, 1, 1)], [0.0, 1.0])\n",
      "        ([(0, 3, 0, 1), (0, 3, 1, 1)], [0.0, 1.0])\n",
      "        None\n",
      "        None\n",
      "        None\n",
      "        None\n",
      "LDBA state:\n",
      "___________________   MDP state:___________________\n",
      "        ([(0, 3, 0, 1), (0, 3, 0, 0)], [0.0, 1.0])\n",
      "        ([(0, 3, 0, 1), (0, 3, 0, 0)], [0.0, 1.0])\n",
      "        ([(0, 3, 0, 1)], [1])\n",
      "        ([(0, 3, 0, 0)], [1.0])\n",
      "        None\n",
      "        None\n",
      "        None\n",
      "        None\n",
      "___________________   MDP state:___________________\n",
      "        ([(0, 3, 0, 0), (0, 3, 0, 1)], [0.0, 1.0])\n",
      "        ([(0, 3, 1, 1), (0, 3, 0, 0)], [1, 0.0])\n",
      "        ([(0, 3, 1, 1), (0, 3, 0, 1)], [0.0, 1.0])\n",
      "        ([(0, 3, 1, 1), (0, 3, 0, 0)], [0.0, 1])\n",
      "        None\n",
      "        None\n",
      "        None\n",
      "        None\n",
      "___________________   MDP state:___________________\n",
      "        ([(0, 3, 1, 0)], array([1.]))\n",
      "        ([(0, 3, 1, 0)], array([1.]))\n",
      "        ([(0, 3, 1, 0)], array([1.]))\n",
      "        ([(0, 3, 1, 0)], array([1.]))\n",
      "        None\n",
      "        None\n",
      "        None\n",
      "        None\n",
      "___________________   MDP state:___________________\n",
      "        ([(0, 2, 0, 1)], [1])\n",
      "        ([(0, 2, 1, 1)], [1.0])\n",
      "        ([(0, 2, 0, 1), (0, 2, 1, 1)], [0.0, 1.0])\n",
      "        ([(0, 2, 0, 1), (0, 2, 1, 1)], [0.0, 1.0])\n",
      "        None\n",
      "        None\n",
      "        None\n",
      "        None\n",
      "LDBA state:\n",
      "___________________   MDP state:___________________\n",
      "        ([(0, 3, 0, 1), (0, 3, 0, 0)], [0.0, 1.0])\n",
      "        ([(0, 3, 0, 1), (0, 3, 0, 0)], [0.0, 1.0])\n",
      "        ([(0, 3, 0, 1)], [1])\n",
      "        ([(0, 3, 0, 0)], [1.0])\n",
      "        None\n",
      "        None\n",
      "        None\n",
      "        None\n",
      "___________________   MDP state:___________________\n",
      "        ([(0, 3, 0, 0), (0, 3, 0, 1)], [0.0, 1.0])\n",
      "        ([(0, 3, 1, 1), (0, 3, 0, 0)], [1, 0.0])\n",
      "        ([(0, 3, 1, 1), (0, 3, 0, 1)], [0.0, 1.0])\n",
      "        ([(0, 3, 1, 1), (0, 3, 0, 0)], [0.0, 1])\n",
      "        None\n",
      "        None\n",
      "        None\n",
      "        None\n",
      "___________________   MDP state:___________________\n",
      "        ([(0, 3, 1, 0)], array([1.]))\n",
      "        ([(0, 3, 1, 0)], array([1.]))\n",
      "        ([(0, 3, 1, 0)], array([1.]))\n",
      "        ([(0, 3, 1, 0)], array([1.]))\n",
      "        None\n",
      "        None\n",
      "        None\n",
      "        None\n",
      "___________________   MDP state:___________________\n",
      "        ([(0, 3, 0, 1)], [1])\n",
      "        ([(0, 3, 1, 1)], [1.0])\n",
      "        ([(0, 3, 0, 1), (0, 3, 1, 1)], [0.0, 1.0])\n",
      "        ([(0, 3, 0, 1), (0, 3, 1, 1)], [0.0, 1.0])\n",
      "        None\n",
      "        None\n",
      "        None\n",
      "        None\n"
     ]
    }
   ],
   "source": [
    "for j in  csrl.transition_probs[0,:]:\n",
    "    print(\"LDBA state:\")\n",
    "    for i in j:\n",
    "        for k in i:\n",
    "            print(\"___________________   MDP state:___________________\")\n",
    "            for l in k:\n",
    "                print(\"       \", l)\n",
    "            "
   ]
  },
  {
   "cell_type": "code",
   "execution_count": 68,
   "id": "4d600481-52ec-4ae6-a120-1636737b82e0",
   "metadata": {},
   "outputs": [
    {
     "data": {
      "text/plain": [
       "array([[[[[([(0, 0, 0, 1), (0, 0, 0, 0)], [0.0, 1.0]),\n",
       "           ([(0, 0, 0, 1), (0, 0, 0, 0)], [0.0, 1.0]),\n",
       "           ([(0, 0, 0, 1)], [1]), ([(0, 0, 0, 0)], [1.0]), None, None,\n",
       "           None],\n",
       "          [([(0, 2, 0, 0), (0, 2, 0, 1)], [0.0, 1.0]),\n",
       "           ([(0, 2, 1, 1), (0, 2, 0, 0)], [1, 0.0]),\n",
       "           ([(0, 2, 1, 1), (0, 2, 0, 1)], [0.0, 1.0]),\n",
       "           ([(0, 2, 1, 1), (0, 2, 0, 0)], [0.0, 1]), None, None, None]],\n",
       "\n",
       "         [[([(0, 0, 1, 0)], array([1.])),\n",
       "           ([(0, 0, 1, 0)], array([1.])),\n",
       "           ([(0, 0, 1, 0)], array([1.])),\n",
       "           ([(0, 0, 1, 0)], array([1.])), None, None, None],\n",
       "          [([(0, 1, 0, 1)], [1]), ([(0, 1, 1, 1)], [1.0]),\n",
       "           ([(0, 1, 0, 1), (0, 1, 1, 1)], [0.0, 1.0]),\n",
       "           ([(0, 1, 0, 1), (0, 1, 1, 1)], [0.0, 1.0]), None, None,\n",
       "           None]]],\n",
       "\n",
       "\n",
       "        [[[([(0, 1, 0, 1), (0, 1, 0, 0)], [0.0, 1.0]),\n",
       "           ([(0, 1, 0, 1), (0, 1, 0, 0)], [0.0, 1.0]),\n",
       "           ([(0, 1, 0, 1)], [1]), ([(0, 1, 0, 0)], [1.0]), None, None,\n",
       "           None],\n",
       "          [([(0, 2, 0, 0), (0, 2, 0, 1)], [0.0, 1.0]),\n",
       "           ([(0, 2, 1, 1), (0, 2, 0, 0)], [1, 0.0]),\n",
       "           ([(0, 2, 1, 1), (0, 2, 0, 1)], [0.0, 1.0]),\n",
       "           ([(0, 2, 1, 1), (0, 2, 0, 0)], [0.0, 1]), None, None, None]],\n",
       "\n",
       "         [[([(0, 1, 1, 0)], array([1.])),\n",
       "           ([(0, 1, 1, 0)], array([1.])),\n",
       "           ([(0, 1, 1, 0)], array([1.])),\n",
       "           ([(0, 1, 1, 0)], array([1.])), None, None, None],\n",
       "          [([(0, 1, 0, 1)], [1]), ([(0, 1, 1, 1)], [1.0]),\n",
       "           ([(0, 1, 0, 1), (0, 1, 1, 1)], [0.0, 1.0]),\n",
       "           ([(0, 1, 0, 1), (0, 1, 1, 1)], [0.0, 1.0]), None, None,\n",
       "           None]]],\n",
       "\n",
       "\n",
       "        [[[([(0, 2, 0, 1), (0, 2, 0, 0)], [0.0, 1.0]),\n",
       "           ([(0, 2, 0, 1), (0, 2, 0, 0)], [0.0, 1.0]),\n",
       "           ([(0, 2, 0, 1)], [1]), ([(0, 2, 0, 0)], [1.0]), None, None,\n",
       "           None],\n",
       "          [([(0, 2, 0, 0), (0, 2, 0, 1)], [0.0, 1.0]),\n",
       "           ([(0, 2, 1, 1), (0, 2, 0, 0)], [1, 0.0]),\n",
       "           ([(0, 2, 1, 1), (0, 2, 0, 1)], [0.0, 1.0]),\n",
       "           ([(0, 2, 1, 1), (0, 2, 0, 0)], [0.0, 1]), None, None, None]],\n",
       "\n",
       "         [[([(0, 2, 1, 0)], array([1.])),\n",
       "           ([(0, 2, 1, 0)], array([1.])),\n",
       "           ([(0, 2, 1, 0)], array([1.])),\n",
       "           ([(0, 2, 1, 0)], array([1.])), None, None, None],\n",
       "          [([(0, 2, 0, 1)], [1]), ([(0, 2, 1, 1)], [1.0]),\n",
       "           ([(0, 2, 0, 1), (0, 2, 1, 1)], [0.0, 1.0]),\n",
       "           ([(0, 2, 0, 1), (0, 2, 1, 1)], [0.0, 1.0]), None, None,\n",
       "           None]]]]], dtype=object)"
      ]
     },
     "execution_count": 68,
     "metadata": {},
     "output_type": "execute_result"
    }
   ],
   "source": [
    "csrl.transition_probs"
   ]
  },
  {
   "cell_type": "code",
   "execution_count": 67,
   "id": "072abdef-b8b6-40ac-a054-6471ec0d5b5e",
   "metadata": {},
   "outputs": [
    {
     "name": "stdout",
     "output_type": "stream",
     "text": [
      "----LDBA info----\n",
      "HOA: v1\n",
      "tool: \"owl\" \"* *\"\n",
      "Start: 0\n",
      "acc-name: Buchi\n",
      "Acceptance: 1 Inf(0)\n",
      "properties: trans-acc trans-label \n",
      "AP: 2 \"a\" \"b\"\n",
      "\n",
      "State: 0\n",
      "[t] 0\n",
      "1\n",
      "2\n",
      "State: 2\n",
      "[0] 2 {0}\n",
      "State: 1\n",
      "[1] 1 {0}\n",
      "--END--\n",
      "\n",
      "------------------\n",
      "Number of Omega-automaton states (including the trap state): 4\n",
      "Initial state: 0\n",
      "Transition function: [\n",
      "  {(): 0, ('a',): 0, ('b',): 0, ('a', 'b'): 0},\n",
      "  {(): 3, ('a',): 3, ('b',): 1, ('a', 'b'): 1},\n",
      "  {(): 3, ('a',): 2, ('b',): 3, ('a', 'b'): 2},\n",
      "  {(): 3, ('a',): 3, ('b',): 3, ('a', 'b'): 3}\n",
      "]\n",
      "Acceptance: [\n",
      "  {(): [None], ('a',): [None], ('b',): [None], ('a', 'b'): [None]},\n",
      "  {(): [None], ('a',): [None], ('b',): [True], ('a', 'b'): [True]},\n",
      "  {(): [None], ('a',): [True], ('b',): [None], ('a', 'b'): [True]},\n",
      "  {(): [None], ('a',): [None], ('b',): [None], ('a', 'b'): [None]}\n",
      "]\n",
      "Epsilon actions: [\n",
      "  [1, 2],\n",
      "  [],\n",
      "  [],\n",
      "  []\n",
      "]\n"
     ]
    }
   ],
   "source": [
    "# LTL Specification\n",
    "ltl = 'F G a | F G b'\n",
    "\n",
    "# Translate the LTL formula to an LDBA\n",
    "oa = OmegaAutomaton(ltl)\n",
    "print('Number of Omega-automaton states (including the trap state):',oa.shape[1])\n",
    "print('Initial state:',oa.q0)\n",
    "print('Transition function: ['),print(*['  '+str(t) for t in oa.delta],sep=',\\n'),print(']')\n",
    "print('Acceptance: ['),print(*['  '+str(t) for t in oa.acc],sep=',\\n'),print(']')\n",
    "print('Epsilon actions: ['),print(*['  '+str(t) for t in oa.eps],sep=',\\n'), print(']');"
   ]
  },
  {
   "cell_type": "code",
   "execution_count": null,
   "id": "b22c669a-d09e-4c7c-8b5c-1e2cc663ef19",
   "metadata": {
    "tags": []
   },
   "outputs": [
    {
     "data": {
      "text/plain": [
       "(1, 4)"
      ]
     },
     "execution_count": 9,
     "metadata": {},
     "output_type": "execute_result"
    }
   ],
   "source": [
    "oa.shape"
   ]
  },
  {
   "cell_type": "code",
   "execution_count": null,
   "id": "7034f00b-899f-487c-9568-465715912874",
   "metadata": {},
   "outputs": [],
   "source": []
  }
 ],
 "metadata": {
  "kernelspec": {
   "display_name": "Python 3 (ipykernel)",
   "language": "python",
   "name": "python3"
  },
  "language_info": {
   "codemirror_mode": {
    "name": "ipython",
    "version": 3
   },
   "file_extension": ".py",
   "mimetype": "text/x-python",
   "name": "python",
   "nbconvert_exporter": "python",
   "pygments_lexer": "ipython3",
   "version": "3.10.1"
  }
 },
 "nbformat": 4,
 "nbformat_minor": 5
}
