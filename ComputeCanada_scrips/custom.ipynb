{
 "cells": [
  {
   "cell_type": "code",
   "execution_count": 120,
   "metadata": {},
   "outputs": [],
   "source": [
    "from NN import *\n",
    "from LTL import *\n",
    "from Utility_funcs import *\n",
    "\n",
    "from csrl.mdp import GridMDP\n",
    "from csrl.oa import OmegaAutomaton\n",
    "from csrl import ControlSynthesis\n",
    "import numpy as np\n",
    "import os\n",
    "\n",
    "from matplotlib import pyplot as plt\n",
    "import time "
   ]
  },
  {
   "cell_type": "code",
   "execution_count": 123,
   "metadata": {},
   "outputs": [
    {
     "name": "stdout",
     "output_type": "stream",
     "text": [
      "Number of Omega-automaton states (including the trap state): 3\n"
     ]
    },
    {
     "data": {
      "image/png": "[encoded data removed]",
      "text/plain": [
       "<Figure size 500x500 with 1 Axes>"
      ]
     },
     "metadata": {},
     "output_type": "display_data"
    }
   ],
   "source": [
    "ltl = (\"(G !d) & (F G a)\")\n",
    "\n",
    "# Translate the LTL formula to an LDBA\n",
    "oa = OmegaAutomaton(ltl)\n",
    "print('Number of Omega-automaton states (including the trap state):',oa.shape[1])\n",
    "\n",
    "# MDP Description\n",
    "shape = (5,3)\n",
    "# E: Empty, T: Trap, B: Obstacle\n",
    "structure = np.array([\n",
    "['E',  'T',  'E'],\n",
    "['E',  'E',  'E'],\n",
    "['E',  'E',  'E'],\n",
    "['E',  'E',  'E'],\n",
    "['E',  'E',  'E'],\n",
    "])\n",
    "\n",
    "# Labels of the states\n",
    "label = np.array([\n",
    "[(),    ('a',),   ()],\n",
    "[(),    ('d',),   ()],\n",
    "[(),    ('d',),   ()],\n",
    "[(),    ('d',),   ()],\n",
    "[(),    (),   ()],\n",
    "],dtype=object)\n",
    "# Colors of the labels \n",
    "lcmap={\n",
    "    ('a',):'yellow',\n",
    "    ('b',):'greenyellow',\n",
    "    ('c',):'turquoise',\n",
    "    ('d',):'pink'\n",
    "}\n",
    "# u, d, r, l = moves\n",
    "p = 0.7\n",
    "grid_mdp = GridMDP(shape=shape,structure=structure,label=label,lcmap=lcmap, p=p, figsize=5)  # Use figsize=4 for smaller figures\n",
    "grid_mdp.plot(save=\"env.pdf\")\n",
    "\n",
    "# Construct the product MDP\n",
    "csrl = ControlSynthesis(grid_mdp,oa)\n",
    "max_rew = round(csrl.reward.max(), 3)\n",
    "\n",
    "s_vectors = state_vectors(csrl)\n",
    "enc = list(np.unique(grid_mdp.label))\n",
    "enc.pop(enc.index(()))\n",
    "ch_states = channeled(csrl, enc)\n",
    "total_number_of_states = csrl.mdp.shape[0]*csrl.mdp.shape[1]*csrl.oa.shape[1]"
   ]
  },
  {
   "cell_type": "code",
   "execution_count": 124,
   "metadata": {},
   "outputs": [
    {
     "name": "stdout",
     "output_type": "stream",
     "text": [
      "{'a': [1], 'd': [4, 7, 10]}\n"
     ]
    }
   ],
   "source": [
    "t = \"[] ~d /\\ (<> [] a)\"\n",
    "\n",
    "LTL_formula = parser.parse(t)\n",
    "predicates=get_predicates(grid_mdp)\n",
    "print(predicates)"
   ]
  },
  {
   "cell_type": "code",
   "execution_count": 125,
   "metadata": {},
   "outputs": [],
   "source": [
    "model = build_model(ch_states[(0,0,0,0)].shape, csrl.shape[-1])\n",
    "N, W, Q, P, visited = np.zeros(csrl.shape), np.zeros(csrl.shape), np.zeros(csrl.shape), np.zeros(csrl.shape), set()\n",
    "# model.summary()"
   ]
  },
  {
   "cell_type": "code",
   "execution_count": 126,
   "metadata": {},
   "outputs": [
    {
     "data": {
      "text/plain": [
       "([(0, 2, 2, 1), (0, 2, 0, 1), (0, 2, 1, 0)],\n",
       " [0.15000000000000002, 0.15000000000000002, 0.7])"
      ]
     },
     "execution_count": 126,
     "metadata": {},
     "output_type": "execute_result"
    }
   ],
   "source": [
    "csrl.transition_probs[(0,0,1,1)][3]"
   ]
  },
  {
   "cell_type": "code",
   "execution_count": 130,
   "metadata": {},
   "outputs": [
    {
     "name": "stdout",
     "output_type": "stream",
     "text": [
      "C: 0.01 | tow: 1\n",
      "Train wins: 0 / 0\n",
      "None ) MCTS conf: -480.86 , det: 0.87 | LTL [+++]  LDBA [ 0.25 ] path: [13, 12, 9, 9, 9, 9, 6, 3, 0, 1, 1, 1, 1, 1, 1, 1, 1, 1, 1, 1, 1, 1, 1, 1, 1, 1, 1, 1, 1, 1, 1, 1, 1, 1, 1]\n",
      "None ) MCTS conf: -465.68 , det: 0.95 | LTL [+++]  LDBA [ 0.08 ] path: [13, 14, 11, 11, 11, 11, 11, 14, 11, 11, 11, 11, 11, 8, 8, 5, 5, 5, 2, 2, 5, 5, 5, 5, 5, 2, 1, 1, 1, 1, 1, 1, 1, 1, 1]\n",
      "None ) MCTS conf: -451.97 , det: 0.98 | LTL [+++]  LDBA [ 0.08 ] path: [13, 14, 11, 14, 11, 11, 11, 11, 11, 11, 14, 11, 11, 11, 11, 11, 11, 8, 5, 5, 2, 5, 5, 5, 5, 2, 1, 1, 1, 1, 1, 1, 1, 1, 1]\n",
      "None ) MCTS conf: -479.94 , det: 0.99 | LTL [---]  LDBA [ 0.0 ] path: [13, 10]\n",
      "None ) MCTS conf: -460.32 , det: 0.99 | LTL [---]  LDBA [ 0.0 ] path: [13, 14, 11, 11, 11, 11, 11, 11, 11, 14, 11, 8, 7]\n",
      "None ) MCTS conf: -444.12 , det: 0.99 | LTL [+++]  LDBA [ 0.26 ] path: [13, 13, 14, 11, 11, 8, 5, 2, 1, 1, 1, 1, 1, 1, 1, 1, 1, 1, 1, 1, 1, 1, 1, 1, 1, 1, 1, 1, 1, 1, 1, 1, 1, 1, 1]\n",
      "None ) MCTS conf: -470.98 , det: 0.99 | LTL [+++]  LDBA [ 0.21 ] path: [13, 14, 13, 14, 11, 11, 8, 5, 5, 5, 5, 5, 2, 1, 1, 1, 1, 1, 1, 1, 1, 1, 1, 1, 1, 1, 1, 1, 1, 1, 1, 1, 1, 1, 1]\n",
      "None ) MCTS conf: -418.27 , det: 0.99 | LTL [---]  LDBA [ 0.0 ] path: [13, 13, 13, 14, 11, 11, 8, 5, 2, 5, 5, 5, 5, 5, 5, 5, 8, 5, 5, 5, 5, 5, 5, 5, 8, 5, 5, 8, 8, 7]\n",
      "None ) MCTS conf: -480.21 , det: 0.99 | LTL [+++]  LDBA [ 0.11 ] path: [13, 14, 11, 11, 11, 11, 11, 11, 14, 11, 11, 8, 5, 5, 5, 5, 5, 8, 8, 5, 5, 5, 2, 1, 1, 1, 1, 1, 1, 1, 1, 1, 1, 1, 1]\n",
      "None ) MCTS conf: -464.64 , det: 0.99 | LTL [+++]  LDBA [ 0.26 ] path: [13, 14, 14, 11, 8, 5, 5, 2, 1, 1, 1, 1, 1, 1, 1, 1, 1, 1, 1, 1, 1, 1, 1, 1, 1, 1, 1, 1, 1, 1, 1, 1, 1, 1, 1]\n",
      "None ) MCTS conf: -444.18 , det: 0.99 | LTL [+++]  LDBA [ 0.04 ] path: [13, 14, 11, 11, 11, 11, 11, 11, 11, 11, 11, 11, 14, 11, 11, 11, 14, 11, 8, 5, 5, 5, 8, 5, 8, 5, 5, 5, 5, 2, 1, 1, 1, 1, 1]\n",
      "None ) MCTS conf: -451.16 , det: 1.0 | LTL [---]  LDBA [ 0.0 ] path: [13, 14, 11, 11, 11, 11, 11, 11, 14, 13, 14, 11, 11, 11, 11, 11, 11, 11, 14, 11, 11, 8, 5, 8, 5, 2, 2, 5, 8, 7]\n",
      "None ) MCTS conf: -446.14 , det: 1.0 | LTL [---]  LDBA [ 0.0 ] path: [13, 10]\n",
      "None ) MCTS conf: -476.12 , det: 1.0 | LTL [---]  LDBA [ 0.0 ] path: [13, 10]\n",
      "None ) MCTS conf: -461.41 , det: 1.0 | LTL [---]  LDBA [ 0.0 ] path: [13, 10]\n",
      "None ) MCTS conf: -461.3 , det: 1.0 | LTL [+++]  LDBA [ 0.17 ] path: [13, 14, 13, 14, 11, 8, 5, 2, 5, 5, 5, 5, 8, 5, 5, 5, 2, 1, 1, 1, 1, 1, 1, 1, 1, 1, 1, 1, 1, 1, 1, 1, 1, 1, 1]\n",
      "None ) MCTS conf: -446.46 , det: 1.0 | LTL [+++]  LDBA [ 0.18 ] path: [13, 14, 11, 11, 11, 11, 14, 11, 8, 5, 5, 5, 8, 5, 5, 2, 1, 1, 1, 1, 1, 1, 1, 1, 1, 1, 1, 1, 1, 1, 1, 1, 1, 1, 1]\n",
      "None ) MCTS conf: -441.3 , det: 1.0 | LTL [---]  LDBA [ 0.0 ] path: [13, 14, 13, 14, 11, 8, 7]\n",
      "None ) MCTS conf: -472.32 , det: 1.0 | LTL [---]  LDBA [ 0.0 ] path: [13, 10]\n",
      "None ) MCTS conf: -465.99 , det: 1.0 | LTL [+++]  LDBA [ 0.05 ] path: [13, 14, 11, 11, 14, 13, 14, 14, 11, 11, 11, 11, 11, 11, 11, 8, 5, 5, 5, 5, 8, 8, 5, 2, 2, 5, 5, 5, 2, 1, 1, 1, 1, 1, 1]\n",
      "None ) MCTS conf: -476.34 , det: 1.0 | LTL [---]  LDBA [ 0.0 ] path: [13, 10]\n",
      "None ) MCTS conf: -471.52 , det: 1.0 | LTL [+++]  LDBA [ 0.19 ] path: [13, 14, 11, 11, 11, 11, 11, 8, 8, 5, 8, 5, 5, 5, 2, 1, 1, 1, 1, 1, 1, 1, 1, 1, 1, 1, 1, 1, 1, 1, 1, 1, 1, 1, 1]\n",
      "None ) MCTS conf: -460.36 , det: 1.0 | LTL [+++]  LDBA [ 0.12 ] path: [13, 14, 13, 14, 14, 11, 11, 11, 11, 14, 11, 11, 11, 11, 11, 11, 8, 5, 5, 5, 5, 2, 1, 1, 1, 1, 1, 1, 1, 1, 1, 1, 1, 1, 1]\n",
      "None ) MCTS conf: -480.83 , det: 1.0 | LTL [+++]  LDBA [ 0.08 ] path: [13, 13, 14, 11, 14, 11, 11, 11, 11, 11, 11, 11, 8, 5, 5, 5, 8, 5, 5, 5, 5, 5, 5, 5, 5, 2, 1, 1, 1, 1, 1, 1, 1, 1, 1]\n",
      "None ) MCTS conf: -467.26 , det: 1.0 | LTL [+++]  LDBA [ 0.22 ] path: [13, 14, 11, 11, 11, 11, 11, 11, 11, 8, 5, 2, 1, 1, 1, 1, 1, 1, 1, 1, 1, 1, 1, 1, 1, 1, 1, 1, 1, 1, 1, 1, 1, 1, 1]\n",
      "None ) MCTS conf: -448.63 , det: 1.0 | LTL [---]  LDBA [ 0.0 ] path: [13, 14, 11, 8, 5, 8, 7]\n",
      "None ) MCTS conf: -438.74 , det: 1.0 | LTL [---]  LDBA [ 0.0 ] path: [13, 14, 13, 10]\n",
      "None ) MCTS conf: -455.57 , det: 1.0 | LTL [---]  LDBA [ 0.0 ] path: [13, 10]\n",
      "None ) MCTS conf: -398.75 , det: 1.0 | LTL [---]  LDBA [ 0.0 ] path: [13, 14, 13, 14, 11, 11, 11, 11, 14, 14, 11, 14, 11, 8, 7]\n",
      "None ) MCTS conf: -447.97 , det: 1.0 | LTL [+++]  LDBA [ 0.24 ] path: [13, 14, 11, 8, 5, 5, 5, 5, 5, 2, 1, 1, 1, 1, 1, 1, 1, 1, 1, 1, 1, 1, 1, 1, 1, 1, 1, 1, 1, 1, 1, 1, 1, 1, 1]\n",
      "None ) MCTS conf: -445.58 , det: 1.0 | LTL [---]  LDBA [ 0.0 ] path: [13, 13, 10]\n",
      "None ) MCTS conf: -454.36 , det: 1.0 | LTL [---]  LDBA [ 0.0 ] path: [13, 14, 13, 14, 13, 13, 14, 13, 10]\n",
      "None ) MCTS conf: -444.17 , det: 1.0 | LTL [---]  LDBA [ 0.0 ] path: [13, 14, 11, 8, 5, 5, 8, 5, 8, 7]\n",
      "None ) MCTS conf: -456.02 , det: 1.0 | LTL [---]  LDBA [ 0.0 ] path: [13, 10]\n",
      "None ) MCTS conf: -475.95 , det: 1.0 | LTL [+++]  LDBA [ 0.09 ] path: [13, 14, 11, 11, 8, 5, 2, 5, 5, 5, 8, 8, 5, 5, 5, 5, 5, 5, 5, 5, 8, 5, 5, 2, 2, 1, 1, 1, 1, 1, 1, 1, 1, 1, 1]\n",
      "None ) MCTS conf: -446.63 , det: 1.0 | LTL [---]  LDBA [ 0.0 ] path: [13, 14, 11, 11, 11, 11, 11, 11, 14, 11, 14, 11, 8, 8, 7]\n",
      "None ) MCTS conf: -469.45 , det: 1.0 | LTL [---]  LDBA [ 0.0 ] path: [13, 14, 11, 11, 14, 11, 11, 8, 5, 5, 8, 7]\n",
      "None ) MCTS conf: -455.79 , det: 1.0 | LTL [---]  LDBA [ 0.0 ] path: [13, 14, 11, 14, 14, 11, 11, 11, 11, 11, 11, 11, 11, 11, 11, 11, 11, 11, 11, 11, 11, 11, 11, 14, 14, 11, 11, 11, 11, 11, 11, 14, 11, 8, 5]\n",
      "None ) MCTS conf: -438.97 , det: 1.0 | LTL [---]  LDBA [ 0.0 ] path: [13, 14, 11, 14, 11, 14, 11, 14, 14, 11, 8, 5, 8, 5, 5, 5, 5, 5, 8, 5, 5, 5, 5, 8, 7]\n",
      "None ) MCTS conf: -474.05 , det: 1.0 | LTL [+++]  LDBA [ 0.19 ] path: [13, 14, 13, 14, 11, 11, 11, 11, 8, 5, 5, 5, 5, 5, 2, 1, 1, 1, 1, 1, 1, 1, 1, 1, 1, 1, 1, 1, 1, 1, 1, 1, 1, 1, 1]\n",
      "None ) MCTS conf: -458.44 , det: 1.0 | LTL [---]  LDBA [ 0.0 ] path: [13, 10]\n",
      "None ) MCTS conf: -469.37 , det: 1.0 | LTL [+++]  LDBA [ 0.12 ] path: [13, 14, 11, 11, 8, 5, 5, 5, 5, 5, 5, 5, 5, 5, 5, 5, 5, 5, 5, 5, 5, 2, 1, 1, 1, 1, 1, 1, 1, 1, 1, 1, 1, 1, 1]\n",
      "None ) MCTS conf: -475.22 , det: 1.0 | LTL [+++]  LDBA [ 0.27 ] path: [13, 14, 11, 8, 5, 2, 2, 1, 1, 1, 1, 1, 1, 1, 1, 1, 1, 1, 1, 1, 1, 1, 1, 1, 1, 1, 1, 1, 1, 1, 1, 1, 1, 1, 1]\n",
      "None ) MCTS conf: -472.51 , det: 1.0 | LTL [+++]  LDBA [ 0.23 ] path: [13, 14, 11, 14, 11, 11, 8, 5, 5, 2, 2, 1, 1, 1, 1, 1, 1, 1, 1, 1, 1, 1, 1, 1, 1, 1, 1, 1, 1, 1, 1, 1, 1, 1, 1]\n",
      "None ) MCTS conf: -470.67 , det: 1.0 | LTL [---]  LDBA [ 0.0 ] path: [13, 13, 14, 11, 11, 11, 14, 11, 14, 11, 14, 11, 14, 11, 11, 11, 11, 11, 14, 11, 14, 11, 8, 7]\n",
      "None ) MCTS conf: -459.44 , det: 1.0 | LTL [+++]  LDBA [ 0.23 ] path: [13, 14, 11, 11, 11, 8, 5, 5, 5, 5, 2, 1, 1, 1, 1, 1, 1, 1, 1, 1, 1, 1, 1, 1, 1, 1, 1, 1, 1, 1, 1, 1, 1, 1, 1]\n",
      "None ) MCTS conf: -489.75 , det: 1.0 | "
     ]
    },
    {
     "ename": "KeyboardInterrupt",
     "evalue": "",
     "output_type": "error",
     "traceback": [
      "\u001b[1;31m---------------------------------------------------------------------------\u001b[0m",
      "\u001b[1;31mKeyboardInterrupt\u001b[0m                         Traceback (most recent call last)",
      "Cell \u001b[1;32mIn[130], line 78\u001b[0m\n\u001b[0;32m     75\u001b[0m N, W, Q, P, visited_test \u001b[39m=\u001b[39m np\u001b[39m.\u001b[39mzeros(csrl\u001b[39m.\u001b[39mshape), np\u001b[39m.\u001b[39mzeros(csrl\u001b[39m.\u001b[39mshape), np\u001b[39m.\u001b[39mzeros(csrl\u001b[39m.\u001b[39mshape), np\u001b[39m.\u001b[39mzeros(csrl\u001b[39m.\u001b[39mshape), \u001b[39mset\u001b[39m()\n\u001b[0;32m     76\u001b[0m \u001b[39mfor\u001b[39;00m epoch \u001b[39min\u001b[39;00m \u001b[39mrange\u001b[39m(num_test_epochs):\n\u001b[1;32m---> 78\u001b[0m     state_history, channeled_states, trajectory, action_history, reward_history, better_policy \u001b[39m=\u001b[39m MC_learning(csrl, model, LTL_formula,\n\u001b[0;32m     79\u001b[0m             predicates, csrl\u001b[39m.\u001b[39;49mreward, ch_states, N \u001b[39m=\u001b[39;49m N, W \u001b[39m=\u001b[39;49m W, Q \u001b[39m=\u001b[39;49m Q, P \u001b[39m=\u001b[39;49m P, C\u001b[39m=\u001b[39;49m\u001b[39m1\u001b[39;49m, tow\u001b[39m=\u001b[39;49m\u001b[39m1\u001b[39;49m, n_samples\u001b[39m=\u001b[39;49mMCTS_samples, visited\u001b[39m=\u001b[39;49mvisited_test,\n\u001b[0;32m     80\u001b[0m             start\u001b[39m=\u001b[39;49m(\u001b[39m4\u001b[39;49m,\u001b[39m1\u001b[39;49m), search_depth\u001b[39m=\u001b[39;49msearch_depth, verbose\u001b[39m=\u001b[39;49m\u001b[39m0\u001b[39;49m, T\u001b[39m=\u001b[39;49mi, K\u001b[39m=\u001b[39;49m\u001b[39m1\u001b[39;49m, NN_value_active\u001b[39m=\u001b[39;49m\u001b[39mTrue\u001b[39;49;00m)\n\u001b[0;32m     82\u001b[0m     \u001b[39m# win = check_LTL(LTL_formula, trajectory, predicates)[0]\u001b[39;00m\n\u001b[0;32m     83\u001b[0m     win \u001b[39m=\u001b[39m reward_history[\u001b[39m-\u001b[39m\u001b[39m1\u001b[39m]\n",
      "File \u001b[1;32mc:\\Users\\pc-admin\\OneDrive - University of Waterloo\\MSc\\research\\Code\\RL-LTL\\ComputeCanada_scrips\\Utility_funcs.py:130\u001b[0m, in \u001b[0;36mMC_learning\u001b[1;34m(csrl, model, LTL_formula, predicates, rewards, ch_states, C, tow, n_samples, search_depth, N, W, Q, P, verbose, visited, start, T, K, run_num, ltl_f_rew, NN_value_active)\u001b[0m\n\u001b[0;32m    126\u001b[0m MCST_depth \u001b[39m=\u001b[39m \u001b[39mmin\u001b[39m(T\u001b[39m-\u001b[39mt\u001b[39m-\u001b[39m\u001b[39m1\u001b[39m, search_depth)\n\u001b[0;32m    127\u001b[0m \u001b[39m# print(MCST_depth)\u001b[39;00m\n\u001b[0;32m    128\u001b[0m \u001b[39m# Choose Action\u001b[39;00m\n\u001b[0;32m    129\u001b[0m \u001b[39m# print(t+1,\")\",\"Depth:\",MCST_depth,end=\" | \")\u001b[39;00m\n\u001b[1;32m--> 130\u001b[0m Pi, acc_value \u001b[39m=\u001b[39m MCTS(csrl, model, state, LTL_formula, predicates, trajectory[:\u001b[39m-\u001b[39;49m\u001b[39m1\u001b[39;49m], state_history[:\u001b[39m-\u001b[39;49m\u001b[39m1\u001b[39;49m], rewards, ch_states, N, W, Q, P, visited,\n\u001b[0;32m    131\u001b[0m                 n_samples\u001b[39m=\u001b[39;49mn_samples, depth\u001b[39m=\u001b[39;49mMCST_depth, tow\u001b[39m=\u001b[39;49mtow, C\u001b[39m=\u001b[39;49mC, ltl_f_rew\u001b[39m=\u001b[39;49mltl_f_rew, NN_value_active\u001b[39m=\u001b[39;49mNN_value_active)\n\u001b[0;32m    132\u001b[0m \u001b[39mif\u001b[39;00m t\u001b[39m==\u001b[39m\u001b[39m0\u001b[39m: \u001b[39mprint\u001b[39m(run_num, \u001b[39m\"\u001b[39m\u001b[39m) MCTS conf:\u001b[39m\u001b[39m\"\u001b[39m, \u001b[39mround\u001b[39m(acc_value, \u001b[39m2\u001b[39m), \u001b[39m\"\u001b[39m\u001b[39m, det:\u001b[39m\u001b[39m\"\u001b[39m, \u001b[39mround\u001b[39m(Pi\u001b[39m.\u001b[39mmax(), \u001b[39m2\u001b[39m), end\u001b[39m=\u001b[39m\u001b[39m\"\u001b[39m\u001b[39m | \u001b[39m\u001b[39m\"\u001b[39m)\n\u001b[0;32m    133\u001b[0m \u001b[39mif\u001b[39;00m acc_value\u001b[39m>\u001b[39m\u001b[39m0\u001b[39m: NN_value_active \u001b[39m=\u001b[39m \u001b[39mTrue\u001b[39;00m\n",
      "File \u001b[1;32mc:\\Users\\pc-admin\\OneDrive - University of Waterloo\\MSc\\research\\Code\\RL-LTL\\ComputeCanada_scrips\\Utility_funcs.py:298\u001b[0m, in \u001b[0;36mMCTS\u001b[1;34m(csrl, model, root, LTL_formula, predicates, trajectory, episode, rewards, ch_states, N, W, Q, P, visited, n_samples, tow, C, depth, ltl_f_rew, NN_value_active, foo)\u001b[0m\n\u001b[0;32m    296\u001b[0m acc_value \u001b[39m=\u001b[39m \u001b[39m0\u001b[39m\n\u001b[0;32m    297\u001b[0m \u001b[39mfor\u001b[39;00m sample \u001b[39min\u001b[39;00m \u001b[39mrange\u001b[39m(n_samples):\n\u001b[1;32m--> 298\u001b[0m     acc_value \u001b[39m+\u001b[39m\u001b[39m=\u001b[39m MCTS_rec(csrl, model, root, LTL_formula, trajectory\u001b[39m.\u001b[39;49mcopy(), episode\u001b[39m.\u001b[39;49mcopy(), predicates, rewards, ch_states, N, W, Q, P, visited\u001b[39m=\u001b[39;49mvisited, C\u001b[39m=\u001b[39;49mC, depth\u001b[39m=\u001b[39;49mdepth, ltl_f_rew\u001b[39m=\u001b[39;49mltl_f_rew, NN_value_active\u001b[39m=\u001b[39;49mNN_value_active, foo\u001b[39m=\u001b[39;49mfoo)\n\u001b[0;32m    300\u001b[0m Pi \u001b[39m=\u001b[39m (N[root]\u001b[39m*\u001b[39m\u001b[39m*\u001b[39m(\u001b[39m1\u001b[39m\u001b[39m/\u001b[39mtow)) \u001b[39m/\u001b[39m np\u001b[39m.\u001b[39msum(N[root]\u001b[39m*\u001b[39m\u001b[39m*\u001b[39m(\u001b[39m1\u001b[39m\u001b[39m/\u001b[39mtow))\n\u001b[0;32m    302\u001b[0m \u001b[39mif\u001b[39;00m \u001b[39many\u001b[39m(np\u001b[39m.\u001b[39misnan(Pi)): \u001b[39m# for debugging puposes\u001b[39;00m\n",
      "File \u001b[1;32mc:\\Users\\pc-admin\\OneDrive - University of Waterloo\\MSc\\research\\Code\\RL-LTL\\ComputeCanada_scrips\\Utility_funcs.py:285\u001b[0m, in \u001b[0;36mMCTS_rec\u001b[1;34m(csrl, model, root, LTL_formula, trajectory, episode, predicates, rewards, ch_states, N, W, Q, P, visited, C, depth, random_move_chance, ltl_f_rew, NN_value_active, foo)\u001b[0m\n\u001b[0;32m    282\u001b[0m     \u001b[39mprint\u001b[39m(\u001b[39m\"\u001b[39m\u001b[39mnext move:\u001b[39m\u001b[39m\"\u001b[39m, next_move)\n\u001b[0;32m    283\u001b[0m     \u001b[39mprint\u001b[39m(\u001b[39m\"\u001b[39m\u001b[39mcsrl.transition_probs[root]\u001b[39m\u001b[39m\"\u001b[39m, csrl\u001b[39m.\u001b[39mtransition_probs[root])\n\u001b[1;32m--> 285\u001b[0m next_state \u001b[39m=\u001b[39m states[np\u001b[39m.\u001b[39;49mrandom\u001b[39m.\u001b[39;49mchoice(\u001b[39mlen\u001b[39;49m(states),p\u001b[39m=\u001b[39;49mprobs)]\n\u001b[0;32m    287\u001b[0m \u001b[39m### expanding the next move and back tracking ###\u001b[39;00m\n\u001b[0;32m    288\u001b[0m value \u001b[39m=\u001b[39m MCTS_rec(csrl, model, next_state, LTL_formula, trajectory, episode, predicates, rewards, ch_states, N, W, Q, P, visited\u001b[39m=\u001b[39mvisited, C\u001b[39m=\u001b[39mC, depth\u001b[39m=\u001b[39mdepth\u001b[39m-\u001b[39m\u001b[39m1\u001b[39m, ltl_f_rew\u001b[39m=\u001b[39m ltl_f_rew, NN_value_active\u001b[39m=\u001b[39mNN_value_active, foo\u001b[39m=\u001b[39m\u001b[39m0\u001b[39m)\n",
      "\u001b[1;31mKeyboardInterrupt\u001b[0m: "
     ]
    }
   ],
   "source": [
    "visited_states_train = []\n",
    "visited_states_test = []\n",
    "LTL_coef = 10\n",
    "\n",
    "search_depth = 30\n",
    "MCTS_samples = 1000\n",
    "\n",
    "num_training_epochs =  0\n",
    "num_test_epochs = 100\n",
    "training = True\n",
    "epochs = 10\n",
    "Cs = [0.01, 0.1, 1]\n",
    "tows = [0.1, 0.5, 1]\n",
    "T = [35]\n",
    "K = 1\n",
    "batch_size = 32\n",
    "steps_per_epoch = 4\n",
    "idx = 0\n",
    "success_rates = []\n",
    "succes_std = []\n",
    "win_hist = []\n",
    "train_history = []\n",
    "\n",
    "os.remove(\"Log_run.txt\")\n",
    "for i in T:\n",
    "    # C , tow = Cs[idx % 3], tows[idx // 3]\n",
    "    C , tow = 0.01, 1\n",
    "    print(\"C:\",C, \"| tow:\",tow)\n",
    "    idx += 1\n",
    "    # TRAIN ##############################\n",
    "    train_wins = 0\n",
    "    # num_training_epochs = int(200 - 1.9*i)\n",
    "    # model = build_model(ch_states[(0,0,0,0)].shape, csrl.shape[-1])\n",
    "    N, W, Q, P, visited_train = np.zeros(csrl.shape), np.zeros(csrl.shape), np.zeros(csrl.shape), np.zeros(csrl.shape), set()\n",
    "    for epoch in range(num_training_epochs):\n",
    "        t1 = time.time()\n",
    "        print(Q[(0,0,4,1)][:4], len(visited_train))\n",
    "        state_history, channeled_states, trajectory, action_history, reward_history, better_policy = MC_learning(csrl, model, LTL_formula,\n",
    "                predicates, csrl.reward, ch_states, N = N, W = W, Q = Q, P = P, C=C, tow=tow, n_samples=MCTS_samples, visited=visited_train,\n",
    "                start=(4,1), search_depth=search_depth, verbose=0, T=i, K=K, run_num=epoch, ltl_f_rew=False)\n",
    "        \n",
    "        # print('N',N[(0,0,4,1)][:5])\n",
    "        visited_states_train += state_history\n",
    "        t2 = time.time()\n",
    "        # print(t2-t1, \" run episode\")\n",
    "\n",
    "        # win = check_LTL(LTL_formula, trajectory, predicates)[0]\n",
    "        if reward_history[-1]>0: train_wins+=1\n",
    "\n",
    "        if training and len(action_history)>0:\n",
    "            if epoch==0:\n",
    "                x_train = np.array(channeled_states)[:-1]\n",
    "                y1_train = np.array(better_policy)\n",
    "                y2_train = np.array(reward_history) + LTL_coef*reward_history[-1]\n",
    "                # y2_train = np.array(reward_history)\n",
    "                y2_train = y2_train[:-1]\n",
    "            else:\n",
    "                x_train = np.concatenate((x_train, np.array(channeled_states)[:-1]),0)\n",
    "                y1_train = np.concatenate((y1_train, np.array(better_policy)),0)\n",
    "                y2_train_curr = np.array(reward_history) + LTL_coef*reward_history[-1]\n",
    "                # y2_train_curr = np.array(reward_history)\n",
    "                y2_train = np.concatenate((y2_train, y2_train_curr[:-1]),0)\n",
    "            t3= time.time()\n",
    "            # print(t3-t2, \" build database\")\n",
    "            tr_hist = model.fit(x_train, [y1_train, y2_train], epochs=epochs, batch_size=batch_size,\n",
    "                                steps_per_epoch=steps_per_epoch if len(x_train)>steps_per_epoch*epochs*batch_size else None, verbose=0)\n",
    "            train_history += tr_hist.history['loss']\n",
    "        # win_hist.append(win)\n",
    "        t4 = time.time()\n",
    "        # print(t4-t3, \"fit\", len(x_train))\n",
    "    print(\"Train wins:\",train_wins,\"/\", num_training_epochs)\n",
    "\n",
    "    # TEST ##############################\n",
    "    test_wins = 0\n",
    "    N, W, Q, P, visited_test = np.zeros(csrl.shape), np.zeros(csrl.shape), np.zeros(csrl.shape), np.zeros(csrl.shape), set()\n",
    "    for epoch in range(num_test_epochs):\n",
    "        \n",
    "        state_history, channeled_states, trajectory, action_history, reward_history, better_policy = MC_learning(csrl, model, LTL_formula,\n",
    "                predicates, csrl.reward, ch_states, N = N, W = W, Q = Q, P = P, C=1, tow=1, n_samples=MCTS_samples, visited=visited_test,\n",
    "                start=(4,1), search_depth=search_depth, verbose=0, T=i, K=1, NN_value_active=True)\n",
    "\n",
    "        # win = check_LTL(LTL_formula, trajectory, predicates)[0]\n",
    "        win = reward_history[-1]\n",
    "        if win: test_wins+=1\n",
    "        win_hist.append(win)\n",
    "        visited_states_test += state_history\n",
    "        \n",
    "    success_rates.append(100*test_wins/num_test_epochs)\n",
    "    temp = np.zeros(num_test_epochs)\n",
    "    temp[:test_wins]=1\n",
    "    std = np.sqrt(num_test_epochs*np.var(temp))\n",
    "    succes_std.append((success_rates[-1]-std, success_rates[-1]+std))\n",
    "    ###############################################################\n",
    "    print(\"Test wins:\",test_wins,\"/\",num_test_epochs)\n",
    "    # print(\"last reward:\", reward_history[-1], \"  | trajectory:\", trajectory)\n",
    "    # print(\"Actions:\", action_history)\n",
    "\n",
    "encode_visited_states_test = [i[1]*csrl.shape[-2]*csrl.shape[-3]+i[2]*csrl.shape[-2]+i[3] for i in visited_states_test]\n",
    "encode_visited_states_train = [i[1]*csrl.shape[-2]*csrl.shape[-3]+i[2]*csrl.shape[-2]+i[3] for i in visited_states_train]\n",
    "\n",
    "# u, d, r, l"
   ]
  },
  {
   "cell_type": "code",
   "execution_count": null,
   "metadata": {},
   "outputs": [],
   "source": [
    "# u, d, r, l"
   ]
  },
  {
   "cell_type": "code",
   "execution_count": 81,
   "metadata": {},
   "outputs": [
    {
     "data": {
      "text/plain": [
       "array([[[[0.  , 0.  , 0.  ],\n",
       "         [0.  , 0.  , 0.  ],\n",
       "         [0.  , 0.  , 0.  ]],\n",
       "\n",
       "        [[0.  , 0.01, 0.  ],\n",
       "         [0.  , 0.  , 0.  ],\n",
       "         [0.  , 0.  , 0.  ]],\n",
       "\n",
       "        [[0.  , 0.  , 0.  ],\n",
       "         [0.  , 0.  , 0.  ],\n",
       "         [0.  , 0.  , 0.  ]]]])"
      ]
     },
     "execution_count": 81,
     "metadata": {},
     "output_type": "execute_result"
    }
   ],
   "source": [
    "csrl.reward"
   ]
  },
  {
   "cell_type": "code",
   "execution_count": 84,
   "metadata": {},
   "outputs": [
    {
     "name": "stdout",
     "output_type": "stream",
     "text": [
      "[0. 0. 0. 0. 0. 0. 0.]\n",
      "[0. 0. 0. 0. 0. 0. 0.]\n"
     ]
    }
   ],
   "source": [
    "state = (0, 1, 0, 1)\n",
    "print(Q[state])\n",
    "print(N[state])\n",
    "csrl.transition_probs[state][5]"
   ]
  },
  {
   "cell_type": "code",
   "execution_count": null,
   "metadata": {},
   "outputs": [],
   "source": []
  }
 ],
 "metadata": {
  "kernelspec": {
   "display_name": "base",
   "language": "python",
   "name": "python3"
  },
  "language_info": {
   "codemirror_mode": {
    "name": "ipython",
    "version": 3
   },
   "file_extension": ".py",
   "mimetype": "text/x-python",
   "name": "python",
   "nbconvert_exporter": "python",
   "pygments_lexer": "ipython3",
   "version": "3.10.8"
  },
  "orig_nbformat": 4
 },
 "nbformat": 4,
 "nbformat_minor": 2
}
