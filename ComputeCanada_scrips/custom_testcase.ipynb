{
 "cells": [
  {
   "cell_type": "code",
   "execution_count": 1,
   "metadata": {},
   "outputs": [],
   "source": [
    "from NN import *\n",
    "from LTL import *\n",
    "\n",
    "\n",
    "from csrl.mdp import GridMDP\n",
    "from csrl.oa import OmegaAutomaton\n",
    "from csrl import ControlSynthesis\n",
    "import numpy as np\n",
    "import os\n",
    "from matplotlib import pyplot as plt\n",
    "import time \n",
    "\n",
    "from ipywidgets.widgets import IntSlider\n",
    "from ipywidgets import interact"
   ]
  },
  {
   "cell_type": "code",
   "execution_count": 2,
   "metadata": {},
   "outputs": [
    {
     "name": "stdout",
     "output_type": "stream",
     "text": [
      "Number of Omega-automaton states (including the trap state): 3\n"
     ]
    },
    {
     "data": {
      "image/png": "[encoded data removed]",
      "text/plain": [
       "<Figure size 500x500 with 1 Axes>"
      ]
     },
     "metadata": {},
     "output_type": "display_data"
    }
   ],
   "source": [
    "ltl = (\"G (F a & F b)\")\n",
    "\n",
    "# Translate the LTL formula to an LDBA\n",
    "oa = OmegaAutomaton(ltl)\n",
    "print('Number of Omega-automaton states (including the trap state):',oa.shape[1])\n",
    "\n",
    "# MDP Description\n",
    "shape = (3,3)\n",
    "# E: Empty, T: Trap, B: Obstacle\n",
    "structure = np.array([\n",
    "['E',  'E',  'E'],\n",
    "['E',  'E',  'E'],\n",
    "['E',  'E',  'E']\n",
    "])\n",
    "\n",
    "# Labels of the states\n",
    "label = np.array([\n",
    "[(),    (),    ('a',)],\n",
    "[(),    (),    ()],\n",
    "[(),(),    ('b',)]\n",
    "],dtype=object)\n",
    "# Colors of the labels\n",
    "lcmap={\n",
    "    ('a',):'yellow',\n",
    "    ('b',):'greenyellow',\n",
    "    ('c',):'turquoise',\n",
    "    ('d',):'pink'\n",
    "}\n",
    "p=1\n",
    "grid_mdp = GridMDP(shape=shape,structure=structure,label=label,lcmap=lcmap, p=p, figsize=5)  # Use figsize=4 for smaller figures\n",
    "grid_mdp.plot(save=\"env.pdf\")\n",
    "\n",
    "# Construct the product MDP\n",
    "csrl = ControlSynthesis(grid_mdp,oa)\n",
    "max_rew = round(csrl.reward.max(), 3)"
   ]
  },
  {
   "cell_type": "code",
   "execution_count": 3,
   "metadata": {},
   "outputs": [
    {
     "name": "stdout",
     "output_type": "stream",
     "text": [
      "{'a': [2], 'b': [8]}\n"
     ]
    }
   ],
   "source": [
    "t = \"[] (<> a /\\ <> b)\"\n",
    "\n",
    "LTL_formula = parser.parse(t)\n",
    "predicates=grid_mdp.get_predicates()\n",
    "print(predicates)"
   ]
  },
  {
   "cell_type": "code",
   "execution_count": 20,
   "metadata": {},
   "outputs": [],
   "source": [
    "model = build_model(csrl.ch_states[(0,0,0,0)].shape, csrl.shape[-1])\n",
    "# model.summary()"
   ]
  },
  {
   "cell_type": "code",
   "execution_count": 21,
   "metadata": {},
   "outputs": [],
   "source": [
    "N, W, Q, P, visited = np.zeros(csrl.shape), np.zeros(csrl.shape), np.zeros(csrl.shape), np.zeros(csrl.shape), set()"
   ]
  },
  {
   "cell_type": "code",
   "execution_count": 24,
   "metadata": {},
   "outputs": [
    {
     "name": "stdout",
     "output_type": "stream",
     "text": [
      "---  0.06000000000000005 : [0, 1, 2, 5, 8, 5, 2, 5, 8, 5, 2, 5, 8, 5, 2, 5, 8, 5, 2, 5, 8, 5, 2, 5, 8]\n",
      "Train wins: 0 / 1\n",
      "---  0.050000000000000044 : [0, 1, 2, 5, 8, 5, 2, 5, 2, 5, 8, 5, 2, 5, 8, 5, 2, 5, 8, 5, 2, 5, 8, 5, 2]\n",
      "---  0.050000000000000044 : [0, 1, 2, 5, 8, 5, 2, 5, 8, 5, 2, 5, 8, 5, 8, 5, 2, 5, 8, 5, 2, 5, 8, 5, 2]\n",
      "---  0.06000000000000005 : [0, 1, 2, 5, 8, 5, 2, 5, 8, 5, 2, 5, 8, 5, 2, 5, 8, 5, 2, 5, 8, 5, 2, 5, 8]\n",
      "---  0.050000000000000044 : [0, 1, 2, 5, 8, 5, 2, 5, 8, 5, 2, 2, 5, 8, 5, 2, 5, 8, 5, 2, 5, 8, 8, 5, 2]\n",
      "---  0.06000000000000005 : [0, 1, 2, 5, 8, 5, 2, 5, 8, 5, 2, 5, 8, 5, 2, 5, 8, 5, 2, 5, 8, 5, 2, 5, 8]\n",
      "---  0.050000000000000044 : [0, 1, 2, 5, 8, 5, 2, 5, 8, 5, 2, 5, 8, 5, 2, 5, 8, 5, 2, 2, 1, 2, 5, 8, 5]\n",
      "---  0.040000000000000036 : [0, 1, 4, 5, 2, 5, 8, 5, 2, 5, 8, 5, 2, 2, 5, 8, 5, 2, 5, 8, 7, 4, 5, 2, 5]\n",
      "---  0.050000000000000044 : [0, 1, 2, 5, 8, 5, 2, 5, 8, 5, 2, 5, 8, 8, 5, 2, 5, 8, 5, 2, 5, 8, 5, 2, 5]\n",
      "---  0.050000000000000044 : [0, 3, 4, 5, 2, 5, 8, 5, 2, 5, 8, 5, 2, 5, 8, 5, 2, 5, 8, 5, 2, 5, 8, 5, 2]\n",
      "---  0.030000000000000027 : [0, 3, 3, 3, 3, 0, 0, 1, 2, 5, 8, 5, 2, 5, 8, 7, 6, 6, 3, 3, 0, 1, 2, 5, 8]\n",
      "Test wins: 0 / 10\n"
     ]
    }
   ],
   "source": [
    "search_depth = 100\n",
    "MCTS_samples = 100\n",
    "\n",
    "num_training_epochs =  1\n",
    "num_test_epochs = 10\n",
    "training = True\n",
    "epochs = 20\n",
    "T = [25]\n",
    "K = 1\n",
    "\n",
    "success_rates = []\n",
    "succes_std = []\n",
    "win_hist = []\n",
    "train_history = []\n",
    "\n",
    "for i in T:\n",
    "    # TRAIN ##############################\n",
    "    train_wins = 0\n",
    "    # num_training_epochs = int(200 - 1.9*i)\n",
    "    # model = build_model(csrl.ch_states[(0,0,0,0)].shape, csrl.shape[-1])\n",
    "    N, W, Q, P, visited = np.zeros(csrl.shape), np.zeros(csrl.shape), np.zeros(csrl.shape), np.zeros(csrl.shape), set()\n",
    "    for epoch in range(num_training_epochs):\n",
    "        t1 = time.time()\n",
    "        state_history, channeled_states, trajectory, action_history, reward_history, better_policy = csrl.MC_learning(model, LTL_formula, predicates,\n",
    "                csrl.reward, N = N, W = W, Q = Q, P = P, C=3, tow=1, n_samples=MCTS_samples, visited=visited, start=(0,0), search_depth=search_depth,\n",
    "                verbose=0, T=i, K=K)\n",
    "        # print('N',N[(0,0,0,0)])\n",
    "        t2 = time.time()\n",
    "        # print(t2-t1, \" run episode\")\n",
    "\n",
    "        win = check_LTL(LTL_formula, trajectory, predicates)[0]\n",
    "        if win: train_wins+=1\n",
    "\n",
    "        t3= time.time()\n",
    "        if training and len(action_history)>0:\n",
    "            if epoch==0:\n",
    "                x_train = np.array(channeled_states)[:-1]\n",
    "                y1_train = np.array(better_policy)\n",
    "                y2_train = np.array(reward_history) + (check_LTL(LTL_formula, trajectory, predicates)[0]*max_rew)\n",
    "                y2_train = y2_train[:-1]\n",
    "            else:\n",
    "                x_train = np.concatenate((x_train, np.array(channeled_states)[:-1]),0)\n",
    "                y1_train = np.concatenate((y1_train, np.array(better_policy)),0)\n",
    "                y2_train_curr = np.array(reward_history) + (check_LTL(LTL_formula, trajectory, predicates)[0]*max_rew)\n",
    "                y2_train = np.concatenate((y2_train, y2_train_curr[:-1]),0)\n",
    "            tr_hist = model.fit(x_train, [y1_train, y2_train], epochs=epochs, verbose=0)\n",
    "            train_history += tr_hist.history['loss']\n",
    "        win_hist.append(win)\n",
    "        t4 = time.time()\n",
    "        # print(t4-t3, \" fit\")\n",
    "    print(\"Train wins:\",train_wins,\"/\", num_training_epochs)\n",
    "\n",
    "    # TEST ##############################\n",
    "    test_wins = 0\n",
    "    N, W, Q, P, visited = np.zeros(csrl.shape), np.zeros(csrl.shape), np.zeros(csrl.shape), np.zeros(csrl.shape), set()\n",
    "    for epoch in range(num_test_epochs):\n",
    "        \n",
    "        state_history, channeled_states, trajectory, action_history, reward_history, better_policy = csrl.MC_learning(model, LTL_formula, predicates,\n",
    "                csrl.reward, N = N, W = W, Q = Q, P = P, C=3, tow=1, n_samples=100, visited=set(), start=(0,0), search_depth=search_depth, verbose=0, T=i, K=1)\n",
    "\n",
    "        win = check_LTL(LTL_formula, trajectory, predicates)[0]\n",
    "        if win: test_wins+=1\n",
    "        win_hist.append(win)\n",
    "\n",
    "    success_rates.append(100*test_wins/num_test_epochs)\n",
    "    temp = np.zeros(num_test_epochs)\n",
    "    temp[:test_wins]=1\n",
    "    std = np.sqrt(num_test_epochs*np.var(temp))\n",
    "    succes_std.append((success_rates[-1]-std, success_rates[-1]+std))\n",
    "    ###############################################################\n",
    "    print(\"Test wins:\",test_wins,\"/\",num_test_epochs)\n",
    "    # print(\"last reward:\", reward_history[-1], \"  | trajectory:\", trajectory)\n",
    "    # print(\"Actions:\", action_history)"
   ]
  },
  {
   "cell_type": "code",
   "execution_count": 26,
   "metadata": {},
   "outputs": [
    {
     "data": {
      "application/vnd.jupyter.widget-view+json": {
       "model_id": "bc8be414619d4b298685500513398859",
       "version_major": 2,
       "version_minor": 0
      },
      "text/plain": [
       "interactive(children=(IntSlider(value=0, description='t', max=24), Output()), _dom_classes=('widget-interact',…"
      ]
     },
     "metadata": {},
     "output_type": "display_data"
    },
    {
     "data": {
      "text/plain": [
       "<function __main__.plot_agent(t)>"
      ]
     },
     "execution_count": 26,
     "metadata": {},
     "output_type": "execute_result"
    }
   ],
   "source": [
    "def plot_agent(t):\n",
    "    csrl.mdp.plot(agent=state_history[t][2:])\n",
    "    \n",
    "t=IntSlider(value=0,min=0,max=T[-1]-1)\n",
    "interact(plot_agent,t=t)"
   ]
  },
  {
   "cell_type": "code",
   "execution_count": 9,
   "metadata": {},
   "outputs": [],
   "source": [
    "Q=csrl.q_learning(T=100,K=10000)\n",
    "\n",
    "policy=np.argmax(Q,axis=4)\n",
    "value=np.max(Q,axis=4)"
   ]
  },
  {
   "cell_type": "code",
   "execution_count": 14,
   "metadata": {},
   "outputs": [
    {
     "name": "stdout",
     "output_type": "stream",
     "text": [
      "0.0\n",
      "0.0\n",
      "0.0\n",
      "0.0\n",
      "0.010000000000000009\n",
      "0.0\n",
      "0.0\n",
      "0.0\n",
      "0.010000000000000009\n",
      "0.0\n",
      "0.0\n",
      "0.0\n",
      "0.010000000000000009\n",
      "0.0\n",
      "0.0\n",
      "0.0\n",
      "0.010000000000000009\n",
      "0.0\n",
      "0.0\n",
      "0.0\n",
      "0.010000000000000009\n",
      "0.0\n",
      "0.0\n",
      "0.0\n",
      "0.010000000000000009\n",
      "0.0\n",
      "0.0\n",
      "0.0\n",
      "0.010000000000000009\n",
      "0.0\n",
      "0.0\n",
      "0.0\n",
      "0.010000000000000009\n",
      "0.0\n",
      "0.0\n",
      "0.0\n",
      "0.010000000000000009\n",
      "0.0\n",
      "0.0\n",
      "0.0\n",
      "0.010000000000000009\n",
      "0.0\n",
      "0.0\n",
      "0.0\n",
      "0.010000000000000009\n",
      "0.0\n",
      "0.0\n",
      "0.0\n",
      "0.010000000000000009\n",
      "0.0\n",
      "0.0\n",
      "0.0\n",
      "0.010000000000000009\n",
      "0.0\n",
      "0.0\n",
      "0.0\n",
      "0.010000000000000009\n",
      "0.0\n",
      "0.0\n",
      "0.0\n",
      "0.010000000000000009\n",
      "0.0\n",
      "0.0\n",
      "0.0\n",
      "0.010000000000000009\n",
      "0.0\n",
      "0.0\n",
      "0.0\n",
      "0.010000000000000009\n",
      "0.0\n",
      "0.0\n",
      "0.0\n",
      "0.010000000000000009\n",
      "0.0\n",
      "0.0\n",
      "0.0\n",
      "0.010000000000000009\n",
      "0.0\n",
      "0.0\n",
      "0.0\n",
      "0.010000000000000009\n",
      "0.0\n",
      "0.0\n",
      "0.0\n",
      "0.010000000000000009\n",
      "0.0\n",
      "0.0\n",
      "0.0\n",
      "0.010000000000000009\n",
      "0.0\n",
      "0.0\n",
      "0.0\n",
      "0.010000000000000009\n",
      "0.0\n",
      "0.0\n",
      "0.0\n",
      "0.010000000000000009\n",
      "0.0\n",
      "0.0\n",
      "0.0\n",
      "0.010000000000000009\n"
     ]
    }
   ],
   "source": [
    "for i in episode:\n",
    "    print(csrl.reward[i])"
   ]
  },
  {
   "cell_type": "code",
   "execution_count": 10,
   "metadata": {},
   "outputs": [
    {
     "data": {
      "application/vnd.jupyter.widget-view+json": {
       "model_id": "b99010ab764e4e0cbc1b25f03cc6178c",
       "version_major": 2,
       "version_minor": 0
      },
      "text/plain": [
       "interactive(children=(IntSlider(value=0, description='t', max=99), Output()), _dom_classes=('widget-interact',…"
      ]
     },
     "metadata": {},
     "output_type": "display_data"
    }
   ],
   "source": [
    "episode, rew =csrl.simulate(policy, LTL_formula, predicates, start=(0,0),T=100,plot=True)"
   ]
  },
  {
   "cell_type": "code",
   "execution_count": null,
   "metadata": {},
   "outputs": [],
   "source": []
  }
 ],
 "metadata": {
  "kernelspec": {
   "display_name": "base",
   "language": "python",
   "name": "python3"
  },
  "language_info": {
   "codemirror_mode": {
    "name": "ipython",
    "version": 3
   },
   "file_extension": ".py",
   "mimetype": "text/x-python",
   "name": "python",
   "nbconvert_exporter": "python",
   "pygments_lexer": "ipython3",
   "version": "3.10.8"
  },
  "orig_nbformat": 4
 },
 "nbformat": 4,
 "nbformat_minor": 2
}
