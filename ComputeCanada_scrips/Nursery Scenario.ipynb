{
 "cells": [
  {
   "attachments": {},
   "cell_type": "markdown",
   "metadata": {},
   "source": [
    "# Nursery Scenario"
   ]
  },
  {
   "cell_type": "code",
   "execution_count": 1,
   "metadata": {},
   "outputs": [],
   "source": [
    "from NN import *\n",
    "from LTL import *\n",
    "\n",
    "from csrl.mdp import GridMDP\n",
    "from csrl.oa import OmegaAutomaton\n",
    "from csrl import ControlSynthesis\n",
    "import numpy as np\n",
    "from matplotlib import pyplot as plt\n",
    "import time"
   ]
  },
  {
   "cell_type": "code",
   "execution_count": 2,
   "metadata": {},
   "outputs": [
    {
     "name": "stdout",
     "output_type": "stream",
     "text": [
      "Number of Omega-automaton states (including the trap state): 55\n"
     ]
    },
    {
     "data": {
      "image/png": "[encoded data removed]",
      "text/plain": [
       "<Figure size 500x500 with 1 Axes>"
      ]
     },
     "metadata": {},
     "output_type": "display_data"
    }
   ],
   "source": [
    "### from the Nursary case ###\n",
    "# LTL Specification\n",
    "# ltl = ('G ('\n",
    "#     '(!d) & '\n",
    "#     '((b & (!(X b)))->(X ((!b) U (a|c)))) & '\n",
    "#     '(((!b) & (X b) & (!(X X b)))->((!a) U c)) & '\n",
    "#     '(a->(X ((!a) U b))) & '\n",
    "#     '(c->((!a) U b)) & '\n",
    "#     '((b & (X b))->(F a))'\n",
    "# ')')\n",
    "\n",
    "ltl = ('G ('\n",
    "    '(!d) & '\n",
    "    '(c->((!a) U b)) & '\n",
    "    '((b & (X b))->(F a)) & '\n",
    "    '((b & (!(X b)))->(X ((!b) U (a|c)))) & '\n",
    "    '(((!b) & (X b) & (!(X X b)))->((!a) U c)) &'\n",
    "    '(a->(X ((!a) U b))) '\n",
    "')')\n",
    "\n",
    "# Translate the LTL formula to an LDBA\n",
    "oa = OmegaAutomaton(ltl)\n",
    "print('Number of Omega-automaton states (including the trap state):',oa.shape[1])\n",
    "\n",
    "# MDP Description\n",
    "shape = (5,4)\n",
    "# E: Empty, T: Trap, B: Obstacle\n",
    "structure = np.array([\n",
    "['E',  'E',  'E',  'E'],\n",
    "['E',  'E',  'E',  'E'],\n",
    "# ['E',  'E',  'E',  'E'],\n",
    "# ['E',  'E',  'E',  'E'],\n",
    "# ['E',  'E',  'E',  'E'],\n",
    "# ['E',  'E',  'E',  'E'],\n",
    "# ['E',  'E',  'E',  'E'],\n",
    "['E',  'E',  'E',  'E'],\n",
    "['E',  'E',  'E',  'E'],\n",
    "['E',  'E',  'E',  'E']\n",
    "])\n",
    "\n",
    "# Labels of the states\n",
    "label = np.array([\n",
    "[(),    (),    ('b',),('d',)],\n",
    "[(),    (),    (),    ()],\n",
    "# [(),    (),    (),    ()],\n",
    "# [(),    (),    (),    ()],\n",
    "# [(),    (),    (),    ()],\n",
    "# [(),    (),    (),    ()],\n",
    "# [(),    (),    (),    ()],\n",
    "[(),    (),    (),    ()],\n",
    "[('a',),(),    (),    ()],\n",
    "[(),    ('c',),(),    ()]\n",
    "],dtype=object)\n",
    "# Colors of the labels\n",
    "lcmap={\n",
    "    ('a',):'yellow',\n",
    "    ('b',):'greenyellow',\n",
    "    ('c',):'turquoise',\n",
    "    ('d',):'pink'\n",
    "} \n",
    "p = 1\n",
    "grid_mdp = GridMDP(shape=shape,structure=structure,label=label,lcmap=lcmap, p=p, figsize=5)  # Use figsize=4 for smaller figures\n",
    "grid_mdp.plot()\n",
    "\n",
    "# Construct the product MDP\n",
    "csrl = ControlSynthesis(grid_mdp,oa)\n",
    "max_rew = round(csrl.reward.max(), 3)"
   ]
  },
  {
   "cell_type": "code",
   "execution_count": 3,
   "metadata": {
    "tags": []
   },
   "outputs": [
    {
     "data": {
      "text/plain": [
       "((1, 55, 5, 4, 59), (5, 4, 55), 0.01)"
      ]
     },
     "execution_count": 3,
     "metadata": {},
     "output_type": "execute_result"
    }
   ],
   "source": [
    "csrl.shape, csrl.ch_states[(0,0,0,0)].shape, max_rew"
   ]
  },
  {
   "cell_type": "code",
   "execution_count": 4,
   "metadata": {},
   "outputs": [
    {
     "name": "stdout",
     "output_type": "stream",
     "text": [
      "Model: \"model\"\n",
      "__________________________________________________________________________________________________\n",
      " Layer (type)                   Output Shape         Param #     Connected to                     \n",
      "==================================================================================================\n",
      " input_1 (InputLayer)           [(None, 5, 4, 55)]   0           []                               \n",
      "                                                                                                  \n",
      " conv2d (Conv2D)                (None, 5, 4, 32)     7072        ['input_1[0][0]']                \n",
      "                                                                                                  \n",
      " conv2d_1 (Conv2D)              (None, 5, 4, 8)      1032        ['conv2d[0][0]']                 \n",
      "                                                                                                  \n",
      " flatten (Flatten)              (None, 160)          0           ['conv2d_1[0][0]']               \n",
      "                                                                                                  \n",
      " dense (Dense)                  (None, 32)           5152        ['flatten[0][0]']                \n",
      "                                                                                                  \n",
      " dense_1 (Dense)                (None, 16)           528         ['dense[0][0]']                  \n",
      "                                                                                                  \n",
      " dense_2 (Dense)                (None, 59)           1003        ['dense_1[0][0]']                \n",
      "                                                                                                  \n",
      " dense_3 (Dense)                (None, 1)            17          ['dense_1[0][0]']                \n",
      "                                                                                                  \n",
      "==================================================================================================\n",
      "Total params: 14,804\n",
      "Trainable params: 14,804\n",
      "Non-trainable params: 0\n",
      "__________________________________________________________________________________________________\n"
     ]
    }
   ],
   "source": [
    "model = build_model(csrl.ch_states[(0,0,0,0)].shape, csrl.shape[-1])\n",
    "model.summary()"
   ]
  },
  {
   "cell_type": "code",
   "execution_count": 6,
   "metadata": {},
   "outputs": [
    {
     "name": "stdout",
     "output_type": "stream",
     "text": [
      "You must install pydot (`pip install pydot`) and install graphviz (see instructions at https://graphviz.gitlab.io/download/) for plot_model to work.\n"
     ]
    }
   ],
   "source": [
    "from keras.utils.vis_utils import plot_model\n",
    "plot_model(model, to_file='model_plot.pdf', show_shapes=True, show_layer_names=True)"
   ]
  },
  {
   "cell_type": "code",
   "execution_count": 19,
   "metadata": {},
   "outputs": [
    {
     "name": "stdout",
     "output_type": "stream",
     "text": [
      "2 []\n"
     ]
    }
   ],
   "source": [
    "t = \"[] ( (~d) /\\ (c->(~a % b)) /\\ ((b /\\ >b) -> <>a) /\\ ((b /\\ ~>b) -> >(~b % (a \\/ c))) /\\ ((~b /\\ >b /\\ ~>>b)->(~a % c)) )\"\n",
    "\n",
    "full_t = \"[] ( (~d) /\\ ((b /\\ ~>b) -> >(~b % (a \\/ c))) /\\ (a -> >(~a % b))\"\n",
    "full_t += \" /\\ ((~b /\\ >b /\\ ~>>b)->(~a % c)) /\\ (c->(~a % b)) /\\ ((b /\\ >b) -> <>a) )\"\n",
    "\n",
    "LTL_formula = parser.parse(full_t)\n",
    "predicates=grid_mdp.get_predicates()\n",
    "\n",
    "### proof of satifying trajectory ###\n",
    "tra = [2,3]\n",
    "print(len(tra), check_LTL(LTL_formula, tra, predicates))\n",
    "#######"
   ]
  },
  {
   "cell_type": "code",
   "execution_count": 20,
   "metadata": {},
   "outputs": [
    {
     "data": {
      "text/plain": [
       "{'a': [12], 'b': [2], 'c': [17], 'd': [3]}"
      ]
     },
     "execution_count": 20,
     "metadata": {},
     "output_type": "execute_result"
    }
   ],
   "source": [
    "predicates"
   ]
  },
  {
   "cell_type": "code",
   "execution_count": 21,
   "metadata": {},
   "outputs": [],
   "source": [
    "model = build_model(csrl.ch_states[(0,0,0,0)].shape, csrl.shape[-1])\n",
    "\n",
    "N, W, Q, P = np.zeros(csrl.shape), np.zeros(csrl.shape), np.zeros(csrl.shape), np.zeros(csrl.shape)"
   ]
  },
  {
   "cell_type": "code",
   "execution_count": 22,
   "metadata": {},
   "outputs": [
    {
     "data": {
      "text/plain": [
       "<tensorflow.python.checkpoint.checkpoint.CheckpointLoadStatus at 0x286e6bd2260>"
      ]
     },
     "execution_count": 22,
     "metadata": {},
     "output_type": "execute_result"
    }
   ],
   "source": [
    "model.load_weights(f'models/p=1/Nurseryp1')"
   ]
  },
  {
   "cell_type": "code",
   "execution_count": 24,
   "metadata": {},
   "outputs": [
    {
     "name": "stdout",
     "output_type": "stream",
     "text": [
      "LTL [---]  LDBA [ 0.12 ] path: [17, 17, 16, 16, 17, 13, 9, 5, 1, 2, 6, 5, 9, 13, 17, 13, 9, 5, 1, 2, 2, 6, 10, 9, 13, 12, 13, 14, 10, 6, 2, 2, 1, 0, 4, 8, 12, 16, 17, 13, 9, 5, 1, 2, 2, 6, 10, 9, 13, 12, 13, 14, 10, 6, 2, 2, 1, 0, 4, 8, 12, 8, 9, 5, 6, 2, 2, 1, 0, 4, 8, 12, 16, 17, 13, 9, 5, 1, 2, 2, 6, 10, 9, 13, 12, 13, 14, 10, 6, 2, 2, 1, 0, 4, 8, 12, 8, 9, 5, 9, 10, 6, 2, 2, 1, 0, 4, 8, 12, 8, 9, 5, 9, 10, 6, 2, 2, 1, 0, 4, 8, 12, 8, 9, 5, 9, 10, 6, 2, 2, 1, 0, 4, 8, 12, 8, 9, 5, 9, 10, 6, 2, 2, 1, 0, 4, 8, 12, 8, 9, 5, 9, 10, 6, 2, 2, 1, 0, 4, 8, 12, 8, 9, 5, 6, 2, 2, 1, 0, 4, 8, 12, 8, 9, 5, 6, 2, 2, 1, 0, 4, 8, 12, 8, 9, 5, 6, 2, 2, 1, 0, 4, 8, 12, 8, 9, 5, 9, 10, 6]\n",
      "WARNING:tensorflow:Detecting that an object or model or tf.train.Checkpoint is being deleted with unrestored values. See the following logs for the specific values in question. To silence these warnings, use `status.expect_partial()`. See https://www.tensorflow.org/api_docs/python/tf/train/Checkpoint#restorefor details about the status object returned by the restore function.\n",
      "WARNING:tensorflow:Value in checkpoint could not be found in the restored object: (root).optimizer.iter\n",
      "WARNING:tensorflow:Value in checkpoint could not be found in the restored object: (root).optimizer.beta_1\n",
      "WARNING:tensorflow:Value in checkpoint could not be found in the restored object: (root).optimizer.beta_2\n",
      "WARNING:tensorflow:Value in checkpoint could not be found in the restored object: (root).optimizer.decay\n",
      "WARNING:tensorflow:Value in checkpoint could not be found in the restored object: (root).optimizer.learning_rate\n",
      "WARNING:tensorflow:Detecting that an object or model or tf.train.Checkpoint is being deleted with unrestored values. See the following logs for the specific values in question. To silence these warnings, use `status.expect_partial()`. See https://www.tensorflow.org/api_docs/python/tf/train/Checkpoint#restorefor details about the status object returned by the restore function.\n",
      "WARNING:tensorflow:Value in checkpoint could not be found in the restored object: (root).optimizer.iter\n",
      "WARNING:tensorflow:Value in checkpoint could not be found in the restored object: (root).optimizer.beta_1\n",
      "WARNING:tensorflow:Value in checkpoint could not be found in the restored object: (root).optimizer.beta_2\n",
      "WARNING:tensorflow:Value in checkpoint could not be found in the restored object: (root).optimizer.decay\n",
      "WARNING:tensorflow:Value in checkpoint could not be found in the restored object: (root).optimizer.learning_rate\n",
      "LTL [---]  LDBA [ 0.13 ] path: [17, 17, 16, 16, 16, 17, 13, 9, 5, 1, 2, 6, 5, 9, 13, 17, 13, 9, 5, 1, 2, 2, 6, 10, 9, 13, 12, 13, 14, 10, 6, 2, 2, 1, 0, 4, 8, 12, 8, 9, 5, 9, 10, 6, 2, 2, 1, 0, 4, 8, 12, 8, 9, 5, 9, 10, 6, 2, 2, 1, 0, 4, 8, 12, 8, 9, 5, 6, 2, 2, 1, 0, 4, 8, 12, 16, 17, 13, 9, 5, 1, 2, 2, 6, 10, 9, 13, 12, 13, 14, 10, 6, 2, 2, 1, 0, 4, 8, 12, 8, 9, 5, 9, 10, 6, 2, 2, 1, 0, 4, 8, 12, 8, 9, 5, 9, 10, 6, 2, 2, 1, 0, 4, 8, 12, 8, 9, 5, 9, 10, 6, 2, 2, 1, 0, 4, 8, 12, 8, 9, 5, 9, 10, 6, 2, 2, 1, 0, 4, 8, 12, 8, 9, 5, 9, 10, 6, 2, 2, 1, 0, 4, 8, 12, 8, 9, 5, 9, 10, 6, 2, 2, 1, 0, 4, 8, 12, 8, 9, 5, 6, 2, 2, 1, 0, 4, 8, 12, 8, 9, 5, 9, 10, 6, 2, 2, 1, 0, 4, 8]\n",
      "LTL [---]  LDBA [ 0.14 ] path: [17, 17, 16, 16, 17, 13, 9, 5, 1, 2, 6, 5, 9, 13, 17, 13, 9, 5, 1, 2, 2, 6, 10, 9, 13, 12, 13, 14, 10, 6, 2, 2, 1, 0, 4, 8, 12, 8, 9, 5, 9, 10, 6, 2, 2, 1, 0, 4, 8, 12, 8, 9, 5, 9, 10, 6, 2, 2, 1, 0, 4, 8, 12, 8, 9, 5, 9, 10, 6, 2, 2, 1, 0, 4, 8, 12, 8, 9, 5, 9, 10, 6, 2, 2, 1, 0, 4, 8, 12, 8, 9, 5, 9, 10, 6, 2, 2, 1, 0, 4, 8, 12, 8, 9, 5, 9, 10, 6, 2, 2, 1, 0, 4, 8, 12, 8, 9, 5, 6, 2, 2, 1, 0, 4, 8, 12, 8, 9, 5, 6, 2, 2, 1, 0, 4, 8, 12, 8, 9, 5, 9, 10, 6, 2, 2, 1, 0, 4, 8, 12, 8, 9, 5, 9, 10, 6, 2, 2, 1, 0, 4, 8, 12, 8, 9, 5, 6, 2, 2, 1, 0, 4, 8, 12, 8, 9, 5, 6, 2, 2, 1, 0, 4, 8, 12, 8, 9, 5, 9, 10, 6, 2, 2, 1, 0, 4, 8, 12, 8, 9]\n",
      "LTL [---]  LDBA [ 0.14 ] path: [17, 18, 18, 17, 13, 9, 5, 1, 2, 6, 5, 9, 13, 17, 13, 9, 5, 1, 2, 2, 6, 10, 9, 13, 12, 13, 14, 10, 6, 2, 2, 1, 0, 4, 8, 12, 8, 9, 5, 9, 10, 6, 2, 2, 1, 0, 4, 8, 12, 8, 9, 5, 9, 10, 6, 2, 2, 1, 0, 4, 8, 12, 8, 9, 5, 9, 10, 6, 2, 2, 1, 0, 4, 8, 12, 8, 9, 5, 9, 10, 6, 2, 2, 1, 0, 4, 8, 12, 8, 9, 5, 6, 2, 2, 1, 0, 4, 8, 12, 8, 9, 5, 9, 10, 6, 2, 2, 1, 0, 4, 8, 12, 8, 9, 5, 9, 10, 6, 2, 2, 1, 0, 4, 8, 12, 8, 9, 5, 9, 10, 6, 2, 2, 1, 0, 4, 8, 12, 8, 9, 5, 6, 2, 2, 1, 0, 4, 8, 12, 8, 9, 5, 6, 2, 2, 1, 0, 4, 8, 12, 8, 9, 5, 9, 10, 6, 2, 2, 1, 0, 4, 8, 12, 8, 9, 5, 6, 2, 2, 1, 0, 4, 8, 12, 8, 9, 5, 9, 10, 6, 2, 2, 1, 0, 4, 8, 12, 8, 9, 5]\n",
      "LTL [+++]  LDBA [ 0.12 ] path: [17, 18, 18, 17, 13, 9, 5, 1, 2, 6, 5, 9, 13, 17, 13, 9, 5, 1, 2, 2, 6, 10, 9, 13, 12, 13, 14, 10, 6, 2, 2, 1, 0, 4, 8, 12, 16, 17, 13, 9, 5, 1, 2, 2, 6, 10, 9, 13, 12, 13, 14, 10, 6, 2, 2, 1, 0, 4, 8, 12, 8, 9, 5, 6, 2, 2, 1, 0, 4, 8, 12, 8, 9, 5, 9, 10, 6, 2, 2, 1, 0, 4, 8, 12, 16, 17, 13, 9, 5, 1, 2, 2, 6, 10, 9, 13, 12, 13, 14, 10, 6, 2, 2, 1, 0, 4, 8, 12, 8, 9, 5, 6, 2, 2, 1, 0, 4, 8, 12, 8, 9, 5, 9, 10, 6, 2, 2, 1, 0, 4, 8, 12, 8, 9, 5, 6, 2, 2, 1, 0, 4, 8, 12, 8, 9, 5, 6, 2, 2, 1, 0, 4, 8, 12, 8, 9, 5, 6, 2, 2, 1, 0, 4, 8, 12, 8, 9, 5, 6, 2, 2, 1, 0, 4, 8, 12, 16, 17, 13, 9, 5, 1, 2, 2, 6, 10, 9, 13, 12, 13, 14, 10, 6, 2, 2, 1, 0, 4, 8, 12]\n",
      "LTL [---]  LDBA [ 0.15 ] path: [17, 17, 16, 16, 17, 13, 9, 8, 4, 0, 1, 2, 6, 5, 9, 13, 17, 13, 9, 5, 1, 2, 2, 6, 10, 9, 13, 12, 13, 14, 10, 6, 2, 2, 1, 0, 4, 8, 12, 8, 9, 5, 9, 10, 6, 2, 2, 1, 0, 4, 8, 12, 8, 9, 5, 6, 2, 2, 1, 0, 4, 8, 12, 8, 9, 5, 9, 10, 6, 2, 2, 1, 0, 4, 8, 12, 8, 9, 5, 6, 2, 2, 1, 0, 4, 8, 12, 8, 9, 5, 6, 2, 2, 1, 0, 4, 8, 12, 8, 9, 5, 9, 10, 6, 2, 2, 1, 0, 4, 8, 12, 8, 9, 5, 6, 2, 2, 1, 0, 4, 8, 12, 8, 9, 5, 6, 2, 2, 1, 0, 4, 8, 12, 8, 9, 5, 9, 10, 6, 2, 2, 1, 0, 4, 8, 12, 8, 9, 5, 6, 2, 2, 1, 0, 4, 8, 12, 8, 9, 5, 9, 10, 6, 2, 2, 1, 0, 4, 8, 12, 8, 9, 5, 6, 2, 2, 1, 0, 4, 8, 12, 8, 9, 5, 6, 2, 2, 1, 0, 4, 8, 12, 8, 9, 5, 6, 2, 2, 1, 0]\n",
      "LTL [---]  LDBA [ 0.14 ] path: [17, 17, 16, 16, 17, 13, 9, 5, 1, 2, 6, 5, 9, 13, 17, 13, 9, 5, 1, 2, 2, 6, 10, 9, 13, 12, 13, 14, 10, 6, 2, 2, 1, 0, 4, 8, 12, 16, 17, 13, 9, 5, 1, 2, 2, 6, 10, 9, 13, 12, 13, 14, 10, 6, 2, 2, 1, 0, 4, 8, 12, 8, 9, 5, 6, 2, 2, 1, 0, 4, 8, 12, 8, 9, 5, 9, 10, 6, 2, 2, 1, 0, 4, 8, 12, 8, 9, 5, 6, 2, 2, 1, 0, 4, 8, 12, 8, 9, 5, 9, 10, 6, 2, 2, 1, 0, 4, 8, 12, 8, 9, 5, 9, 10, 6, 2, 2, 1, 0, 4, 8, 12, 8, 9, 5, 6, 2, 2, 1, 0, 4, 8, 12, 8, 9, 5, 6, 2, 2, 1, 0, 4, 8, 12, 8, 9, 5, 6, 2, 2, 1, 0, 4, 8, 12, 8, 9, 5, 9, 10, 6, 2, 2, 1, 0, 4, 8, 12, 8, 9, 5, 6, 2, 2, 1, 0, 4, 8, 12, 8, 9, 5, 6, 2, 2, 1, 0, 4, 8, 12, 8, 9, 5, 6, 2, 2, 1, 0, 4, 8]\n",
      "LTL [---]  LDBA [ 0.13 ] path: [17, 17, 16, 16, 17, 13, 9, 8, 4, 0, 1, 2, 6, 5, 9, 13, 17, 13, 9, 5, 1, 2, 2, 6, 10, 9, 13, 12, 13, 14, 10, 6, 2, 2, 1, 0, 4, 8, 12, 8, 9, 5, 6, 2, 2, 1, 0, 4, 8, 12, 16, 17, 13, 9, 5, 1, 2, 2, 6, 10, 9, 13, 12, 13, 14, 10, 6, 2, 2, 1, 0, 4, 8, 12, 8, 9, 5, 9, 10, 6, 2, 2, 1, 0, 4, 8, 12, 8, 9, 5, 6, 2, 2, 1, 0, 4, 8, 12, 8, 9, 5, 9, 10, 6, 2, 2, 1, 0, 4, 8, 12, 8, 9, 5, 6, 2, 2, 1, 0, 4, 8, 12, 8, 9, 5, 6, 2, 2, 1, 0, 4, 8, 12, 8, 9, 5, 6, 2, 2, 1, 0, 4, 8, 12, 16, 17, 13, 9, 5, 1, 2, 2, 6, 10, 9, 13, 12, 13, 14, 10, 6, 2, 2, 1, 0, 4, 8, 12, 8, 9, 5, 6, 2, 2, 1, 0, 4, 8, 12, 8, 9, 5, 9, 10, 6, 2, 2, 1, 0, 4, 8, 12, 8, 9, 5, 6, 2, 2, 1, 0]\n",
      "LTL [+++]  LDBA [ 0.16 ] path: [17, 17, 16, 16, 17, 13, 9, 8, 4, 0, 1, 2, 6, 5, 9, 13, 17, 13, 9, 5, 1, 2, 2, 6, 10, 9, 13, 12, 13, 14, 10, 6, 2, 2, 1, 0, 4, 8, 12, 8, 9, 5, 6, 2, 2, 1, 0, 4, 8, 12, 8, 9, 5, 6, 2, 2, 1, 0, 4, 8, 12, 8, 9, 5, 6, 2, 2, 1, 0, 4, 8, 12, 8, 9, 5, 6, 2, 2, 1, 0, 4, 8, 12, 8, 9, 5, 6, 2, 2, 1, 0, 4, 8, 12, 8, 9, 5, 6, 2, 2, 1, 0, 4, 8, 12, 8, 9, 5, 6, 2, 2, 1, 0, 4, 8, 12, 8, 9, 5, 6, 2, 2, 1, 0, 4, 8, 12, 8, 9, 5, 9, 10, 6, 2, 2, 1, 0, 4, 8, 12, 8, 9, 5, 6, 2, 2, 1, 0, 4, 8, 12, 8, 9, 5, 6, 2, 2, 1, 0, 4, 8, 12, 8, 9, 5, 6, 2, 2, 1, 0, 4, 8, 12, 8, 9, 5, 6, 2, 2, 1, 0, 4, 8, 12, 8, 9, 5, 6, 2, 2, 1, 0, 4, 8, 12, 8, 9, 5, 6, 2]\n",
      "LTL [+++]  LDBA [ 0.16 ] path: [17, 17, 16, 16, 17, 13, 9, 8, 4, 0, 1, 2, 6, 5, 9, 13, 17, 13, 9, 5, 1, 2, 2, 6, 10, 9, 13, 12, 13, 14, 10, 6, 2, 2, 1, 0, 4, 8, 12, 8, 9, 5, 9, 10, 6, 2, 2, 1, 0, 4, 8, 12, 8, 9, 5, 6, 2, 2, 1, 0, 4, 8, 12, 8, 9, 5, 6, 2, 2, 1, 0, 4, 8, 12, 8, 9, 5, 6, 2, 2, 1, 0, 4, 8, 12, 8, 9, 5, 6, 2, 2, 1, 0, 4, 8, 12, 8, 9, 5, 6, 2, 2, 1, 0, 4, 8, 12, 8, 9, 5, 6, 2, 2, 1, 0, 4, 8, 12, 8, 9, 5, 6, 2, 2, 1, 0, 4, 8, 12, 8, 9, 5, 6, 2, 2, 1, 0, 4, 8, 12, 8, 9, 5, 6, 2, 2, 1, 0, 4, 8, 12, 8, 9, 5, 6, 2, 2, 1, 0, 4, 8, 12, 8, 9, 5, 6, 2, 2, 1, 0, 4, 8, 12, 8, 9, 5, 6, 2, 2, 1, 0, 4, 8, 12, 8, 9, 5, 6, 2, 2, 1, 0, 4, 8, 12, 8, 9, 5, 6, 2]\n",
      "LTL [---]  LDBA [ 0.16 ] path: [17, 18, 18, 17, 13, 9, 5, 1, 2, 6, 5, 9, 13, 17, 13, 9, 5, 1, 2, 2, 6, 10, 9, 13, 12, 13, 14, 10, 6, 2, 2, 1, 0, 4, 8, 12, 8, 9, 5, 6, 2, 2, 1, 0, 4, 8, 12, 8, 9, 5, 6, 2, 2, 1, 0, 4, 8, 12, 8, 9, 5, 6, 2, 2, 1, 0, 4, 8, 12, 8, 9, 5, 6, 2, 2, 1, 0, 4, 8, 12, 8, 9, 5, 6, 2, 2, 1, 0, 4, 8, 12, 8, 9, 5, 6, 2, 2, 1, 0, 4, 8, 12, 8, 9, 5, 6, 2, 2, 1, 0, 4, 8, 12, 8, 9, 5, 6, 2, 2, 1, 0, 4, 8, 12, 8, 9, 5, 6, 2, 2, 1, 0, 4, 8, 12, 8, 9, 5, 6, 2, 2, 1, 0, 4, 8, 12, 8, 9, 5, 6, 2, 2, 1, 0, 4, 8, 12, 8, 9, 5, 6, 2, 2, 1, 0, 4, 8, 12, 8, 9, 5, 6, 2, 2, 1, 0, 4, 8, 12, 8, 9, 5, 6, 2, 2, 1, 0, 4, 8, 12, 8, 9, 5, 6, 2, 2, 1, 0, 4, 8]\n",
      "LTL [---]  LDBA [ 0.16 ] path: [17, 13, 9, 5, 1, 2, 6, 5, 9, 13, 17, 13, 9, 5, 1, 2, 2, 6, 10, 9, 13, 12, 13, 14, 10, 6, 2, 2, 1, 0, 4, 8, 12, 8, 9, 5, 6, 2, 2, 1, 0, 4, 8, 12, 8, 9, 5, 6, 2, 2, 1, 0, 4, 8, 12, 8, 9, 5, 6, 2, 2, 1, 0, 4, 8, 12, 8, 9, 5, 6, 2, 2, 1, 0, 4, 8, 12, 8, 9, 5, 6, 2, 2, 1, 0, 4, 8, 12, 8, 9, 5, 6, 2, 2, 1, 0, 4, 8, 12, 8, 9, 5, 9, 10, 6, 2, 2, 1, 0, 4, 8, 12, 8, 9, 5, 9, 10, 6, 2, 2, 1, 0, 4, 8, 12, 8, 9, 5, 6, 2, 2, 1, 0, 4, 8, 12, 8, 9, 5, 9, 10, 6, 2, 2, 1, 0, 4, 8, 12, 8, 9, 5, 6, 2, 2, 1, 0, 4, 8, 12, 8, 9, 5, 6, 2, 2, 1, 0, 4, 8, 12, 8, 9, 5, 6, 2, 2, 1, 0, 4, 8, 12, 8, 9, 5, 6, 2, 2, 1, 0, 4, 8, 12, 8, 9, 5, 6, 2, 2, 1]\n",
      "LTL [---]  LDBA [ 0.15 ] path: [17, 13, 9, 5, 1, 2, 6, 5, 9, 13, 17, 13, 9, 5, 1, 2, 2, 6, 10, 9, 13, 12, 13, 14, 10, 6, 2, 2, 1, 0, 4, 8, 12, 8, 9, 5, 6, 2, 2, 1, 0, 4, 8, 12, 8, 9, 5, 6, 2, 2, 1, 0, 4, 8, 12, 8, 9, 5, 9, 10, 6, 2, 2, 1, 0, 4, 8, 12, 8, 9, 5, 6, 2, 2, 1, 0, 4, 8, 12, 8, 9, 5, 9, 10, 6, 2, 2, 1, 0, 4, 8, 12, 8, 9, 5, 6, 2, 2, 1, 0, 4, 8, 12, 8, 9, 5, 6, 2, 2, 1, 0, 4, 8, 12, 8, 9, 5, 6, 2, 2, 1, 0, 4, 8, 12, 8, 9, 5, 9, 5, 1, 2, 2, 1, 0, 4, 8, 12, 8, 9, 5, 6, 2, 2, 1, 0, 4, 8, 12, 8, 9, 5, 9, 10, 6, 2, 2, 1, 0, 4, 8, 12, 8, 9, 5, 9, 10, 6, 2, 2, 1, 0, 4, 8, 12, 8, 9, 5, 6, 2, 2, 1, 0, 4, 8, 12, 8, 9, 5, 6, 2, 2, 1, 0, 4, 8, 12, 8, 9, 5]\n",
      "LTL [---]  LDBA [ 0.13 ] path: [17, 17, 16, 16, 17, 13, 9, 5, 1, 2, 6, 5, 9, 13, 17, 13, 9, 5, 1, 2, 2, 6, 10, 9, 13, 12, 13, 14, 10, 6, 2, 2, 1, 0, 4, 8, 12, 8, 9, 5, 6, 2, 2, 1, 0, 4, 8, 12, 8, 9, 5, 6, 2, 2, 1, 0, 4, 8, 12, 8, 9, 5, 6, 2, 2, 1, 0, 4, 8, 12, 8, 9, 5, 6, 2, 2, 1, 0, 4, 8, 12, 8, 9, 5, 6, 2, 2, 1, 0, 4, 8, 12, 8, 9, 5, 6, 2, 2, 1, 0, 4, 8, 12, 8, 9, 5, 6, 2, 2, 1, 0, 4, 8, 12, 8, 9, 5, 6, 2, 2, 1, 0, 4, 8, 12, 8, 9, 5, 9, 10, 6, 2, 2, 1, 0, 4, 8, 12, 8, 9, 5, 6, 2, 2, 1, 0, 4, 8, 12, 16, 17, 13, 9, 5, 1, 2, 2, 6, 10, 9, 13, 12, 13, 14, 10, 6, 2, 2, 1, 0, 4, 8, 12, 8, 9, 5, 6, 2, 2, 1, 0, 4, 8, 12, 16, 17, 13, 9, 5, 1, 2, 2, 6, 10, 9, 13, 12, 13, 14, 10]\n",
      "LTL [---]  LDBA [ 0.16 ] path: [17, 17, 16, 16, 17, 13, 9, 5, 1, 2, 6, 5, 9, 13, 17, 13, 9, 5, 1, 2, 2, 6, 10, 9, 13, 12, 13, 14, 10, 6, 2, 2, 1, 0, 4, 8, 12, 8, 9, 5, 6, 2, 2, 1, 0, 4, 8, 12, 8, 9, 5, 6, 2, 2, 1, 0, 4, 8, 12, 8, 9, 5, 6, 2, 2, 1, 0, 4, 8, 12, 8, 9, 5, 6, 2, 2, 1, 0, 4, 8, 12, 8, 9, 5, 6, 2, 2, 1, 0, 4, 8, 12, 8, 9, 5, 6, 2, 2, 1, 0, 4, 8, 12, 8, 9, 5, 6, 2, 2, 1, 0, 4, 8, 12, 8, 9, 5, 6, 2, 2, 1, 0, 4, 8, 12, 8, 9, 5, 6, 2, 2, 1, 0, 4, 8, 12, 8, 9, 5, 6, 2, 2, 1, 0, 4, 8, 12, 8, 9, 5, 6, 2, 2, 1, 0, 4, 8, 12, 8, 9, 5, 6, 2, 2, 1, 0, 4, 8, 12, 8, 9, 5, 6, 2, 2, 1, 0, 4, 8, 12, 8, 9, 5, 6, 2, 2, 1, 0, 4, 8, 12, 8, 9, 5, 6, 2, 2, 1, 0, 4]\n",
      "LTL [+++]  LDBA [ 0.15 ] path: [17, 18, 18, 17, 13, 9, 8, 4, 0, 1, 2, 6, 5, 9, 13, 17, 13, 9, 5, 1, 2, 2, 6, 10, 9, 13, 12, 13, 14, 10, 6, 2, 2, 1, 0, 4, 8, 12, 8, 9, 5, 9, 10, 6, 2, 2, 1, 0, 4, 8, 12, 8, 9, 5, 9, 10, 6, 2, 2, 1, 0, 4, 8, 12, 8, 9, 5, 9, 10, 6, 2, 2, 1, 0, 4, 8, 12, 8, 9, 5, 6, 2, 2, 1, 0, 4, 8, 12, 8, 9, 5, 6, 2, 2, 1, 0, 4, 8, 12, 8, 9, 5, 9, 10, 6, 2, 2, 1, 0, 4, 8, 12, 8, 9, 5, 6, 2, 2, 1, 0, 4, 8, 12, 8, 9, 5, 6, 2, 2, 1, 0, 4, 8, 12, 8, 9, 5, 6, 2, 2, 1, 0, 4, 8, 12, 8, 9, 5, 6, 2, 2, 1, 0, 4, 8, 12, 8, 9, 5, 6, 2, 2, 1, 0, 4, 8, 12, 8, 9, 5, 6, 2, 2, 1, 0, 4, 8, 12, 8, 9, 5, 6, 2, 2, 1, 0, 4, 8, 12, 8, 9, 5, 6, 2, 2, 1, 0, 4, 8, 12]\n",
      "LTL [+++]  LDBA [ 0.16 ] path: [17, 17, 16, 16, 17, 13, 9, 8, 4, 0, 1, 2, 6, 5, 9, 13, 17, 13, 9, 5, 1, 2, 2, 6, 10, 9, 13, 12, 13, 14, 10, 6, 2, 2, 1, 0, 4, 8, 12, 8, 9, 5, 6, 2, 2, 1, 0, 4, 8, 12, 8, 9, 5, 6, 2, 2, 1, 0, 4, 8, 12, 8, 9, 5, 6, 2, 2, 1, 0, 4, 8, 12, 8, 9, 5, 6, 2, 2, 1, 0, 4, 8, 12, 8, 9, 5, 6, 2, 2, 1, 0, 4, 8, 12, 8, 9, 5, 6, 2, 2, 1, 0, 4, 8, 12, 8, 9, 5, 6, 2, 2, 1, 0, 4, 8, 12, 8, 9, 5, 6, 2, 2, 1, 0, 4, 8, 12, 8, 9, 5, 6, 2, 2, 1, 0, 4, 8, 12, 8, 9, 5, 9, 10, 6, 2, 2, 1, 0, 4, 8, 12, 8, 9, 5, 6, 2, 2, 1, 0, 4, 8, 12, 8, 9, 5, 6, 2, 2, 1, 0, 4, 8, 12, 8, 9, 5, 6, 2, 2, 1, 0, 4, 8, 12, 8, 9, 5, 6, 2, 2, 1, 0, 4, 8, 12, 8, 9, 5, 6, 2]\n",
      "LTL [+++]  LDBA [ 0.15 ] path: [17, 13, 9, 5, 1, 2, 6, 5, 9, 13, 17, 13, 9, 5, 1, 2, 2, 6, 10, 9, 13, 12, 13, 14, 10, 6, 2, 2, 1, 0, 4, 8, 12, 8, 9, 5, 6, 2, 2, 1, 0, 4, 8, 12, 8, 9, 5, 6, 2, 2, 1, 0, 4, 8, 12, 8, 9, 5, 9, 10, 6, 2, 2, 1, 0, 4, 8, 12, 8, 9, 5, 6, 2, 2, 1, 0, 4, 8, 12, 8, 9, 5, 6, 2, 2, 1, 0, 4, 8, 12, 8, 9, 5, 9, 10, 6, 2, 2, 1, 0, 4, 8, 12, 8, 9, 5, 6, 2, 2, 1, 0, 4, 8, 12, 16, 17, 13, 9, 5, 1, 2, 2, 6, 10, 9, 13, 12, 13, 14, 10, 6, 2, 2, 1, 0, 4, 8, 12, 8, 9, 5, 9, 10, 6, 2, 2, 1, 0, 4, 8, 12, 8, 9, 5, 6, 2, 2, 1, 0, 4, 8, 12, 8, 9, 5, 6, 2, 2, 1, 0, 4, 8, 12, 8, 9, 5, 6, 2, 2, 1, 0, 4, 8, 12, 8, 9, 5, 6, 2, 2, 1, 0, 4, 8, 12, 8, 9, 5, 6, 2]\n",
      "LTL [+++]  LDBA [ 0.16 ] path: [17, 13, 9, 5, 1, 2, 6, 5, 9, 13, 17, 13, 9, 5, 1, 2, 2, 6, 10, 9, 13, 12, 13, 14, 10, 6, 2, 2, 1, 0, 4, 8, 12, 8, 9, 5, 6, 2, 2, 1, 0, 4, 8, 12, 8, 9, 5, 6, 2, 2, 1, 0, 4, 8, 12, 8, 9, 5, 6, 2, 2, 1, 0, 4, 8, 12, 8, 9, 5, 6, 2, 2, 1, 0, 4, 8, 12, 8, 9, 5, 6, 2, 2, 1, 0, 4, 8, 12, 8, 9, 5, 6, 2, 2, 1, 0, 4, 8, 12, 8, 9, 5, 6, 2, 2, 1, 0, 4, 8, 12, 8, 9, 5, 6, 2, 2, 1, 0, 4, 8, 12, 8, 9, 5, 9, 10, 6, 2, 2, 1, 0, 4, 8, 12, 8, 9, 5, 6, 2, 2, 1, 0, 4, 8, 12, 8, 9, 5, 6, 2, 2, 1, 0, 4, 8, 12, 8, 9, 5, 6, 2, 2, 1, 0, 4, 8, 12, 8, 9, 5, 6, 2, 2, 1, 0, 4, 8, 12, 8, 9, 5, 6, 2, 2, 1, 0, 4, 8, 12, 8, 9, 5, 6, 2, 2, 1, 0, 4, 8, 12]\n",
      "LTL [+++]  LDBA [ 0.15 ] path: [17, 13, 9, 5, 1, 2, 6, 5, 9, 13, 17, 13, 9, 5, 1, 2, 2, 6, 10, 9, 13, 12, 13, 14, 10, 6, 2, 2, 1, 0, 4, 8, 12, 8, 9, 5, 6, 2, 2, 1, 0, 4, 8, 12, 8, 9, 5, 6, 2, 2, 1, 0, 4, 8, 12, 16, 17, 13, 9, 5, 1, 2, 2, 6, 10, 9, 13, 12, 13, 14, 10, 6, 2, 2, 1, 0, 4, 8, 12, 8, 9, 5, 6, 2, 2, 1, 0, 4, 8, 12, 8, 9, 5, 6, 2, 2, 1, 0, 4, 8, 12, 8, 9, 5, 6, 2, 2, 1, 0, 4, 8, 12, 8, 9, 5, 6, 2, 2, 1, 0, 4, 8, 12, 8, 9, 5, 6, 2, 2, 1, 0, 4, 8, 12, 8, 9, 5, 6, 2, 2, 1, 0, 4, 8, 12, 8, 9, 5, 6, 2, 2, 1, 0, 4, 8, 12, 8, 9, 5, 6, 2, 2, 1, 0, 4, 8, 12, 8, 9, 5, 6, 2, 2, 1, 0, 4, 8, 12, 8, 9, 5, 6, 2, 2, 1, 0, 4, 8, 12, 8, 9, 5, 6, 2, 2, 1, 0, 4, 8, 12]\n",
      "LTL [---]  LDBA [ 0.15 ] path: [17, 17, 16, 16, 17, 13, 9, 5, 1, 2, 6, 5, 9, 13, 17, 13, 9, 5, 1, 2, 2, 6, 10, 9, 13, 12, 13, 14, 10, 6, 2, 2, 1, 0, 4, 8, 12, 8, 9, 5, 6, 2, 2, 1, 0, 4, 8, 12, 8, 9, 5, 6, 2, 2, 1, 0, 4, 8, 12, 8, 9, 5, 6, 2, 2, 1, 0, 4, 8, 12, 16, 17, 13, 9, 5, 1, 2, 2, 6, 10, 9, 13, 12, 13, 14, 10, 6, 2, 2, 1, 0, 4, 8, 12, 8, 9, 5, 6, 2, 2, 1, 0, 4, 8, 12, 8, 9, 5, 6, 2, 2, 1, 0, 4, 8, 12, 8, 9, 5, 6, 2, 2, 1, 0, 4, 8, 12, 8, 9, 5, 6, 2, 2, 1, 0, 4, 8, 12, 8, 9, 5, 6, 2, 2, 1, 0, 4, 8, 12, 8, 9, 5, 6, 2, 2, 1, 0, 4, 8, 12, 8, 9, 5, 6, 2, 2, 1, 0, 4, 8, 12, 8, 9, 5, 6, 2, 2, 1, 0, 4, 8, 12, 8, 9, 5, 6, 2, 2, 1, 0, 4, 8, 12, 8, 9, 5, 6, 2, 2, 1]\n",
      "LTL [+++]  LDBA [ 0.16 ] path: [17, 13, 9, 5, 1, 2, 6, 5, 9, 13, 17, 13, 9, 5, 1, 2, 2, 6, 10, 9, 13, 12, 13, 14, 10, 6, 2, 2, 1, 0, 4, 8, 12, 8, 9, 5, 6, 2, 2, 1, 0, 4, 8, 12, 8, 9, 5, 6, 2, 2, 1, 0, 4, 8, 12, 8, 9, 5, 6, 2, 2, 1, 0, 4, 8, 12, 8, 9, 5, 6, 2, 2, 1, 0, 4, 8, 12, 8, 9, 5, 6, 2, 2, 1, 0, 4, 8, 12, 8, 9, 5, 6, 2, 2, 1, 0, 4, 8, 12, 8, 9, 5, 6, 2, 2, 1, 0, 4, 8, 12, 8, 9, 5, 6, 2, 2, 1, 0, 4, 8, 12, 8, 9, 5, 6, 2, 2, 1, 0, 4, 8, 12, 8, 9, 5, 6, 2, 2, 1, 0, 4, 8, 12, 8, 9, 5, 9, 10, 6, 2, 2, 1, 0, 4, 8, 12, 8, 9, 5, 6, 2, 2, 1, 0, 4, 8, 12, 8, 9, 5, 6, 2, 2, 1, 0, 4, 8, 12, 8, 9, 5, 6, 2, 2, 1, 0, 4, 8, 12, 8, 9, 5, 6, 2, 2, 1, 0, 4, 8, 12]\n",
      "LTL [---]  LDBA [ 0.16 ] path: [17, 13, 9, 5, 1, 2, 6, 5, 9, 13, 17, 13, 9, 5, 1, 2, 2, 6, 10, 9, 13, 12, 13, 14, 10, 6, 2, 2, 1, 0, 4, 8, 12, 8, 9, 5, 6, 2, 2, 1, 0, 4, 8, 12, 8, 9, 5, 9, 10, 6, 2, 2, 1, 0, 4, 8, 12, 8, 9, 5, 6, 2, 2, 1, 0, 4, 8, 12, 8, 9, 5, 6, 2, 2, 1, 0, 4, 8, 12, 8, 9, 5, 6, 2, 2, 1, 0, 4, 8, 12, 8, 9, 5, 6, 2, 2, 1, 0, 4, 8, 12, 8, 9, 5, 6, 2, 2, 1, 0, 4, 8, 12, 8, 9, 5, 6, 2, 2, 1, 0, 4, 8, 12, 8, 9, 5, 6, 2, 2, 1, 0, 4, 8, 12, 8, 9, 5, 6, 2, 2, 1, 0, 4, 8, 12, 8, 9, 5, 9, 10, 6, 2, 2, 1, 0, 4, 8, 12, 8, 9, 5, 6, 2, 2, 1, 0, 4, 8, 12, 8, 9, 5, 6, 2, 2, 1, 0, 4, 8, 12, 8, 9, 5, 6, 2, 2, 1, 0, 4, 8, 12, 8, 9, 5, 6, 2, 2, 1, 0, 4]\n",
      "LTL [---]  LDBA [ 0.15 ] path: [17, 13, 9, 8, 4, 0, 1, 2, 6, 5, 9, 13, 17, 13, 9, 5, 1, 2, 2, 6, 10, 9, 13, 12, 13, 14, 10, 6, 2, 2, 1, 0, 4, 8, 12, 8, 9, 5, 6, 2, 2, 1, 0, 4, 8, 12, 8, 9, 5, 6, 2, 2, 1, 0, 4, 8, 12, 8, 9, 5, 6, 2, 2, 1, 0, 4, 8, 12, 8, 9, 5, 6, 2, 2, 1, 0, 4, 8, 12, 8, 9, 5, 6, 2, 2, 1, 0, 4, 8, 12, 8, 9, 5, 6, 2, 2, 1, 0, 4, 8, 12, 16, 17, 13, 9, 5, 1, 2, 2, 6, 10, 9, 13, 12, 13, 14, 10, 6, 2, 2, 1, 0, 4, 8, 12, 8, 9, 5, 6, 2, 2, 1, 0, 4, 8, 12, 8, 9, 5, 6, 2, 2, 1, 0, 4, 8, 12, 8, 9, 5, 6, 2, 2, 1, 0, 4, 8, 12, 8, 9, 5, 6, 2, 2, 1, 0, 4, 8, 12, 8, 9, 5, 6, 2, 2, 1, 0, 4, 8, 12, 8, 9, 5, 6, 2, 2, 1, 0, 4, 8, 12, 8, 9, 5, 6, 2, 2, 1, 0, 4]\n",
      "LTL [---]  LDBA [ 0.16 ] path: [17, 13, 9, 8, 4, 0, 1, 2, 6, 5, 9, 13, 17, 13, 9, 5, 1, 2, 2, 6, 10, 9, 13, 12, 13, 14, 10, 6, 2, 2, 1, 0, 4, 8, 12, 8, 9, 5, 6, 2, 2, 1, 0, 4, 8, 12, 8, 9, 5, 6, 2, 2, 1, 0, 4, 8, 12, 8, 9, 5, 6, 2, 2, 1, 0, 4, 8, 12, 8, 9, 5, 6, 2, 2, 1, 0, 4, 8, 12, 8, 9, 5, 6, 2, 2, 1, 0, 4, 8, 12, 8, 9, 5, 6, 2, 2, 1, 0, 4, 8, 12, 8, 9, 5, 9, 10, 6, 2, 2, 1, 0, 4, 8, 12, 8, 9, 5, 6, 2, 2, 1, 0, 4, 8, 12, 8, 9, 5, 6, 2, 2, 1, 0, 4, 8, 12, 8, 9, 5, 6, 2, 2, 1, 0, 4, 8, 12, 8, 9, 5, 6, 2, 2, 1, 0, 4, 8, 12, 8, 9, 5, 6, 2, 2, 1, 0, 4, 8, 12, 8, 9, 5, 6, 2, 2, 1, 0, 4, 8, 12, 8, 9, 5, 6, 2, 2, 1, 0, 4, 8, 12, 8, 9, 5, 6, 2, 2, 1, 0, 4]\n",
      "LTL [---]  LDBA [ 0.14 ] path: [17, 17, 16, 16, 17, 13, 9, 8, 4, 0, 0, 1, 2, 6, 5, 9, 13, 17, 13, 9, 5, 1, 2, 2, 6, 10, 9, 13, 12, 13, 14, 10, 6, 2, 2, 1, 0, 4, 8, 12, 8, 9, 5, 6, 2, 2, 1, 0, 4, 8, 12, 8, 9, 5, 6, 2, 2, 1, 0, 4, 8, 12, 8, 9, 5, 6, 2, 2, 1, 0, 4, 8, 12, 8, 9, 5, 6, 2, 2, 1, 0, 4, 8, 12, 8, 9, 5, 6, 2, 2, 1, 0, 4, 8, 12, 8, 9, 5, 6, 2, 2, 1, 0, 4, 8, 12, 8, 9, 5, 6, 2, 2, 1, 0, 4, 8, 12, 8, 9, 5, 6, 2, 2, 1, 0, 4, 8, 12, 8, 9, 5, 6, 2, 2, 1, 0, 4, 8, 12, 8, 9, 5, 6, 2, 2, 1, 0, 4, 8, 12, 16, 17, 13, 9, 5, 1, 2, 2, 6, 10, 9, 13, 12, 13, 14, 10, 6, 2, 2, 1, 0, 4, 8, 12, 8, 9, 5, 6, 2, 2, 1, 0, 4, 8, 12, 8, 9, 5, 6, 2, 2, 1, 0, 4, 8, 12, 16, 17, 13, 9]\n",
      "LTL [+++]  LDBA [ 0.15 ] path: [17, 13, 9, 5, 1, 2, 6, 5, 9, 13, 17, 13, 9, 5, 1, 2, 2, 6, 10, 9, 13, 12, 13, 14, 10, 6, 2, 2, 1, 0, 4, 8, 12, 8, 9, 5, 6, 2, 2, 1, 0, 4, 8, 12, 8, 9, 5, 6, 2, 2, 1, 0, 4, 8, 12, 8, 9, 5, 6, 2, 2, 1, 0, 4, 8, 12, 8, 9, 5, 6, 2, 2, 1, 0, 4, 8, 12, 8, 9, 5, 6, 2, 2, 1, 0, 4, 8, 12, 8, 9, 5, 6, 2, 2, 1, 0, 4, 8, 12, 8, 9, 5, 6, 2, 2, 1, 0, 4, 8, 12, 8, 9, 5, 6, 2, 2, 1, 0, 4, 8, 12, 8, 9, 5, 6, 2, 2, 1, 0, 4, 8, 12, 16, 17, 13, 9, 5, 1, 2, 2, 6, 10, 9, 13, 12, 13, 14, 10, 6, 2, 2, 1, 0, 4, 8, 12, 8, 9, 5, 6, 2, 2, 1, 0, 4, 8, 12, 8, 9, 5, 6, 2, 2, 1, 0, 4, 8, 12, 8, 9, 5, 6, 2, 2, 1, 0, 4, 8, 12, 8, 9, 5, 6, 2, 2, 1, 0, 4, 8, 12]\n",
      "LTL [+++]  LDBA [ 0.16 ] path: [17, 13, 9, 8, 4, 0, 1, 2, 6, 5, 9, 13, 17, 13, 9, 5, 1, 2, 2, 6, 10, 9, 13, 12, 13, 14, 10, 6, 2, 2, 1, 0, 4, 8, 12, 8, 9, 5, 6, 2, 2, 1, 0, 4, 8, 12, 8, 9, 5, 6, 2, 2, 1, 0, 4, 8, 12, 8, 9, 5, 6, 2, 2, 1, 0, 4, 8, 12, 8, 9, 5, 6, 2, 2, 1, 0, 4, 8, 12, 8, 9, 5, 6, 2, 2, 1, 0, 4, 8, 12, 8, 9, 5, 6, 2, 2, 1, 0, 4, 8, 12, 8, 9, 5, 6, 2, 2, 1, 0, 4, 8, 12, 8, 9, 5, 6, 2, 2, 1, 0, 4, 8, 12, 8, 9, 5, 6, 2, 2, 1, 0, 4, 8, 12, 8, 9, 5, 6, 2, 2, 1, 0, 4, 8, 12, 8, 9, 5, 6, 2, 2, 1, 0, 4, 8, 12, 8, 9, 5, 6, 2, 2, 1, 0, 4, 8, 12, 8, 9, 5, 6, 2, 2, 1, 0, 4, 8, 12, 8, 9, 5, 6, 2, 2, 1, 0, 4, 8, 12, 8, 9, 5, 6, 2, 2, 1, 0, 4, 8, 12]\n",
      "LTL [---]  LDBA [ 0.16 ] path: [17, 17, 16, 16, 17, 13, 9, 8, 4, 0, 1, 2, 6, 5, 9, 13, 17, 13, 9, 5, 1, 2, 2, 6, 10, 9, 13, 12, 13, 14, 10, 6, 2, 2, 1, 0, 4, 8, 12, 8, 9, 5, 6, 2, 2, 1, 0, 4, 8, 12, 8, 9, 5, 6, 2, 2, 1, 0, 4, 8, 12, 8, 9, 5, 6, 2, 2, 1, 0, 4, 8, 12, 8, 9, 5, 6, 2, 2, 1, 0, 4, 8, 12, 8, 9, 5, 6, 2, 2, 1, 0, 4, 8, 12, 8, 9, 5, 6, 2, 2, 1, 0, 4, 8, 12, 8, 9, 5, 6, 2, 2, 1, 0, 4, 8, 12, 8, 9, 5, 6, 2, 2, 1, 0, 4, 8, 12, 8, 9, 5, 6, 2, 2, 1, 0, 4, 8, 12, 8, 9, 5, 6, 2, 2, 1, 0, 4, 8, 12, 8, 9, 5, 6, 2, 2, 1, 0, 4, 8, 12, 8, 9, 5, 6, 2, 2, 1, 0, 4, 8, 12, 8, 9, 5, 6, 2, 2, 1, 0, 4, 8, 12, 8, 9, 5, 6, 2, 2, 1, 0, 4, 8, 12, 8, 9, 5, 6, 2, 2, 1]\n",
      "LTL [+++]  LDBA [ 0.16 ] path: [17, 13, 9, 8, 4, 0, 1, 2, 6, 5, 9, 13, 17, 13, 9, 5, 1, 2, 2, 6, 10, 9, 13, 12, 13, 14, 10, 6, 2, 2, 1, 0, 4, 8, 12, 8, 9, 5, 6, 2, 2, 1, 0, 4, 8, 12, 8, 9, 5, 6, 2, 2, 1, 0, 4, 8, 12, 8, 9, 5, 6, 2, 2, 1, 0, 4, 8, 12, 8, 9, 5, 6, 2, 2, 1, 0, 4, 8, 12, 8, 9, 5, 6, 2, 2, 1, 0, 4, 8, 12, 8, 9, 5, 6, 2, 2, 1, 0, 4, 8, 12, 8, 9, 5, 6, 2, 2, 1, 0, 4, 8, 12, 8, 9, 5, 6, 2, 2, 1, 0, 4, 8, 12, 8, 9, 5, 6, 2, 2, 1, 0, 4, 8, 12, 8, 9, 5, 6, 2, 2, 1, 0, 4, 8, 12, 8, 9, 5, 6, 2, 2, 1, 0, 4, 8, 12, 8, 9, 5, 6, 2, 2, 1, 0, 4, 8, 12, 8, 9, 5, 6, 2, 2, 1, 0, 4, 8, 12, 8, 9, 5, 6, 2, 2, 1, 0, 4, 8, 12, 8, 9, 5, 6, 2, 2, 1, 0, 4, 8, 12]\n",
      "LTL [---]  LDBA [ 0.15 ] path: [17, 13, 9, 8, 4, 0, 1, 2, 6, 5, 9, 13, 17, 13, 9, 5, 1, 2, 2, 6, 10, 9, 13, 12, 13, 14, 10, 6, 2, 2, 1, 0, 4, 8, 12, 8, 9, 5, 6, 2, 2, 1, 0, 4, 8, 12, 8, 9, 5, 6, 2, 2, 1, 0, 4, 8, 12, 8, 9, 5, 6, 2, 2, 1, 0, 4, 8, 12, 8, 9, 5, 6, 2, 2, 1, 0, 4, 8, 12, 8, 9, 5, 6, 2, 2, 1, 0, 4, 8, 12, 8, 9, 5, 6, 2, 2, 1, 0, 4, 8, 12, 8, 9, 5, 6, 2, 2, 1, 0, 4, 8, 12, 8, 9, 5, 6, 2, 2, 1, 0, 4, 8, 12, 16, 17, 13, 9, 5, 1, 2, 2, 6, 10, 9, 13, 12, 13, 14, 10, 6, 2, 2, 1, 0, 4, 8, 12, 8, 9, 5, 6, 2, 2, 1, 0, 4, 8, 12, 8, 9, 5, 6, 2, 2, 1, 0, 4, 8, 12, 8, 9, 5, 6, 2, 2, 1, 0, 4, 8, 12, 8, 9, 5, 6, 2, 2, 1, 0, 4, 8, 12, 8, 9, 5, 6, 2, 2, 1, 0, 4]\n",
      "LTL [---]  LDBA [ 0.15 ] path: [17, 17, 16, 16, 17, 13, 9, 8, 4, 0, 1, 2, 6, 5, 9, 13, 17, 13, 9, 5, 1, 2, 2, 6, 10, 9, 13, 12, 13, 14, 10, 6, 2, 2, 1, 0, 4, 8, 12, 8, 9, 5, 6, 2, 2, 1, 0, 4, 8, 12, 8, 9, 5, 6, 2, 2, 1, 0, 4, 8, 12, 8, 9, 5, 9, 10, 6, 2, 2, 1, 0, 4, 8, 12, 8, 9, 5, 6, 2, 2, 1, 0, 4, 8, 12, 8, 9, 5, 6, 2, 2, 1, 0, 4, 8, 12, 8, 9, 5, 9, 10, 6, 2, 2, 1, 0, 4, 8, 12, 8, 9, 5, 6, 2, 2, 1, 0, 4, 8, 12, 8, 9, 5, 6, 2, 2, 1, 0, 4, 8, 12, 8, 9, 5, 6, 2, 2, 1, 0, 4, 8, 12, 8, 9, 5, 6, 2, 2, 1, 0, 4, 8, 12, 8, 9, 5, 6, 2, 2, 1, 0, 4, 8, 12, 8, 9, 5, 6, 2, 2, 1, 0, 4, 8, 12, 8, 9, 5, 6, 2, 2, 1, 0, 4, 8, 12, 8, 9, 5, 6, 2, 2, 1, 0, 4, 8, 12, 8, 9, 5]\n",
      "LTL [+++]  LDBA [ 0.14 ] path: [17, 13, 9, 8, 4, 0, 1, 2, 6, 5, 9, 13, 17, 13, 9, 5, 1, 2, 2, 6, 10, 9, 13, 12, 13, 14, 10, 6, 2, 2, 1, 0, 4, 8, 12, 8, 9, 5, 6, 2, 2, 1, 0, 4, 8, 12, 8, 9, 5, 6, 2, 2, 1, 0, 4, 8, 12, 8, 9, 5, 9, 10, 6, 2, 2, 1, 0, 4, 8, 12, 8, 9, 5, 6, 2, 2, 1, 0, 4, 8, 12, 16, 17, 13, 9, 5, 1, 2, 2, 6, 10, 9, 13, 12, 13, 14, 10, 6, 2, 2, 1, 0, 4, 8, 12, 8, 9, 5, 6, 2, 2, 1, 0, 4, 8, 12, 8, 9, 5, 6, 2, 2, 1, 0, 4, 8, 12, 8, 9, 5, 6, 2, 2, 1, 0, 4, 8, 12, 8, 9, 5, 6, 2, 2, 1, 0, 4, 8, 12, 8, 9, 5, 6, 2, 2, 1, 0, 4, 8, 12, 8, 9, 5, 6, 2, 2, 1, 0, 4, 8, 12, 16, 17, 13, 9, 5, 1, 2, 2, 6, 10, 9, 13, 12, 13, 14, 10, 6, 2, 2, 1, 0, 4, 8, 12, 8, 9, 5, 6, 2]\n",
      "LTL [+++]  LDBA [ 0.16 ] path: [17, 13, 9, 8, 4, 0, 1, 2, 6, 5, 9, 13, 17, 13, 9, 5, 1, 2, 2, 6, 10, 9, 13, 12, 13, 14, 10, 6, 2, 2, 1, 0, 4, 8, 12, 8, 9, 5, 6, 2, 2, 1, 0, 4, 8, 12, 8, 9, 5, 6, 2, 2, 1, 0, 4, 8, 12, 8, 9, 5, 6, 2, 2, 1, 0, 4, 8, 12, 8, 9, 5, 6, 2, 2, 1, 0, 4, 8, 12, 8, 9, 5, 6, 2, 2, 1, 0, 4, 8, 12, 8, 9, 5, 6, 2, 2, 1, 0, 4, 8, 12, 8, 9, 5, 6, 2, 2, 1, 0, 4, 8, 12, 8, 9, 5, 6, 2, 2, 1, 0, 4, 8, 12, 8, 9, 5, 6, 2, 2, 1, 0, 4, 8, 12, 8, 9, 5, 6, 2, 2, 1, 0, 4, 8, 12, 8, 9, 5, 6, 2, 2, 1, 0, 4, 8, 12, 8, 9, 5, 6, 2, 2, 1, 0, 4, 8, 12, 8, 9, 5, 6, 2, 2, 1, 0, 4, 8, 12, 8, 9, 5, 6, 2, 2, 1, 0, 4, 8, 12, 8, 9, 5, 6, 2, 2, 1, 0, 4, 8, 12]\n",
      "LTL [---]  LDBA [ 0.15 ] path: [17, 13, 9, 8, 4, 0, 1, 2, 6, 5, 9, 13, 17, 13, 9, 5, 1, 2, 2, 6, 10, 9, 13, 12, 13, 14, 10, 6, 2, 2, 1, 0, 4, 8, 12, 8, 9, 5, 6, 2, 2, 1, 0, 4, 8, 12, 8, 9, 5, 6, 2, 2, 1, 0, 4, 8, 12, 8, 9, 5, 6, 2, 2, 1, 0, 4, 8, 12, 8, 9, 5, 6, 2, 2, 1, 0, 4, 8, 12, 16, 17, 13, 9, 5, 1, 2, 2, 6, 10, 9, 13, 12, 13, 14, 10, 6, 2, 2, 1, 0, 4, 8, 12, 8, 9, 5, 6, 2, 2, 1, 0, 4, 8, 12, 8, 9, 5, 6, 2, 2, 1, 0, 4, 8, 12, 8, 9, 5, 6, 2, 2, 1, 0, 4, 8, 12, 8, 9, 5, 6, 2, 2, 1, 0, 4, 8, 12, 8, 9, 5, 6, 2, 2, 1, 0, 4, 8, 12, 8, 9, 5, 6, 2, 2, 1, 0, 4, 8, 12, 8, 9, 5, 6, 2, 2, 1, 0, 4, 8, 12, 8, 9, 5, 6, 2, 2, 1, 0, 4, 8, 12, 8, 9, 5, 6, 2, 2, 1, 0, 4]\n",
      "LTL [---]  LDBA [ 0.15 ] path: [17, 17, 16, 16, 17, 13, 9, 5, 1, 2, 6, 5, 9, 13, 17, 13, 9, 5, 1, 2, 2, 6, 10, 9, 13, 12, 13, 14, 10, 6, 2, 2, 1, 0, 4, 8, 12, 8, 9, 5, 6, 2, 2, 1, 0, 4, 8, 12, 8, 9, 5, 6, 2, 2, 1, 0, 4, 8, 12, 8, 9, 5, 6, 2, 2, 1, 0, 4, 8, 12, 8, 9, 5, 6, 2, 2, 1, 0, 4, 8, 12, 8, 9, 5, 6, 2, 2, 1, 0, 4, 8, 12, 8, 9, 5, 6, 2, 2, 1, 0, 4, 8, 12, 8, 9, 5, 6, 2, 2, 1, 0, 4, 8, 12, 8, 9, 5, 6, 2, 2, 1, 0, 4, 8, 12, 8, 9, 5, 6, 2, 2, 1, 0, 4, 8, 12, 8, 9, 5, 6, 2, 2, 1, 0, 4, 8, 12, 8, 9, 5, 6, 2, 2, 1, 0, 4, 8, 12, 16, 17, 13, 9, 5, 1, 2, 2, 6, 10, 9, 13, 12, 13, 14, 10, 6, 2, 2, 1, 0, 4, 8, 12, 8, 9, 5, 6, 2, 2, 1, 0, 4, 8, 12, 8, 9, 5, 6, 2, 2, 1]\n",
      "LTL [+++]  LDBA [ 0.16 ] path: [17, 13, 9, 8, 4, 0, 1, 2, 6, 5, 9, 13, 17, 13, 9, 5, 1, 2, 2, 6, 10, 9, 13, 12, 13, 14, 10, 6, 2, 2, 1, 0, 4, 8, 12, 8, 9, 5, 6, 2, 2, 1, 0, 4, 8, 12, 8, 9, 5, 6, 2, 2, 1, 0, 4, 8, 12, 8, 9, 5, 6, 2, 2, 1, 0, 4, 8, 12, 8, 9, 5, 6, 2, 2, 1, 0, 4, 8, 12, 8, 9, 5, 6, 2, 2, 1, 0, 4, 8, 12, 8, 9, 5, 6, 2, 2, 1, 0, 4, 8, 12, 8, 9, 5, 6, 2, 2, 1, 0, 4, 8, 12, 8, 9, 5, 6, 2, 2, 1, 0, 4, 8, 12, 8, 9, 5, 6, 2, 2, 1, 0, 4, 8, 12, 8, 9, 5, 6, 2, 2, 1, 0, 4, 8, 12, 8, 9, 5, 6, 2, 2, 1, 0, 4, 8, 12, 8, 9, 5, 6, 2, 2, 1, 0, 4, 8, 12, 8, 9, 5, 6, 2, 2, 1, 0, 4, 8, 12, 8, 9, 5, 6, 2, 2, 1, 0, 4, 8, 12, 8, 9, 5, 6, 2, 2, 1, 0, 4, 8, 12]\n",
      "LTL [+++]  LDBA [ 0.16 ] path: [17, 13, 9, 8, 4, 0, 1, 2, 6, 5, 9, 13, 17, 13, 9, 5, 1, 2, 2, 6, 10, 9, 13, 12, 13, 14, 10, 6, 2, 2, 1, 0, 4, 8, 12, 8, 9, 5, 6, 2, 2, 1, 0, 4, 8, 12, 8, 9, 5, 6, 2, 2, 1, 0, 4, 8, 12, 8, 9, 5, 6, 2, 2, 1, 0, 4, 8, 12, 8, 9, 5, 6, 2, 2, 1, 0, 4, 8, 12, 8, 9, 5, 6, 2, 2, 1, 0, 4, 8, 12, 8, 9, 5, 6, 2, 2, 1, 0, 4, 8, 12, 8, 9, 5, 6, 2, 2, 1, 0, 4, 8, 12, 8, 9, 5, 6, 2, 2, 1, 0, 4, 8, 12, 8, 9, 5, 6, 2, 2, 1, 0, 4, 8, 12, 8, 9, 5, 6, 2, 2, 1, 0, 4, 8, 12, 8, 9, 5, 6, 2, 2, 1, 0, 4, 8, 12, 8, 9, 5, 6, 2, 2, 1, 0, 4, 8, 12, 8, 9, 5, 6, 2, 2, 1, 0, 4, 8, 12, 8, 9, 5, 6, 2, 2, 1, 0, 4, 8, 12, 8, 9, 5, 6, 2, 2, 1, 0, 4, 8, 12]\n",
      "LTL [+++]  LDBA [ 0.15 ] path: [17, 17, 16, 16, 17, 13, 9, 8, 4, 0, 1, 2, 6, 5, 9, 13, 17, 13, 9, 5, 1, 2, 2, 6, 10, 9, 13, 12, 13, 14, 10, 6, 2, 2, 1, 0, 4, 8, 12, 8, 9, 5, 6, 2, 2, 1, 0, 4, 8, 12, 8, 9, 5, 6, 2, 2, 1, 0, 4, 8, 12, 8, 9, 5, 6, 2, 2, 1, 0, 4, 8, 12, 8, 9, 5, 6, 2, 2, 1, 0, 4, 8, 12, 8, 9, 5, 6, 2, 2, 1, 0, 4, 8, 12, 8, 9, 5, 6, 2, 2, 1, 0, 4, 8, 12, 8, 9, 5, 6, 2, 2, 1, 0, 4, 8, 12, 16, 17, 13, 9, 5, 1, 2, 2, 6, 10, 9, 13, 12, 13, 14, 10, 6, 2, 2, 1, 0, 4, 8, 12, 8, 9, 5, 6, 2, 2, 1, 0, 4, 8, 12, 8, 9, 5, 6, 2, 2, 1, 0, 4, 8, 12, 8, 9, 5, 6, 2, 2, 1, 0, 4, 8, 12, 8, 9, 5, 6, 2, 2, 1, 0, 4, 8, 12, 8, 9, 5, 6, 2, 2, 1, 0, 4, 8, 12, 8, 9, 5, 6, 2]\n",
      "LTL [+++]  LDBA [ 0.16 ] path: [17, 13, 9, 8, 4, 0, 1, 2, 6, 5, 9, 13, 17, 13, 9, 5, 1, 2, 2, 6, 10, 9, 13, 12, 13, 14, 10, 6, 2, 2, 1, 0, 4, 8, 12, 8, 9, 5, 6, 2, 2, 1, 0, 4, 8, 12, 8, 9, 5, 6, 2, 2, 1, 0, 4, 8, 12, 8, 9, 5, 6, 2, 2, 1, 0, 4, 8, 12, 8, 9, 5, 6, 2, 2, 1, 0, 4, 8, 12, 8, 9, 5, 6, 2, 2, 1, 0, 4, 8, 12, 8, 9, 5, 6, 2, 2, 1, 0, 4, 8, 12, 8, 9, 5, 6, 2, 2, 1, 0, 4, 8, 12, 8, 9, 5, 6, 2, 2, 1, 0, 4, 8, 12, 8, 9, 5, 6, 2, 2, 1, 0, 4, 8, 12, 8, 9, 5, 6, 2, 2, 1, 0, 4, 8, 12, 8, 9, 5, 6, 2, 2, 1, 0, 4, 8, 12, 8, 9, 5, 6, 2, 2, 1, 0, 4, 8, 12, 8, 9, 5, 6, 2, 2, 1, 0, 4, 8, 12, 8, 9, 5, 6, 2, 2, 1, 0, 4, 8, 12, 8, 9, 5, 6, 2, 2, 1, 0, 4, 8, 12]\n",
      "LTL [+++]  LDBA [ 0.14 ] path: [17, 13, 9, 8, 4, 0, 1, 2, 6, 5, 9, 13, 17, 13, 9, 5, 1, 2, 2, 6, 10, 9, 13, 12, 13, 14, 10, 6, 2, 2, 1, 0, 4, 8, 12, 8, 9, 5, 6, 2, 2, 1, 0, 4, 8, 12, 8, 9, 5, 6, 2, 2, 1, 0, 4, 8, 12, 8, 9, 5, 6, 2, 2, 1, 0, 4, 8, 12, 16, 17, 13, 9, 5, 1, 2, 2, 6, 10, 9, 13, 12, 13, 14, 10, 6, 2, 2, 1, 0, 4, 8, 12, 8, 9, 5, 6, 2, 2, 1, 0, 4, 8, 12, 8, 9, 5, 6, 2, 2, 1, 0, 4, 8, 12, 8, 9, 5, 6, 2, 2, 1, 0, 4, 8, 12, 16, 17, 13, 9, 5, 1, 2, 2, 6, 10, 9, 13, 12, 13, 14, 10, 6, 2, 2, 1, 0, 4, 8, 12, 8, 9, 5, 6, 2, 2, 1, 0, 4, 8, 12, 8, 9, 5, 9, 10, 6, 2, 2, 1, 0, 4, 8, 12, 8, 9, 5, 6, 2, 2, 1, 0, 4, 8, 12, 8, 9, 5, 6, 2, 2, 1, 0, 4, 8, 12, 8, 9, 5, 6, 2]\n",
      "LTL [---]  LDBA [ 0.16 ] path: [17, 13, 9, 8, 4, 0, 1, 2, 6, 5, 9, 13, 17, 13, 9, 5, 1, 2, 2, 6, 10, 9, 13, 12, 13, 14, 10, 6, 2, 2, 1, 0, 4, 8, 12, 8, 9, 5, 6, 2, 2, 1, 0, 4, 8, 12, 8, 9, 5, 6, 2, 2, 1, 0, 4, 8, 12, 8, 9, 5, 6, 2, 2, 1, 0, 4, 8, 12, 8, 9, 5, 6, 2, 2, 1, 0, 4, 8, 12, 8, 9, 5, 6, 2, 2, 1, 0, 4, 8, 12, 8, 9, 5, 6, 2, 2, 1, 0, 4, 8, 12, 8, 9, 5, 6, 2, 2, 1, 0, 4, 8, 12, 8, 9, 5, 6, 2, 2, 1, 0, 4, 8, 12, 8, 9, 5, 6, 2, 2, 1, 0, 4, 8, 12, 8, 9, 5, 6, 2, 2, 1, 0, 4, 8, 12, 8, 9, 5, 9, 10, 6, 2, 2, 1, 0, 4, 8, 12, 8, 9, 5, 9, 5, 1, 2, 2, 1, 0, 4, 8, 12, 8, 9, 5, 6, 2, 2, 1, 0, 4, 8, 12, 8, 9, 5, 6, 2, 2, 1, 0, 4, 8, 12, 8, 9, 5, 6, 2, 2, 1]\n",
      "LTL [---]  LDBA [ 0.16 ] path: [17, 13, 9, 8, 4, 0, 1, 2, 6, 5, 9, 13, 17, 13, 9, 5, 1, 2, 2, 6, 10, 9, 13, 12, 13, 14, 10, 6, 2, 2, 1, 0, 4, 8, 12, 8, 9, 5, 9, 5, 1, 2, 2, 1, 0, 4, 8, 12, 8, 9, 5, 6, 2, 2, 1, 0, 4, 8, 12, 8, 9, 5, 6, 2, 2, 1, 0, 4, 8, 12, 8, 9, 5, 6, 2, 2, 1, 0, 4, 8, 12, 8, 9, 5, 6, 2, 2, 1, 0, 4, 8, 12, 8, 9, 5, 6, 2, 2, 1, 0, 4, 8, 12, 8, 9, 5, 6, 2, 2, 1, 0, 4, 8, 12, 8, 9, 5, 6, 2, 2, 1, 0, 4, 8, 12, 8, 9, 5, 6, 2, 2, 1, 0, 4, 8, 12, 8, 9, 5, 6, 2, 2, 1, 0, 4, 8, 12, 8, 9, 5, 6, 2, 2, 1, 0, 4, 8, 12, 8, 9, 5, 6, 2, 2, 1, 0, 4, 8, 12, 8, 9, 5, 6, 2, 2, 1, 0, 4, 8, 12, 8, 9, 5, 6, 2, 2, 1, 0, 4, 8, 12, 8, 9, 5, 6, 2, 2, 1, 0, 4]\n",
      "LTL [---]  LDBA [ 0.16 ] path: [17, 13, 9, 8, 4, 0, 1, 2, 6, 5, 9, 13, 17, 13, 9, 5, 1, 2, 2, 6, 10, 9, 13, 12, 13, 14, 10, 6, 2, 2, 1, 0, 4, 8, 12, 8, 9, 5, 6, 2, 2, 1, 0, 4, 8, 12, 8, 9, 5, 6, 2, 2, 1, 0, 4, 8, 12, 8, 9, 5, 6, 2, 2, 1, 0, 4, 8, 12, 8, 9, 5, 6, 2, 2, 1, 0, 4, 8, 12, 8, 9, 5, 6, 2, 2, 1, 0, 4, 8, 12, 8, 9, 5, 6, 2, 2, 1, 0, 4, 8, 12, 8, 9, 5, 6, 2, 2, 1, 0, 4, 8, 12, 8, 9, 5, 6, 2, 2, 1, 0, 4, 8, 12, 8, 9, 5, 6, 2, 2, 1, 0, 4, 8, 12, 8, 9, 5, 6, 2, 2, 1, 0, 4, 8, 12, 8, 9, 5, 6, 2, 2, 1, 0, 4, 8, 12, 8, 9, 5, 6, 2, 2, 1, 0, 4, 8, 12, 8, 9, 5, 6, 2, 2, 1, 0, 4, 8, 12, 8, 9, 5, 9, 10, 6, 2, 2, 1, 0, 4, 8, 12, 8, 9, 5, 6, 2, 2, 1, 0, 4]\n",
      "LTL [---]  LDBA [ 0.15 ] path: [17, 13, 9, 8, 4, 0, 1, 2, 6, 5, 9, 13, 17, 13, 9, 5, 1, 2, 2, 6, 10, 9, 13, 12, 13, 14, 10, 6, 2, 2, 1, 0, 4, 8, 12, 8, 9, 5, 6, 2, 2, 1, 0, 4, 8, 12, 8, 9, 5, 6, 2, 2, 1, 0, 4, 8, 12, 8, 9, 5, 6, 2, 2, 1, 0, 4, 8, 12, 16, 17, 13, 9, 5, 1, 2, 2, 6, 10, 9, 13, 12, 13, 14, 10, 6, 2, 2, 1, 0, 4, 8, 12, 8, 9, 5, 6, 2, 2, 1, 0, 4, 8, 12, 8, 9, 5, 6, 2, 2, 1, 0, 4, 8, 12, 8, 9, 5, 6, 2, 2, 1, 0, 4, 8, 12, 8, 9, 5, 6, 2, 2, 1, 0, 4, 8, 12, 8, 9, 5, 6, 2, 2, 1, 0, 4, 8, 12, 8, 9, 5, 6, 2, 2, 1, 0, 4, 8, 12, 8, 9, 5, 6, 2, 2, 1, 0, 4, 8, 12, 8, 9, 5, 6, 2, 2, 1, 0, 4, 8, 12, 8, 9, 5, 6, 2, 2, 1, 0, 4, 8, 12, 8, 9, 5, 6, 2, 2, 1, 0, 4]\n",
      "LTL [+++]  LDBA [ 0.16 ] path: [17, 13, 9, 8, 4, 0, 1, 2, 6, 5, 9, 13, 17, 13, 9, 5, 1, 2, 2, 6, 10, 9, 13, 12, 13, 14, 10, 6, 2, 2, 1, 0, 4, 8, 12, 8, 9, 5, 6, 2, 2, 1, 0, 4, 8, 12, 8, 9, 5, 6, 2, 2, 1, 0, 4, 8, 12, 8, 9, 5, 6, 2, 2, 1, 0, 4, 8, 12, 8, 9, 5, 6, 2, 2, 1, 0, 4, 8, 12, 8, 9, 5, 6, 2, 2, 1, 0, 4, 8, 12, 8, 9, 5, 6, 2, 2, 1, 0, 4, 8, 12, 8, 9, 5, 6, 2, 2, 1, 0, 4, 8, 12, 8, 9, 5, 6, 2, 2, 1, 0, 4, 8, 12, 8, 9, 5, 6, 2, 2, 1, 0, 4, 8, 12, 8, 9, 5, 6, 2, 2, 1, 0, 4, 8, 12, 8, 9, 5, 6, 2, 2, 1, 0, 4, 8, 12, 8, 9, 5, 6, 2, 2, 1, 0, 4, 8, 12, 8, 9, 5, 6, 2, 2, 1, 0, 4, 8, 12, 8, 9, 5, 6, 2, 2, 1, 0, 4, 8, 12, 8, 9, 5, 6, 2, 2, 1, 0, 4, 8, 12]\n",
      "LTL [+++]  LDBA [ 0.16 ] path: [17, 13, 9, 8, 4, 0, 1, 2, 6, 5, 9, 13, 17, 13, 9, 5, 1, 2, 2, 6, 10, 9, 13, 12, 13, 14, 10, 6, 2, 2, 1, 0, 4, 8, 12, 8, 9, 5, 6, 2, 2, 1, 0, 4, 8, 12, 8, 9, 5, 6, 2, 2, 1, 0, 4, 8, 12, 8, 9, 5, 6, 2, 2, 1, 0, 4, 8, 12, 8, 9, 5, 6, 2, 2, 1, 0, 4, 8, 12, 8, 9, 5, 6, 2, 2, 1, 0, 4, 8, 12, 8, 9, 5, 6, 2, 2, 1, 0, 4, 8, 12, 8, 9, 5, 6, 2, 2, 1, 0, 4, 8, 12, 8, 9, 5, 6, 2, 2, 1, 0, 4, 8, 12, 8, 9, 5, 6, 2, 2, 1, 0, 4, 8, 12, 8, 9, 5, 6, 2, 2, 1, 0, 4, 8, 12, 8, 9, 5, 6, 2, 2, 1, 0, 4, 8, 12, 8, 9, 5, 6, 2, 2, 1, 0, 4, 8, 12, 8, 9, 5, 6, 2, 2, 1, 0, 4, 8, 12, 8, 9, 5, 6, 2, 2, 1, 0, 4, 8, 12, 8, 9, 5, 6, 2, 2, 1, 0, 4, 8, 12]\n",
      "LTL [---]  LDBA [ 0.16 ] path: [17, 18, 18, 17, 13, 9, 8, 4, 0, 1, 2, 6, 5, 9, 13, 17, 13, 9, 5, 1, 2, 2, 6, 10, 9, 13, 12, 13, 14, 10, 6, 2, 2, 1, 0, 4, 8, 12, 8, 9, 5, 6, 2, 2, 1, 0, 4, 8, 12, 8, 9, 5, 6, 2, 2, 1, 0, 4, 8, 12, 8, 9, 5, 6, 2, 2, 1, 0, 4, 8, 12, 8, 9, 5, 6, 2, 2, 1, 0, 4, 8, 12, 8, 9, 5, 6, 2, 2, 1, 0, 4, 8, 12, 8, 9, 5, 6, 2, 2, 1, 0, 4, 8, 12, 8, 9, 5, 6, 2, 2, 1, 0, 4, 8, 12, 8, 9, 5, 6, 2, 2, 1, 0, 4, 8, 12, 8, 9, 5, 6, 2, 2, 1, 0, 4, 8, 12, 8, 9, 5, 6, 2, 2, 1, 0, 4, 8, 12, 8, 9, 5, 6, 2, 2, 1, 0, 4, 8, 12, 8, 9, 5, 6, 2, 2, 1, 0, 4, 8, 12, 8, 9, 5, 6, 2, 2, 1, 0, 4, 8, 12, 8, 9, 5, 6, 2, 2, 1, 0, 4, 8, 12, 8, 9, 5, 6, 2, 2, 1, 0]\n",
      "LTL [---]  LDBA [ 0.15 ] path: [17, 13, 9, 8, 4, 0, 1, 2, 6, 5, 9, 13, 17, 13, 9, 5, 1, 2, 2, 6, 10, 9, 13, 12, 13, 14, 10, 6, 2, 2, 1, 0, 4, 8, 12, 8, 9, 5, 6, 2, 2, 1, 0, 4, 8, 12, 8, 9, 5, 6, 2, 2, 1, 0, 4, 8, 12, 8, 9, 5, 6, 2, 2, 1, 0, 4, 8, 12, 8, 9, 5, 6, 2, 2, 1, 0, 4, 8, 12, 8, 9, 5, 6, 2, 2, 1, 0, 4, 8, 12, 8, 9, 5, 6, 2, 2, 1, 0, 4, 8, 12, 8, 9, 5, 6, 2, 2, 1, 0, 4, 8, 12, 8, 9, 5, 6, 2, 2, 1, 0, 4, 8, 12, 8, 9, 5, 6, 2, 2, 1, 0, 4, 8, 12, 16, 17, 13, 9, 5, 1, 2, 2, 6, 10, 9, 13, 12, 13, 14, 10, 6, 2, 2, 1, 0, 4, 8, 12, 8, 9, 5, 6, 2, 2, 1, 0, 4, 8, 12, 8, 9, 5, 6, 2, 2, 1, 0, 4, 8, 12, 8, 9, 5, 6, 2, 2, 1, 0, 4, 8, 12, 8, 9, 5, 6, 2, 2, 1, 0, 4]\n",
      "LTL [+++]  LDBA [ 0.16 ] path: [17, 13, 9, 8, 4, 0, 1, 2, 6, 5, 9, 13, 17, 13, 9, 5, 1, 2, 2, 6, 10, 9, 13, 12, 13, 14, 10, 6, 2, 2, 1, 0, 4, 8, 12, 8, 9, 5, 6, 2, 2, 1, 0, 4, 8, 12, 8, 9, 5, 6, 2, 2, 1, 0, 4, 8, 12, 8, 9, 5, 6, 2, 2, 1, 0, 4, 8, 12, 8, 9, 5, 6, 2, 2, 1, 0, 4, 8, 12, 8, 9, 5, 6, 2, 2, 1, 0, 4, 8, 12, 8, 9, 5, 6, 2, 2, 1, 0, 4, 8, 12, 8, 9, 5, 6, 2, 2, 1, 0, 4, 8, 12, 8, 9, 5, 6, 2, 2, 1, 0, 4, 8, 12, 8, 9, 5, 6, 2, 2, 1, 0, 4, 8, 12, 8, 9, 5, 6, 2, 2, 1, 0, 4, 8, 12, 8, 9, 5, 6, 2, 2, 1, 0, 4, 8, 12, 8, 9, 5, 6, 2, 2, 1, 0, 4, 8, 12, 8, 9, 5, 6, 2, 2, 1, 0, 4, 8, 12, 8, 9, 5, 6, 2, 2, 1, 0, 4, 8, 12, 8, 9, 5, 6, 2, 2, 1, 0, 4, 8, 12]\n",
      "LTL [+++]  LDBA [ 0.16 ] path: [17, 13, 9, 8, 4, 0, 1, 2, 6, 5, 9, 13, 17, 13, 9, 5, 1, 2, 2, 6, 10, 9, 13, 12, 13, 14, 10, 6, 2, 2, 1, 0, 4, 8, 12, 8, 9, 5, 6, 2, 2, 1, 0, 4, 8, 12, 8, 9, 5, 6, 2, 2, 1, 0, 4, 8, 12, 8, 9, 5, 6, 2, 2, 1, 0, 4, 8, 12, 8, 9, 5, 6, 2, 2, 1, 0, 4, 8, 12, 8, 9, 5, 6, 2, 2, 1, 0, 4, 8, 12, 8, 9, 5, 6, 2, 2, 1, 0, 4, 8, 12, 8, 9, 5, 6, 2, 2, 1, 0, 4, 8, 12, 8, 9, 5, 6, 2, 2, 1, 0, 4, 8, 12, 8, 9, 5, 6, 2, 2, 1, 0, 4, 8, 12, 8, 9, 5, 6, 2, 2, 1, 0, 4, 8, 12, 8, 9, 5, 6, 2, 2, 1, 0, 4, 8, 12, 8, 9, 5, 6, 2, 2, 1, 0, 4, 8, 12, 8, 9, 5, 6, 2, 2, 1, 0, 4, 8, 12, 8, 9, 5, 6, 2, 2, 1, 0, 4, 8, 12, 8, 9, 5, 6, 2, 2, 1, 0, 4, 8, 12]\n",
      "LTL [---]  LDBA [ 0.15 ] path: [17, 13, 9, 8, 4, 0, 1, 2, 6, 5, 9, 13, 17, 13, 9, 5, 1, 2, 2, 6, 10, 9, 13, 12, 13, 14, 10, 6, 2, 2, 1, 0, 4, 8, 12, 16, 17, 13, 9, 5, 1, 2, 2, 6, 10, 9, 13, 12, 13, 14, 10, 6, 2, 2, 1, 0, 4, 8, 12, 8, 9, 5, 6, 2, 2, 1, 0, 4, 8, 12, 8, 9, 5, 6, 2, 2, 1, 0, 4, 8, 12, 8, 9, 5, 6, 2, 2, 1, 0, 4, 8, 12, 8, 9, 5, 6, 2, 2, 1, 0, 4, 8, 12, 8, 9, 5, 6, 2, 2, 1, 0, 4, 8, 12, 8, 9, 5, 6, 2, 2, 1, 0, 4, 8, 12, 8, 9, 5, 6, 2, 2, 1, 0, 4, 8, 12, 8, 9, 5, 6, 2, 2, 1, 0, 4, 8, 12, 8, 9, 5, 6, 2, 2, 1, 0, 4, 8, 12, 8, 9, 5, 6, 2, 2, 1, 0, 4, 8, 12, 8, 9, 5, 6, 2, 2, 1, 0, 4, 8, 12, 8, 9, 5, 6, 2, 2, 1, 0, 4, 8, 12, 8, 9, 5, 6, 2, 2, 1, 0, 4]\n",
      "LTL [---]  LDBA [ 0.15 ] path: [17, 13, 9, 8, 4, 0, 1, 2, 6, 5, 9, 13, 17, 13, 9, 5, 1, 2, 2, 6, 10, 9, 13, 12, 13, 14, 10, 6, 2, 2, 1, 0, 4, 8, 12, 8, 9, 5, 6, 2, 2, 1, 0, 4, 8, 12, 8, 9, 5, 6, 2, 2, 1, 0, 4, 8, 12, 8, 9, 5, 6, 2, 2, 1, 0, 4, 8, 12, 8, 9, 5, 6, 2, 2, 1, 0, 4, 8, 12, 8, 9, 5, 6, 2, 2, 1, 0, 4, 8, 12, 8, 9, 5, 6, 2, 2, 1, 0, 4, 8, 12, 8, 9, 5, 6, 2, 2, 1, 0, 4, 8, 12, 8, 9, 5, 6, 2, 2, 1, 0, 4, 8, 12, 8, 9, 5, 6, 2, 2, 1, 0, 4, 8, 12, 8, 9, 5, 6, 2, 2, 1, 0, 4, 8, 12, 8, 9, 5, 6, 2, 2, 1, 0, 4, 8, 12, 8, 9, 5, 6, 2, 2, 1, 0, 4, 8, 12, 8, 9, 5, 6, 2, 2, 1, 0, 4, 8, 12, 8, 9, 5, 6, 2, 2, 1, 0, 4, 8, 12, 16, 17, 13, 9, 5, 1, 2, 2, 6, 10, 9]\n",
      "LTL [---]  LDBA [ 0.16 ] path: [17, 13, 9, 5, 1, 2, 6, 5, 9, 13, 17, 13, 9, 5, 1, 2, 2, 6, 10, 9, 13, 12, 13, 14, 10, 6, 2, 2, 1, 0, 4, 8, 12, 8, 9, 5, 6, 2, 2, 1, 0, 4, 8, 12, 8, 9, 5, 6, 2, 2, 1, 0, 4, 8, 12, 8, 9, 5, 6, 2, 2, 1, 0, 4, 8, 12, 8, 9, 5, 6, 2, 2, 1, 0, 4, 8, 12, 8, 9, 5, 6, 2, 2, 1, 0, 4, 8, 12, 8, 9, 5, 6, 2, 2, 1, 0, 4, 8, 12, 8, 9, 5, 6, 2, 2, 1, 0, 4, 8, 12, 8, 9, 5, 6, 2, 2, 1, 0, 4, 8, 12, 8, 9, 5, 6, 2, 2, 1, 0, 4, 8, 12, 8, 9, 5, 6, 2, 2, 1, 0, 4, 8, 12, 8, 9, 5, 6, 2, 2, 1, 0, 4, 8, 12, 8, 9, 5, 6, 2, 2, 1, 0, 4, 8, 12, 8, 9, 5, 6, 2, 2, 1, 0, 4, 8, 12, 8, 9, 5, 6, 2, 2, 1, 0, 4, 8, 12, 8, 9, 5, 6, 2, 2, 1, 0, 4, 8, 12, 8, 9]\n",
      "LTL [+++]  LDBA [ 0.16 ] path: [17, 13, 9, 8, 4, 0, 1, 2, 6, 5, 9, 13, 17, 13, 9, 5, 1, 2, 2, 6, 10, 9, 13, 12, 13, 14, 10, 6, 2, 2, 1, 0, 4, 8, 12, 8, 9, 5, 6, 2, 2, 1, 0, 4, 8, 12, 8, 9, 5, 6, 2, 2, 1, 0, 4, 8, 12, 8, 9, 5, 6, 2, 2, 1, 0, 4, 8, 12, 8, 9, 5, 6, 2, 2, 1, 0, 4, 8, 12, 8, 9, 5, 6, 2, 2, 1, 0, 4, 8, 12, 8, 9, 5, 6, 2, 2, 1, 0, 4, 8, 12, 8, 9, 5, 6, 2, 2, 1, 0, 4, 8, 12, 8, 9, 5, 6, 2, 2, 1, 0, 4, 8, 12, 8, 9, 5, 6, 2, 2, 1, 0, 4, 8, 12, 8, 9, 5, 6, 2, 2, 1, 0, 4, 8, 12, 8, 9, 5, 6, 2, 2, 1, 0, 4, 8, 12, 8, 9, 5, 6, 2, 2, 1, 0, 4, 8, 12, 8, 9, 5, 6, 2, 2, 1, 0, 4, 8, 12, 8, 9, 5, 6, 2, 2, 1, 0, 4, 8, 12, 8, 9, 5, 6, 2, 2, 1, 0, 4, 8, 12]\n",
      "LTL [+++]  LDBA [ 0.16 ] path: [17, 13, 9, 8, 4, 0, 1, 2, 6, 5, 9, 13, 17, 13, 9, 5, 1, 2, 2, 6, 10, 9, 13, 12, 13, 14, 10, 6, 2, 2, 1, 0, 4, 8, 12, 8, 9, 5, 6, 2, 2, 1, 0, 4, 8, 12, 8, 9, 5, 6, 2, 2, 1, 0, 4, 8, 12, 8, 9, 5, 6, 2, 2, 1, 0, 4, 8, 12, 8, 9, 5, 6, 2, 2, 1, 0, 4, 8, 12, 8, 9, 5, 6, 2, 2, 1, 0, 4, 8, 12, 8, 9, 5, 6, 2, 2, 1, 0, 4, 8, 12, 8, 9, 5, 6, 2, 2, 1, 0, 4, 8, 12, 8, 9, 5, 6, 2, 2, 1, 0, 4, 8, 12, 8, 9, 5, 6, 2, 2, 1, 0, 4, 8, 12, 8, 9, 5, 6, 2, 2, 1, 0, 4, 8, 12, 8, 9, 5, 6, 2, 2, 1, 0, 4, 8, 12, 8, 9, 5, 6, 2, 2, 1, 0, 4, 8, 12, 8, 9, 5, 6, 2, 2, 1, 0, 4, 8, 12, 8, 9, 5, 6, 2, 2, 1, 0, 4, 8, 12, 8, 9, 5, 6, 2, 2, 1, 0, 4, 8, 12]\n",
      "LTL [+++]  LDBA [ 0.16 ] path: [17, 13, 9, 8, 4, 0, 1, 2, 6, 5, 9, 13, 17, 13, 9, 5, 1, 2, 2, 6, 10, 9, 13, 12, 13, 14, 10, 6, 2, 2, 1, 0, 4, 8, 12, 8, 9, 5, 6, 2, 2, 1, 0, 4, 8, 12, 8, 9, 5, 6, 2, 2, 1, 0, 4, 8, 12, 8, 9, 5, 6, 2, 2, 1, 0, 4, 8, 12, 8, 9, 5, 6, 2, 2, 1, 0, 4, 8, 12, 8, 9, 5, 6, 2, 2, 1, 0, 4, 8, 12, 8, 9, 5, 6, 2, 2, 1, 0, 4, 8, 12, 8, 9, 5, 6, 2, 2, 1, 0, 4, 8, 12, 8, 9, 5, 6, 2, 2, 1, 0, 4, 8, 12, 8, 9, 5, 6, 2, 2, 1, 0, 4, 8, 12, 8, 9, 5, 6, 2, 2, 1, 0, 4, 8, 12, 8, 9, 5, 6, 2, 2, 1, 0, 4, 8, 12, 8, 9, 5, 6, 2, 2, 1, 0, 4, 8, 12, 8, 9, 5, 6, 2, 2, 1, 0, 4, 8, 12, 8, 9, 5, 6, 2, 2, 1, 0, 4, 8, 12, 8, 9, 5, 6, 2, 2, 1, 0, 4, 8, 12]\n",
      "LTL [+++]  LDBA [ 0.16 ] path: [17, 13, 9, 8, 4, 0, 1, 2, 6, 5, 9, 13, 17, 13, 9, 5, 1, 2, 2, 6, 10, 9, 13, 12, 13, 14, 10, 6, 2, 2, 1, 0, 4, 8, 12, 8, 9, 5, 6, 2, 2, 1, 0, 4, 8, 12, 8, 9, 5, 6, 2, 2, 1, 0, 4, 8, 12, 8, 9, 5, 6, 2, 2, 1, 0, 4, 8, 12, 8, 9, 5, 6, 2, 2, 1, 0, 4, 8, 12, 8, 9, 5, 6, 2, 2, 1, 0, 4, 8, 12, 8, 9, 5, 6, 2, 2, 1, 0, 4, 8, 12, 8, 9, 5, 6, 2, 2, 1, 0, 4, 8, 12, 8, 9, 5, 6, 2, 2, 1, 0, 4, 8, 12, 8, 9, 5, 6, 2, 2, 1, 0, 4, 8, 12, 8, 9, 5, 6, 2, 2, 1, 0, 4, 8, 12, 8, 9, 5, 6, 2, 2, 1, 0, 4, 8, 12, 8, 9, 5, 6, 2, 2, 1, 0, 4, 8, 12, 8, 9, 5, 6, 2, 2, 1, 0, 4, 8, 12, 8, 9, 5, 6, 2, 2, 1, 0, 4, 8, 12, 8, 9, 5, 6, 2, 2, 1, 0, 4, 8, 12]\n",
      "LTL [+++]  LDBA [ 0.16 ] path: [17, 13, 9, 8, 4, 0, 1, 2, 6, 5, 9, 13, 17, 13, 9, 5, 1, 2, 2, 6, 10, 9, 13, 12, 13, 14, 10, 6, 2, 2, 1, 0, 4, 8, 12, 8, 9, 5, 6, 2, 2, 1, 0, 4, 8, 12, 8, 9, 5, 6, 2, 2, 1, 0, 4, 8, 12, 8, 9, 5, 6, 2, 2, 1, 0, 4, 8, 12, 8, 9, 5, 6, 2, 2, 1, 0, 4, 8, 12, 8, 9, 5, 6, 2, 2, 1, 0, 4, 8, 12, 8, 9, 5, 6, 2, 2, 1, 0, 4, 8, 12, 8, 9, 5, 6, 2, 2, 1, 0, 4, 8, 12, 8, 9, 5, 6, 2, 2, 1, 0, 4, 8, 12, 8, 9, 5, 6, 2, 2, 1, 0, 4, 8, 12, 8, 9, 5, 6, 2, 2, 1, 0, 4, 8, 12, 8, 9, 5, 6, 2, 2, 1, 0, 4, 8, 12, 8, 9, 5, 6, 2, 2, 1, 0, 4, 8, 12, 8, 9, 5, 6, 2, 2, 1, 0, 4, 8, 12, 8, 9, 5, 6, 2, 2, 1, 0, 4, 8, 12, 8, 9, 5, 6, 2, 2, 1, 0, 4, 8, 12]\n",
      "LTL [---]  LDBA [ 0.15 ] path: [17, 13, 9, 8, 4, 0, 1, 2, 6, 5, 9, 13, 17, 13, 9, 5, 1, 2, 2, 6, 10, 9, 13, 12, 13, 14, 10, 6, 2, 2, 1, 0, 4, 8, 12, 8, 9, 5, 6, 2, 2, 1, 0, 4, 8, 12, 8, 9, 5, 6, 2, 2, 1, 0, 4, 8, 12, 8, 9, 5, 6, 2, 2, 1, 0, 4, 8, 12, 8, 9, 5, 6, 2, 2, 1, 0, 4, 8, 12, 8, 9, 5, 6, 2, 2, 1, 0, 4, 8, 12, 8, 9, 5, 6, 2, 2, 1, 0, 4, 8, 12, 8, 9, 5, 6, 2, 2, 1, 0, 4, 8, 12, 8, 9, 5, 6, 2, 2, 1, 0, 4, 8, 12, 8, 9, 5, 6, 2, 2, 1, 0, 4, 8, 12, 8, 9, 5, 6, 2, 2, 1, 0, 4, 8, 12, 8, 9, 5, 6, 2, 2, 1, 0, 4, 8, 12, 8, 9, 5, 6, 2, 2, 1, 0, 4, 8, 12, 8, 9, 5, 6, 2, 2, 1, 0, 4, 8, 12, 16, 17, 13, 9, 5, 1, 2, 2, 6, 10, 9, 13, 12, 13, 14, 10, 6, 2, 2, 1, 0, 4]\n",
      "LTL [+++]  LDBA [ 0.16 ] path: [17, 13, 9, 8, 4, 0, 1, 2, 6, 5, 9, 13, 17, 13, 9, 5, 1, 2, 2, 6, 10, 9, 13, 12, 13, 14, 10, 6, 2, 2, 1, 0, 4, 8, 12, 8, 9, 5, 6, 2, 2, 1, 0, 4, 8, 12, 8, 9, 5, 6, 2, 2, 1, 0, 4, 8, 12, 8, 9, 5, 6, 2, 2, 1, 0, 4, 8, 12, 8, 9, 5, 6, 2, 2, 1, 0, 4, 8, 12, 8, 9, 5, 6, 2, 2, 1, 0, 4, 8, 12, 8, 9, 5, 6, 2, 2, 1, 0, 4, 8, 12, 8, 9, 5, 6, 2, 2, 1, 0, 4, 8, 12, 8, 9, 5, 6, 2, 2, 1, 0, 4, 8, 12, 8, 9, 5, 6, 2, 2, 1, 0, 4, 8, 12, 8, 9, 5, 6, 2, 2, 1, 0, 4, 8, 12, 8, 9, 5, 6, 2, 2, 1, 0, 4, 8, 12, 8, 9, 5, 6, 2, 2, 1, 0, 4, 8, 12, 8, 9, 5, 6, 2, 2, 1, 0, 4, 8, 12, 8, 9, 5, 6, 2, 2, 1, 0, 4, 8, 12, 8, 9, 5, 6, 2, 2, 1, 0, 4, 8, 12]\n",
      "LTL [---]  LDBA [ 0.16 ] path: [17, 13, 9, 8, 4, 0, 1, 2, 6, 5, 9, 13, 17, 13, 9, 5, 1, 2, 2, 6, 10, 9, 13, 12, 13, 14, 10, 6, 2, 2, 1, 0, 4, 8, 12, 8, 9, 5, 6, 2, 2, 1, 0, 4, 8, 12, 8, 9, 5, 6, 2, 2, 1, 0, 4, 8, 12, 8, 9, 5, 6, 2, 2, 1, 0, 4, 8, 12, 8, 9, 5, 6, 2, 2, 1, 0, 4, 8, 12, 8, 9, 5, 6, 2, 2, 1, 0, 4, 8, 12, 8, 9, 5, 6, 2, 2, 1, 0, 4, 8, 12, 8, 9, 5, 6, 2, 2, 1, 0, 4, 8, 12, 8, 9, 5, 6, 2, 2, 1, 0, 4, 8, 12, 8, 9, 5, 9, 10, 6, 2, 2, 1, 0, 4, 8, 12, 8, 9, 5, 6, 2, 2, 1, 0, 4, 8, 12, 8, 9, 5, 6, 2, 2, 1, 0, 4, 8, 12, 8, 9, 5, 6, 2, 2, 1, 0, 4, 8, 12, 8, 9, 5, 6, 2, 2, 1, 0, 4, 8, 12, 8, 9, 5, 6, 2, 2, 1, 0, 4, 8, 12, 8, 9, 5, 6, 2, 2, 1, 0, 4]\n",
      "LTL [+++]  LDBA [ 0.16 ] path: [17, 13, 9, 8, 4, 0, 1, 2, 6, 5, 9, 13, 17, 13, 9, 5, 1, 2, 2, 6, 10, 9, 13, 12, 13, 14, 10, 6, 2, 2, 1, 0, 4, 8, 12, 8, 9, 5, 6, 2, 2, 1, 0, 4, 8, 12, 8, 9, 5, 6, 2, 2, 1, 0, 4, 8, 12, 8, 9, 5, 6, 2, 2, 1, 0, 4, 8, 12, 8, 9, 5, 6, 2, 2, 1, 0, 4, 8, 12, 8, 9, 5, 6, 2, 2, 1, 0, 4, 8, 12, 8, 9, 5, 6, 2, 2, 1, 0, 4, 8, 12, 8, 9, 5, 6, 2, 2, 1, 0, 4, 8, 12, 8, 9, 5, 6, 2, 2, 1, 0, 4, 8, 12, 8, 9, 5, 6, 2, 2, 1, 0, 4, 8, 12, 8, 9, 5, 6, 2, 2, 1, 0, 4, 8, 12, 8, 9, 5, 6, 2, 2, 1, 0, 4, 8, 12, 8, 9, 5, 6, 2, 2, 1, 0, 4, 8, 12, 8, 9, 5, 6, 2, 2, 1, 0, 4, 8, 12, 8, 9, 5, 6, 2, 2, 1, 0, 4, 8, 12, 8, 9, 5, 6, 2, 2, 1, 0, 4, 8, 12]\n",
      "LTL [+++]  LDBA [ 0.16 ] path: [17, 13, 9, 8, 4, 0, 1, 2, 6, 5, 9, 13, 17, 13, 9, 5, 1, 2, 2, 6, 10, 9, 13, 12, 13, 14, 10, 6, 2, 2, 1, 0, 4, 8, 12, 8, 9, 5, 6, 2, 2, 1, 0, 4, 8, 12, 8, 9, 5, 6, 2, 2, 1, 0, 4, 8, 12, 8, 9, 5, 6, 2, 2, 1, 0, 4, 8, 12, 8, 9, 5, 6, 2, 2, 1, 0, 4, 8, 12, 8, 9, 5, 6, 2, 2, 1, 0, 4, 8, 12, 8, 9, 5, 6, 2, 2, 1, 0, 4, 8, 12, 8, 9, 5, 6, 2, 2, 1, 0, 4, 8, 12, 8, 9, 5, 6, 2, 2, 1, 0, 4, 8, 12, 8, 9, 5, 6, 2, 2, 1, 0, 4, 8, 12, 8, 9, 5, 6, 2, 2, 1, 0, 4, 8, 12, 8, 9, 5, 6, 2, 2, 1, 0, 4, 8, 12, 8, 9, 5, 6, 2, 2, 1, 0, 4, 8, 12, 8, 9, 5, 6, 2, 2, 1, 0, 4, 8, 12, 8, 9, 5, 6, 2, 2, 1, 0, 4, 8, 12, 8, 9, 5, 6, 2, 2, 1, 0, 4, 8, 12]\n",
      "LTL [---]  LDBA [ 0.15 ] path: [17, 13, 9, 8, 4, 0, 1, 2, 6, 5, 9, 13, 17, 13, 9, 5, 1, 2, 2, 6, 10, 9, 13, 12, 13, 14, 10, 6, 2, 2, 1, 0, 4, 8, 12, 8, 9, 5, 6, 2, 2, 1, 0, 4, 8, 12, 8, 9, 5, 6, 2, 2, 1, 0, 4, 8, 12, 8, 9, 5, 6, 2, 2, 1, 0, 4, 8, 12, 8, 9, 5, 6, 2, 2, 1, 0, 4, 8, 12, 8, 9, 5, 6, 2, 2, 1, 0, 4, 8, 12, 8, 9, 5, 6, 2, 2, 1, 0, 4, 8, 12, 8, 9, 5, 6, 2, 2, 1, 0, 4, 8, 12, 16, 17, 13, 9, 5, 1, 2, 2, 6, 10, 9, 13, 12, 13, 14, 10, 6, 2, 2, 1, 0, 4, 8, 12, 8, 9, 5, 6, 2, 2, 1, 0, 4, 8, 12, 8, 9, 5, 6, 2, 2, 1, 0, 4, 8, 12, 8, 9, 5, 6, 2, 2, 1, 0, 4, 8, 12, 8, 9, 5, 6, 2, 2, 1, 0, 4, 8, 12, 8, 9, 5, 6, 2, 2, 1, 0, 4, 8, 12, 8, 9, 5, 6, 2, 2, 1, 0, 4]\n",
      "LTL [+++]  LDBA [ 0.16 ] path: [17, 13, 9, 8, 4, 0, 1, 2, 6, 5, 9, 13, 17, 13, 9, 5, 1, 2, 2, 6, 10, 9, 13, 12, 13, 14, 10, 6, 2, 2, 1, 0, 4, 8, 12, 8, 9, 5, 6, 2, 2, 1, 0, 4, 8, 12, 8, 9, 5, 6, 2, 2, 1, 0, 4, 8, 12, 8, 9, 5, 6, 2, 2, 1, 0, 4, 8, 12, 8, 9, 5, 6, 2, 2, 1, 0, 4, 8, 12, 8, 9, 5, 6, 2, 2, 1, 0, 4, 8, 12, 8, 9, 5, 6, 2, 2, 1, 0, 4, 8, 12, 8, 9, 5, 6, 2, 2, 1, 0, 4, 8, 12, 8, 9, 5, 6, 2, 2, 1, 0, 4, 8, 12, 8, 9, 5, 6, 2, 2, 1, 0, 4, 8, 12, 8, 9, 5, 6, 2, 2, 1, 0, 4, 8, 12, 8, 9, 5, 6, 2, 2, 1, 0, 4, 8, 12, 8, 9, 5, 6, 2, 2, 1, 0, 4, 8, 12, 8, 9, 5, 6, 2, 2, 1, 0, 4, 8, 12, 8, 9, 5, 6, 2, 2, 1, 0, 4, 8, 12, 8, 9, 5, 6, 2, 2, 1, 0, 4, 8, 12]\n",
      "LTL [+++]  LDBA [ 0.16 ] path: [17, 13, 9, 8, 4, 0, 1, 2, 6, 5, 9, 13, 17, 13, 9, 5, 1, 2, 2, 6, 10, 9, 13, 12, 13, 14, 10, 6, 2, 2, 1, 0, 4, 8, 12, 8, 9, 5, 6, 2, 2, 1, 0, 4, 8, 12, 8, 9, 5, 6, 2, 2, 1, 0, 4, 8, 12, 8, 9, 5, 6, 2, 2, 1, 0, 4, 8, 12, 8, 9, 5, 6, 2, 2, 1, 0, 4, 8, 12, 8, 9, 5, 6, 2, 2, 1, 0, 4, 8, 12, 8, 9, 5, 6, 2, 2, 1, 0, 4, 8, 12, 8, 9, 5, 6, 2, 2, 1, 0, 4, 8, 12, 8, 9, 5, 6, 2, 2, 1, 0, 4, 8, 12, 8, 9, 5, 6, 2, 2, 1, 0, 4, 8, 12, 8, 9, 5, 6, 2, 2, 1, 0, 4, 8, 12, 8, 9, 5, 6, 2, 2, 1, 0, 4, 8, 12, 8, 9, 5, 6, 2, 2, 1, 0, 4, 8, 12, 8, 9, 5, 6, 2, 2, 1, 0, 4, 8, 12, 8, 9, 5, 6, 2, 2, 1, 0, 4, 8, 12, 8, 9, 5, 6, 2, 2, 1, 0, 4, 8, 12]\n",
      "LTL [+++]  LDBA [ 0.16 ] path: [17, 13, 9, 8, 4, 0, 1, 2, 6, 5, 9, 13, 17, 13, 9, 5, 1, 2, 2, 6, 10, 9, 13, 12, 13, 14, 10, 6, 2, 2, 1, 0, 4, 8, 12, 8, 9, 5, 6, 2, 2, 1, 0, 4, 8, 12, 8, 9, 5, 6, 2, 2, 1, 0, 4, 8, 12, 8, 9, 5, 6, 2, 2, 1, 0, 4, 8, 12, 8, 9, 5, 6, 2, 2, 1, 0, 4, 8, 12, 8, 9, 5, 6, 2, 2, 1, 0, 4, 8, 12, 8, 9, 5, 6, 2, 2, 1, 0, 4, 8, 12, 8, 9, 5, 6, 2, 2, 1, 0, 4, 8, 12, 8, 9, 5, 6, 2, 2, 1, 0, 4, 8, 12, 8, 9, 5, 6, 2, 2, 1, 0, 4, 8, 12, 8, 9, 5, 6, 2, 2, 1, 0, 4, 8, 12, 8, 9, 5, 6, 2, 2, 1, 0, 4, 8, 12, 8, 9, 5, 6, 2, 2, 1, 0, 4, 8, 12, 8, 9, 5, 6, 2, 2, 1, 0, 4, 8, 12, 8, 9, 5, 6, 2, 2, 1, 0, 4, 8, 12, 8, 9, 5, 6, 2, 2, 1, 0, 4, 8, 12]\n",
      "LTL [+++]  LDBA [ 0.16 ] path: [17, 13, 9, 8, 4, 0, 1, 2, 6, 5, 9, 13, 17, 13, 9, 5, 1, 2, 2, 6, 10, 9, 13, 12, 13, 14, 10, 6, 2, 2, 1, 0, 4, 8, 12, 8, 9, 5, 6, 2, 2, 1, 0, 4, 8, 12, 8, 9, 5, 6, 2, 2, 1, 0, 4, 8, 12, 8, 9, 5, 6, 2, 2, 1, 0, 4, 8, 12, 8, 9, 5, 6, 2, 2, 1, 0, 4, 8, 12, 8, 9, 5, 6, 2, 2, 1, 0, 4, 8, 12, 8, 9, 5, 6, 2, 2, 1, 0, 4, 8, 12, 8, 9, 5, 6, 2, 2, 1, 0, 4, 8, 12, 8, 9, 5, 6, 2, 2, 1, 0, 4, 8, 12, 8, 9, 5, 6, 2, 2, 1, 0, 4, 8, 12, 8, 9, 5, 6, 2, 2, 1, 0, 4, 8, 12, 8, 9, 5, 6, 2, 2, 1, 0, 4, 8, 12, 8, 9, 5, 6, 2, 2, 1, 0, 4, 8, 12, 8, 9, 5, 6, 2, 2, 1, 0, 4, 8, 12, 8, 9, 5, 6, 2, 2, 1, 0, 4, 8, 12, 8, 9, 5, 6, 2, 2, 1, 0, 4, 8, 12]\n",
      "LTL [+++]  LDBA [ 0.16 ] path: [17, 13, 9, 8, 4, 0, 1, 2, 6, 5, 9, 13, 17, 13, 9, 5, 1, 2, 2, 6, 10, 9, 13, 12, 13, 14, 10, 6, 2, 2, 1, 0, 4, 8, 12, 8, 9, 5, 6, 2, 2, 1, 0, 4, 8, 12, 8, 9, 5, 6, 2, 2, 1, 0, 4, 8, 12, 8, 9, 5, 6, 2, 2, 1, 0, 4, 8, 12, 8, 9, 5, 6, 2, 2, 1, 0, 4, 8, 12, 8, 9, 5, 6, 2, 2, 1, 0, 4, 8, 12, 8, 9, 5, 6, 2, 2, 1, 0, 4, 8, 12, 8, 9, 5, 6, 2, 2, 1, 0, 4, 8, 12, 8, 9, 5, 6, 2, 2, 1, 0, 4, 8, 12, 8, 9, 5, 6, 2, 2, 1, 0, 4, 8, 12, 8, 9, 5, 6, 2, 2, 1, 0, 4, 8, 12, 8, 9, 5, 6, 2, 2, 1, 0, 4, 8, 12, 8, 9, 5, 6, 2, 2, 1, 0, 4, 8, 12, 8, 9, 5, 6, 2, 2, 1, 0, 4, 8, 12, 8, 9, 5, 6, 2, 2, 1, 0, 4, 8, 12, 8, 9, 5, 6, 2, 2, 1, 0, 4, 8, 12]\n",
      "LTL [+++]  LDBA [ 0.16 ] path: [17, 13, 9, 8, 4, 0, 1, 2, 6, 5, 9, 13, 17, 13, 9, 5, 1, 2, 2, 6, 10, 9, 13, 12, 13, 14, 10, 6, 2, 2, 1, 0, 4, 8, 12, 8, 9, 5, 6, 2, 2, 1, 0, 4, 8, 12, 8, 9, 5, 6, 2, 2, 1, 0, 4, 8, 12, 8, 9, 5, 6, 2, 2, 1, 0, 4, 8, 12, 8, 9, 5, 6, 2, 2, 1, 0, 4, 8, 12, 8, 9, 5, 6, 2, 2, 1, 0, 4, 8, 12, 8, 9, 5, 6, 2, 2, 1, 0, 4, 8, 12, 8, 9, 5, 6, 2, 2, 1, 0, 4, 8, 12, 8, 9, 5, 6, 2, 2, 1, 0, 4, 8, 12, 8, 9, 5, 6, 2, 2, 1, 0, 4, 8, 12, 8, 9, 5, 6, 2, 2, 1, 0, 4, 8, 12, 8, 9, 5, 6, 2, 2, 1, 0, 4, 8, 12, 8, 9, 5, 6, 2, 2, 1, 0, 4, 8, 12, 8, 9, 5, 6, 2, 2, 1, 0, 4, 8, 12, 8, 9, 5, 6, 2, 2, 1, 0, 4, 8, 12, 8, 9, 5, 6, 2, 2, 1, 0, 4, 8, 12]\n",
      "LTL [---]  LDBA [ 0.16 ] path: [17, 13, 9, 5, 1, 2, 6, 5, 9, 13, 17, 13, 9, 5, 1, 2, 2, 6, 10, 9, 13, 12, 13, 14, 10, 6, 2, 2, 1, 0, 4, 8, 12, 8, 9, 5, 6, 2, 2, 1, 0, 4, 8, 12, 8, 9, 5, 6, 2, 2, 1, 0, 4, 8, 12, 8, 9, 5, 6, 2, 2, 1, 0, 4, 8, 12, 8, 9, 5, 6, 2, 2, 1, 0, 4, 8, 12, 8, 9, 5, 6, 2, 2, 1, 0, 4, 8, 12, 8, 9, 5, 6, 2, 2, 1, 0, 4, 8, 12, 8, 9, 5, 6, 2, 2, 1, 0, 4, 8, 12, 8, 9, 5, 6, 2, 2, 1, 0, 4, 8, 12, 8, 9, 5, 6, 2, 2, 1, 0, 4, 8, 12, 8, 9, 5, 6, 2, 2, 1, 0, 4, 8, 12, 8, 9, 5, 6, 2, 2, 1, 0, 4, 8, 12, 8, 9, 5, 6, 2, 2, 1, 0, 4, 8, 12, 8, 9, 5, 6, 2, 2, 1, 0, 4, 8, 12, 8, 9, 5, 6, 2, 2, 1, 0, 4, 8, 12, 8, 9, 5, 6, 2, 2, 1, 0, 4, 8, 12, 8, 9]\n",
      "LTL [+++]  LDBA [ 0.16 ] path: [17, 13, 9, 8, 4, 0, 1, 2, 6, 5, 9, 13, 17, 13, 9, 5, 1, 2, 2, 6, 10, 9, 13, 12, 13, 14, 10, 6, 2, 2, 1, 0, 4, 8, 12, 8, 9, 5, 6, 2, 2, 1, 0, 4, 8, 12, 8, 9, 5, 6, 2, 2, 1, 0, 4, 8, 12, 8, 9, 5, 6, 2, 2, 1, 0, 4, 8, 12, 8, 9, 5, 6, 2, 2, 1, 0, 4, 8, 12, 8, 9, 5, 6, 2, 2, 1, 0, 4, 8, 12, 8, 9, 5, 6, 2, 2, 1, 0, 4, 8, 12, 8, 9, 5, 6, 2, 2, 1, 0, 4, 8, 12, 8, 9, 5, 6, 2, 2, 1, 0, 4, 8, 12, 8, 9, 5, 6, 2, 2, 1, 0, 4, 8, 12, 8, 9, 5, 6, 2, 2, 1, 0, 4, 8, 12, 8, 9, 5, 6, 2, 2, 1, 0, 4, 8, 12, 8, 9, 5, 6, 2, 2, 1, 0, 4, 8, 12, 8, 9, 5, 6, 2, 2, 1, 0, 4, 8, 12, 8, 9, 5, 6, 2, 2, 1, 0, 4, 8, 12, 8, 9, 5, 6, 2, 2, 1, 0, 4, 8, 12]\n",
      "LTL [+++]  LDBA [ 0.16 ] path: [17, 13, 9, 8, 4, 0, 1, 2, 6, 5, 9, 13, 17, 13, 9, 5, 1, 2, 2, 6, 10, 9, 13, 12, 13, 14, 10, 6, 2, 2, 1, 0, 4, 8, 12, 8, 9, 5, 6, 2, 2, 1, 0, 4, 8, 12, 8, 9, 5, 6, 2, 2, 1, 0, 4, 8, 12, 8, 9, 5, 6, 2, 2, 1, 0, 4, 8, 12, 8, 9, 5, 6, 2, 2, 1, 0, 4, 8, 12, 8, 9, 5, 6, 2, 2, 1, 0, 4, 8, 12, 8, 9, 5, 6, 2, 2, 1, 0, 4, 8, 12, 8, 9, 5, 6, 2, 2, 1, 0, 4, 8, 12, 8, 9, 5, 6, 2, 2, 1, 0, 4, 8, 12, 8, 9, 5, 6, 2, 2, 1, 0, 4, 8, 12, 8, 9, 5, 6, 2, 2, 1, 0, 4, 8, 12, 8, 9, 5, 6, 2, 2, 1, 0, 4, 8, 12, 8, 9, 5, 6, 2, 2, 1, 0, 4, 8, 12, 8, 9, 5, 6, 2, 2, 1, 0, 4, 8, 12, 8, 9, 5, 6, 2, 2, 1, 0, 4, 8, 12, 8, 9, 5, 6, 2, 2, 1, 0, 4, 8, 12]\n",
      "LTL [---]  LDBA [ 0.15 ] path: [17, 13, 9, 8, 4, 0, 1, 2, 6, 5, 9, 13, 17, 13, 9, 5, 1, 2, 2, 6, 10, 9, 13, 12, 13, 14, 10, 6, 2, 2, 1, 0, 4, 8, 12, 8, 9, 5, 6, 2, 2, 1, 0, 4, 8, 12, 8, 9, 5, 6, 2, 2, 1, 0, 4, 8, 12, 8, 9, 5, 6, 2, 2, 1, 0, 4, 8, 12, 8, 9, 5, 6, 2, 2, 1, 0, 4, 8, 12, 16, 17, 13, 9, 5, 1, 2, 2, 6, 10, 9, 13, 12, 13, 14, 10, 6, 2, 2, 1, 0, 4, 8, 12, 8, 9, 5, 6, 2, 2, 1, 0, 4, 8, 12, 8, 9, 5, 6, 2, 2, 1, 0, 4, 8, 12, 8, 9, 5, 6, 2, 2, 1, 0, 4, 8, 12, 8, 9, 5, 6, 2, 2, 1, 0, 4, 8, 12, 8, 9, 5, 6, 2, 2, 1, 0, 4, 8, 12, 8, 9, 5, 6, 2, 2, 1, 0, 4, 8, 12, 8, 9, 5, 6, 2, 2, 1, 0, 4, 8, 12, 8, 9, 5, 6, 2, 2, 1, 0, 4, 8, 12, 8, 9, 5, 6, 2, 2, 1, 0, 4]\n",
      "LTL [+++]  LDBA [ 0.16 ] path: [17, 13, 9, 8, 4, 0, 1, 2, 6, 5, 9, 13, 17, 13, 9, 5, 1, 2, 2, 6, 10, 9, 13, 12, 13, 14, 10, 6, 2, 2, 1, 0, 4, 8, 12, 8, 9, 5, 6, 2, 2, 1, 0, 4, 8, 12, 8, 9, 5, 6, 2, 2, 1, 0, 4, 8, 12, 8, 9, 5, 6, 2, 2, 1, 0, 4, 8, 12, 8, 9, 5, 6, 2, 2, 1, 0, 4, 8, 12, 8, 9, 5, 6, 2, 2, 1, 0, 4, 8, 12, 8, 9, 5, 6, 2, 2, 1, 0, 4, 8, 12, 8, 9, 5, 6, 2, 2, 1, 0, 4, 8, 12, 8, 9, 5, 6, 2, 2, 1, 0, 4, 8, 12, 8, 9, 5, 6, 2, 2, 1, 0, 4, 8, 12, 8, 9, 5, 6, 2, 2, 1, 0, 4, 8, 12, 8, 9, 5, 6, 2, 2, 1, 0, 4, 8, 12, 8, 9, 5, 6, 2, 2, 1, 0, 4, 8, 12, 8, 9, 5, 6, 2, 2, 1, 0, 4, 8, 12, 8, 9, 5, 6, 2, 2, 1, 0, 4, 8, 12, 8, 9, 5, 6, 2, 2, 1, 0, 4, 8, 12]\n",
      "LTL [+++]  LDBA [ 0.16 ] path: [17, 13, 9, 8, 4, 0, 1, 2, 6, 5, 9, 13, 17, 13, 9, 5, 1, 2, 2, 6, 10, 9, 13, 12, 13, 14, 10, 6, 2, 2, 1, 0, 4, 8, 12, 8, 9, 5, 6, 2, 2, 1, 0, 4, 8, 12, 8, 9, 5, 6, 2, 2, 1, 0, 4, 8, 12, 8, 9, 5, 6, 2, 2, 1, 0, 4, 8, 12, 8, 9, 5, 6, 2, 2, 1, 0, 4, 8, 12, 8, 9, 5, 6, 2, 2, 1, 0, 4, 8, 12, 8, 9, 5, 6, 2, 2, 1, 0, 4, 8, 12, 8, 9, 5, 6, 2, 2, 1, 0, 4, 8, 12, 8, 9, 5, 6, 2, 2, 1, 0, 4, 8, 12, 8, 9, 5, 6, 2, 2, 1, 0, 4, 8, 12, 8, 9, 5, 6, 2, 2, 1, 0, 4, 8, 12, 8, 9, 5, 6, 2, 2, 1, 0, 4, 8, 12, 8, 9, 5, 6, 2, 2, 1, 0, 4, 8, 12, 8, 9, 5, 6, 2, 2, 1, 0, 4, 8, 12, 8, 9, 5, 6, 2, 2, 1, 0, 4, 8, 12, 8, 9, 5, 6, 2, 2, 1, 0, 4, 8, 12]\n",
      "LTL [+++]  LDBA [ 0.16 ] path: [17, 13, 9, 8, 4, 0, 1, 2, 6, 5, 9, 13, 17, 13, 9, 5, 1, 2, 2, 6, 10, 9, 13, 12, 13, 14, 10, 6, 2, 2, 1, 0, 4, 8, 12, 8, 9, 5, 6, 2, 2, 1, 0, 4, 8, 12, 8, 9, 5, 6, 2, 2, 1, 0, 4, 8, 12, 8, 9, 5, 6, 2, 2, 1, 0, 4, 8, 12, 8, 9, 5, 6, 2, 2, 1, 0, 4, 8, 12, 8, 9, 5, 6, 2, 2, 1, 0, 4, 8, 12, 8, 9, 5, 6, 2, 2, 1, 0, 4, 8, 12, 8, 9, 5, 6, 2, 2, 1, 0, 4, 8, 12, 8, 9, 5, 6, 2, 2, 1, 0, 4, 8, 12, 8, 9, 5, 6, 2, 2, 1, 0, 4, 8, 12, 8, 9, 5, 6, 2, 2, 1, 0, 4, 8, 12, 8, 9, 5, 6, 2, 2, 1, 0, 4, 8, 12, 8, 9, 5, 6, 2, 2, 1, 0, 4, 8, 12, 8, 9, 5, 6, 2, 2, 1, 0, 4, 8, 12, 8, 9, 5, 6, 2, 2, 1, 0, 4, 8, 12, 8, 9, 5, 6, 2, 2, 1, 0, 4, 8, 12]\n",
      "LTL [+++]  LDBA [ 0.16 ] path: [17, 13, 9, 8, 4, 0, 1, 2, 6, 5, 9, 13, 17, 13, 9, 5, 1, 2, 2, 6, 10, 9, 13, 12, 13, 14, 10, 6, 2, 2, 1, 0, 4, 8, 12, 8, 9, 5, 6, 2, 2, 1, 0, 4, 8, 12, 8, 9, 5, 6, 2, 2, 1, 0, 4, 8, 12, 8, 9, 5, 6, 2, 2, 1, 0, 4, 8, 12, 8, 9, 5, 6, 2, 2, 1, 0, 4, 8, 12, 8, 9, 5, 6, 2, 2, 1, 0, 4, 8, 12, 8, 9, 5, 6, 2, 2, 1, 0, 4, 8, 12, 8, 9, 5, 6, 2, 2, 1, 0, 4, 8, 12, 8, 9, 5, 6, 2, 2, 1, 0, 4, 8, 12, 8, 9, 5, 6, 2, 2, 1, 0, 4, 8, 12, 8, 9, 5, 6, 2, 2, 1, 0, 4, 8, 12, 8, 9, 5, 6, 2, 2, 1, 0, 4, 8, 12, 8, 9, 5, 6, 2, 2, 1, 0, 4, 8, 12, 8, 9, 5, 6, 2, 2, 1, 0, 4, 8, 12, 8, 9, 5, 6, 2, 2, 1, 0, 4, 8, 12, 8, 9, 5, 6, 2, 2, 1, 0, 4, 8, 12]\n",
      "LTL [+++]  LDBA [ 0.16 ] path: [17, 13, 9, 8, 4, 0, 1, 2, 6, 5, 9, 13, 17, 13, 9, 5, 1, 2, 2, 6, 10, 9, 13, 12, 13, 14, 10, 6, 2, 2, 1, 0, 4, 8, 12, 8, 9, 5, 6, 2, 2, 1, 0, 4, 8, 12, 8, 9, 5, 6, 2, 2, 1, 0, 4, 8, 12, 8, 9, 5, 6, 2, 2, 1, 0, 4, 8, 12, 8, 9, 5, 6, 2, 2, 1, 0, 4, 8, 12, 8, 9, 5, 6, 2, 2, 1, 0, 4, 8, 12, 8, 9, 5, 6, 2, 2, 1, 0, 4, 8, 12, 8, 9, 5, 6, 2, 2, 1, 0, 4, 8, 12, 8, 9, 5, 6, 2, 2, 1, 0, 4, 8, 12, 8, 9, 5, 6, 2, 2, 1, 0, 4, 8, 12, 8, 9, 5, 6, 2, 2, 1, 0, 4, 8, 12, 8, 9, 5, 6, 2, 2, 1, 0, 4, 8, 12, 8, 9, 5, 6, 2, 2, 1, 0, 4, 8, 12, 8, 9, 5, 6, 2, 2, 1, 0, 4, 8, 12, 8, 9, 5, 6, 2, 2, 1, 0, 4, 8, 12, 8, 9, 5, 6, 2, 2, 1, 0, 4, 8, 12]\n",
      "LTL [---]  LDBA [ 0.16 ] path: [17, 17, 16, 16, 17, 13, 9, 8, 4, 0, 1, 2, 6, 5, 9, 13, 17, 13, 9, 5, 1, 2, 2, 6, 10, 9, 13, 12, 13, 14, 10, 6, 2, 2, 1, 0, 4, 8, 12, 8, 9, 5, 6, 2, 2, 1, 0, 4, 8, 12, 8, 9, 5, 6, 2, 2, 1, 0, 4, 8, 12, 8, 9, 5, 6, 2, 2, 1, 0, 4, 8, 12, 8, 9, 5, 6, 2, 2, 1, 0, 4, 8, 12, 8, 9, 5, 6, 2, 2, 1, 0, 4, 8, 12, 8, 9, 5, 6, 2, 2, 1, 0, 4, 8, 12, 8, 9, 5, 6, 2, 2, 1, 0, 4, 8, 12, 8, 9, 5, 6, 2, 2, 1, 0, 4, 8, 12, 8, 9, 5, 6, 2, 2, 1, 0, 4, 8, 12, 8, 9, 5, 6, 2, 2, 1, 0, 4, 8, 12, 8, 9, 5, 6, 2, 2, 1, 0, 4, 8, 12, 8, 9, 5, 6, 2, 2, 1, 0, 4, 8, 12, 8, 9, 5, 6, 2, 2, 1, 0, 4, 8, 12, 8, 9, 5, 6, 2, 2, 1, 0, 4, 8, 12, 8, 9, 5, 6, 2, 2, 1]\n",
      "LTL [+++]  LDBA [ 0.16 ] path: [17, 13, 9, 8, 4, 0, 1, 2, 6, 5, 9, 13, 17, 13, 9, 5, 1, 2, 2, 6, 10, 9, 13, 12, 13, 14, 10, 6, 2, 2, 1, 0, 4, 8, 12, 8, 9, 5, 6, 2, 2, 1, 0, 4, 8, 12, 8, 9, 5, 6, 2, 2, 1, 0, 4, 8, 12, 8, 9, 5, 6, 2, 2, 1, 0, 4, 8, 12, 8, 9, 5, 6, 2, 2, 1, 0, 4, 8, 12, 8, 9, 5, 6, 2, 2, 1, 0, 4, 8, 12, 8, 9, 5, 6, 2, 2, 1, 0, 4, 8, 12, 8, 9, 5, 6, 2, 2, 1, 0, 4, 8, 12, 8, 9, 5, 6, 2, 2, 1, 0, 4, 8, 12, 8, 9, 5, 6, 2, 2, 1, 0, 4, 8, 12, 8, 9, 5, 6, 2, 2, 1, 0, 4, 8, 12, 8, 9, 5, 6, 2, 2, 1, 0, 4, 8, 12, 8, 9, 5, 6, 2, 2, 1, 0, 4, 8, 12, 8, 9, 5, 6, 2, 2, 1, 0, 4, 8, 12, 8, 9, 5, 6, 2, 2, 1, 0, 4, 8, 12, 8, 9, 5, 6, 2, 2, 1, 0, 4, 8, 12]\n",
      "LTL [+++]  LDBA [ 0.16 ] path: [17, 13, 9, 8, 4, 0, 1, 2, 6, 5, 9, 13, 17, 13, 9, 5, 1, 2, 2, 6, 10, 9, 13, 12, 13, 14, 10, 6, 2, 2, 1, 0, 4, 8, 12, 8, 9, 5, 6, 2, 2, 1, 0, 4, 8, 12, 8, 9, 5, 6, 2, 2, 1, 0, 4, 8, 12, 8, 9, 5, 6, 2, 2, 1, 0, 4, 8, 12, 8, 9, 5, 6, 2, 2, 1, 0, 4, 8, 12, 8, 9, 5, 6, 2, 2, 1, 0, 4, 8, 12, 8, 9, 5, 6, 2, 2, 1, 0, 4, 8, 12, 8, 9, 5, 6, 2, 2, 1, 0, 4, 8, 12, 8, 9, 5, 6, 2, 2, 1, 0, 4, 8, 12, 8, 9, 5, 6, 2, 2, 1, 0, 4, 8, 12, 8, 9, 5, 6, 2, 2, 1, 0, 4, 8, 12, 8, 9, 5, 6, 2, 2, 1, 0, 4, 8, 12, 8, 9, 5, 6, 2, 2, 1, 0, 4, 8, 12, 8, 9, 5, 6, 2, 2, 1, 0, 4, 8, 12, 8, 9, 5, 6, 2, 2, 1, 0, 4, 8, 12, 8, 9, 5, 6, 2, 2, 1, 0, 4, 8, 12]\n",
      "LTL [+++]  LDBA [ 0.16 ] path: [17, 13, 9, 8, 4, 0, 1, 2, 6, 5, 9, 13, 17, 13, 9, 5, 1, 2, 2, 6, 10, 9, 13, 12, 13, 14, 10, 6, 2, 2, 1, 0, 4, 8, 12, 8, 9, 5, 6, 2, 2, 1, 0, 4, 8, 12, 8, 9, 5, 6, 2, 2, 1, 0, 4, 8, 12, 8, 9, 5, 6, 2, 2, 1, 0, 4, 8, 12, 8, 9, 5, 6, 2, 2, 1, 0, 4, 8, 12, 8, 9, 5, 6, 2, 2, 1, 0, 4, 8, 12, 8, 9, 5, 6, 2, 2, 1, 0, 4, 8, 12, 8, 9, 5, 6, 2, 2, 1, 0, 4, 8, 12, 8, 9, 5, 6, 2, 2, 1, 0, 4, 8, 12, 8, 9, 5, 6, 2, 2, 1, 0, 4, 8, 12, 8, 9, 5, 6, 2, 2, 1, 0, 4, 8, 12, 8, 9, 5, 6, 2, 2, 1, 0, 4, 8, 12, 8, 9, 5, 6, 2, 2, 1, 0, 4, 8, 12, 8, 9, 5, 6, 2, 2, 1, 0, 4, 8, 12, 8, 9, 5, 6, 2, 2, 1, 0, 4, 8, 12, 8, 9, 5, 6, 2, 2, 1, 0, 4, 8, 12]\n",
      "LTL [---]  LDBA [ 0.07 ] path: [17, 13, 9, 8, 4, 0, 1, 2, 6, 5, 9, 13, 17, 13, 9, 5, 1, 2, 2, 6, 10, 9, 13, 12, 13, 14, 10, 6, 2, 2, 1, 0, 4, 8, 12, 8, 9, 5, 6, 2, 2, 1, 0, 4, 8, 12, 8, 9, 5, 6, 2, 2, 1, 0, 4, 8, 12, 8, 9, 5, 6, 2, 2, 1, 0, 4, 8, 12, 8, 9, 5, 6, 2, 2, 1, 0, 4, 8, 12, 8, 9, 5, 6, 2, 2, 1, 0, 4, 8, 12, 8, 9, 5, 6, 2, 2, 1, 0, 4, 8, 12, 8, 9, 5, 4, 0, 0, 0, 0, 0, 0, 0, 0, 0, 0, 0, 0, 0, 0, 0, 0, 0, 0, 0, 0, 0, 0, 0, 0, 0, 0, 0, 0, 0, 0, 0, 0, 0, 0, 0, 0, 0, 0, 0, 0, 0, 0, 0, 0, 0, 0, 0, 0, 0, 0, 0, 0, 0, 0, 0, 0, 0, 0, 0, 0, 0, 0, 0, 0, 0, 0, 0, 0, 0, 0, 0, 0, 0, 0, 0, 0, 0, 0, 0, 0, 0, 0, 0, 0, 0, 0, 0, 0, 0, 0, 0, 0, 0, 0, 0]\n",
      "LTL [+++]  LDBA [ 0.16 ] path: [17, 13, 9, 8, 4, 0, 1, 2, 6, 5, 9, 13, 17, 13, 9, 5, 1, 2, 2, 6, 10, 9, 13, 12, 13, 14, 10, 6, 2, 2, 1, 0, 4, 8, 12, 8, 9, 5, 6, 2, 2, 1, 0, 4, 8, 12, 8, 9, 5, 6, 2, 2, 1, 0, 4, 8, 12, 8, 9, 5, 6, 2, 2, 1, 0, 4, 8, 12, 8, 9, 5, 6, 2, 2, 1, 0, 4, 8, 12, 8, 9, 5, 6, 2, 2, 1, 0, 4, 8, 12, 8, 9, 5, 6, 2, 2, 1, 0, 4, 8, 12, 8, 9, 5, 6, 2, 2, 1, 0, 4, 8, 12, 8, 9, 5, 6, 2, 2, 1, 0, 4, 8, 12, 8, 9, 5, 6, 2, 2, 1, 0, 4, 8, 12, 8, 9, 5, 6, 2, 2, 1, 0, 4, 8, 12, 8, 9, 5, 6, 2, 2, 1, 0, 4, 8, 12, 8, 9, 5, 6, 2, 2, 1, 0, 4, 8, 12, 8, 9, 5, 6, 2, 2, 1, 0, 4, 8, 12, 8, 9, 5, 6, 2, 2, 1, 0, 4, 8, 12, 8, 9, 5, 6, 2, 2, 1, 0, 4, 8, 12]\n",
      "LTL [---]  LDBA [ 0.15 ] path: [17, 13, 9, 8, 4, 0, 1, 2, 6, 5, 9, 13, 17, 13, 9, 5, 1, 2, 2, 6, 10, 9, 13, 12, 13, 14, 10, 6, 2, 2, 1, 0, 4, 8, 12, 8, 9, 5, 6, 2, 2, 1, 0, 4, 8, 12, 8, 9, 5, 6, 2, 2, 1, 0, 4, 8, 12, 8, 9, 5, 6, 2, 2, 1, 0, 4, 8, 12, 8, 9, 5, 6, 2, 2, 1, 0, 4, 8, 12, 8, 9, 5, 6, 2, 2, 1, 0, 4, 8, 12, 8, 9, 5, 6, 2, 2, 1, 0, 4, 8, 12, 8, 9, 5, 6, 2, 2, 1, 0, 4, 8, 12, 8, 9, 5, 6, 2, 2, 1, 0, 4, 8, 12, 8, 9, 5, 6, 2, 2, 1, 0, 4, 8, 12, 8, 9, 5, 6, 2, 2, 1, 0, 4, 8, 12, 8, 9, 5, 6, 2, 2, 1, 0, 4, 8, 12, 8, 9, 5, 6, 2, 2, 1, 0, 4, 8, 12, 8, 9, 5, 6, 2, 2, 1, 0, 4, 8, 12, 8, 9, 5, 6, 2, 2, 1, 0, 4, 8, 12, 16, 17, 13, 9, 5, 1, 2, 2, 6, 10, 9]\n",
      "LTL [---]  LDBA [ 0.16 ] path: [17, 13, 9, 5, 1, 2, 6, 5, 9, 13, 17, 13, 9, 5, 1, 2, 2, 6, 10, 9, 13, 12, 13, 14, 10, 6, 2, 2, 1, 0, 4, 8, 12, 8, 9, 5, 6, 2, 2, 1, 0, 4, 8, 12, 8, 9, 5, 6, 2, 2, 1, 0, 4, 8, 12, 8, 9, 5, 6, 2, 2, 1, 0, 4, 8, 12, 8, 9, 5, 6, 2, 2, 1, 0, 4, 8, 12, 8, 9, 5, 6, 2, 2, 1, 0, 4, 8, 12, 8, 9, 5, 6, 2, 2, 1, 0, 4, 8, 12, 8, 9, 5, 6, 2, 2, 1, 0, 4, 8, 12, 8, 9, 5, 6, 2, 2, 1, 0, 4, 8, 12, 8, 9, 5, 6, 2, 2, 1, 0, 4, 8, 12, 8, 9, 5, 6, 2, 2, 1, 0, 4, 8, 12, 8, 9, 5, 6, 2, 2, 1, 0, 4, 8, 12, 8, 9, 5, 6, 2, 2, 1, 0, 4, 8, 12, 8, 9, 5, 6, 2, 2, 1, 0, 4, 8, 12, 8, 9, 5, 6, 2, 2, 1, 0, 4, 8, 12, 8, 9, 5, 6, 2, 2, 1, 0, 4, 8, 12, 8, 9]\n",
      "LTL [+++]  LDBA [ 0.16 ] path: [17, 13, 9, 8, 4, 0, 1, 2, 6, 5, 9, 13, 17, 13, 9, 5, 1, 2, 2, 6, 10, 9, 13, 12, 13, 14, 10, 6, 2, 2, 1, 0, 4, 8, 12, 8, 9, 5, 6, 2, 2, 1, 0, 4, 8, 12, 8, 9, 5, 6, 2, 2, 1, 0, 4, 8, 12, 8, 9, 5, 6, 2, 2, 1, 0, 4, 8, 12, 8, 9, 5, 6, 2, 2, 1, 0, 4, 8, 12, 8, 9, 5, 6, 2, 2, 1, 0, 4, 8, 12, 8, 9, 5, 6, 2, 2, 1, 0, 4, 8, 12, 8, 9, 5, 6, 2, 2, 1, 0, 4, 8, 12, 8, 9, 5, 6, 2, 2, 1, 0, 4, 8, 12, 8, 9, 5, 6, 2, 2, 1, 0, 4, 8, 12, 8, 9, 5, 6, 2, 2, 1, 0, 4, 8, 12, 8, 9, 5, 6, 2, 2, 1, 0, 4, 8, 12, 8, 9, 5, 6, 2, 2, 1, 0, 4, 8, 12, 8, 9, 5, 6, 2, 2, 1, 0, 4, 8, 12, 8, 9, 5, 6, 2, 2, 1, 0, 4, 8, 12, 8, 9, 5, 6, 2, 2, 1, 0, 4, 8, 12]\n",
      "LTL [---]  LDBA [ 0.16 ] path: [17, 13, 9, 8, 4, 0, 1, 2, 6, 5, 9, 13, 17, 13, 9, 5, 1, 2, 2, 6, 10, 9, 13, 12, 13, 14, 10, 6, 2, 2, 1, 0, 4, 8, 12, 8, 9, 5, 6, 2, 2, 1, 0, 4, 8, 12, 8, 9, 5, 6, 2, 2, 1, 0, 4, 8, 12, 8, 9, 5, 6, 2, 2, 1, 0, 4, 8, 12, 8, 9, 5, 6, 2, 2, 1, 0, 4, 8, 12, 8, 9, 5, 6, 2, 2, 1, 0, 4, 8, 12, 8, 9, 5, 6, 2, 2, 1, 0, 4, 8, 12, 8, 9, 5, 9, 10, 6, 2, 2, 1, 0, 4, 8, 12, 8, 9, 5, 6, 2, 2, 1, 0, 4, 8, 12, 8, 9, 5, 6, 2, 2, 1, 0, 4, 8, 12, 8, 9, 5, 6, 2, 2, 1, 0, 4, 8, 12, 8, 9, 5, 6, 2, 2, 1, 0, 4, 8, 12, 8, 9, 5, 6, 2, 2, 1, 0, 4, 8, 12, 8, 9, 5, 6, 2, 2, 1, 0, 4, 8, 12, 8, 9, 5, 6, 2, 2, 1, 0, 4, 8, 12, 8, 9, 5, 6, 2, 2, 1, 0, 4]\n",
      "LTL [+++]  LDBA [ 0.16 ] path: [17, 13, 9, 8, 4, 0, 1, 2, 6, 5, 9, 13, 17, 13, 9, 5, 1, 2, 2, 6, 10, 9, 13, 12, 13, 14, 10, 6, 2, 2, 1, 0, 4, 8, 12, 8, 9, 5, 6, 2, 2, 1, 0, 4, 8, 12, 8, 9, 5, 6, 2, 2, 1, 0, 4, 8, 12, 8, 9, 5, 6, 2, 2, 1, 0, 4, 8, 12, 8, 9, 5, 6, 2, 2, 1, 0, 4, 8, 12, 8, 9, 5, 6, 2, 2, 1, 0, 4, 8, 12, 8, 9, 5, 6, 2, 2, 1, 0, 4, 8, 12, 8, 9, 5, 6, 2, 2, 1, 0, 4, 8, 12, 8, 9, 5, 6, 2, 2, 1, 0, 4, 8, 12, 8, 9, 5, 6, 2, 2, 1, 0, 4, 8, 12, 8, 9, 5, 6, 2, 2, 1, 0, 4, 8, 12, 8, 9, 5, 6, 2, 2, 1, 0, 4, 8, 12, 8, 9, 5, 6, 2, 2, 1, 0, 4, 8, 12, 8, 9, 5, 6, 2, 2, 1, 0, 4, 8, 12, 8, 9, 5, 6, 2, 2, 1, 0, 4, 8, 12, 8, 9, 5, 6, 2, 2, 1, 0, 4, 8, 12]\n",
      "LTL [+++]  LDBA [ 0.16 ] path: [17, 13, 9, 8, 4, 0, 1, 2, 6, 5, 9, 13, 17, 13, 9, 5, 1, 2, 2, 6, 10, 9, 13, 12, 13, 14, 10, 6, 2, 2, 1, 0, 4, 8, 12, 8, 9, 5, 6, 2, 2, 1, 0, 4, 8, 12, 8, 9, 5, 6, 2, 2, 1, 0, 4, 8, 12, 8, 9, 5, 6, 2, 2, 1, 0, 4, 8, 12, 8, 9, 5, 6, 2, 2, 1, 0, 4, 8, 12, 8, 9, 5, 6, 2, 2, 1, 0, 4, 8, 12, 8, 9, 5, 6, 2, 2, 1, 0, 4, 8, 12, 8, 9, 5, 6, 2, 2, 1, 0, 4, 8, 12, 8, 9, 5, 6, 2, 2, 1, 0, 4, 8, 12, 8, 9, 5, 6, 2, 2, 1, 0, 4, 8, 12, 8, 9, 5, 6, 2, 2, 1, 0, 4, 8, 12, 8, 9, 5, 6, 2, 2, 1, 0, 4, 8, 12, 8, 9, 5, 6, 2, 2, 1, 0, 4, 8, 12, 8, 9, 5, 6, 2, 2, 1, 0, 4, 8, 12, 8, 9, 5, 6, 2, 2, 1, 0, 4, 8, 12, 8, 9, 5, 6, 2, 2, 1, 0, 4, 8, 12]\n",
      "LTL [---]  LDBA [ 0.15 ] path: [17, 13, 9, 8, 4, 0, 1, 2, 6, 5, 9, 13, 17, 13, 9, 5, 1, 2, 2, 6, 10, 9, 13, 12, 13, 14, 10, 6, 2, 2, 1, 0, 4, 8, 12, 8, 9, 5, 6, 2, 2, 1, 0, 4, 8, 12, 8, 9, 5, 6, 2, 2, 1, 0, 4, 8, 12, 16, 17, 13, 9, 5, 1, 2, 2, 6, 10, 9, 13, 12, 13, 14, 10, 6, 2, 2, 1, 0, 4, 8, 12, 8, 9, 5, 6, 2, 2, 1, 0, 4, 8, 12, 8, 9, 5, 6, 2, 2, 1, 0, 4, 8, 12, 8, 9, 5, 6, 2, 2, 1, 0, 4, 8, 12, 8, 9, 5, 6, 2, 2, 1, 0, 4, 8, 12, 8, 9, 5, 6, 2, 2, 1, 0, 4, 8, 12, 8, 9, 5, 6, 2, 2, 1, 0, 4, 8, 12, 8, 9, 5, 6, 2, 2, 1, 0, 4, 8, 12, 8, 9, 5, 6, 2, 2, 1, 0, 4, 8, 12, 8, 9, 5, 6, 2, 2, 1, 0, 4, 8, 12, 8, 9, 5, 6, 2, 2, 1, 0, 4, 8, 12, 8, 9, 5, 6, 2, 2, 1, 0, 4]\n",
      "LTL [+++]  LDBA [ 0.16 ] path: [17, 13, 9, 8, 4, 0, 1, 2, 6, 5, 9, 13, 17, 13, 9, 5, 1, 2, 2, 6, 10, 9, 13, 12, 13, 14, 10, 6, 2, 2, 1, 0, 4, 8, 12, 8, 9, 5, 6, 2, 2, 1, 0, 4, 8, 12, 8, 9, 5, 6, 2, 2, 1, 0, 4, 8, 12, 8, 9, 5, 6, 2, 2, 1, 0, 4, 8, 12, 8, 9, 5, 6, 2, 2, 1, 0, 4, 8, 12, 8, 9, 5, 6, 2, 2, 1, 0, 4, 8, 12, 8, 9, 5, 6, 2, 2, 1, 0, 4, 8, 12, 8, 9, 5, 6, 2, 2, 1, 0, 4, 8, 12, 8, 9, 5, 6, 2, 2, 1, 0, 4, 8, 12, 8, 9, 5, 6, 2, 2, 1, 0, 4, 8, 12, 8, 9, 5, 6, 2, 2, 1, 0, 4, 8, 12, 8, 9, 5, 6, 2, 2, 1, 0, 4, 8, 12, 8, 9, 5, 6, 2, 2, 1, 0, 4, 8, 12, 8, 9, 5, 6, 2, 2, 1, 0, 4, 8, 12, 8, 9, 5, 6, 2, 2, 1, 0, 4, 8, 12, 8, 9, 5, 6, 2, 2, 1, 0, 4, 8, 12]\n",
      "LTL [---]  LDBA [ 0.15 ] path: [17, 13, 9, 8, 4, 0, 1, 2, 6, 5, 9, 13, 17, 13, 9, 5, 1, 2, 2, 6, 10, 9, 13, 12, 13, 14, 10, 6, 2, 2, 1, 0, 4, 8, 12, 8, 9, 5, 6, 2, 2, 1, 0, 4, 8, 12, 8, 9, 5, 6, 2, 2, 1, 0, 4, 8, 12, 8, 9, 5, 6, 2, 2, 1, 0, 4, 8, 12, 8, 9, 5, 6, 2, 2, 1, 0, 4, 8, 12, 8, 9, 5, 6, 2, 2, 1, 0, 4, 8, 12, 8, 9, 5, 6, 2, 2, 1, 0, 4, 8, 12, 8, 9, 5, 6, 2, 2, 1, 0, 4, 8, 12, 8, 9, 5, 6, 2, 2, 1, 0, 4, 8, 12, 8, 9, 5, 6, 2, 2, 1, 0, 4, 8, 12, 8, 9, 5, 6, 2, 2, 1, 0, 4, 8, 12, 8, 9, 5, 6, 2, 2, 1, 0, 4, 8, 12, 8, 9, 5, 6, 2, 2, 1, 0, 4, 8, 12, 8, 9, 5, 6, 2, 2, 1, 0, 4, 8, 12, 8, 9, 5, 6, 2, 2, 1, 0, 4, 8, 12, 16, 17, 13, 9, 5, 1, 2, 2, 6, 10, 9]\n",
      "LTL [+++]  LDBA [ 0.16 ] path: [17, 13, 9, 8, 4, 0, 1, 2, 6, 5, 9, 13, 17, 13, 9, 5, 1, 2, 2, 6, 10, 9, 13, 12, 13, 14, 10, 6, 2, 2, 1, 0, 4, 8, 12, 8, 9, 5, 6, 2, 2, 1, 0, 4, 8, 12, 8, 9, 5, 6, 2, 2, 1, 0, 4, 8, 12, 8, 9, 5, 6, 2, 2, 1, 0, 4, 8, 12, 8, 9, 5, 6, 2, 2, 1, 0, 4, 8, 12, 8, 9, 5, 6, 2, 2, 1, 0, 4, 8, 12, 8, 9, 5, 6, 2, 2, 1, 0, 4, 8, 12, 8, 9, 5, 6, 2, 2, 1, 0, 4, 8, 12, 8, 9, 5, 6, 2, 2, 1, 0, 4, 8, 12, 8, 9, 5, 6, 2, 2, 1, 0, 4, 8, 12, 8, 9, 5, 6, 2, 2, 1, 0, 4, 8, 12, 8, 9, 5, 6, 2, 2, 1, 0, 4, 8, 12, 8, 9, 5, 6, 2, 2, 1, 0, 4, 8, 12, 8, 9, 5, 6, 2, 2, 1, 0, 4, 8, 12, 8, 9, 5, 6, 2, 2, 1, 0, 4, 8, 12, 8, 9, 5, 6, 2, 2, 1, 0, 4, 8, 12]\n",
      "LTL [+++]  LDBA [ 0.16 ] path: [17, 13, 9, 8, 4, 0, 1, 2, 6, 5, 9, 13, 17, 13, 9, 5, 1, 2, 2, 6, 10, 9, 13, 12, 13, 14, 10, 6, 2, 2, 1, 0, 4, 8, 12, 8, 9, 5, 6, 2, 2, 1, 0, 4, 8, 12, 8, 9, 5, 6, 2, 2, 1, 0, 4, 8, 12, 8, 9, 5, 6, 2, 2, 1, 0, 4, 8, 12, 8, 9, 5, 6, 2, 2, 1, 0, 4, 8, 12, 8, 9, 5, 6, 2, 2, 1, 0, 4, 8, 12, 8, 9, 5, 6, 2, 2, 1, 0, 4, 8, 12, 8, 9, 5, 6, 2, 2, 1, 0, 4, 8, 12, 8, 9, 5, 6, 2, 2, 1, 0, 4, 8, 12, 8, 9, 5, 6, 2, 2, 1, 0, 4, 8, 12, 8, 9, 5, 6, 2, 2, 1, 0, 4, 8, 12, 8, 9, 5, 6, 2, 2, 1, 0, 4, 8, 12, 8, 9, 5, 6, 2, 2, 1, 0, 4, 8, 12, 8, 9, 5, 6, 2, 2, 1, 0, 4, 8, 12, 8, 9, 5, 6, 2, 2, 1, 0, 4, 8, 12, 8, 9, 5, 6, 2, 2, 1, 0, 4, 8, 12]\n",
      "LTL [---]  LDBA [ 0.16 ] path: [17, 13, 9, 8, 4, 0, 1, 2, 6, 5, 9, 13, 17, 13, 9, 5, 1, 2, 2, 6, 10, 9, 13, 12, 13, 14, 10, 6, 2, 2, 1, 0, 4, 8, 12, 8, 9, 5, 6, 2, 2, 1, 0, 4, 8, 12, 8, 9, 5, 6, 2, 2, 1, 0, 4, 8, 12, 8, 9, 5, 6, 2, 2, 1, 0, 4, 8, 12, 8, 9, 5, 6, 2, 2, 1, 0, 4, 8, 12, 8, 9, 5, 6, 2, 2, 1, 0, 4, 8, 12, 8, 9, 5, 6, 2, 2, 1, 0, 4, 8, 12, 8, 9, 5, 6, 2, 2, 1, 0, 4, 8, 12, 8, 9, 5, 6, 2, 2, 1, 0, 4, 8, 12, 8, 9, 5, 6, 2, 2, 1, 0, 4, 8, 12, 8, 9, 5, 6, 2, 2, 1, 0, 4, 8, 12, 8, 9, 5, 6, 2, 2, 1, 0, 4, 8, 12, 8, 9, 5, 6, 2, 2, 1, 0, 4, 8, 12, 8, 9, 5, 6, 2, 2, 1, 0, 4, 8, 12, 8, 9, 5, 9, 10, 6, 2, 2, 1, 0, 4, 8, 12, 8, 9, 5, 6, 2, 2, 1, 0, 4]\n",
      "LTL [+++]  LDBA [ 0.16 ] path: [17, 13, 9, 8, 4, 0, 1, 2, 6, 5, 9, 13, 17, 13, 9, 5, 1, 2, 2, 6, 10, 9, 13, 12, 13, 14, 10, 6, 2, 2, 1, 0, 4, 8, 12, 8, 9, 5, 6, 2, 2, 1, 0, 4, 8, 12, 8, 9, 5, 6, 2, 2, 1, 0, 4, 8, 12, 8, 9, 5, 6, 2, 2, 1, 0, 4, 8, 12, 8, 9, 5, 6, 2, 2, 1, 0, 4, 8, 12, 8, 9, 5, 6, 2, 2, 1, 0, 4, 8, 12, 8, 9, 5, 6, 2, 2, 1, 0, 4, 8, 12, 8, 9, 5, 6, 2, 2, 1, 0, 4, 8, 12, 8, 9, 5, 6, 2, 2, 1, 0, 4, 8, 12, 8, 9, 5, 6, 2, 2, 1, 0, 4, 8, 12, 8, 9, 5, 6, 2, 2, 1, 0, 4, 8, 12, 8, 9, 5, 6, 2, 2, 1, 0, 4, 8, 12, 8, 9, 5, 6, 2, 2, 1, 0, 4, 8, 12, 8, 9, 5, 6, 2, 2, 1, 0, 4, 8, 12, 8, 9, 5, 6, 2, 2, 1, 0, 4, 8, 12, 8, 9, 5, 6, 2, 2, 1, 0, 4, 8, 12]\n",
      "LTL [+++]  LDBA [ 0.16 ] path: [17, 13, 9, 8, 4, 0, 1, 2, 6, 5, 9, 13, 17, 13, 9, 5, 1, 2, 2, 6, 10, 9, 13, 12, 13, 14, 10, 6, 2, 2, 1, 0, 4, 8, 12, 8, 9, 5, 6, 2, 2, 1, 0, 4, 8, 12, 8, 9, 5, 6, 2, 2, 1, 0, 4, 8, 12, 8, 9, 5, 6, 2, 2, 1, 0, 4, 8, 12, 8, 9, 5, 6, 2, 2, 1, 0, 4, 8, 12, 8, 9, 5, 6, 2, 2, 1, 0, 4, 8, 12, 8, 9, 5, 6, 2, 2, 1, 0, 4, 8, 12, 8, 9, 5, 6, 2, 2, 1, 0, 4, 8, 12, 8, 9, 5, 6, 2, 2, 1, 0, 4, 8, 12, 8, 9, 5, 6, 2, 2, 1, 0, 4, 8, 12, 8, 9, 5, 6, 2, 2, 1, 0, 4, 8, 12, 8, 9, 5, 6, 2, 2, 1, 0, 4, 8, 12, 8, 9, 5, 6, 2, 2, 1, 0, 4, 8, 12, 8, 9, 5, 6, 2, 2, 1, 0, 4, 8, 12, 8, 9, 5, 6, 2, 2, 1, 0, 4, 8, 12, 8, 9, 5, 6, 2, 2, 1, 0, 4, 8, 12]\n",
      "Train wins: 56 / 100\n",
      "LTL [---]  LDBA [ 0.15 ] path: [17, 13, 9, 8, 4, 0, 1, 2, 6, 5, 9, 13, 17, 13, 9, 5, 1, 2, 2, 6, 10, 9, 13, 12, 13, 14, 10, 6, 2, 2, 1, 0, 4, 8, 12, 8, 9, 5, 6, 2, 2, 1, 0, 4, 8, 12, 8, 9, 5, 6, 2, 2, 1, 0, 4, 8, 12, 8, 9, 5, 9, 10, 6, 2, 2, 1, 0, 4, 8, 12, 8, 9, 5, 9, 10, 6, 2, 2, 1, 0, 4, 8, 12, 8, 9, 5, 6, 2, 2, 1, 0, 4, 8, 12, 8, 9, 5, 6, 2, 2, 1, 0, 4, 8, 12, 8, 9, 5, 9, 10, 6, 2, 2, 1, 0, 4, 8, 12, 8, 9, 5, 6, 2, 2, 1, 0, 4, 8, 12, 8, 9, 5, 6, 2, 2, 1, 0, 4, 8, 12, 8, 9, 5, 6, 2, 2, 1, 0, 4, 8, 12, 8, 9, 5, 6, 2, 2, 1, 0, 4, 8, 12, 8, 9, 5, 6, 2, 2, 1, 0, 4, 8, 12, 8, 9, 5, 6, 2, 2, 1, 0, 4, 8, 12, 8, 9, 5, 9, 10, 6, 2, 2, 1, 0, 4, 8, 12, 8, 9, 5]\n",
      "LTL [+++]  LDBA [ 0.16 ] path: [17, 13, 9, 8, 4, 0, 1, 2, 6, 5, 9, 13, 17, 13, 9, 5, 1, 2, 2, 6, 10, 9, 13, 12, 13, 14, 10, 6, 2, 2, 1, 0, 4, 8, 12, 8, 9, 5, 6, 2, 2, 1, 0, 4, 8, 12, 8, 9, 5, 6, 2, 2, 1, 0, 4, 8, 12, 8, 9, 5, 6, 2, 2, 1, 0, 4, 8, 12, 8, 9, 5, 6, 2, 2, 1, 0, 4, 8, 12, 8, 9, 5, 6, 2, 2, 1, 0, 4, 8, 12, 8, 9, 5, 6, 2, 2, 1, 0, 4, 8, 12, 8, 9, 5, 6, 2, 2, 1, 0, 4, 8, 12, 8, 9, 5, 6, 2, 2, 1, 0, 4, 8, 12, 8, 9, 5, 6, 2, 2, 1, 0, 4, 8, 12, 8, 9, 5, 6, 2, 2, 1, 0, 4, 8, 12, 8, 9, 5, 6, 2, 2, 1, 0, 4, 8, 12, 8, 9, 5, 6, 2, 2, 1, 0, 4, 8, 12, 8, 9, 5, 6, 2, 2, 1, 0, 4, 8, 12, 8, 9, 5, 6, 2, 2, 1, 0, 4, 8, 12, 8, 9, 5, 6, 2, 2, 1, 0, 4, 8, 12]\n",
      "LTL [+++]  LDBA [ 0.16 ] path: [17, 13, 9, 8, 4, 0, 1, 2, 6, 5, 9, 13, 17, 13, 9, 5, 1, 2, 2, 6, 10, 9, 13, 12, 13, 14, 10, 6, 2, 2, 1, 0, 4, 8, 12, 8, 9, 5, 6, 2, 2, 1, 0, 4, 8, 12, 8, 9, 5, 6, 2, 2, 1, 0, 4, 8, 12, 8, 9, 5, 6, 2, 2, 1, 0, 4, 8, 12, 8, 9, 5, 6, 2, 2, 1, 0, 4, 8, 12, 8, 9, 5, 6, 2, 2, 1, 0, 4, 8, 12, 8, 9, 5, 6, 2, 2, 1, 0, 4, 8, 12, 8, 9, 5, 6, 2, 2, 1, 0, 4, 8, 12, 8, 9, 5, 6, 2, 2, 1, 0, 4, 8, 12, 8, 9, 5, 6, 2, 2, 1, 0, 4, 8, 12, 8, 9, 5, 6, 2, 2, 1, 0, 4, 8, 12, 8, 9, 5, 6, 2, 2, 1, 0, 4, 8, 12, 8, 9, 5, 6, 2, 2, 1, 0, 4, 8, 12, 8, 9, 5, 6, 2, 2, 1, 0, 4, 8, 12, 8, 9, 5, 6, 2, 2, 1, 0, 4, 8, 12, 8, 9, 5, 6, 2, 2, 1, 0, 4, 8, 12]\n",
      "LTL [+++]  LDBA [ 0.16 ] path: [17, 13, 9, 8, 4, 0, 1, 2, 6, 5, 9, 13, 17, 13, 9, 5, 1, 2, 2, 6, 10, 9, 13, 12, 13, 14, 10, 6, 2, 2, 1, 0, 4, 8, 12, 8, 9, 5, 6, 2, 2, 1, 0, 4, 8, 12, 8, 9, 5, 6, 2, 2, 1, 0, 4, 8, 12, 8, 9, 5, 6, 2, 2, 1, 0, 4, 8, 12, 8, 9, 5, 6, 2, 2, 1, 0, 4, 8, 12, 8, 9, 5, 6, 2, 2, 1, 0, 4, 8, 12, 8, 9, 5, 6, 2, 2, 1, 0, 4, 8, 12, 8, 9, 5, 6, 2, 2, 1, 0, 4, 8, 12, 8, 9, 5, 6, 2, 2, 1, 0, 4, 8, 12, 8, 9, 5, 6, 2, 2, 1, 0, 4, 8, 12, 8, 9, 5, 6, 2, 2, 1, 0, 4, 8, 12, 8, 9, 5, 6, 2, 2, 1, 0, 4, 8, 12, 8, 9, 5, 6, 2, 2, 1, 0, 4, 8, 12, 8, 9, 5, 6, 2, 2, 1, 0, 4, 8, 12, 8, 9, 5, 6, 2, 2, 1, 0, 4, 8, 12, 8, 9, 5, 6, 2, 2, 1, 0, 4, 8, 12]\n",
      "LTL [+++]  LDBA [ 0.16 ] path: [17, 13, 9, 8, 4, 0, 1, 2, 6, 5, 9, 13, 17, 13, 9, 5, 1, 2, 2, 6, 10, 9, 13, 12, 13, 14, 10, 6, 2, 2, 1, 0, 4, 8, 12, 8, 9, 5, 6, 2, 2, 1, 0, 4, 8, 12, 8, 9, 5, 6, 2, 2, 1, 0, 4, 8, 12, 8, 9, 5, 6, 2, 2, 1, 0, 4, 8, 12, 8, 9, 5, 6, 2, 2, 1, 0, 4, 8, 12, 8, 9, 5, 6, 2, 2, 1, 0, 4, 8, 12, 8, 9, 5, 6, 2, 2, 1, 0, 4, 8, 12, 8, 9, 5, 6, 2, 2, 1, 0, 4, 8, 12, 8, 9, 5, 6, 2, 2, 1, 0, 4, 8, 12, 8, 9, 5, 6, 2, 2, 1, 0, 4, 8, 12, 8, 9, 5, 6, 2, 2, 1, 0, 4, 8, 12, 8, 9, 5, 6, 2, 2, 1, 0, 4, 8, 12, 8, 9, 5, 6, 2, 2, 1, 0, 4, 8, 12, 8, 9, 5, 6, 2, 2, 1, 0, 4, 8, 12, 8, 9, 5, 6, 2, 2, 1, 0, 4, 8, 12, 8, 9, 5, 6, 2, 2, 1, 0, 4, 8, 12]\n",
      "LTL [---]  LDBA [ 0.16 ] path: [17, 13, 9, 8, 4, 0, 1, 2, 6, 5, 9, 13, 17, 13, 9, 5, 1, 2, 2, 6, 10, 9, 13, 12, 13, 14, 10, 6, 2, 2, 1, 0, 4, 8, 12, 8, 9, 5, 6, 2, 2, 1, 0, 4, 8, 12, 8, 9, 5, 6, 2, 2, 1, 0, 4, 8, 12, 8, 9, 5, 9, 10, 6, 2, 2, 1, 0, 4, 8, 12, 8, 9, 5, 6, 2, 2, 1, 0, 4, 8, 12, 8, 9, 5, 6, 2, 2, 1, 0, 4, 8, 12, 8, 9, 5, 6, 2, 2, 1, 0, 4, 8, 12, 8, 9, 5, 6, 2, 2, 1, 0, 4, 8, 12, 8, 9, 5, 6, 2, 2, 1, 0, 4, 8, 12, 8, 9, 5, 6, 2, 2, 1, 0, 4, 8, 12, 8, 9, 5, 6, 2, 2, 1, 0, 4, 8, 12, 8, 9, 5, 6, 2, 2, 1, 0, 4, 8, 12, 8, 9, 5, 6, 2, 2, 1, 0, 4, 8, 12, 8, 9, 5, 6, 2, 2, 1, 0, 4, 8, 12, 8, 9, 5, 6, 2, 2, 1, 0, 4, 8, 12, 8, 9, 5, 6, 2, 2, 1, 0, 4]\n",
      "LTL [+++]  LDBA [ 0.16 ] path: [17, 13, 9, 8, 4, 0, 1, 2, 6, 5, 9, 13, 17, 13, 9, 5, 1, 2, 2, 6, 10, 9, 13, 12, 13, 14, 10, 6, 2, 2, 1, 0, 4, 8, 12, 8, 9, 5, 6, 2, 2, 1, 0, 4, 8, 12, 8, 9, 5, 6, 2, 2, 1, 0, 4, 8, 12, 8, 9, 5, 6, 2, 2, 1, 0, 4, 8, 12, 8, 9, 5, 6, 2, 2, 1, 0, 4, 8, 12, 8, 9, 5, 6, 2, 2, 1, 0, 4, 8, 12, 8, 9, 5, 6, 2, 2, 1, 0, 4, 8, 12, 8, 9, 5, 6, 2, 2, 1, 0, 4, 8, 12, 8, 9, 5, 6, 2, 2, 1, 0, 4, 8, 12, 8, 9, 5, 6, 2, 2, 1, 0, 4, 8, 12, 8, 9, 5, 6, 2, 2, 1, 0, 4, 8, 12, 8, 9, 5, 6, 2, 2, 1, 0, 4, 8, 12, 8, 9, 5, 6, 2, 2, 1, 0, 4, 8, 12, 8, 9, 5, 6, 2, 2, 1, 0, 4, 8, 12, 8, 9, 5, 6, 2, 2, 1, 0, 4, 8, 12, 8, 9, 5, 6, 2, 2, 1, 0, 4, 8, 12]\n",
      "LTL [+++]  LDBA [ 0.16 ] path: [17, 13, 9, 8, 4, 0, 1, 2, 6, 5, 9, 13, 17, 13, 9, 5, 1, 2, 2, 6, 10, 9, 13, 12, 13, 14, 10, 6, 2, 2, 1, 0, 4, 8, 12, 8, 9, 5, 6, 2, 2, 1, 0, 4, 8, 12, 8, 9, 5, 6, 2, 2, 1, 0, 4, 8, 12, 8, 9, 5, 6, 2, 2, 1, 0, 4, 8, 12, 8, 9, 5, 6, 2, 2, 1, 0, 4, 8, 12, 8, 9, 5, 6, 2, 2, 1, 0, 4, 8, 12, 8, 9, 5, 6, 2, 2, 1, 0, 4, 8, 12, 8, 9, 5, 6, 2, 2, 1, 0, 4, 8, 12, 8, 9, 5, 6, 2, 2, 1, 0, 4, 8, 12, 8, 9, 5, 6, 2, 2, 1, 0, 4, 8, 12, 8, 9, 5, 6, 2, 2, 1, 0, 4, 8, 12, 8, 9, 5, 6, 2, 2, 1, 0, 4, 8, 12, 8, 9, 5, 6, 2, 2, 1, 0, 4, 8, 12, 8, 9, 5, 6, 2, 2, 1, 0, 4, 8, 12, 8, 9, 5, 6, 2, 2, 1, 0, 4, 8, 12, 8, 9, 5, 6, 2, 2, 1, 0, 4, 8, 12]\n",
      "LTL [+++]  LDBA [ 0.16 ] path: [17, 13, 9, 8, 4, 0, 1, 2, 6, 5, 9, 13, 17, 13, 9, 5, 1, 2, 2, 6, 10, 9, 13, 12, 13, 14, 10, 6, 2, 2, 1, 0, 4, 8, 12, 8, 9, 5, 6, 2, 2, 1, 0, 4, 8, 12, 8, 9, 5, 6, 2, 2, 1, 0, 4, 8, 12, 8, 9, 5, 6, 2, 2, 1, 0, 4, 8, 12, 8, 9, 5, 6, 2, 2, 1, 0, 4, 8, 12, 8, 9, 5, 6, 2, 2, 1, 0, 4, 8, 12, 8, 9, 5, 6, 2, 2, 1, 0, 4, 8, 12, 8, 9, 5, 6, 2, 2, 1, 0, 4, 8, 12, 8, 9, 5, 6, 2, 2, 1, 0, 4, 8, 12, 8, 9, 5, 6, 2, 2, 1, 0, 4, 8, 12, 8, 9, 5, 6, 2, 2, 1, 0, 4, 8, 12, 8, 9, 5, 6, 2, 2, 1, 0, 4, 8, 12, 8, 9, 5, 6, 2, 2, 1, 0, 4, 8, 12, 8, 9, 5, 6, 2, 2, 1, 0, 4, 8, 12, 8, 9, 5, 6, 2, 2, 1, 0, 4, 8, 12, 8, 9, 5, 6, 2, 2, 1, 0, 4, 8, 12]\n",
      "LTL [+++]  LDBA [ 0.16 ] path: [17, 13, 9, 8, 4, 0, 1, 2, 6, 5, 9, 13, 17, 13, 9, 5, 1, 2, 2, 6, 10, 9, 13, 12, 13, 14, 10, 6, 2, 2, 1, 0, 4, 8, 12, 8, 9, 5, 6, 2, 2, 1, 0, 4, 8, 12, 8, 9, 5, 6, 2, 2, 1, 0, 4, 8, 12, 8, 9, 5, 6, 2, 2, 1, 0, 4, 8, 12, 8, 9, 5, 6, 2, 2, 1, 0, 4, 8, 12, 8, 9, 5, 6, 2, 2, 1, 0, 4, 8, 12, 8, 9, 5, 6, 2, 2, 1, 0, 4, 8, 12, 8, 9, 5, 6, 2, 2, 1, 0, 4, 8, 12, 8, 9, 5, 6, 2, 2, 1, 0, 4, 8, 12, 8, 9, 5, 6, 2, 2, 1, 0, 4, 8, 12, 8, 9, 5, 6, 2, 2, 1, 0, 4, 8, 12, 8, 9, 5, 6, 2, 2, 1, 0, 4, 8, 12, 8, 9, 5, 6, 2, 2, 1, 0, 4, 8, 12, 8, 9, 5, 6, 2, 2, 1, 0, 4, 8, 12, 8, 9, 5, 6, 2, 2, 1, 0, 4, 8, 12, 8, 9, 5, 6, 2, 2, 1, 0, 4, 8, 12]\n",
      "LTL [+++]  LDBA [ 0.16 ] path: [17, 13, 9, 8, 4, 0, 1, 2, 6, 5, 9, 13, 17, 13, 9, 5, 1, 2, 2, 6, 10, 9, 13, 12, 13, 14, 10, 6, 2, 2, 1, 0, 4, 8, 12, 8, 9, 5, 6, 2, 2, 1, 0, 4, 8, 12, 8, 9, 5, 6, 2, 2, 1, 0, 4, 8, 12, 8, 9, 5, 6, 2, 2, 1, 0, 4, 8, 12, 8, 9, 5, 6, 2, 2, 1, 0, 4, 8, 12, 8, 9, 5, 6, 2, 2, 1, 0, 4, 8, 12, 8, 9, 5, 6, 2, 2, 1, 0, 4, 8, 12, 8, 9, 5, 6, 2, 2, 1, 0, 4, 8, 12, 8, 9, 5, 6, 2, 2, 1, 0, 4, 8, 12, 8, 9, 5, 6, 2, 2, 1, 0, 4, 8, 12, 8, 9, 5, 6, 2, 2, 1, 0, 4, 8, 12, 8, 9, 5, 6, 2, 2, 1, 0, 4, 8, 12, 8, 9, 5, 6, 2, 2, 1, 0, 4, 8, 12, 8, 9, 5, 6, 2, 2, 1, 0, 4, 8, 12, 8, 9, 5, 6, 2, 2, 1, 0, 4, 8, 12, 8, 9, 5, 6, 2, 2, 1, 0, 4, 8, 12]\n",
      "LTL [+++]  LDBA [ 0.16 ] path: [17, 13, 9, 8, 4, 0, 1, 2, 6, 5, 9, 13, 17, 13, 9, 5, 1, 2, 2, 6, 10, 9, 13, 12, 13, 14, 10, 6, 2, 2, 1, 0, 4, 8, 12, 8, 9, 5, 6, 2, 2, 1, 0, 4, 8, 12, 8, 9, 5, 6, 2, 2, 1, 0, 4, 8, 12, 8, 9, 5, 6, 2, 2, 1, 0, 4, 8, 12, 8, 9, 5, 6, 2, 2, 1, 0, 4, 8, 12, 8, 9, 5, 6, 2, 2, 1, 0, 4, 8, 12, 8, 9, 5, 6, 2, 2, 1, 0, 4, 8, 12, 8, 9, 5, 6, 2, 2, 1, 0, 4, 8, 12, 8, 9, 5, 6, 2, 2, 1, 0, 4, 8, 12, 8, 9, 5, 6, 2, 2, 1, 0, 4, 8, 12, 8, 9, 5, 6, 2, 2, 1, 0, 4, 8, 12, 8, 9, 5, 6, 2, 2, 1, 0, 4, 8, 12, 8, 9, 5, 6, 2, 2, 1, 0, 4, 8, 12, 8, 9, 5, 6, 2, 2, 1, 0, 4, 8, 12, 8, 9, 5, 6, 2, 2, 1, 0, 4, 8, 12, 8, 9, 5, 6, 2, 2, 1, 0, 4, 8, 12]\n",
      "LTL [+++]  LDBA [ 0.16 ] path: [17, 13, 9, 8, 4, 0, 1, 2, 6, 5, 9, 13, 17, 13, 9, 5, 1, 2, 2, 6, 10, 9, 13, 12, 13, 14, 10, 6, 2, 2, 1, 0, 4, 8, 12, 8, 9, 5, 6, 2, 2, 1, 0, 4, 8, 12, 8, 9, 5, 6, 2, 2, 1, 0, 4, 8, 12, 8, 9, 5, 6, 2, 2, 1, 0, 4, 8, 12, 8, 9, 5, 6, 2, 2, 1, 0, 4, 8, 12, 8, 9, 5, 6, 2, 2, 1, 0, 4, 8, 12, 8, 9, 5, 6, 2, 2, 1, 0, 4, 8, 12, 8, 9, 5, 6, 2, 2, 1, 0, 4, 8, 12, 8, 9, 5, 6, 2, 2, 1, 0, 4, 8, 12, 8, 9, 5, 6, 2, 2, 1, 0, 4, 8, 12, 8, 9, 5, 6, 2, 2, 1, 0, 4, 8, 12, 8, 9, 5, 6, 2, 2, 1, 0, 4, 8, 12, 8, 9, 5, 6, 2, 2, 1, 0, 4, 8, 12, 8, 9, 5, 6, 2, 2, 1, 0, 4, 8, 12, 8, 9, 5, 6, 2, 2, 1, 0, 4, 8, 12, 8, 9, 5, 6, 2, 2, 1, 0, 4, 8, 12]\n",
      "LTL [+++]  LDBA [ 0.16 ] path: [17, 13, 9, 8, 4, 0, 1, 2, 6, 5, 9, 13, 17, 13, 9, 5, 1, 2, 2, 6, 10, 9, 13, 12, 13, 14, 10, 6, 2, 2, 1, 0, 4, 8, 12, 8, 9, 5, 6, 2, 2, 1, 0, 4, 8, 12, 8, 9, 5, 6, 2, 2, 1, 0, 4, 8, 12, 8, 9, 5, 6, 2, 2, 1, 0, 4, 8, 12, 8, 9, 5, 6, 2, 2, 1, 0, 4, 8, 12, 8, 9, 5, 6, 2, 2, 1, 0, 4, 8, 12, 8, 9, 5, 6, 2, 2, 1, 0, 4, 8, 12, 8, 9, 5, 6, 2, 2, 1, 0, 4, 8, 12, 8, 9, 5, 6, 2, 2, 1, 0, 4, 8, 12, 8, 9, 5, 6, 2, 2, 1, 0, 4, 8, 12, 8, 9, 5, 6, 2, 2, 1, 0, 4, 8, 12, 8, 9, 5, 6, 2, 2, 1, 0, 4, 8, 12, 8, 9, 5, 6, 2, 2, 1, 0, 4, 8, 12, 8, 9, 5, 6, 2, 2, 1, 0, 4, 8, 12, 8, 9, 5, 6, 2, 2, 1, 0, 4, 8, 12, 8, 9, 5, 6, 2, 2, 1, 0, 4, 8, 12]\n",
      "LTL [+++]  LDBA [ 0.16 ] path: [17, 13, 9, 8, 4, 0, 1, 2, 6, 5, 9, 13, 17, 13, 9, 5, 1, 2, 2, 6, 10, 9, 13, 12, 13, 14, 10, 6, 2, 2, 1, 0, 4, 8, 12, 8, 9, 5, 6, 2, 2, 1, 0, 4, 8, 12, 8, 9, 5, 6, 2, 2, 1, 0, 4, 8, 12, 8, 9, 5, 6, 2, 2, 1, 0, 4, 8, 12, 8, 9, 5, 6, 2, 2, 1, 0, 4, 8, 12, 8, 9, 5, 6, 2, 2, 1, 0, 4, 8, 12, 8, 9, 5, 6, 2, 2, 1, 0, 4, 8, 12, 8, 9, 5, 6, 2, 2, 1, 0, 4, 8, 12, 8, 9, 5, 6, 2, 2, 1, 0, 4, 8, 12, 8, 9, 5, 6, 2, 2, 1, 0, 4, 8, 12, 8, 9, 5, 6, 2, 2, 1, 0, 4, 8, 12, 8, 9, 5, 6, 2, 2, 1, 0, 4, 8, 12, 8, 9, 5, 6, 2, 2, 1, 0, 4, 8, 12, 8, 9, 5, 6, 2, 2, 1, 0, 4, 8, 12, 8, 9, 5, 6, 2, 2, 1, 0, 4, 8, 12, 8, 9, 5, 6, 2, 2, 1, 0, 4, 8, 12]\n",
      "LTL [+++]  LDBA [ 0.16 ] path: [17, 13, 9, 8, 4, 0, 1, 2, 6, 5, 9, 13, 17, 13, 9, 5, 1, 2, 2, 6, 10, 9, 13, 12, 13, 14, 10, 6, 2, 2, 1, 0, 4, 8, 12, 8, 9, 5, 6, 2, 2, 1, 0, 4, 8, 12, 8, 9, 5, 6, 2, 2, 1, 0, 4, 8, 12, 8, 9, 5, 6, 2, 2, 1, 0, 4, 8, 12, 8, 9, 5, 6, 2, 2, 1, 0, 4, 8, 12, 8, 9, 5, 6, 2, 2, 1, 0, 4, 8, 12, 8, 9, 5, 6, 2, 2, 1, 0, 4, 8, 12, 8, 9, 5, 6, 2, 2, 1, 0, 4, 8, 12, 8, 9, 5, 6, 2, 2, 1, 0, 4, 8, 12, 8, 9, 5, 6, 2, 2, 1, 0, 4, 8, 12, 8, 9, 5, 6, 2, 2, 1, 0, 4, 8, 12, 8, 9, 5, 6, 2, 2, 1, 0, 4, 8, 12, 8, 9, 5, 6, 2, 2, 1, 0, 4, 8, 12, 8, 9, 5, 6, 2, 2, 1, 0, 4, 8, 12, 8, 9, 5, 6, 2, 2, 1, 0, 4, 8, 12, 8, 9, 5, 6, 2, 2, 1, 0, 4, 8, 12]\n",
      "LTL [+++]  LDBA [ 0.16 ] path: [17, 13, 9, 8, 4, 0, 1, 2, 6, 5, 9, 13, 17, 13, 9, 5, 1, 2, 2, 6, 10, 9, 13, 12, 13, 14, 10, 6, 2, 2, 1, 0, 4, 8, 12, 8, 9, 5, 6, 2, 2, 1, 0, 4, 8, 12, 8, 9, 5, 6, 2, 2, 1, 0, 4, 8, 12, 8, 9, 5, 6, 2, 2, 1, 0, 4, 8, 12, 8, 9, 5, 6, 2, 2, 1, 0, 4, 8, 12, 8, 9, 5, 6, 2, 2, 1, 0, 4, 8, 12, 8, 9, 5, 6, 2, 2, 1, 0, 4, 8, 12, 8, 9, 5, 6, 2, 2, 1, 0, 4, 8, 12, 8, 9, 5, 6, 2, 2, 1, 0, 4, 8, 12, 8, 9, 5, 6, 2, 2, 1, 0, 4, 8, 12, 8, 9, 5, 6, 2, 2, 1, 0, 4, 8, 12, 8, 9, 5, 6, 2, 2, 1, 0, 4, 8, 12, 8, 9, 5, 6, 2, 2, 1, 0, 4, 8, 12, 8, 9, 5, 6, 2, 2, 1, 0, 4, 8, 12, 8, 9, 5, 6, 2, 2, 1, 0, 4, 8, 12, 8, 9, 5, 6, 2, 2, 1, 0, 4, 8, 12]\n",
      "LTL [+++]  LDBA [ 0.16 ] path: [17, 13, 9, 8, 4, 0, 1, 2, 6, 5, 9, 13, 17, 13, 9, 5, 1, 2, 2, 6, 10, 9, 13, 12, 13, 14, 10, 6, 2, 2, 1, 0, 4, 8, 12, 8, 9, 5, 6, 2, 2, 1, 0, 4, 8, 12, 8, 9, 5, 6, 2, 2, 1, 0, 4, 8, 12, 8, 9, 5, 6, 2, 2, 1, 0, 4, 8, 12, 8, 9, 5, 6, 2, 2, 1, 0, 4, 8, 12, 8, 9, 5, 6, 2, 2, 1, 0, 4, 8, 12, 8, 9, 5, 6, 2, 2, 1, 0, 4, 8, 12, 8, 9, 5, 6, 2, 2, 1, 0, 4, 8, 12, 8, 9, 5, 6, 2, 2, 1, 0, 4, 8, 12, 8, 9, 5, 6, 2, 2, 1, 0, 4, 8, 12, 8, 9, 5, 6, 2, 2, 1, 0, 4, 8, 12, 8, 9, 5, 6, 2, 2, 1, 0, 4, 8, 12, 8, 9, 5, 6, 2, 2, 1, 0, 4, 8, 12, 8, 9, 5, 6, 2, 2, 1, 0, 4, 8, 12, 8, 9, 5, 6, 2, 2, 1, 0, 4, 8, 12, 8, 9, 5, 6, 2, 2, 1, 0, 4, 8, 12]\n",
      "LTL [+++]  LDBA [ 0.16 ] path: [17, 13, 9, 8, 4, 0, 1, 2, 6, 5, 9, 13, 17, 13, 9, 5, 1, 2, 2, 6, 10, 9, 13, 12, 13, 14, 10, 6, 2, 2, 1, 0, 4, 8, 12, 8, 9, 5, 6, 2, 2, 1, 0, 4, 8, 12, 8, 9, 5, 6, 2, 2, 1, 0, 4, 8, 12, 8, 9, 5, 6, 2, 2, 1, 0, 4, 8, 12, 8, 9, 5, 6, 2, 2, 1, 0, 4, 8, 12, 8, 9, 5, 6, 2, 2, 1, 0, 4, 8, 12, 8, 9, 5, 6, 2, 2, 1, 0, 4, 8, 12, 8, 9, 5, 6, 2, 2, 1, 0, 4, 8, 12, 8, 9, 5, 6, 2, 2, 1, 0, 4, 8, 12, 8, 9, 5, 6, 2, 2, 1, 0, 4, 8, 12, 8, 9, 5, 6, 2, 2, 1, 0, 4, 8, 12, 8, 9, 5, 6, 2, 2, 1, 0, 4, 8, 12, 8, 9, 5, 6, 2, 2, 1, 0, 4, 8, 12, 8, 9, 5, 6, 2, 2, 1, 0, 4, 8, 12, 8, 9, 5, 6, 2, 2, 1, 0, 4, 8, 12, 8, 9, 5, 6, 2, 2, 1, 0, 4, 8, 12]\n",
      "LTL [+++]  LDBA [ 0.16 ] path: [17, 13, 9, 8, 4, 0, 1, 2, 6, 5, 9, 13, 17, 13, 9, 5, 1, 2, 2, 6, 10, 9, 13, 12, 13, 14, 10, 6, 2, 2, 1, 0, 4, 8, 12, 8, 9, 5, 6, 2, 2, 1, 0, 4, 8, 12, 8, 9, 5, 6, 2, 2, 1, 0, 4, 8, 12, 8, 9, 5, 6, 2, 2, 1, 0, 4, 8, 12, 8, 9, 5, 6, 2, 2, 1, 0, 4, 8, 12, 8, 9, 5, 6, 2, 2, 1, 0, 4, 8, 12, 8, 9, 5, 6, 2, 2, 1, 0, 4, 8, 12, 8, 9, 5, 6, 2, 2, 1, 0, 4, 8, 12, 8, 9, 5, 6, 2, 2, 1, 0, 4, 8, 12, 8, 9, 5, 6, 2, 2, 1, 0, 4, 8, 12, 8, 9, 5, 6, 2, 2, 1, 0, 4, 8, 12, 8, 9, 5, 6, 2, 2, 1, 0, 4, 8, 12, 8, 9, 5, 6, 2, 2, 1, 0, 4, 8, 12, 8, 9, 5, 6, 2, 2, 1, 0, 4, 8, 12, 8, 9, 5, 6, 2, 2, 1, 0, 4, 8, 12, 8, 9, 5, 6, 2, 2, 1, 0, 4, 8, 12]\n",
      "LTL [+++]  LDBA [ 0.16 ] path: [17, 13, 9, 8, 4, 0, 1, 2, 6, 5, 9, 13, 17, 13, 9, 5, 1, 2, 2, 6, 10, 9, 13, 12, 13, 14, 10, 6, 2, 2, 1, 0, 4, 8, 12, 8, 9, 5, 6, 2, 2, 1, 0, 4, 8, 12, 8, 9, 5, 6, 2, 2, 1, 0, 4, 8, 12, 8, 9, 5, 6, 2, 2, 1, 0, 4, 8, 12, 8, 9, 5, 6, 2, 2, 1, 0, 4, 8, 12, 8, 9, 5, 6, 2, 2, 1, 0, 4, 8, 12, 8, 9, 5, 6, 2, 2, 1, 0, 4, 8, 12, 8, 9, 5, 6, 2, 2, 1, 0, 4, 8, 12, 8, 9, 5, 6, 2, 2, 1, 0, 4, 8, 12, 8, 9, 5, 6, 2, 2, 1, 0, 4, 8, 12, 8, 9, 5, 6, 2, 2, 1, 0, 4, 8, 12, 8, 9, 5, 6, 2, 2, 1, 0, 4, 8, 12, 8, 9, 5, 6, 2, 2, 1, 0, 4, 8, 12, 8, 9, 5, 6, 2, 2, 1, 0, 4, 8, 12, 8, 9, 5, 6, 2, 2, 1, 0, 4, 8, 12, 8, 9, 5, 6, 2, 2, 1, 0, 4, 8, 12]\n",
      "LTL [+++]  LDBA [ 0.16 ] path: [17, 13, 9, 8, 4, 0, 1, 2, 6, 5, 9, 13, 17, 13, 9, 5, 1, 2, 2, 6, 10, 9, 13, 12, 13, 14, 10, 6, 2, 2, 1, 0, 4, 8, 12, 8, 9, 5, 6, 2, 2, 1, 0, 4, 8, 12, 8, 9, 5, 6, 2, 2, 1, 0, 4, 8, 12, 8, 9, 5, 6, 2, 2, 1, 0, 4, 8, 12, 8, 9, 5, 6, 2, 2, 1, 0, 4, 8, 12, 8, 9, 5, 6, 2, 2, 1, 0, 4, 8, 12, 8, 9, 5, 6, 2, 2, 1, 0, 4, 8, 12, 8, 9, 5, 6, 2, 2, 1, 0, 4, 8, 12, 8, 9, 5, 6, 2, 2, 1, 0, 4, 8, 12, 8, 9, 5, 6, 2, 2, 1, 0, 4, 8, 12, 8, 9, 5, 6, 2, 2, 1, 0, 4, 8, 12, 8, 9, 5, 6, 2, 2, 1, 0, 4, 8, 12, 8, 9, 5, 6, 2, 2, 1, 0, 4, 8, 12, 8, 9, 5, 6, 2, 2, 1, 0, 4, 8, 12, 8, 9, 5, 6, 2, 2, 1, 0, 4, 8, 12, 8, 9, 5, 6, 2, 2, 1, 0, 4, 8, 12]\n",
      "LTL [+++]  LDBA [ 0.16 ] path: [17, 13, 9, 8, 4, 0, 1, 2, 6, 5, 9, 13, 17, 13, 9, 5, 1, 2, 2, 6, 10, 9, 13, 12, 13, 14, 10, 6, 2, 2, 1, 0, 4, 8, 12, 8, 9, 5, 6, 2, 2, 1, 0, 4, 8, 12, 8, 9, 5, 6, 2, 2, 1, 0, 4, 8, 12, 8, 9, 5, 6, 2, 2, 1, 0, 4, 8, 12, 8, 9, 5, 6, 2, 2, 1, 0, 4, 8, 12, 8, 9, 5, 6, 2, 2, 1, 0, 4, 8, 12, 8, 9, 5, 6, 2, 2, 1, 0, 4, 8, 12, 8, 9, 5, 6, 2, 2, 1, 0, 4, 8, 12, 8, 9, 5, 6, 2, 2, 1, 0, 4, 8, 12, 8, 9, 5, 6, 2, 2, 1, 0, 4, 8, 12, 8, 9, 5, 6, 2, 2, 1, 0, 4, 8, 12, 8, 9, 5, 6, 2, 2, 1, 0, 4, 8, 12, 8, 9, 5, 6, 2, 2, 1, 0, 4, 8, 12, 8, 9, 5, 6, 2, 2, 1, 0, 4, 8, 12, 8, 9, 5, 6, 2, 2, 1, 0, 4, 8, 12, 8, 9, 5, 6, 2, 2, 1, 0, 4, 8, 12]\n",
      "LTL [+++]  LDBA [ 0.16 ] path: [17, 13, 9, 8, 4, 0, 1, 2, 6, 5, 9, 13, 17, 13, 9, 5, 1, 2, 2, 6, 10, 9, 13, 12, 13, 14, 10, 6, 2, 2, 1, 0, 4, 8, 12, 8, 9, 5, 6, 2, 2, 1, 0, 4, 8, 12, 8, 9, 5, 6, 2, 2, 1, 0, 4, 8, 12, 8, 9, 5, 6, 2, 2, 1, 0, 4, 8, 12, 8, 9, 5, 6, 2, 2, 1, 0, 4, 8, 12, 8, 9, 5, 6, 2, 2, 1, 0, 4, 8, 12, 8, 9, 5, 6, 2, 2, 1, 0, 4, 8, 12, 8, 9, 5, 6, 2, 2, 1, 0, 4, 8, 12, 8, 9, 5, 6, 2, 2, 1, 0, 4, 8, 12, 8, 9, 5, 6, 2, 2, 1, 0, 4, 8, 12, 8, 9, 5, 6, 2, 2, 1, 0, 4, 8, 12, 8, 9, 5, 6, 2, 2, 1, 0, 4, 8, 12, 8, 9, 5, 6, 2, 2, 1, 0, 4, 8, 12, 8, 9, 5, 6, 2, 2, 1, 0, 4, 8, 12, 8, 9, 5, 6, 2, 2, 1, 0, 4, 8, 12, 8, 9, 5, 6, 2, 2, 1, 0, 4, 8, 12]\n",
      "LTL [+++]  LDBA [ 0.16 ] path: [17, 13, 9, 8, 4, 0, 1, 2, 6, 5, 9, 13, 17, 13, 9, 5, 1, 2, 2, 6, 10, 9, 13, 12, 13, 14, 10, 6, 2, 2, 1, 0, 4, 8, 12, 8, 9, 5, 6, 2, 2, 1, 0, 4, 8, 12, 8, 9, 5, 6, 2, 2, 1, 0, 4, 8, 12, 8, 9, 5, 6, 2, 2, 1, 0, 4, 8, 12, 8, 9, 5, 6, 2, 2, 1, 0, 4, 8, 12, 8, 9, 5, 6, 2, 2, 1, 0, 4, 8, 12, 8, 9, 5, 6, 2, 2, 1, 0, 4, 8, 12, 8, 9, 5, 6, 2, 2, 1, 0, 4, 8, 12, 8, 9, 5, 6, 2, 2, 1, 0, 4, 8, 12, 8, 9, 5, 6, 2, 2, 1, 0, 4, 8, 12, 8, 9, 5, 6, 2, 2, 1, 0, 4, 8, 12, 8, 9, 5, 6, 2, 2, 1, 0, 4, 8, 12, 8, 9, 5, 6, 2, 2, 1, 0, 4, 8, 12, 8, 9, 5, 6, 2, 2, 1, 0, 4, 8, 12, 8, 9, 5, 6, 2, 2, 1, 0, 4, 8, 12, 8, 9, 5, 6, 2, 2, 1, 0, 4, 8, 12]\n",
      "LTL [+++]  LDBA [ 0.16 ] path: [17, 13, 9, 8, 4, 0, 1, 2, 6, 5, 9, 13, 17, 13, 9, 5, 1, 2, 2, 6, 10, 9, 13, 12, 13, 14, 10, 6, 2, 2, 1, 0, 4, 8, 12, 8, 9, 5, 6, 2, 2, 1, 0, 4, 8, 12, 8, 9, 5, 6, 2, 2, 1, 0, 4, 8, 12, 8, 9, 5, 6, 2, 2, 1, 0, 4, 8, 12, 8, 9, 5, 6, 2, 2, 1, 0, 4, 8, 12, 8, 9, 5, 6, 2, 2, 1, 0, 4, 8, 12, 8, 9, 5, 6, 2, 2, 1, 0, 4, 8, 12, 8, 9, 5, 6, 2, 2, 1, 0, 4, 8, 12, 8, 9, 5, 6, 2, 2, 1, 0, 4, 8, 12, 8, 9, 5, 6, 2, 2, 1, 0, 4, 8, 12, 8, 9, 5, 6, 2, 2, 1, 0, 4, 8, 12, 8, 9, 5, 6, 2, 2, 1, 0, 4, 8, 12, 8, 9, 5, 6, 2, 2, 1, 0, 4, 8, 12, 8, 9, 5, 6, 2, 2, 1, 0, 4, 8, 12, 8, 9, 5, 6, 2, 2, 1, 0, 4, 8, 12, 8, 9, 5, 6, 2, 2, 1, 0, 4, 8, 12]\n",
      "LTL [+++]  LDBA [ 0.16 ] path: [17, 13, 9, 8, 4, 0, 1, 2, 6, 5, 9, 13, 17, 13, 9, 5, 1, 2, 2, 6, 10, 9, 13, 12, 13, 14, 10, 6, 2, 2, 1, 0, 4, 8, 12, 8, 9, 5, 6, 2, 2, 1, 0, 4, 8, 12, 8, 9, 5, 6, 2, 2, 1, 0, 4, 8, 12, 8, 9, 5, 6, 2, 2, 1, 0, 4, 8, 12, 8, 9, 5, 6, 2, 2, 1, 0, 4, 8, 12, 8, 9, 5, 6, 2, 2, 1, 0, 4, 8, 12, 8, 9, 5, 6, 2, 2, 1, 0, 4, 8, 12, 8, 9, 5, 6, 2, 2, 1, 0, 4, 8, 12, 8, 9, 5, 6, 2, 2, 1, 0, 4, 8, 12, 8, 9, 5, 6, 2, 2, 1, 0, 4, 8, 12, 8, 9, 5, 6, 2, 2, 1, 0, 4, 8, 12, 8, 9, 5, 6, 2, 2, 1, 0, 4, 8, 12, 8, 9, 5, 6, 2, 2, 1, 0, 4, 8, 12, 8, 9, 5, 6, 2, 2, 1, 0, 4, 8, 12, 8, 9, 5, 6, 2, 2, 1, 0, 4, 8, 12, 8, 9, 5, 6, 2, 2, 1, 0, 4, 8, 12]\n",
      "LTL [+++]  LDBA [ 0.16 ] path: [17, 13, 9, 8, 4, 0, 1, 2, 6, 5, 9, 13, 17, 13, 9, 5, 1, 2, 2, 6, 10, 9, 13, 12, 13, 14, 10, 6, 2, 2, 1, 0, 4, 8, 12, 8, 9, 5, 6, 2, 2, 1, 0, 4, 8, 12, 8, 9, 5, 6, 2, 2, 1, 0, 4, 8, 12, 8, 9, 5, 6, 2, 2, 1, 0, 4, 8, 12, 8, 9, 5, 6, 2, 2, 1, 0, 4, 8, 12, 8, 9, 5, 6, 2, 2, 1, 0, 4, 8, 12, 8, 9, 5, 6, 2, 2, 1, 0, 4, 8, 12, 8, 9, 5, 6, 2, 2, 1, 0, 4, 8, 12, 8, 9, 5, 6, 2, 2, 1, 0, 4, 8, 12, 8, 9, 5, 6, 2, 2, 1, 0, 4, 8, 12, 8, 9, 5, 6, 2, 2, 1, 0, 4, 8, 12, 8, 9, 5, 6, 2, 2, 1, 0, 4, 8, 12, 8, 9, 5, 6, 2, 2, 1, 0, 4, 8, 12, 8, 9, 5, 6, 2, 2, 1, 0, 4, 8, 12, 8, 9, 5, 6, 2, 2, 1, 0, 4, 8, 12, 8, 9, 5, 6, 2, 2, 1, 0, 4, 8, 12]\n",
      "LTL [+++]  LDBA [ 0.16 ] path: [17, 13, 9, 8, 4, 0, 1, 2, 6, 5, 9, 13, 17, 13, 9, 5, 1, 2, 2, 6, 10, 9, 13, 12, 13, 14, 10, 6, 2, 2, 1, 0, 4, 8, 12, 8, 9, 5, 6, 2, 2, 1, 0, 4, 8, 12, 8, 9, 5, 6, 2, 2, 1, 0, 4, 8, 12, 8, 9, 5, 6, 2, 2, 1, 0, 4, 8, 12, 8, 9, 5, 6, 2, 2, 1, 0, 4, 8, 12, 8, 9, 5, 6, 2, 2, 1, 0, 4, 8, 12, 8, 9, 5, 6, 2, 2, 1, 0, 4, 8, 12, 8, 9, 5, 6, 2, 2, 1, 0, 4, 8, 12, 8, 9, 5, 6, 2, 2, 1, 0, 4, 8, 12, 8, 9, 5, 6, 2, 2, 1, 0, 4, 8, 12, 8, 9, 5, 6, 2, 2, 1, 0, 4, 8, 12, 8, 9, 5, 6, 2, 2, 1, 0, 4, 8, 12, 8, 9, 5, 6, 2, 2, 1, 0, 4, 8, 12, 8, 9, 5, 6, 2, 2, 1, 0, 4, 8, 12, 8, 9, 5, 6, 2, 2, 1, 0, 4, 8, 12, 8, 9, 5, 6, 2, 2, 1, 0, 4, 8, 12]\n",
      "LTL [---]  LDBA [ 0.15 ] path: [17, 13, 9, 8, 4, 0, 1, 2, 6, 5, 9, 13, 17, 13, 9, 5, 1, 2, 2, 6, 10, 9, 13, 12, 13, 14, 10, 6, 2, 2, 1, 0, 4, 8, 12, 8, 9, 5, 6, 2, 2, 1, 0, 4, 8, 12, 8, 9, 5, 6, 2, 2, 1, 0, 4, 8, 12, 8, 9, 5, 6, 2, 2, 1, 0, 4, 8, 12, 8, 9, 5, 6, 2, 2, 1, 0, 4, 8, 12, 8, 9, 5, 6, 2, 2, 1, 0, 4, 8, 12, 8, 9, 5, 6, 2, 2, 1, 0, 4, 8, 12, 8, 9, 5, 6, 2, 2, 1, 0, 4, 8, 12, 8, 9, 5, 6, 2, 2, 1, 0, 4, 8, 12, 8, 9, 5, 6, 2, 2, 1, 0, 4, 8, 12, 8, 9, 5, 6, 2, 2, 1, 0, 4, 8, 12, 8, 9, 5, 6, 2, 2, 1, 0, 4, 8, 12, 8, 9, 5, 6, 2, 2, 1, 0, 4, 8, 12, 8, 9, 5, 6, 2, 2, 1, 0, 4, 8, 12, 8, 9, 5, 6, 2, 2, 1, 0, 4, 8, 12, 16, 17, 13, 9, 5, 1, 2, 2, 6, 10, 9]\n",
      "LTL [+++]  LDBA [ 0.16 ] path: [17, 13, 9, 8, 4, 0, 1, 2, 6, 5, 9, 13, 17, 13, 9, 5, 1, 2, 2, 6, 10, 9, 13, 12, 13, 14, 10, 6, 2, 2, 1, 0, 4, 8, 12, 8, 9, 5, 6, 2, 2, 1, 0, 4, 8, 12, 8, 9, 5, 6, 2, 2, 1, 0, 4, 8, 12, 8, 9, 5, 6, 2, 2, 1, 0, 4, 8, 12, 8, 9, 5, 6, 2, 2, 1, 0, 4, 8, 12, 8, 9, 5, 6, 2, 2, 1, 0, 4, 8, 12, 8, 9, 5, 6, 2, 2, 1, 0, 4, 8, 12, 8, 9, 5, 6, 2, 2, 1, 0, 4, 8, 12, 8, 9, 5, 6, 2, 2, 1, 0, 4, 8, 12, 8, 9, 5, 6, 2, 2, 1, 0, 4, 8, 12, 8, 9, 5, 6, 2, 2, 1, 0, 4, 8, 12, 8, 9, 5, 6, 2, 2, 1, 0, 4, 8, 12, 8, 9, 5, 6, 2, 2, 1, 0, 4, 8, 12, 8, 9, 5, 6, 2, 2, 1, 0, 4, 8, 12, 8, 9, 5, 6, 2, 2, 1, 0, 4, 8, 12, 8, 9, 5, 6, 2, 2, 1, 0, 4, 8, 12]\n",
      "LTL [+++]  LDBA [ 0.16 ] path: [17, 13, 9, 8, 4, 0, 1, 2, 6, 5, 9, 13, 17, 13, 9, 5, 1, 2, 2, 6, 10, 9, 13, 12, 13, 14, 10, 6, 2, 2, 1, 0, 4, 8, 12, 8, 9, 5, 6, 2, 2, 1, 0, 4, 8, 12, 8, 9, 5, 6, 2, 2, 1, 0, 4, 8, 12, 8, 9, 5, 6, 2, 2, 1, 0, 4, 8, 12, 8, 9, 5, 6, 2, 2, 1, 0, 4, 8, 12, 8, 9, 5, 6, 2, 2, 1, 0, 4, 8, 12, 8, 9, 5, 6, 2, 2, 1, 0, 4, 8, 12, 8, 9, 5, 6, 2, 2, 1, 0, 4, 8, 12, 8, 9, 5, 6, 2, 2, 1, 0, 4, 8, 12, 8, 9, 5, 6, 2, 2, 1, 0, 4, 8, 12, 8, 9, 5, 6, 2, 2, 1, 0, 4, 8, 12, 8, 9, 5, 6, 2, 2, 1, 0, 4, 8, 12, 8, 9, 5, 6, 2, 2, 1, 0, 4, 8, 12, 8, 9, 5, 6, 2, 2, 1, 0, 4, 8, 12, 8, 9, 5, 6, 2, 2, 1, 0, 4, 8, 12, 8, 9, 5, 6, 2, 2, 1, 0, 4, 8, 12]\n",
      "LTL [+++]  LDBA [ 0.16 ] path: [17, 13, 9, 8, 4, 0, 1, 2, 6, 5, 9, 13, 17, 13, 9, 5, 1, 2, 2, 6, 10, 9, 13, 12, 13, 14, 10, 6, 2, 2, 1, 0, 4, 8, 12, 8, 9, 5, 6, 2, 2, 1, 0, 4, 8, 12, 8, 9, 5, 6, 2, 2, 1, 0, 4, 8, 12, 8, 9, 5, 6, 2, 2, 1, 0, 4, 8, 12, 8, 9, 5, 6, 2, 2, 1, 0, 4, 8, 12, 8, 9, 5, 6, 2, 2, 1, 0, 4, 8, 12, 8, 9, 5, 6, 2, 2, 1, 0, 4, 8, 12, 8, 9, 5, 6, 2, 2, 1, 0, 4, 8, 12, 8, 9, 5, 6, 2, 2, 1, 0, 4, 8, 12, 8, 9, 5, 6, 2, 2, 1, 0, 4, 8, 12, 8, 9, 5, 6, 2, 2, 1, 0, 4, 8, 12, 8, 9, 5, 6, 2, 2, 1, 0, 4, 8, 12, 8, 9, 5, 6, 2, 2, 1, 0, 4, 8, 12, 8, 9, 5, 6, 2, 2, 1, 0, 4, 8, 12, 8, 9, 5, 6, 2, 2, 1, 0, 4, 8, 12, 8, 9, 5, 6, 2, 2, 1, 0, 4, 8, 12]\n",
      "LTL [+++]  LDBA [ 0.16 ] path: [17, 13, 9, 8, 4, 0, 1, 2, 6, 5, 9, 13, 17, 13, 9, 5, 1, 2, 2, 6, 10, 9, 13, 12, 13, 14, 10, 6, 2, 2, 1, 0, 4, 8, 12, 8, 9, 5, 6, 2, 2, 1, 0, 4, 8, 12, 8, 9, 5, 6, 2, 2, 1, 0, 4, 8, 12, 8, 9, 5, 6, 2, 2, 1, 0, 4, 8, 12, 8, 9, 5, 6, 2, 2, 1, 0, 4, 8, 12, 8, 9, 5, 6, 2, 2, 1, 0, 4, 8, 12, 8, 9, 5, 6, 2, 2, 1, 0, 4, 8, 12, 8, 9, 5, 6, 2, 2, 1, 0, 4, 8, 12, 8, 9, 5, 6, 2, 2, 1, 0, 4, 8, 12, 8, 9, 5, 6, 2, 2, 1, 0, 4, 8, 12, 8, 9, 5, 6, 2, 2, 1, 0, 4, 8, 12, 8, 9, 5, 6, 2, 2, 1, 0, 4, 8, 12, 8, 9, 5, 6, 2, 2, 1, 0, 4, 8, 12, 8, 9, 5, 6, 2, 2, 1, 0, 4, 8, 12, 8, 9, 5, 6, 2, 2, 1, 0, 4, 8, 12, 8, 9, 5, 6, 2, 2, 1, 0, 4, 8, 12]\n",
      "LTL [+++]  LDBA [ 0.16 ] path: [17, 13, 9, 8, 4, 0, 1, 2, 6, 5, 9, 13, 17, 13, 9, 5, 1, 2, 2, 6, 10, 9, 13, 12, 13, 14, 10, 6, 2, 2, 1, 0, 4, 8, 12, 8, 9, 5, 6, 2, 2, 1, 0, 4, 8, 12, 8, 9, 5, 6, 2, 2, 1, 0, 4, 8, 12, 8, 9, 5, 6, 2, 2, 1, 0, 4, 8, 12, 8, 9, 5, 6, 2, 2, 1, 0, 4, 8, 12, 8, 9, 5, 6, 2, 2, 1, 0, 4, 8, 12, 8, 9, 5, 6, 2, 2, 1, 0, 4, 8, 12, 8, 9, 5, 6, 2, 2, 1, 0, 4, 8, 12, 8, 9, 5, 6, 2, 2, 1, 0, 4, 8, 12, 8, 9, 5, 6, 2, 2, 1, 0, 4, 8, 12, 8, 9, 5, 6, 2, 2, 1, 0, 4, 8, 12, 8, 9, 5, 6, 2, 2, 1, 0, 4, 8, 12, 8, 9, 5, 6, 2, 2, 1, 0, 4, 8, 12, 8, 9, 5, 6, 2, 2, 1, 0, 4, 8, 12, 8, 9, 5, 6, 2, 2, 1, 0, 4, 8, 12, 8, 9, 5, 6, 2, 2, 1, 0, 4, 8, 12]\n",
      "LTL [+++]  LDBA [ 0.16 ] path: [17, 13, 9, 8, 4, 0, 1, 2, 6, 5, 9, 13, 17, 13, 9, 5, 1, 2, 2, 6, 10, 9, 13, 12, 13, 14, 10, 6, 2, 2, 1, 0, 4, 8, 12, 8, 9, 5, 6, 2, 2, 1, 0, 4, 8, 12, 8, 9, 5, 6, 2, 2, 1, 0, 4, 8, 12, 8, 9, 5, 6, 2, 2, 1, 0, 4, 8, 12, 8, 9, 5, 6, 2, 2, 1, 0, 4, 8, 12, 8, 9, 5, 6, 2, 2, 1, 0, 4, 8, 12, 8, 9, 5, 6, 2, 2, 1, 0, 4, 8, 12, 8, 9, 5, 6, 2, 2, 1, 0, 4, 8, 12, 8, 9, 5, 6, 2, 2, 1, 0, 4, 8, 12, 8, 9, 5, 6, 2, 2, 1, 0, 4, 8, 12, 8, 9, 5, 6, 2, 2, 1, 0, 4, 8, 12, 8, 9, 5, 6, 2, 2, 1, 0, 4, 8, 12, 8, 9, 5, 6, 2, 2, 1, 0, 4, 8, 12, 8, 9, 5, 6, 2, 2, 1, 0, 4, 8, 12, 8, 9, 5, 6, 2, 2, 1, 0, 4, 8, 12, 8, 9, 5, 6, 2, 2, 1, 0, 4, 8, 12]\n",
      "LTL [+++]  LDBA [ 0.16 ] path: [17, 13, 9, 8, 4, 0, 1, 2, 6, 5, 9, 13, 17, 13, 9, 5, 1, 2, 2, 6, 10, 9, 13, 12, 13, 14, 10, 6, 2, 2, 1, 0, 4, 8, 12, 8, 9, 5, 6, 2, 2, 1, 0, 4, 8, 12, 8, 9, 5, 6, 2, 2, 1, 0, 4, 8, 12, 8, 9, 5, 6, 2, 2, 1, 0, 4, 8, 12, 8, 9, 5, 6, 2, 2, 1, 0, 4, 8, 12, 8, 9, 5, 6, 2, 2, 1, 0, 4, 8, 12, 8, 9, 5, 6, 2, 2, 1, 0, 4, 8, 12, 8, 9, 5, 6, 2, 2, 1, 0, 4, 8, 12, 8, 9, 5, 6, 2, 2, 1, 0, 4, 8, 12, 8, 9, 5, 6, 2, 2, 1, 0, 4, 8, 12, 8, 9, 5, 6, 2, 2, 1, 0, 4, 8, 12, 8, 9, 5, 6, 2, 2, 1, 0, 4, 8, 12, 8, 9, 5, 6, 2, 2, 1, 0, 4, 8, 12, 8, 9, 5, 6, 2, 2, 1, 0, 4, 8, 12, 8, 9, 5, 6, 2, 2, 1, 0, 4, 8, 12, 8, 9, 5, 6, 2, 2, 1, 0, 4, 8, 12]\n",
      "LTL [+++]  LDBA [ 0.16 ] path: [17, 13, 9, 8, 4, 0, 1, 2, 6, 5, 9, 13, 17, 13, 9, 5, 1, 2, 2, 6, 10, 9, 13, 12, 13, 14, 10, 6, 2, 2, 1, 0, 4, 8, 12, 8, 9, 5, 6, 2, 2, 1, 0, 4, 8, 12, 8, 9, 5, 6, 2, 2, 1, 0, 4, 8, 12, 8, 9, 5, 6, 2, 2, 1, 0, 4, 8, 12, 8, 9, 5, 6, 2, 2, 1, 0, 4, 8, 12, 8, 9, 5, 6, 2, 2, 1, 0, 4, 8, 12, 8, 9, 5, 6, 2, 2, 1, 0, 4, 8, 12, 8, 9, 5, 6, 2, 2, 1, 0, 4, 8, 12, 8, 9, 5, 6, 2, 2, 1, 0, 4, 8, 12, 8, 9, 5, 6, 2, 2, 1, 0, 4, 8, 12, 8, 9, 5, 6, 2, 2, 1, 0, 4, 8, 12, 8, 9, 5, 6, 2, 2, 1, 0, 4, 8, 12, 8, 9, 5, 6, 2, 2, 1, 0, 4, 8, 12, 8, 9, 5, 6, 2, 2, 1, 0, 4, 8, 12, 8, 9, 5, 6, 2, 2, 1, 0, 4, 8, 12, 8, 9, 5, 6, 2, 2, 1, 0, 4, 8, 12]\n",
      "LTL [+++]  LDBA [ 0.16 ] path: [17, 13, 9, 8, 4, 0, 1, 2, 6, 5, 9, 13, 17, 13, 9, 5, 1, 2, 2, 6, 10, 9, 13, 12, 13, 14, 10, 6, 2, 2, 1, 0, 4, 8, 12, 8, 9, 5, 6, 2, 2, 1, 0, 4, 8, 12, 8, 9, 5, 6, 2, 2, 1, 0, 4, 8, 12, 8, 9, 5, 6, 2, 2, 1, 0, 4, 8, 12, 8, 9, 5, 6, 2, 2, 1, 0, 4, 8, 12, 8, 9, 5, 6, 2, 2, 1, 0, 4, 8, 12, 8, 9, 5, 6, 2, 2, 1, 0, 4, 8, 12, 8, 9, 5, 6, 2, 2, 1, 0, 4, 8, 12, 8, 9, 5, 6, 2, 2, 1, 0, 4, 8, 12, 8, 9, 5, 6, 2, 2, 1, 0, 4, 8, 12, 8, 9, 5, 6, 2, 2, 1, 0, 4, 8, 12, 8, 9, 5, 6, 2, 2, 1, 0, 4, 8, 12, 8, 9, 5, 6, 2, 2, 1, 0, 4, 8, 12, 8, 9, 5, 6, 2, 2, 1, 0, 4, 8, 12, 8, 9, 5, 6, 2, 2, 1, 0, 4, 8, 12, 8, 9, 5, 6, 2, 2, 1, 0, 4, 8, 12]\n",
      "LTL [+++]  LDBA [ 0.16 ] path: [17, 13, 9, 8, 4, 0, 1, 2, 6, 5, 9, 13, 17, 13, 9, 5, 1, 2, 2, 6, 10, 9, 13, 12, 13, 14, 10, 6, 2, 2, 1, 0, 4, 8, 12, 8, 9, 5, 6, 2, 2, 1, 0, 4, 8, 12, 8, 9, 5, 6, 2, 2, 1, 0, 4, 8, 12, 8, 9, 5, 6, 2, 2, 1, 0, 4, 8, 12, 8, 9, 5, 6, 2, 2, 1, 0, 4, 8, 12, 8, 9, 5, 6, 2, 2, 1, 0, 4, 8, 12, 8, 9, 5, 6, 2, 2, 1, 0, 4, 8, 12, 8, 9, 5, 6, 2, 2, 1, 0, 4, 8, 12, 8, 9, 5, 6, 2, 2, 1, 0, 4, 8, 12, 8, 9, 5, 6, 2, 2, 1, 0, 4, 8, 12, 8, 9, 5, 6, 2, 2, 1, 0, 4, 8, 12, 8, 9, 5, 6, 2, 2, 1, 0, 4, 8, 12, 8, 9, 5, 6, 2, 2, 1, 0, 4, 8, 12, 8, 9, 5, 6, 2, 2, 1, 0, 4, 8, 12, 8, 9, 5, 6, 2, 2, 1, 0, 4, 8, 12, 8, 9, 5, 6, 2, 2, 1, 0, 4, 8, 12]\n",
      "LTL [+++]  LDBA [ 0.16 ] path: [17, 13, 9, 8, 4, 0, 1, 2, 6, 5, 9, 13, 17, 13, 9, 5, 1, 2, 2, 6, 10, 9, 13, 12, 13, 14, 10, 6, 2, 2, 1, 0, 4, 8, 12, 8, 9, 5, 6, 2, 2, 1, 0, 4, 8, 12, 8, 9, 5, 6, 2, 2, 1, 0, 4, 8, 12, 8, 9, 5, 6, 2, 2, 1, 0, 4, 8, 12, 8, 9, 5, 6, 2, 2, 1, 0, 4, 8, 12, 8, 9, 5, 6, 2, 2, 1, 0, 4, 8, 12, 8, 9, 5, 6, 2, 2, 1, 0, 4, 8, 12, 8, 9, 5, 6, 2, 2, 1, 0, 4, 8, 12, 8, 9, 5, 6, 2, 2, 1, 0, 4, 8, 12, 8, 9, 5, 6, 2, 2, 1, 0, 4, 8, 12, 8, 9, 5, 6, 2, 2, 1, 0, 4, 8, 12, 8, 9, 5, 6, 2, 2, 1, 0, 4, 8, 12, 8, 9, 5, 6, 2, 2, 1, 0, 4, 8, 12, 8, 9, 5, 6, 2, 2, 1, 0, 4, 8, 12, 8, 9, 5, 6, 2, 2, 1, 0, 4, 8, 12, 8, 9, 5, 6, 2, 2, 1, 0, 4, 8, 12]\n",
      "LTL [+++]  LDBA [ 0.16 ] path: [17, 13, 9, 8, 4, 0, 1, 2, 6, 5, 9, 13, 17, 13, 9, 5, 1, 2, 2, 6, 10, 9, 13, 12, 13, 14, 10, 6, 2, 2, 1, 0, 4, 8, 12, 8, 9, 5, 6, 2, 2, 1, 0, 4, 8, 12, 8, 9, 5, 6, 2, 2, 1, 0, 4, 8, 12, 8, 9, 5, 6, 2, 2, 1, 0, 4, 8, 12, 8, 9, 5, 6, 2, 2, 1, 0, 4, 8, 12, 8, 9, 5, 6, 2, 2, 1, 0, 4, 8, 12, 8, 9, 5, 6, 2, 2, 1, 0, 4, 8, 12, 8, 9, 5, 6, 2, 2, 1, 0, 4, 8, 12, 8, 9, 5, 6, 2, 2, 1, 0, 4, 8, 12, 8, 9, 5, 6, 2, 2, 1, 0, 4, 8, 12, 8, 9, 5, 6, 2, 2, 1, 0, 4, 8, 12, 8, 9, 5, 6, 2, 2, 1, 0, 4, 8, 12, 8, 9, 5, 6, 2, 2, 1, 0, 4, 8, 12, 8, 9, 5, 6, 2, 2, 1, 0, 4, 8, 12, 8, 9, 5, 6, 2, 2, 1, 0, 4, 8, 12, 8, 9, 5, 6, 2, 2, 1, 0, 4, 8, 12]\n",
      "LTL [+++]  LDBA [ 0.16 ] path: [17, 13, 9, 8, 4, 0, 1, 2, 6, 5, 9, 13, 17, 13, 9, 5, 1, 2, 2, 6, 10, 9, 13, 12, 13, 14, 10, 6, 2, 2, 1, 0, 4, 8, 12, 8, 9, 5, 6, 2, 2, 1, 0, 4, 8, 12, 8, 9, 5, 6, 2, 2, 1, 0, 4, 8, 12, 8, 9, 5, 6, 2, 2, 1, 0, 4, 8, 12, 8, 9, 5, 6, 2, 2, 1, 0, 4, 8, 12, 8, 9, 5, 6, 2, 2, 1, 0, 4, 8, 12, 8, 9, 5, 6, 2, 2, 1, 0, 4, 8, 12, 8, 9, 5, 6, 2, 2, 1, 0, 4, 8, 12, 8, 9, 5, 6, 2, 2, 1, 0, 4, 8, 12, 8, 9, 5, 6, 2, 2, 1, 0, 4, 8, 12, 8, 9, 5, 6, 2, 2, 1, 0, 4, 8, 12, 8, 9, 5, 6, 2, 2, 1, 0, 4, 8, 12, 8, 9, 5, 6, 2, 2, 1, 0, 4, 8, 12, 8, 9, 5, 6, 2, 2, 1, 0, 4, 8, 12, 8, 9, 5, 6, 2, 2, 1, 0, 4, 8, 12, 8, 9, 5, 6, 2, 2, 1, 0, 4, 8, 12]\n",
      "LTL [+++]  LDBA [ 0.16 ] path: [17, 13, 9, 8, 4, 0, 1, 2, 6, 5, 9, 13, 17, 13, 9, 5, 1, 2, 2, 6, 10, 9, 13, 12, 13, 14, 10, 6, 2, 2, 1, 0, 4, 8, 12, 8, 9, 5, 6, 2, 2, 1, 0, 4, 8, 12, 8, 9, 5, 6, 2, 2, 1, 0, 4, 8, 12, 8, 9, 5, 6, 2, 2, 1, 0, 4, 8, 12, 8, 9, 5, 6, 2, 2, 1, 0, 4, 8, 12, 8, 9, 5, 6, 2, 2, 1, 0, 4, 8, 12, 8, 9, 5, 6, 2, 2, 1, 0, 4, 8, 12, 8, 9, 5, 6, 2, 2, 1, 0, 4, 8, 12, 8, 9, 5, 6, 2, 2, 1, 0, 4, 8, 12, 8, 9, 5, 6, 2, 2, 1, 0, 4, 8, 12, 8, 9, 5, 6, 2, 2, 1, 0, 4, 8, 12, 8, 9, 5, 6, 2, 2, 1, 0, 4, 8, 12, 8, 9, 5, 6, 2, 2, 1, 0, 4, 8, 12, 8, 9, 5, 6, 2, 2, 1, 0, 4, 8, 12, 8, 9, 5, 6, 2, 2, 1, 0, 4, 8, 12, 8, 9, 5, 6, 2, 2, 1, 0, 4, 8, 12]\n",
      "LTL [+++]  LDBA [ 0.16 ] path: [17, 13, 9, 8, 4, 0, 1, 2, 6, 5, 9, 13, 17, 13, 9, 5, 1, 2, 2, 6, 10, 9, 13, 12, 13, 14, 10, 6, 2, 2, 1, 0, 4, 8, 12, 8, 9, 5, 6, 2, 2, 1, 0, 4, 8, 12, 8, 9, 5, 6, 2, 2, 1, 0, 4, 8, 12, 8, 9, 5, 6, 2, 2, 1, 0, 4, 8, 12, 8, 9, 5, 6, 2, 2, 1, 0, 4, 8, 12, 8, 9, 5, 6, 2, 2, 1, 0, 4, 8, 12, 8, 9, 5, 6, 2, 2, 1, 0, 4, 8, 12, 8, 9, 5, 6, 2, 2, 1, 0, 4, 8, 12, 8, 9, 5, 6, 2, 2, 1, 0, 4, 8, 12, 8, 9, 5, 6, 2, 2, 1, 0, 4, 8, 12, 8, 9, 5, 6, 2, 2, 1, 0, 4, 8, 12, 8, 9, 5, 6, 2, 2, 1, 0, 4, 8, 12, 8, 9, 5, 6, 2, 2, 1, 0, 4, 8, 12, 8, 9, 5, 6, 2, 2, 1, 0, 4, 8, 12, 8, 9, 5, 6, 2, 2, 1, 0, 4, 8, 12, 8, 9, 5, 6, 2, 2, 1, 0, 4, 8, 12]\n",
      "LTL [+++]  LDBA [ 0.16 ] path: [17, 13, 9, 8, 4, 0, 1, 2, 6, 5, 9, 13, 17, 13, 9, 5, 1, 2, 2, 6, 10, 9, 13, 12, 13, 14, 10, 6, 2, 2, 1, 0, 4, 8, 12, 8, 9, 5, 6, 2, 2, 1, 0, 4, 8, 12, 8, 9, 5, 6, 2, 2, 1, 0, 4, 8, 12, 8, 9, 5, 6, 2, 2, 1, 0, 4, 8, 12, 8, 9, 5, 6, 2, 2, 1, 0, 4, 8, 12, 8, 9, 5, 6, 2, 2, 1, 0, 4, 8, 12, 8, 9, 5, 6, 2, 2, 1, 0, 4, 8, 12, 8, 9, 5, 6, 2, 2, 1, 0, 4, 8, 12, 8, 9, 5, 6, 2, 2, 1, 0, 4, 8, 12, 8, 9, 5, 6, 2, 2, 1, 0, 4, 8, 12, 8, 9, 5, 6, 2, 2, 1, 0, 4, 8, 12, 8, 9, 5, 6, 2, 2, 1, 0, 4, 8, 12, 8, 9, 5, 6, 2, 2, 1, 0, 4, 8, 12, 8, 9, 5, 6, 2, 2, 1, 0, 4, 8, 12, 8, 9, 5, 6, 2, 2, 1, 0, 4, 8, 12, 8, 9, 5, 6, 2, 2, 1, 0, 4, 8, 12]\n",
      "LTL [+++]  LDBA [ 0.16 ] path: [17, 13, 9, 8, 4, 0, 1, 2, 6, 5, 9, 13, 17, 13, 9, 5, 1, 2, 2, 6, 10, 9, 13, 12, 13, 14, 10, 6, 2, 2, 1, 0, 4, 8, 12, 8, 9, 5, 6, 2, 2, 1, 0, 4, 8, 12, 8, 9, 5, 6, 2, 2, 1, 0, 4, 8, 12, 8, 9, 5, 6, 2, 2, 1, 0, 4, 8, 12, 8, 9, 5, 6, 2, 2, 1, 0, 4, 8, 12, 8, 9, 5, 6, 2, 2, 1, 0, 4, 8, 12, 8, 9, 5, 6, 2, 2, 1, 0, 4, 8, 12, 8, 9, 5, 6, 2, 2, 1, 0, 4, 8, 12, 8, 9, 5, 6, 2, 2, 1, 0, 4, 8, 12, 8, 9, 5, 6, 2, 2, 1, 0, 4, 8, 12, 8, 9, 5, 6, 2, 2, 1, 0, 4, 8, 12, 8, 9, 5, 6, 2, 2, 1, 0, 4, 8, 12, 8, 9, 5, 6, 2, 2, 1, 0, 4, 8, 12, 8, 9, 5, 6, 2, 2, 1, 0, 4, 8, 12, 8, 9, 5, 6, 2, 2, 1, 0, 4, 8, 12, 8, 9, 5, 6, 2, 2, 1, 0, 4, 8, 12]\n",
      "LTL [+++]  LDBA [ 0.16 ] path: [17, 13, 9, 8, 4, 0, 1, 2, 6, 5, 9, 13, 17, 13, 9, 5, 1, 2, 2, 6, 10, 9, 13, 12, 13, 14, 10, 6, 2, 2, 1, 0, 4, 8, 12, 8, 9, 5, 6, 2, 2, 1, 0, 4, 8, 12, 8, 9, 5, 6, 2, 2, 1, 0, 4, 8, 12, 8, 9, 5, 6, 2, 2, 1, 0, 4, 8, 12, 8, 9, 5, 6, 2, 2, 1, 0, 4, 8, 12, 8, 9, 5, 6, 2, 2, 1, 0, 4, 8, 12, 8, 9, 5, 6, 2, 2, 1, 0, 4, 8, 12, 8, 9, 5, 6, 2, 2, 1, 0, 4, 8, 12, 8, 9, 5, 6, 2, 2, 1, 0, 4, 8, 12, 8, 9, 5, 6, 2, 2, 1, 0, 4, 8, 12, 8, 9, 5, 6, 2, 2, 1, 0, 4, 8, 12, 8, 9, 5, 6, 2, 2, 1, 0, 4, 8, 12, 8, 9, 5, 6, 2, 2, 1, 0, 4, 8, 12, 8, 9, 5, 6, 2, 2, 1, 0, 4, 8, 12, 8, 9, 5, 6, 2, 2, 1, 0, 4, 8, 12, 8, 9, 5, 6, 2, 2, 1, 0, 4, 8, 12]\n",
      "LTL [+++]  LDBA [ 0.16 ] path: [17, 13, 9, 8, 4, 0, 1, 2, 6, 5, 9, 13, 17, 13, 9, 5, 1, 2, 2, 6, 10, 9, 13, 12, 13, 14, 10, 6, 2, 2, 1, 0, 4, 8, 12, 8, 9, 5, 6, 2, 2, 1, 0, 4, 8, 12, 8, 9, 5, 6, 2, 2, 1, 0, 4, 8, 12, 8, 9, 5, 6, 2, 2, 1, 0, 4, 8, 12, 8, 9, 5, 6, 2, 2, 1, 0, 4, 8, 12, 8, 9, 5, 6, 2, 2, 1, 0, 4, 8, 12, 8, 9, 5, 6, 2, 2, 1, 0, 4, 8, 12, 8, 9, 5, 6, 2, 2, 1, 0, 4, 8, 12, 8, 9, 5, 6, 2, 2, 1, 0, 4, 8, 12, 8, 9, 5, 6, 2, 2, 1, 0, 4, 8, 12, 8, 9, 5, 6, 2, 2, 1, 0, 4, 8, 12, 8, 9, 5, 6, 2, 2, 1, 0, 4, 8, 12, 8, 9, 5, 6, 2, 2, 1, 0, 4, 8, 12, 8, 9, 5, 6, 2, 2, 1, 0, 4, 8, 12, 8, 9, 5, 6, 2, 2, 1, 0, 4, 8, 12, 8, 9, 5, 6, 2, 2, 1, 0, 4, 8, 12]\n",
      "LTL [+++]  LDBA [ 0.16 ] path: [17, 13, 9, 8, 4, 0, 1, 2, 6, 5, 9, 13, 17, 13, 9, 5, 1, 2, 2, 6, 10, 9, 13, 12, 13, 14, 10, 6, 2, 2, 1, 0, 4, 8, 12, 8, 9, 5, 6, 2, 2, 1, 0, 4, 8, 12, 8, 9, 5, 6, 2, 2, 1, 0, 4, 8, 12, 8, 9, 5, 6, 2, 2, 1, 0, 4, 8, 12, 8, 9, 5, 6, 2, 2, 1, 0, 4, 8, 12, 8, 9, 5, 6, 2, 2, 1, 0, 4, 8, 12, 8, 9, 5, 6, 2, 2, 1, 0, 4, 8, 12, 8, 9, 5, 6, 2, 2, 1, 0, 4, 8, 12, 8, 9, 5, 6, 2, 2, 1, 0, 4, 8, 12, 8, 9, 5, 6, 2, 2, 1, 0, 4, 8, 12, 8, 9, 5, 6, 2, 2, 1, 0, 4, 8, 12, 8, 9, 5, 6, 2, 2, 1, 0, 4, 8, 12, 8, 9, 5, 6, 2, 2, 1, 0, 4, 8, 12, 8, 9, 5, 6, 2, 2, 1, 0, 4, 8, 12, 8, 9, 5, 6, 2, 2, 1, 0, 4, 8, 12, 8, 9, 5, 6, 2, 2, 1, 0, 4, 8, 12]\n",
      "LTL [+++]  LDBA [ 0.16 ] path: [17, 13, 9, 8, 4, 0, 1, 2, 6, 5, 9, 13, 17, 13, 9, 5, 1, 2, 2, 6, 10, 9, 13, 12, 13, 14, 10, 6, 2, 2, 1, 0, 4, 8, 12, 8, 9, 5, 6, 2, 2, 1, 0, 4, 8, 12, 8, 9, 5, 6, 2, 2, 1, 0, 4, 8, 12, 8, 9, 5, 6, 2, 2, 1, 0, 4, 8, 12, 8, 9, 5, 6, 2, 2, 1, 0, 4, 8, 12, 8, 9, 5, 6, 2, 2, 1, 0, 4, 8, 12, 8, 9, 5, 6, 2, 2, 1, 0, 4, 8, 12, 8, 9, 5, 6, 2, 2, 1, 0, 4, 8, 12, 8, 9, 5, 6, 2, 2, 1, 0, 4, 8, 12, 8, 9, 5, 6, 2, 2, 1, 0, 4, 8, 12, 8, 9, 5, 6, 2, 2, 1, 0, 4, 8, 12, 8, 9, 5, 6, 2, 2, 1, 0, 4, 8, 12, 8, 9, 5, 6, 2, 2, 1, 0, 4, 8, 12, 8, 9, 5, 6, 2, 2, 1, 0, 4, 8, 12, 8, 9, 5, 6, 2, 2, 1, 0, 4, 8, 12, 8, 9, 5, 6, 2, 2, 1, 0, 4, 8, 12]\n",
      "LTL [+++]  LDBA [ 0.16 ] path: [17, 13, 9, 8, 4, 0, 1, 2, 6, 5, 9, 13, 17, 13, 9, 5, 1, 2, 2, 6, 10, 9, 13, 12, 13, 14, 10, 6, 2, 2, 1, 0, 4, 8, 12, 8, 9, 5, 6, 2, 2, 1, 0, 4, 8, 12, 8, 9, 5, 6, 2, 2, 1, 0, 4, 8, 12, 8, 9, 5, 6, 2, 2, 1, 0, 4, 8, 12, 8, 9, 5, 6, 2, 2, 1, 0, 4, 8, 12, 8, 9, 5, 6, 2, 2, 1, 0, 4, 8, 12, 8, 9, 5, 6, 2, 2, 1, 0, 4, 8, 12, 8, 9, 5, 6, 2, 2, 1, 0, 4, 8, 12, 8, 9, 5, 6, 2, 2, 1, 0, 4, 8, 12, 8, 9, 5, 6, 2, 2, 1, 0, 4, 8, 12, 8, 9, 5, 6, 2, 2, 1, 0, 4, 8, 12, 8, 9, 5, 6, 2, 2, 1, 0, 4, 8, 12, 8, 9, 5, 6, 2, 2, 1, 0, 4, 8, 12, 8, 9, 5, 6, 2, 2, 1, 0, 4, 8, 12, 8, 9, 5, 6, 2, 2, 1, 0, 4, 8, 12, 8, 9, 5, 6, 2, 2, 1, 0, 4, 8, 12]\n",
      "LTL [+++]  LDBA [ 0.16 ] path: [17, 13, 9, 8, 4, 0, 1, 2, 6, 5, 9, 13, 17, 13, 9, 5, 1, 2, 2, 6, 10, 9, 13, 12, 13, 14, 10, 6, 2, 2, 1, 0, 4, 8, 12, 8, 9, 5, 6, 2, 2, 1, 0, 4, 8, 12, 8, 9, 5, 6, 2, 2, 1, 0, 4, 8, 12, 8, 9, 5, 6, 2, 2, 1, 0, 4, 8, 12, 8, 9, 5, 6, 2, 2, 1, 0, 4, 8, 12, 8, 9, 5, 6, 2, 2, 1, 0, 4, 8, 12, 8, 9, 5, 6, 2, 2, 1, 0, 4, 8, 12, 8, 9, 5, 6, 2, 2, 1, 0, 4, 8, 12, 8, 9, 5, 6, 2, 2, 1, 0, 4, 8, 12, 8, 9, 5, 6, 2, 2, 1, 0, 4, 8, 12, 8, 9, 5, 6, 2, 2, 1, 0, 4, 8, 12, 8, 9, 5, 6, 2, 2, 1, 0, 4, 8, 12, 8, 9, 5, 6, 2, 2, 1, 0, 4, 8, 12, 8, 9, 5, 6, 2, 2, 1, 0, 4, 8, 12, 8, 9, 5, 6, 2, 2, 1, 0, 4, 8, 12, 8, 9, 5, 6, 2, 2, 1, 0, 4, 8, 12]\n",
      "LTL [+++]  LDBA [ 0.16 ] path: [17, 13, 9, 8, 4, 0, 1, 2, 6, 5, 9, 13, 17, 13, 9, 5, 1, 2, 2, 6, 10, 9, 13, 12, 13, 14, 10, 6, 2, 2, 1, 0, 4, 8, 12, 8, 9, 5, 6, 2, 2, 1, 0, 4, 8, 12, 8, 9, 5, 6, 2, 2, 1, 0, 4, 8, 12, 8, 9, 5, 6, 2, 2, 1, 0, 4, 8, 12, 8, 9, 5, 6, 2, 2, 1, 0, 4, 8, 12, 8, 9, 5, 6, 2, 2, 1, 0, 4, 8, 12, 8, 9, 5, 6, 2, 2, 1, 0, 4, 8, 12, 8, 9, 5, 6, 2, 2, 1, 0, 4, 8, 12, 8, 9, 5, 6, 2, 2, 1, 0, 4, 8, 12, 8, 9, 5, 6, 2, 2, 1, 0, 4, 8, 12, 8, 9, 5, 6, 2, 2, 1, 0, 4, 8, 12, 8, 9, 5, 6, 2, 2, 1, 0, 4, 8, 12, 8, 9, 5, 6, 2, 2, 1, 0, 4, 8, 12, 8, 9, 5, 6, 2, 2, 1, 0, 4, 8, 12, 8, 9, 5, 6, 2, 2, 1, 0, 4, 8, 12, 8, 9, 5, 6, 2, 2, 1, 0, 4, 8, 12]\n",
      "LTL [+++]  LDBA [ 0.16 ] path: [17, 13, 9, 8, 4, 0, 1, 2, 6, 5, 9, 13, 17, 13, 9, 5, 1, 2, 2, 6, 10, 9, 13, 12, 13, 14, 10, 6, 2, 2, 1, 0, 4, 8, 12, 8, 9, 5, 6, 2, 2, 1, 0, 4, 8, 12, 8, 9, 5, 6, 2, 2, 1, 0, 4, 8, 12, 8, 9, 5, 6, 2, 2, 1, 0, 4, 8, 12, 8, 9, 5, 6, 2, 2, 1, 0, 4, 8, 12, 8, 9, 5, 6, 2, 2, 1, 0, 4, 8, 12, 8, 9, 5, 6, 2, 2, 1, 0, 4, 8, 12, 8, 9, 5, 6, 2, 2, 1, 0, 4, 8, 12, 8, 9, 5, 6, 2, 2, 1, 0, 4, 8, 12, 8, 9, 5, 6, 2, 2, 1, 0, 4, 8, 12, 8, 9, 5, 6, 2, 2, 1, 0, 4, 8, 12, 8, 9, 5, 6, 2, 2, 1, 0, 4, 8, 12, 8, 9, 5, 6, 2, 2, 1, 0, 4, 8, 12, 8, 9, 5, 6, 2, 2, 1, 0, 4, 8, 12, 8, 9, 5, 6, 2, 2, 1, 0, 4, 8, 12, 8, 9, 5, 6, 2, 2, 1, 0, 4, 8, 12]\n",
      "LTL [+++]  LDBA [ 0.16 ] path: [17, 13, 9, 8, 4, 0, 1, 2, 6, 5, 9, 13, 17, 13, 9, 5, 1, 2, 2, 6, 10, 9, 13, 12, 13, 14, 10, 6, 2, 2, 1, 0, 4, 8, 12, 8, 9, 5, 6, 2, 2, 1, 0, 4, 8, 12, 8, 9, 5, 6, 2, 2, 1, 0, 4, 8, 12, 8, 9, 5, 6, 2, 2, 1, 0, 4, 8, 12, 8, 9, 5, 6, 2, 2, 1, 0, 4, 8, 12, 8, 9, 5, 6, 2, 2, 1, 0, 4, 8, 12, 8, 9, 5, 6, 2, 2, 1, 0, 4, 8, 12, 8, 9, 5, 6, 2, 2, 1, 0, 4, 8, 12, 8, 9, 5, 6, 2, 2, 1, 0, 4, 8, 12, 8, 9, 5, 6, 2, 2, 1, 0, 4, 8, 12, 8, 9, 5, 6, 2, 2, 1, 0, 4, 8, 12, 8, 9, 5, 6, 2, 2, 1, 0, 4, 8, 12, 8, 9, 5, 6, 2, 2, 1, 0, 4, 8, 12, 8, 9, 5, 6, 2, 2, 1, 0, 4, 8, 12, 8, 9, 5, 6, 2, 2, 1, 0, 4, 8, 12, 8, 9, 5, 6, 2, 2, 1, 0, 4, 8, 12]\n",
      "LTL [+++]  LDBA [ 0.16 ] path: [17, 13, 9, 8, 4, 0, 1, 2, 6, 5, 9, 13, 17, 13, 9, 5, 1, 2, 2, 6, 10, 9, 13, 12, 13, 14, 10, 6, 2, 2, 1, 0, 4, 8, 12, 8, 9, 5, 6, 2, 2, 1, 0, 4, 8, 12, 8, 9, 5, 6, 2, 2, 1, 0, 4, 8, 12, 8, 9, 5, 6, 2, 2, 1, 0, 4, 8, 12, 8, 9, 5, 6, 2, 2, 1, 0, 4, 8, 12, 8, 9, 5, 6, 2, 2, 1, 0, 4, 8, 12, 8, 9, 5, 6, 2, 2, 1, 0, 4, 8, 12, 8, 9, 5, 6, 2, 2, 1, 0, 4, 8, 12, 8, 9, 5, 6, 2, 2, 1, 0, 4, 8, 12, 8, 9, 5, 6, 2, 2, 1, 0, 4, 8, 12, 8, 9, 5, 6, 2, 2, 1, 0, 4, 8, 12, 8, 9, 5, 6, 2, 2, 1, 0, 4, 8, 12, 8, 9, 5, 6, 2, 2, 1, 0, 4, 8, 12, 8, 9, 5, 6, 2, 2, 1, 0, 4, 8, 12, 8, 9, 5, 6, 2, 2, 1, 0, 4, 8, 12, 8, 9, 5, 6, 2, 2, 1, 0, 4, 8, 12]\n",
      "LTL [+++]  LDBA [ 0.16 ] path: [17, 13, 9, 8, 4, 0, 1, 2, 6, 5, 9, 13, 17, 13, 9, 5, 1, 2, 2, 6, 10, 9, 13, 12, 13, 14, 10, 6, 2, 2, 1, 0, 4, 8, 12, 8, 9, 5, 6, 2, 2, 1, 0, 4, 8, 12, 8, 9, 5, 6, 2, 2, 1, 0, 4, 8, 12, 8, 9, 5, 6, 2, 2, 1, 0, 4, 8, 12, 8, 9, 5, 6, 2, 2, 1, 0, 4, 8, 12, 8, 9, 5, 6, 2, 2, 1, 0, 4, 8, 12, 8, 9, 5, 6, 2, 2, 1, 0, 4, 8, 12, 8, 9, 5, 6, 2, 2, 1, 0, 4, 8, 12, 8, 9, 5, 6, 2, 2, 1, 0, 4, 8, 12, 8, 9, 5, 6, 2, 2, 1, 0, 4, 8, 12, 8, 9, 5, 6, 2, 2, 1, 0, 4, 8, 12, 8, 9, 5, 6, 2, 2, 1, 0, 4, 8, 12, 8, 9, 5, 6, 2, 2, 1, 0, 4, 8, 12, 8, 9, 5, 6, 2, 2, 1, 0, 4, 8, 12, 8, 9, 5, 6, 2, 2, 1, 0, 4, 8, 12, 8, 9, 5, 6, 2, 2, 1, 0, 4, 8, 12]\n",
      "LTL [+++]  LDBA [ 0.16 ] path: [17, 13, 9, 8, 4, 0, 1, 2, 6, 5, 9, 13, 17, 13, 9, 5, 1, 2, 2, 6, 10, 9, 13, 12, 13, 14, 10, 6, 2, 2, 1, 0, 4, 8, 12, 8, 9, 5, 6, 2, 2, 1, 0, 4, 8, 12, 8, 9, 5, 6, 2, 2, 1, 0, 4, 8, 12, 8, 9, 5, 6, 2, 2, 1, 0, 4, 8, 12, 8, 9, 5, 6, 2, 2, 1, 0, 4, 8, 12, 8, 9, 5, 6, 2, 2, 1, 0, 4, 8, 12, 8, 9, 5, 6, 2, 2, 1, 0, 4, 8, 12, 8, 9, 5, 6, 2, 2, 1, 0, 4, 8, 12, 8, 9, 5, 6, 2, 2, 1, 0, 4, 8, 12, 8, 9, 5, 6, 2, 2, 1, 0, 4, 8, 12, 8, 9, 5, 6, 2, 2, 1, 0, 4, 8, 12, 8, 9, 5, 6, 2, 2, 1, 0, 4, 8, 12, 8, 9, 5, 6, 2, 2, 1, 0, 4, 8, 12, 8, 9, 5, 6, 2, 2, 1, 0, 4, 8, 12, 8, 9, 5, 6, 2, 2, 1, 0, 4, 8, 12, 8, 9, 5, 6, 2, 2, 1, 0, 4, 8, 12]\n",
      "LTL [+++]  LDBA [ 0.16 ] path: [17, 13, 9, 8, 4, 0, 1, 2, 6, 5, 9, 13, 17, 13, 9, 5, 1, 2, 2, 6, 10, 9, 13, 12, 13, 14, 10, 6, 2, 2, 1, 0, 4, 8, 12, 8, 9, 5, 6, 2, 2, 1, 0, 4, 8, 12, 8, 9, 5, 6, 2, 2, 1, 0, 4, 8, 12, 8, 9, 5, 6, 2, 2, 1, 0, 4, 8, 12, 8, 9, 5, 6, 2, 2, 1, 0, 4, 8, 12, 8, 9, 5, 6, 2, 2, 1, 0, 4, 8, 12, 8, 9, 5, 6, 2, 2, 1, 0, 4, 8, 12, 8, 9, 5, 6, 2, 2, 1, 0, 4, 8, 12, 8, 9, 5, 6, 2, 2, 1, 0, 4, 8, 12, 8, 9, 5, 6, 2, 2, 1, 0, 4, 8, 12, 8, 9, 5, 6, 2, 2, 1, 0, 4, 8, 12, 8, 9, 5, 6, 2, 2, 1, 0, 4, 8, 12, 8, 9, 5, 6, 2, 2, 1, 0, 4, 8, 12, 8, 9, 5, 6, 2, 2, 1, 0, 4, 8, 12, 8, 9, 5, 6, 2, 2, 1, 0, 4, 8, 12, 8, 9, 5, 6, 2, 2, 1, 0, 4, 8, 12]\n",
      "LTL [---]  LDBA [ 0.16 ] path: [17, 17, 17, 13, 9, 8, 4, 0, 1, 2, 6, 5, 9, 13, 17, 13, 9, 5, 1, 2, 2, 6, 10, 9, 13, 12, 13, 14, 10, 6, 2, 2, 1, 0, 4, 8, 12, 8, 9, 5, 6, 2, 2, 1, 0, 4, 8, 12, 8, 9, 5, 6, 2, 2, 1, 0, 4, 8, 12, 8, 9, 5, 6, 2, 2, 1, 0, 4, 8, 12, 8, 9, 5, 6, 2, 2, 1, 0, 4, 8, 12, 8, 9, 5, 6, 2, 2, 1, 0, 4, 8, 12, 8, 9, 5, 6, 2, 2, 1, 0, 4, 8, 12, 8, 9, 5, 6, 2, 2, 1, 0, 4, 8, 12, 8, 9, 5, 6, 2, 2, 1, 0, 4, 8, 12, 8, 9, 5, 6, 2, 2, 1, 0, 4, 8, 12, 8, 9, 5, 6, 2, 2, 1, 0, 4, 8, 12, 8, 9, 5, 6, 2, 2, 1, 0, 4, 8, 12, 8, 9, 5, 6, 2, 2, 1, 0, 4, 8, 12, 8, 9, 5, 6, 2, 2, 1, 0, 4, 8, 12, 8, 9, 5, 6, 2, 2, 1, 0, 4, 8, 12, 8, 9, 5, 6, 2, 2, 1, 0, 4]\n",
      "LTL [+++]  LDBA [ 0.16 ] path: [17, 13, 9, 8, 4, 0, 1, 2, 6, 5, 9, 13, 17, 13, 9, 5, 1, 2, 2, 6, 10, 9, 13, 12, 13, 14, 10, 6, 2, 2, 1, 0, 4, 8, 12, 8, 9, 5, 6, 2, 2, 1, 0, 4, 8, 12, 8, 9, 5, 6, 2, 2, 1, 0, 4, 8, 12, 8, 9, 5, 6, 2, 2, 1, 0, 4, 8, 12, 8, 9, 5, 6, 2, 2, 1, 0, 4, 8, 12, 8, 9, 5, 6, 2, 2, 1, 0, 4, 8, 12, 8, 9, 5, 6, 2, 2, 1, 0, 4, 8, 12, 8, 9, 5, 6, 2, 2, 1, 0, 4, 8, 12, 8, 9, 5, 6, 2, 2, 1, 0, 4, 8, 12, 8, 9, 5, 6, 2, 2, 1, 0, 4, 8, 12, 8, 9, 5, 6, 2, 2, 1, 0, 4, 8, 12, 8, 9, 5, 6, 2, 2, 1, 0, 4, 8, 12, 8, 9, 5, 6, 2, 2, 1, 0, 4, 8, 12, 8, 9, 5, 6, 2, 2, 1, 0, 4, 8, 12, 8, 9, 5, 6, 2, 2, 1, 0, 4, 8, 12, 8, 9, 5, 6, 2, 2, 1, 0, 4, 8, 12]\n",
      "LTL [+++]  LDBA [ 0.16 ] path: [17, 13, 9, 8, 4, 0, 1, 2, 6, 5, 9, 13, 17, 13, 9, 5, 1, 2, 2, 6, 10, 9, 13, 12, 13, 14, 10, 6, 2, 2, 1, 0, 4, 8, 12, 8, 9, 5, 6, 2, 2, 1, 0, 4, 8, 12, 8, 9, 5, 6, 2, 2, 1, 0, 4, 8, 12, 8, 9, 5, 6, 2, 2, 1, 0, 4, 8, 12, 8, 9, 5, 6, 2, 2, 1, 0, 4, 8, 12, 8, 9, 5, 6, 2, 2, 1, 0, 4, 8, 12, 8, 9, 5, 6, 2, 2, 1, 0, 4, 8, 12, 8, 9, 5, 6, 2, 2, 1, 0, 4, 8, 12, 8, 9, 5, 6, 2, 2, 1, 0, 4, 8, 12, 8, 9, 5, 6, 2, 2, 1, 0, 4, 8, 12, 8, 9, 5, 6, 2, 2, 1, 0, 4, 8, 12, 8, 9, 5, 6, 2, 2, 1, 0, 4, 8, 12, 8, 9, 5, 6, 2, 2, 1, 0, 4, 8, 12, 8, 9, 5, 6, 2, 2, 1, 0, 4, 8, 12, 8, 9, 5, 6, 2, 2, 1, 0, 4, 8, 12, 8, 9, 5, 6, 2, 2, 1, 0, 4, 8, 12]\n",
      "LTL [+++]  LDBA [ 0.16 ] path: [17, 13, 9, 8, 4, 0, 1, 2, 6, 5, 9, 13, 17, 13, 9, 5, 1, 2, 2, 6, 10, 9, 13, 12, 13, 14, 10, 6, 2, 2, 1, 0, 4, 8, 12, 8, 9, 5, 6, 2, 2, 1, 0, 4, 8, 12, 8, 9, 5, 6, 2, 2, 1, 0, 4, 8, 12, 8, 9, 5, 6, 2, 2, 1, 0, 4, 8, 12, 8, 9, 5, 6, 2, 2, 1, 0, 4, 8, 12, 8, 9, 5, 6, 2, 2, 1, 0, 4, 8, 12, 8, 9, 5, 6, 2, 2, 1, 0, 4, 8, 12, 8, 9, 5, 6, 2, 2, 1, 0, 4, 8, 12, 8, 9, 5, 6, 2, 2, 1, 0, 4, 8, 12, 8, 9, 5, 6, 2, 2, 1, 0, 4, 8, 12, 8, 9, 5, 6, 2, 2, 1, 0, 4, 8, 12, 8, 9, 5, 6, 2, 2, 1, 0, 4, 8, 12, 8, 9, 5, 6, 2, 2, 1, 0, 4, 8, 12, 8, 9, 5, 6, 2, 2, 1, 0, 4, 8, 12, 8, 9, 5, 6, 2, 2, 1, 0, 4, 8, 12, 8, 9, 5, 6, 2, 2, 1, 0, 4, 8, 12]\n",
      "LTL [+++]  LDBA [ 0.16 ] path: [17, 13, 9, 8, 4, 0, 1, 2, 6, 5, 9, 13, 17, 13, 9, 5, 1, 2, 2, 6, 10, 9, 13, 12, 13, 14, 10, 6, 2, 2, 1, 0, 4, 8, 12, 8, 9, 5, 6, 2, 2, 1, 0, 4, 8, 12, 8, 9, 5, 6, 2, 2, 1, 0, 4, 8, 12, 8, 9, 5, 6, 2, 2, 1, 0, 4, 8, 12, 8, 9, 5, 6, 2, 2, 1, 0, 4, 8, 12, 8, 9, 5, 6, 2, 2, 1, 0, 4, 8, 12, 8, 9, 5, 6, 2, 2, 1, 0, 4, 8, 12, 8, 9, 5, 6, 2, 2, 1, 0, 4, 8, 12, 8, 9, 5, 6, 2, 2, 1, 0, 4, 8, 12, 8, 9, 5, 6, 2, 2, 1, 0, 4, 8, 12, 8, 9, 5, 6, 2, 2, 1, 0, 4, 8, 12, 8, 9, 5, 6, 2, 2, 1, 0, 4, 8, 12, 8, 9, 5, 6, 2, 2, 1, 0, 4, 8, 12, 8, 9, 5, 6, 2, 2, 1, 0, 4, 8, 12, 8, 9, 5, 6, 2, 2, 1, 0, 4, 8, 12, 8, 9, 5, 6, 2, 2, 1, 0, 4, 8, 12]\n",
      "LTL [+++]  LDBA [ 0.16 ] path: [17, 13, 9, 8, 4, 0, 1, 2, 6, 5, 9, 13, 17, 13, 9, 5, 1, 2, 2, 6, 10, 9, 13, 12, 13, 14, 10, 6, 2, 2, 1, 0, 4, 8, 12, 8, 9, 5, 6, 2, 2, 1, 0, 4, 8, 12, 8, 9, 5, 6, 2, 2, 1, 0, 4, 8, 12, 8, 9, 5, 6, 2, 2, 1, 0, 4, 8, 12, 8, 9, 5, 6, 2, 2, 1, 0, 4, 8, 12, 8, 9, 5, 6, 2, 2, 1, 0, 4, 8, 12, 8, 9, 5, 6, 2, 2, 1, 0, 4, 8, 12, 8, 9, 5, 6, 2, 2, 1, 0, 4, 8, 12, 8, 9, 5, 6, 2, 2, 1, 0, 4, 8, 12, 8, 9, 5, 6, 2, 2, 1, 0, 4, 8, 12, 8, 9, 5, 6, 2, 2, 1, 0, 4, 8, 12, 8, 9, 5, 6, 2, 2, 1, 0, 4, 8, 12, 8, 9, 5, 6, 2, 2, 1, 0, 4, 8, 12, 8, 9, 5, 6, 2, 2, 1, 0, 4, 8, 12, 8, 9, 5, 6, 2, 2, 1, 0, 4, 8, 12, 8, 9, 5, 6, 2, 2, 1, 0, 4, 8, 12]\n",
      "LTL [+++]  LDBA [ 0.16 ] path: [17, 13, 9, 8, 4, 0, 1, 2, 6, 5, 9, 13, 17, 13, 9, 5, 1, 2, 2, 6, 10, 9, 13, 12, 13, 14, 10, 6, 2, 2, 1, 0, 4, 8, 12, 8, 9, 5, 6, 2, 2, 1, 0, 4, 8, 12, 8, 9, 5, 6, 2, 2, 1, 0, 4, 8, 12, 8, 9, 5, 6, 2, 2, 1, 0, 4, 8, 12, 8, 9, 5, 6, 2, 2, 1, 0, 4, 8, 12, 8, 9, 5, 6, 2, 2, 1, 0, 4, 8, 12, 8, 9, 5, 6, 2, 2, 1, 0, 4, 8, 12, 8, 9, 5, 6, 2, 2, 1, 0, 4, 8, 12, 8, 9, 5, 6, 2, 2, 1, 0, 4, 8, 12, 8, 9, 5, 6, 2, 2, 1, 0, 4, 8, 12, 8, 9, 5, 6, 2, 2, 1, 0, 4, 8, 12, 8, 9, 5, 6, 2, 2, 1, 0, 4, 8, 12, 8, 9, 5, 6, 2, 2, 1, 0, 4, 8, 12, 8, 9, 5, 6, 2, 2, 1, 0, 4, 8, 12, 8, 9, 5, 6, 2, 2, 1, 0, 4, 8, 12, 8, 9, 5, 6, 2, 2, 1, 0, 4, 8, 12]\n"
     ]
    }
   ],
   "source": [
    "global LTL_coef\n",
    "LTL_coef = 0.5\n",
    "visited_states_train = []\n",
    "visited_states_test = []\n",
    "\n",
    "search_depth = 100\n",
    "MCTS_samples = 100\n",
    "\n",
    "num_training_epochs =  100\n",
    "num_test_epochs = 100\n",
    "training = True\n",
    "epochs = 20\n",
    "T = [200]\n",
    "K = 1\n",
    "\n",
    "success_rates = []\n",
    "succes_std = []\n",
    "win_hist = []\n",
    "train_history = []\n",
    "\n",
    "for i in T:\n",
    "    # TRAIN ##############################\n",
    "    train_wins = 0\n",
    "    # num_training_epochs = int(200 - 1.9*i)\n",
    "    # model = build_model(csrl.ch_states[(0,0,0,0)].shape, csrl.shape[-1])\n",
    "    N, W, Q, P, visited = np.zeros(csrl.shape), np.zeros(csrl.shape), np.zeros(csrl.shape), np.zeros(csrl.shape), set()\n",
    "    for epoch in range(num_training_epochs):\n",
    "        t1 = time.time()\n",
    "        state_history, channeled_states, trajectory, action_history, reward_history, better_policy = csrl.MC_learning(model, LTL_formula, predicates,\n",
    "                csrl.reward, N = N, W = W, Q = Q, P = P, C=3, tow=0.7, n_samples=MCTS_samples, visited=visited, start=(4,1), search_depth=search_depth,\n",
    "                verbose=0, T=i, K=K)\n",
    "        # print('N',N[(0,0,4,1)][:5])\n",
    "        visited_states_train += state_history\n",
    "        t2 = time.time()\n",
    "        # print(t2-t1, \" run episode\")\n",
    "\n",
    "        win = check_LTL(LTL_formula, trajectory, predicates)[0]\n",
    "        if win: train_wins+=1\n",
    "\n",
    "        t3= time.time()\n",
    "        if training and len(action_history)>0:\n",
    "            if epoch==0:\n",
    "                x_train = np.array(channeled_states)[:-1]\n",
    "                y1_train = np.array(better_policy)\n",
    "                y2_train = np.array(reward_history) + 0.5*(check_LTL(LTL_formula, trajectory, predicates)[0]*max_rew)\n",
    "                # y2_train = np.array(reward_history)\n",
    "                y2_train = y2_train[:-1]\n",
    "            else:\n",
    "                x_train = np.concatenate((x_train, np.array(channeled_states)[:-1]),0)\n",
    "                y1_train = np.concatenate((y1_train, np.array(better_policy)),0)\n",
    "                y2_train_curr = np.array(reward_history) + 0.5*(check_LTL(LTL_formula, trajectory, predicates)[0]*max_rew)\n",
    "                # y2_train_curr = np.array(reward_history)\n",
    "                y2_train = np.concatenate((y2_train, y2_train_curr[:-1]),0)\n",
    "            tr_hist = model.fit(x_train, [y1_train, y2_train], epochs=epochs, verbose=0)\n",
    "            train_history += tr_hist.history['loss']\n",
    "        win_hist.append(win)\n",
    "        t4 = time.time()\n",
    "        # print(t4-t3, \" fit\")\n",
    "    print(\"Train wins:\",train_wins,\"/\", num_training_epochs)\n",
    "\n",
    "    # TEST ##############################\n",
    "    test_wins = 0\n",
    "    N, W, Q, P, visited = np.zeros(csrl.shape), np.zeros(csrl.shape), np.zeros(csrl.shape), np.zeros(csrl.shape), set()\n",
    "    for epoch in range(num_test_epochs):\n",
    "        \n",
    "        state_history, channeled_states, trajectory, action_history, reward_history, better_policy = csrl.MC_learning(model, LTL_formula, predicates,\n",
    "                csrl.reward, N = N, W = W, Q = Q, P = P, C=3, tow=0.7, n_samples=100, visited=visited, start=(4,1), search_depth=search_depth, verbose=0, T=i, K=1)\n",
    "\n",
    "        win = check_LTL(LTL_formula, trajectory, predicates)[0]\n",
    "        if win: test_wins+=1\n",
    "        win_hist.append(win)\n",
    "        visited_states_test += state_history\n",
    "        \n",
    "    success_rates.append(100*test_wins/num_test_epochs)\n",
    "    temp = np.zeros(num_test_epochs)\n",
    "    temp[:test_wins]=1\n",
    "    std = np.sqrt(num_test_epochs*np.var(temp))\n",
    "    succes_std.append((success_rates[-1]-std, success_rates[-1]+std))\n",
    "    ###############################################################\n",
    "    print(\"Test wins:\",test_wins,\"/\",num_test_epochs)\n",
    "    # print(\"last reward:\", reward_history[-1], \"  | trajectory:\", trajectory)\n",
    "    # print(\"Actions:\", action_history)"
   ]
  },
  {
   "cell_type": "code",
   "execution_count": 55,
   "metadata": {},
   "outputs": [
    {
     "data": {
      "text/plain": [
       "Text(0.5, 1.0, 'MCTS - histogram of visited states during traning')"
      ]
     },
     "execution_count": 55,
     "metadata": {},
     "output_type": "execute_result"
    },
    {
     "data": {
      "image/png": "[encoded data removed]",
      "text/plain": [
       "<Figure size 640x480 with 1 Axes>"
      ]
     },
     "metadata": {},
     "output_type": "display_data"
    },
    {
     "data": {
      "image/png": "[encoded data removed]",
      "text/plain": [
       "<Figure size 640x480 with 1 Axes>"
      ]
     },
     "metadata": {},
     "output_type": "display_data"
    }
   ],
   "source": [
    "plt.hist([i[1]*100+i[2]*10+i[3] for i in visited_states_test],1060, density=True)\n",
    "plt.title(\"MCTS - histogram of visited states during test\")\n",
    "\n",
    "plt.figure()\n",
    "\n",
    "plt.hist([i[1]*100+i[2]*10+i[3] for i in visited_states_train],1060, density=True)\n",
    "plt.title(\"MCTS - histogram of visited states during traning\")"
   ]
  },
  {
   "cell_type": "code",
   "execution_count": 9,
   "metadata": {},
   "outputs": [
    {
     "data": {
      "text/plain": [
       "Text(0.5, 1.0, 'CSRL - histogram of visited states during traning')"
      ]
     },
     "execution_count": 9,
     "metadata": {},
     "output_type": "execute_result"
    },
    {
     "data": {
      "image/png": "[encoded data removed]",
      "text/plain": [
       "<Figure size 640x480 with 1 Axes>"
      ]
     },
     "metadata": {},
     "output_type": "display_data"
    }
   ],
   "source": [
    "plt.hist([i[1]*100+i[2]*10+i[3] for i in hist],1060, density=True)\n",
    "plt.title(\"CSRL - histogram of visited states during traning\")"
   ]
  },
  {
   "cell_type": "code",
   "execution_count": 17,
   "metadata": {},
   "outputs": [
    {
     "data": {
      "text/plain": [
       "453"
      ]
     },
     "execution_count": 17,
     "metadata": {},
     "output_type": "execute_result"
    }
   ],
   "source": [
    "len(np.unique([i[1]*100+i[2]*10+i[3] for i in hist]))"
   ]
  },
  {
   "cell_type": "code",
   "execution_count": 8,
   "metadata": {},
   "outputs": [],
   "source": [
    "from collections import Counter\n",
    "import pickle"
   ]
  },
  {
   "cell_type": "code",
   "execution_count": 59,
   "metadata": {},
   "outputs": [],
   "source": [
    "with open(\"visited_states_train\", \"wb\") as fp:   #Pickling\n",
    "  pickle.dump(visited_states_train, fp)\n",
    "\n",
    "with open(\"visited_states_test\", \"wb\") as fp:   #Pickling\n",
    "  pickle.dump(visited_states_test, fp)"
   ]
  },
  {
   "cell_type": "code",
   "execution_count": 11,
   "metadata": {},
   "outputs": [],
   "source": [
    "with open(\"visited_states_test\", \"rb\") as fp:   # Unpickling\n",
    "    visited_states_test = pickle.load(fp)\n",
    "\n",
    "with open(\"visited_states_train\", \"rb\") as fp:   # Unpickling\n",
    "    visited_states_train = pickle.load(fp)"
   ]
  },
  {
   "cell_type": "code",
   "execution_count": 57,
   "metadata": {},
   "outputs": [
    {
     "data": {
      "text/plain": [
       "Counter({41: 65,\n",
       "         1641: 69,\n",
       "         1642: 40,\n",
       "         4941: 43,\n",
       "         1631: 65,\n",
       "         4921: 65,\n",
       "         4920: 67,\n",
       "         4910: 65,\n",
       "         4900: 66,\n",
       "         4901: 67,\n",
       "         4902: 65,\n",
       "         2412: 65,\n",
       "         2511: 31,\n",
       "         2521: 31,\n",
       "         2531: 31,\n",
       "         2541: 65,\n",
       "         2631: 337,\n",
       "         5121: 494,\n",
       "         5111: 570,\n",
       "         5101: 570,\n",
       "         5102: 979,\n",
       "         5202: 978,\n",
       "         1212: 976,\n",
       "         3822: 976,\n",
       "         3821: 974,\n",
       "         3831: 974,\n",
       "         3830: 973,\n",
       "         2831: 970,\n",
       "         4032: 969,\n",
       "         4022: 967,\n",
       "         4012: 964,\n",
       "         4002: 960,\n",
       "         4802: 955,\n",
       "         5001: 950,\n",
       "         900: 947,\n",
       "         910: 945,\n",
       "         920: 938,\n",
       "         930: 934,\n",
       "         1140: 932,\n",
       "         3141: 927,\n",
       "         241: 765,\n",
       "         2642: 491,\n",
       "         5142: 430,\n",
       "         5132: 488,\n",
       "         5122: 488,\n",
       "         5112: 488,\n",
       "         5143: 148,\n",
       "         2640: 127,\n",
       "         5141: 126,\n",
       "         231: 159,\n",
       "         1202: 66,\n",
       "         2522: 34,\n",
       "         2532: 34,\n",
       "         2542: 34,\n",
       "         5140: 45,\n",
       "         4942: 11,\n",
       "         1640: 3,\n",
       "         4940: 3,\n",
       "         4943: 1})"
      ]
     },
     "execution_count": 57,
     "metadata": {},
     "output_type": "execute_result"
    }
   ],
   "source": [
    "Counter([i[1]*100+i[2]*10+i[3] for i in visited_states_test])"
   ]
  },
  {
   "cell_type": "code",
   "execution_count": 49,
   "metadata": {},
   "outputs": [
    {
     "data": {
      "text/plain": [
       "[(0, 0, 4, 1),\n",
       " (0, 16, 4, 1),\n",
       " (0, 16, 4, 1),\n",
       " (0, 16, 4, 0),\n",
       " (0, 49, 4, 0),\n",
       " (0, 49, 4, 0),\n",
       " (0, 49, 4, 1),\n",
       " (0, 16, 3, 1),\n",
       " (0, 49, 2, 1),\n",
       " (0, 49, 2, 0),\n",
       " (0, 49, 1, 0),\n",
       " (0, 49, 0, 0),\n",
       " (0, 49, 0, 1),\n",
       " (0, 49, 0, 1),\n",
       " (0, 49, 0, 2),\n",
       " (0, 24, 1, 2),\n",
       " (0, 25, 1, 1),\n",
       " (0, 25, 2, 1),\n",
       " (0, 25, 3, 1),\n",
       " (0, 25, 4, 1),\n",
       " (0, 26, 3, 1),\n",
       " (0, 51, 2, 1),\n",
       " (0, 51, 1, 1),\n",
       " (0, 51, 0, 1),\n",
       " (0, 51, 0, 2),\n",
       " (0, 52, 0, 2),\n",
       " (0, 12, 0, 2),\n",
       " (0, 12, 1, 2),\n",
       " (0, 38, 2, 2),\n",
       " (0, 38, 2, 1),\n",
       " (0, 38, 3, 1),\n",
       " (0, 38, 3, 0),\n",
       " (0, 28, 3, 1),\n",
       " (0, 40, 3, 2),\n",
       " (0, 40, 2, 2),\n",
       " (0, 40, 1, 2),\n",
       " (0, 40, 0, 2),\n",
       " (0, 48, 0, 2),\n",
       " (0, 50, 0, 1),\n",
       " (0, 9, 0, 0),\n",
       " (0, 9, 1, 0),\n",
       " (0, 9, 2, 0),\n",
       " (0, 9, 3, 0),\n",
       " (0, 11, 4, 0),\n",
       " (0, 31, 4, 1),\n",
       " (0, 2, 3, 1),\n",
       " (0, 51, 2, 1),\n",
       " (0, 51, 1, 1),\n",
       " (0, 51, 0, 1),\n",
       " (0, 51, 0, 2),\n",
       " (0, 52, 0, 2),\n",
       " (0, 12, 1, 2),\n",
       " (0, 38, 2, 2),\n",
       " (0, 38, 2, 1),\n",
       " (0, 38, 3, 1),\n",
       " (0, 38, 3, 0),\n",
       " (0, 28, 3, 1),\n",
       " (0, 40, 3, 2),\n",
       " (0, 40, 2, 2),\n",
       " (0, 40, 1, 2),\n",
       " (0, 40, 0, 2),\n",
       " (0, 48, 0, 2),\n",
       " (0, 50, 0, 1),\n",
       " (0, 9, 0, 0),\n",
       " (0, 9, 1, 0),\n",
       " (0, 9, 1, 0),\n",
       " (0, 9, 2, 0),\n",
       " (0, 9, 3, 0),\n",
       " (0, 11, 4, 0),\n",
       " (0, 31, 4, 1),\n",
       " (0, 2, 3, 1),\n",
       " (0, 51, 2, 1),\n",
       " (0, 51, 1, 1),\n",
       " (0, 51, 0, 1),\n",
       " (0, 51, 0, 2),\n",
       " (0, 52, 0, 2),\n",
       " (0, 12, 0, 2),\n",
       " (0, 12, 1, 2),\n",
       " (0, 38, 2, 2),\n",
       " (0, 38, 2, 1),\n",
       " (0, 38, 3, 1),\n",
       " (0, 38, 3, 0),\n",
       " (0, 28, 3, 1),\n",
       " (0, 40, 3, 2),\n",
       " (0, 40, 2, 2),\n",
       " (0, 40, 1, 2),\n",
       " (0, 40, 0, 2),\n",
       " (0, 48, 0, 2),\n",
       " (0, 50, 0, 1),\n",
       " (0, 9, 0, 0),\n",
       " (0, 9, 1, 0),\n",
       " (0, 9, 2, 0),\n",
       " (0, 9, 3, 0),\n",
       " (0, 11, 4, 0),\n",
       " (0, 31, 4, 1),\n",
       " (0, 2, 3, 1),\n",
       " (0, 51, 2, 1),\n",
       " (0, 51, 1, 1),\n",
       " (0, 51, 0, 1),\n",
       " (0, 51, 0, 2),\n",
       " (0, 0, 4, 1),\n",
       " (0, 16, 4, 1),\n",
       " (0, 16, 4, 0),\n",
       " (0, 49, 4, 0),\n",
       " (0, 49, 4, 1),\n",
       " (0, 16, 3, 1),\n",
       " (0, 49, 2, 1),\n",
       " (0, 49, 1, 1),\n",
       " (0, 49, 0, 1),\n",
       " (0, 49, 0, 2),\n",
       " (0, 24, 1, 2),\n",
       " (0, 25, 2, 2),\n",
       " (0, 25, 3, 2),\n",
       " (0, 25, 4, 2),\n",
       " (0, 25, 4, 1),\n",
       " (0, 26, 3, 1),\n",
       " (0, 51, 2, 1),\n",
       " (0, 51, 1, 1),\n",
       " (0, 51, 0, 1),\n",
       " (0, 51, 0, 2),\n",
       " (0, 52, 0, 2),\n",
       " (0, 12, 1, 2),\n",
       " (0, 38, 2, 2),\n",
       " (0, 38, 2, 1),\n",
       " (0, 38, 3, 1),\n",
       " (0, 38, 3, 0),\n",
       " (0, 28, 3, 1),\n",
       " (0, 40, 3, 2),\n",
       " (0, 40, 2, 2),\n",
       " (0, 40, 1, 2),\n",
       " (0, 40, 0, 2),\n",
       " (0, 48, 0, 2),\n",
       " (0, 50, 0, 1),\n",
       " (0, 9, 0, 0),\n",
       " (0, 9, 1, 0),\n",
       " (0, 9, 2, 0),\n",
       " (0, 9, 3, 0),\n",
       " (0, 11, 4, 0),\n",
       " (0, 31, 4, 1),\n",
       " (0, 2, 3, 1),\n",
       " (0, 51, 2, 1),\n",
       " (0, 51, 1, 1),\n",
       " (0, 51, 0, 1),\n",
       " (0, 51, 0, 2),\n",
       " (0, 52, 0, 2),\n",
       " (0, 12, 0, 2),\n",
       " (0, 12, 1, 2),\n",
       " (0, 38, 2, 2),\n",
       " (0, 38, 2, 1),\n",
       " (0, 38, 3, 1),\n",
       " (0, 38, 3, 0),\n",
       " (0, 28, 3, 1),\n",
       " (0, 40, 3, 2),\n",
       " (0, 40, 2, 2),\n",
       " (0, 40, 1, 2),\n",
       " (0, 40, 0, 2),\n",
       " (0, 48, 0, 2),\n",
       " (0, 50, 0, 1),\n",
       " (0, 9, 0, 0),\n",
       " (0, 9, 1, 0),\n",
       " (0, 9, 2, 0),\n",
       " (0, 9, 3, 0),\n",
       " (0, 11, 4, 0),\n",
       " (0, 31, 4, 1),\n",
       " (0, 2, 3, 1),\n",
       " (0, 51, 2, 1),\n",
       " (0, 51, 1, 1),\n",
       " (0, 51, 0, 1),\n",
       " (0, 51, 0, 2),\n",
       " (0, 52, 0, 2),\n",
       " (0, 12, 0, 2),\n",
       " (0, 12, 0, 1),\n",
       " (0, 38, 1, 1),\n",
       " (0, 38, 1, 2),\n",
       " (0, 38, 1, 3),\n",
       " (0, 38, 2, 3),\n",
       " (0, 38, 2, 2),\n",
       " (0, 38, 2, 1),\n",
       " (0, 38, 3, 1),\n",
       " (0, 38, 3, 0),\n",
       " (0, 28, 3, 1),\n",
       " (0, 40, 3, 2),\n",
       " (0, 40, 2, 2),\n",
       " (0, 40, 1, 2),\n",
       " (0, 40, 0, 2),\n",
       " (0, 48, 0, 2),\n",
       " (0, 50, 0, 1),\n",
       " (0, 9, 0, 0),\n",
       " (0, 9, 1, 0),\n",
       " (0, 9, 2, 0),\n",
       " (0, 9, 3, 0),\n",
       " (0, 11, 4, 0),\n",
       " (0, 31, 4, 1),\n",
       " (0, 2, 3, 1),\n",
       " (0, 51, 2, 1),\n",
       " (0, 51, 1, 1),\n",
       " (0, 51, 0, 1),\n",
       " (0, 51, 0, 2),\n",
       " (0, 52, 0, 2),\n",
       " (0, 12, 0, 2),\n",
       " (0, 0, 4, 1),\n",
       " (0, 16, 4, 1),\n",
       " (0, 16, 4, 2),\n",
       " (0, 49, 3, 2),\n",
       " (0, 49, 2, 2),\n",
       " (0, 49, 3, 2),\n",
       " (0, 49, 4, 2),\n",
       " (0, 49, 4, 1),\n",
       " (0, 16, 3, 1),\n",
       " (0, 49, 2, 1),\n",
       " (0, 49, 1, 1),\n",
       " (0, 49, 0, 1),\n",
       " (0, 49, 0, 2),\n",
       " (0, 24, 1, 2),\n",
       " (0, 25, 2, 2),\n",
       " (0, 25, 3, 2),\n",
       " (0, 25, 4, 2),\n",
       " (0, 25, 4, 1),\n",
       " (0, 26, 3, 1),\n",
       " (0, 51, 2, 1),\n",
       " (0, 51, 1, 1),\n",
       " (0, 51, 0, 1),\n",
       " (0, 51, 0, 2),\n",
       " (0, 52, 0, 2),\n",
       " (0, 12, 0, 2),\n",
       " (0, 12, 1, 2),\n",
       " (0, 38, 2, 2),\n",
       " (0, 38, 2, 1),\n",
       " (0, 38, 3, 1),\n",
       " (0, 38, 3, 0),\n",
       " (0, 28, 3, 1),\n",
       " (0, 40, 3, 2),\n",
       " (0, 40, 2, 2),\n",
       " (0, 40, 1, 2),\n",
       " (0, 40, 0, 2),\n",
       " (0, 48, 0, 2),\n",
       " (0, 50, 0, 1),\n",
       " (0, 9, 0, 0),\n",
       " (0, 9, 1, 0),\n",
       " (0, 9, 2, 0),\n",
       " (0, 9, 3, 0),\n",
       " (0, 11, 4, 0),\n",
       " (0, 31, 4, 1),\n",
       " (0, 2, 3, 1),\n",
       " (0, 51, 2, 1),\n",
       " (0, 51, 1, 1),\n",
       " (0, 51, 0, 1),\n",
       " (0, 51, 0, 2),\n",
       " (0, 52, 0, 2),\n",
       " (0, 12, 0, 2),\n",
       " (0, 12, 1, 2),\n",
       " (0, 38, 2, 2),\n",
       " (0, 38, 2, 1),\n",
       " (0, 38, 3, 1),\n",
       " (0, 38, 3, 0),\n",
       " (0, 28, 3, 1),\n",
       " (0, 40, 3, 2),\n",
       " (0, 40, 2, 2),\n",
       " (0, 40, 1, 2),\n",
       " (0, 40, 0, 2),\n",
       " (0, 48, 0, 2),\n",
       " (0, 50, 0, 1),\n",
       " (0, 9, 0, 0),\n",
       " (0, 9, 1, 0),\n",
       " (0, 9, 2, 0),\n",
       " (0, 9, 3, 0),\n",
       " (0, 11, 4, 0),\n",
       " (0, 31, 4, 1),\n",
       " (0, 2, 3, 1),\n",
       " (0, 51, 2, 1),\n",
       " (0, 51, 1, 1),\n",
       " (0, 51, 0, 1),\n",
       " (0, 51, 0, 2),\n",
       " (0, 52, 0, 2),\n",
       " (0, 12, 1, 2),\n",
       " (0, 38, 2, 2),\n",
       " (0, 38, 2, 1),\n",
       " (0, 38, 3, 1),\n",
       " (0, 38, 3, 0),\n",
       " (0, 28, 3, 1),\n",
       " (0, 40, 3, 2),\n",
       " (0, 40, 2, 2),\n",
       " (0, 40, 1, 2),\n",
       " (0, 40, 0, 2),\n",
       " (0, 48, 0, 2),\n",
       " (0, 50, 0, 1),\n",
       " (0, 9, 0, 0),\n",
       " (0, 9, 1, 0),\n",
       " (0, 9, 2, 0),\n",
       " (0, 9, 3, 0),\n",
       " (0, 11, 4, 0),\n",
       " (0, 31, 4, 1),\n",
       " (0, 2, 3, 1),\n",
       " (0, 51, 2, 1),\n",
       " (0, 51, 1, 1),\n",
       " (0, 51, 0, 1),\n",
       " (0, 51, 0, 2),\n",
       " (0, 52, 0, 2),\n",
       " (0, 12, 1, 2),\n",
       " (0, 38, 2, 2),\n",
       " (0, 0, 4, 1),\n",
       " (0, 16, 4, 1),\n",
       " (0, 16, 4, 0),\n",
       " (0, 49, 4, 0),\n",
       " (0, 49, 4, 0),\n",
       " (0, 49, 4, 0),\n",
       " (0, 49, 4, 1),\n",
       " (0, 16, 3, 1),\n",
       " (0, 49, 2, 1),\n",
       " (0, 49, 2, 0),\n",
       " (0, 49, 1, 0),\n",
       " (0, 49, 0, 0),\n",
       " (0, 49, 0, 1),\n",
       " (0, 49, 0, 2),\n",
       " (0, 24, 1, 2),\n",
       " (0, 25, 2, 2),\n",
       " (0, 25, 3, 2),\n",
       " (0, 25, 4, 2),\n",
       " (0, 25, 4, 1),\n",
       " (0, 26, 3, 1),\n",
       " (0, 51, 2, 1),\n",
       " (0, 51, 1, 1),\n",
       " (0, 51, 0, 1),\n",
       " (0, 51, 0, 2),\n",
       " (0, 52, 0, 2),\n",
       " (0, 12, 0, 2),\n",
       " (0, 12, 0, 1),\n",
       " (0, 38, 1, 1),\n",
       " (0, 38, 1, 2),\n",
       " (0, 38, 1, 3),\n",
       " (0, 38, 2, 3),\n",
       " (0, 38, 2, 2),\n",
       " (0, 38, 2, 1),\n",
       " (0, 38, 3, 1),\n",
       " (0, 38, 3, 0),\n",
       " (0, 28, 3, 1),\n",
       " (0, 40, 3, 2),\n",
       " (0, 40, 2, 2),\n",
       " (0, 40, 1, 2),\n",
       " (0, 40, 0, 2),\n",
       " (0, 48, 0, 2),\n",
       " (0, 50, 0, 1),\n",
       " (0, 9, 0, 0),\n",
       " (0, 9, 1, 0),\n",
       " (0, 9, 2, 0),\n",
       " (0, 9, 3, 0),\n",
       " (0, 11, 4, 0),\n",
       " (0, 31, 4, 1),\n",
       " (0, 2, 3, 1),\n",
       " (0, 51, 2, 1),\n",
       " (0, 51, 1, 1),\n",
       " (0, 51, 0, 1),\n",
       " (0, 51, 0, 2),\n",
       " (0, 52, 0, 2),\n",
       " (0, 12, 0, 2),\n",
       " (0, 12, 1, 2),\n",
       " (0, 38, 2, 2),\n",
       " (0, 38, 2, 1),\n",
       " (0, 38, 3, 1),\n",
       " (0, 38, 3, 0),\n",
       " (0, 28, 3, 1),\n",
       " (0, 40, 3, 2),\n",
       " (0, 40, 2, 2),\n",
       " (0, 40, 1, 2),\n",
       " (0, 40, 0, 2),\n",
       " (0, 48, 0, 2),\n",
       " (0, 50, 0, 1),\n",
       " (0, 9, 0, 0),\n",
       " (0, 9, 1, 0),\n",
       " (0, 9, 2, 0),\n",
       " (0, 9, 3, 0),\n",
       " (0, 11, 4, 0),\n",
       " (0, 31, 4, 1),\n",
       " (0, 2, 3, 1),\n",
       " (0, 51, 2, 1),\n",
       " (0, 51, 1, 1),\n",
       " (0, 51, 0, 1),\n",
       " (0, 51, 0, 2),\n",
       " (0, 52, 0, 2),\n",
       " (0, 12, 1, 2),\n",
       " (0, 38, 2, 2),\n",
       " (0, 38, 2, 1),\n",
       " (0, 38, 3, 1),\n",
       " (0, 38, 3, 0),\n",
       " (0, 28, 3, 1),\n",
       " (0, 40, 3, 2),\n",
       " (0, 40, 2, 2),\n",
       " (0, 40, 1, 2),\n",
       " (0, 40, 0, 2),\n",
       " (0, 48, 0, 2),\n",
       " (0, 50, 0, 1),\n",
       " (0, 9, 0, 0),\n",
       " (0, 9, 1, 0),\n",
       " (0, 9, 2, 0),\n",
       " (0, 9, 3, 0),\n",
       " (0, 11, 4, 0),\n",
       " (0, 31, 4, 1),\n",
       " (0, 2, 3, 1),\n",
       " (0, 51, 2, 1),\n",
       " (0, 51, 1, 1),\n",
       " (0, 0, 4, 1),\n",
       " (0, 16, 4, 1),\n",
       " (0, 16, 3, 1),\n",
       " (0, 49, 2, 1),\n",
       " (0, 49, 1, 1),\n",
       " (0, 49, 0, 1),\n",
       " (0, 49, 0, 2),\n",
       " (0, 24, 1, 2),\n",
       " (0, 25, 2, 2),\n",
       " (0, 25, 3, 2),\n",
       " (0, 25, 4, 2),\n",
       " (0, 25, 4, 1),\n",
       " (0, 26, 3, 1),\n",
       " (0, 51, 2, 1),\n",
       " (0, 51, 1, 1),\n",
       " (0, 51, 0, 1),\n",
       " (0, 51, 0, 2),\n",
       " (0, 52, 0, 2),\n",
       " (0, 12, 0, 2),\n",
       " (0, 12, 1, 2),\n",
       " (0, 38, 2, 2),\n",
       " (0, 38, 2, 1),\n",
       " (0, 38, 3, 1),\n",
       " (0, 38, 3, 0),\n",
       " (0, 28, 3, 1),\n",
       " (0, 40, 3, 2),\n",
       " (0, 40, 2, 2),\n",
       " (0, 40, 1, 2),\n",
       " (0, 40, 0, 2),\n",
       " (0, 48, 0, 2),\n",
       " (0, 50, 0, 1),\n",
       " (0, 9, 0, 0),\n",
       " (0, 9, 1, 0),\n",
       " (0, 9, 2, 0),\n",
       " (0, 9, 3, 0),\n",
       " (0, 11, 4, 0),\n",
       " (0, 31, 4, 1),\n",
       " (0, 2, 3, 1),\n",
       " (0, 51, 2, 1),\n",
       " (0, 51, 1, 1),\n",
       " (0, 51, 0, 1),\n",
       " (0, 51, 0, 2),\n",
       " (0, 52, 0, 2),\n",
       " (0, 12, 0, 2),\n",
       " (0, 12, 1, 2),\n",
       " (0, 38, 2, 2),\n",
       " (0, 38, 2, 1),\n",
       " (0, 38, 3, 1),\n",
       " (0, 38, 3, 0),\n",
       " (0, 28, 3, 1),\n",
       " (0, 40, 3, 2),\n",
       " (0, 40, 2, 2),\n",
       " (0, 40, 1, 2),\n",
       " (0, 40, 0, 2),\n",
       " (0, 48, 0, 2),\n",
       " (0, 50, 0, 1),\n",
       " (0, 9, 0, 0),\n",
       " (0, 9, 1, 0),\n",
       " (0, 9, 2, 0),\n",
       " (0, 9, 3, 0),\n",
       " (0, 11, 4, 0),\n",
       " (0, 31, 4, 1),\n",
       " (0, 2, 3, 1),\n",
       " (0, 51, 2, 1),\n",
       " (0, 51, 1, 1),\n",
       " (0, 51, 0, 1),\n",
       " (0, 51, 0, 2),\n",
       " (0, 52, 0, 2),\n",
       " (0, 12, 0, 2),\n",
       " (0, 12, 0, 1),\n",
       " (0, 38, 1, 1),\n",
       " (0, 38, 1, 2),\n",
       " (0, 38, 1, 3),\n",
       " (0, 38, 2, 3),\n",
       " (0, 38, 2, 2),\n",
       " (0, 38, 2, 1),\n",
       " (0, 38, 3, 1),\n",
       " (0, 38, 3, 0),\n",
       " (0, 28, 3, 1),\n",
       " (0, 40, 3, 2),\n",
       " (0, 40, 2, 2),\n",
       " (0, 40, 1, 2),\n",
       " (0, 40, 0, 2),\n",
       " (0, 48, 0, 2),\n",
       " (0, 50, 0, 1),\n",
       " (0, 9, 0, 0),\n",
       " (0, 9, 1, 0),\n",
       " (0, 9, 2, 0),\n",
       " (0, 9, 3, 0),\n",
       " (0, 11, 4, 0),\n",
       " (0, 31, 4, 1),\n",
       " (0, 2, 3, 1),\n",
       " (0, 51, 2, 1),\n",
       " (0, 51, 1, 1),\n",
       " (0, 51, 0, 1),\n",
       " (0, 51, 0, 2),\n",
       " (0, 52, 0, 2),\n",
       " (0, 12, 0, 2),\n",
       " (0, 12, 0, 1),\n",
       " (0, 38, 1, 1),\n",
       " (0, 0, 4, 1),\n",
       " (0, 16, 4, 1),\n",
       " (0, 16, 3, 1),\n",
       " (0, 49, 2, 1),\n",
       " (0, 49, 2, 0),\n",
       " (0, 49, 1, 0),\n",
       " (0, 49, 0, 0),\n",
       " (0, 49, 0, 1),\n",
       " (0, 49, 0, 2),\n",
       " (0, 24, 1, 2),\n",
       " (0, 25, 2, 2),\n",
       " (0, 25, 3, 2),\n",
       " (0, 25, 4, 2),\n",
       " (0, 25, 4, 1),\n",
       " (0, 26, 3, 1),\n",
       " (0, 51, 2, 1),\n",
       " (0, 51, 1, 1),\n",
       " (0, 51, 0, 1),\n",
       " (0, 51, 0, 2),\n",
       " (0, 52, 0, 2),\n",
       " (0, 12, 0, 2),\n",
       " (0, 12, 1, 2),\n",
       " (0, 38, 2, 2),\n",
       " (0, 38, 2, 1),\n",
       " (0, 38, 3, 1),\n",
       " (0, 38, 3, 0),\n",
       " (0, 28, 3, 1),\n",
       " (0, 40, 3, 2),\n",
       " (0, 40, 2, 2),\n",
       " (0, 40, 1, 2),\n",
       " (0, 40, 0, 2),\n",
       " (0, 48, 0, 2),\n",
       " (0, 50, 0, 1),\n",
       " (0, 9, 0, 0),\n",
       " (0, 9, 1, 0),\n",
       " (0, 9, 2, 0),\n",
       " (0, 9, 3, 0),\n",
       " (0, 11, 4, 0),\n",
       " (0, 31, 4, 1),\n",
       " (0, 2, 3, 1),\n",
       " (0, 51, 2, 1),\n",
       " (0, 51, 1, 1),\n",
       " (0, 51, 0, 1),\n",
       " (0, 51, 0, 2),\n",
       " (0, 52, 0, 2),\n",
       " (0, 12, 0, 2),\n",
       " (0, 12, 1, 2),\n",
       " (0, 38, 2, 2),\n",
       " (0, 38, 2, 1),\n",
       " (0, 38, 3, 1),\n",
       " (0, 38, 3, 0),\n",
       " (0, 28, 3, 1),\n",
       " (0, 40, 3, 2),\n",
       " (0, 40, 2, 2),\n",
       " (0, 40, 1, 2),\n",
       " (0, 40, 0, 2),\n",
       " (0, 48, 0, 2),\n",
       " (0, 50, 0, 1),\n",
       " (0, 9, 0, 0),\n",
       " (0, 9, 1, 0),\n",
       " (0, 9, 2, 0),\n",
       " (0, 9, 1, 0),\n",
       " (0, 9, 2, 0),\n",
       " (0, 9, 3, 0),\n",
       " (0, 11, 4, 0),\n",
       " (0, 31, 4, 1),\n",
       " (0, 2, 3, 1),\n",
       " (0, 51, 2, 1),\n",
       " (0, 51, 1, 1),\n",
       " (0, 51, 0, 1),\n",
       " (0, 51, 0, 2),\n",
       " (0, 52, 0, 2),\n",
       " (0, 12, 0, 2),\n",
       " (0, 12, 0, 1),\n",
       " (0, 38, 1, 1),\n",
       " (0, 38, 1, 2),\n",
       " (0, 38, 1, 3),\n",
       " (0, 38, 2, 3),\n",
       " (0, 38, 2, 2),\n",
       " (0, 38, 2, 1),\n",
       " (0, 38, 3, 1),\n",
       " (0, 38, 3, 0),\n",
       " (0, 28, 3, 1),\n",
       " (0, 40, 3, 2),\n",
       " (0, 40, 2, 2),\n",
       " (0, 40, 1, 2),\n",
       " (0, 40, 0, 2),\n",
       " (0, 48, 0, 2),\n",
       " (0, 50, 0, 1),\n",
       " (0, 9, 0, 0),\n",
       " (0, 9, 1, 0),\n",
       " (0, 9, 2, 0),\n",
       " (0, 9, 3, 0),\n",
       " (0, 11, 4, 0),\n",
       " (0, 31, 4, 1),\n",
       " (0, 2, 3, 1),\n",
       " (0, 51, 2, 1),\n",
       " (0, 51, 1, 1),\n",
       " (0, 51, 0, 1),\n",
       " (0, 51, 0, 2),\n",
       " (0, 0, 4, 1),\n",
       " (0, 16, 4, 1),\n",
       " (0, 16, 3, 1),\n",
       " (0, 49, 2, 1),\n",
       " (0, 49, 2, 0),\n",
       " (0, 49, 1, 0),\n",
       " (0, 49, 0, 0),\n",
       " (0, 49, 0, 1),\n",
       " (0, 49, 0, 2),\n",
       " (0, 24, 1, 2),\n",
       " (0, 25, 2, 2),\n",
       " (0, 25, 3, 2),\n",
       " (0, 25, 4, 2),\n",
       " (0, 25, 4, 1),\n",
       " (0, 26, 3, 1),\n",
       " (0, 51, 2, 1),\n",
       " (0, 51, 1, 1),\n",
       " (0, 51, 0, 1),\n",
       " (0, 51, 0, 2),\n",
       " (0, 52, 0, 2),\n",
       " (0, 12, 1, 2),\n",
       " (0, 38, 2, 2),\n",
       " (0, 38, 2, 1),\n",
       " (0, 38, 3, 1),\n",
       " (0, 38, 3, 0),\n",
       " (0, 28, 3, 1),\n",
       " (0, 40, 3, 2),\n",
       " (0, 40, 2, 2),\n",
       " (0, 40, 1, 2),\n",
       " (0, 40, 0, 2),\n",
       " (0, 48, 0, 2),\n",
       " (0, 50, 0, 1),\n",
       " (0, 9, 0, 0),\n",
       " (0, 9, 1, 0),\n",
       " (0, 9, 2, 0),\n",
       " (0, 9, 3, 0),\n",
       " (0, 11, 4, 0),\n",
       " (0, 31, 4, 1),\n",
       " (0, 2, 3, 1),\n",
       " (0, 51, 2, 1),\n",
       " (0, 51, 1, 1),\n",
       " (0, 51, 0, 1),\n",
       " (0, 51, 0, 2),\n",
       " (0, 52, 0, 2),\n",
       " (0, 12, 0, 2),\n",
       " (0, 12, 0, 1),\n",
       " (0, 38, 1, 1),\n",
       " (0, 38, 1, 2),\n",
       " (0, 38, 1, 3),\n",
       " (0, 38, 1, 3),\n",
       " (0, 38, 2, 3),\n",
       " (0, 38, 2, 2),\n",
       " (0, 38, 2, 1),\n",
       " (0, 38, 3, 1),\n",
       " (0, 38, 3, 0),\n",
       " (0, 28, 3, 1),\n",
       " (0, 40, 3, 2),\n",
       " (0, 40, 2, 2),\n",
       " (0, 40, 1, 2),\n",
       " (0, 40, 0, 2),\n",
       " (0, 48, 0, 2),\n",
       " (0, 50, 0, 1),\n",
       " (0, 9, 0, 0),\n",
       " (0, 9, 1, 0),\n",
       " (0, 9, 2, 0),\n",
       " (0, 9, 3, 0),\n",
       " (0, 11, 4, 0),\n",
       " (0, 31, 4, 1),\n",
       " (0, 2, 3, 1),\n",
       " (0, 51, 2, 1),\n",
       " (0, 51, 1, 1),\n",
       " (0, 51, 0, 1),\n",
       " (0, 51, 0, 2),\n",
       " (0, 52, 0, 2),\n",
       " (0, 12, 0, 2),\n",
       " (0, 12, 0, 1),\n",
       " (0, 38, 1, 1),\n",
       " (0, 38, 2, 1),\n",
       " (0, 38, 3, 1),\n",
       " (0, 38, 3, 0),\n",
       " (0, 28, 3, 1),\n",
       " (0, 40, 3, 2),\n",
       " (0, 40, 2, 2),\n",
       " (0, 40, 1, 2),\n",
       " (0, 40, 0, 2),\n",
       " (0, 48, 0, 2),\n",
       " (0, 50, 0, 1),\n",
       " (0, 9, 0, 0),\n",
       " (0, 9, 1, 0),\n",
       " (0, 9, 2, 0),\n",
       " (0, 9, 3, 0),\n",
       " (0, 11, 4, 0),\n",
       " (0, 31, 4, 1),\n",
       " (0, 2, 3, 1),\n",
       " (0, 51, 2, 1),\n",
       " (0, 51, 1, 1),\n",
       " (0, 51, 0, 1),\n",
       " (0, 51, 0, 2),\n",
       " (0, 52, 0, 2),\n",
       " (0, 12, 1, 2),\n",
       " (0, 0, 4, 1),\n",
       " (0, 16, 4, 1),\n",
       " (0, 16, 4, 1),\n",
       " (0, 16, 3, 1),\n",
       " (0, 49, 2, 1),\n",
       " (0, 49, 2, 0),\n",
       " (0, 49, 1, 0),\n",
       " (0, 49, 1, 1),\n",
       " (0, 49, 0, 1),\n",
       " (0, 49, 0, 2),\n",
       " (0, 24, 1, 2),\n",
       " (0, 25, 2, 2),\n",
       " (0, 25, 3, 2),\n",
       " (0, 25, 4, 2),\n",
       " (0, 25, 4, 1),\n",
       " (0, 26, 3, 1),\n",
       " (0, 51, 2, 1),\n",
       " (0, 51, 1, 1),\n",
       " (0, 51, 0, 1),\n",
       " (0, 51, 0, 2),\n",
       " (0, 52, 0, 2),\n",
       " (0, 12, 0, 2),\n",
       " (0, 12, 0, 1),\n",
       " (0, 38, 1, 1),\n",
       " (0, 38, 1, 2),\n",
       " (0, 38, 1, 3),\n",
       " (0, 38, 2, 3),\n",
       " (0, 38, 2, 2),\n",
       " (0, 38, 2, 1),\n",
       " (0, 38, 3, 1),\n",
       " (0, 38, 3, 0),\n",
       " (0, 28, 3, 1),\n",
       " (0, 40, 3, 2),\n",
       " (0, 40, 2, 2),\n",
       " (0, 40, 1, 2),\n",
       " (0, 40, 0, 2),\n",
       " (0, 48, 0, 2),\n",
       " (0, 50, 0, 1),\n",
       " (0, 9, 0, 0),\n",
       " (0, 9, 1, 0),\n",
       " (0, 9, 2, 0),\n",
       " (0, 9, 3, 0),\n",
       " (0, 11, 4, 0),\n",
       " (0, 31, 4, 1),\n",
       " (0, 2, 3, 1),\n",
       " (0, 51, 2, 1),\n",
       " (0, 51, 1, 1),\n",
       " (0, 51, 0, 1),\n",
       " (0, 51, 0, 2),\n",
       " (0, 52, 0, 2),\n",
       " (0, 12, 1, 2),\n",
       " (0, 38, 2, 2),\n",
       " (0, 38, 2, 1),\n",
       " (0, 38, 3, 1),\n",
       " (0, 38, 3, 0),\n",
       " (0, 28, 3, 1),\n",
       " (0, 40, 3, 2),\n",
       " (0, 40, 2, 2),\n",
       " (0, 40, 1, 2),\n",
       " (0, 40, 0, 2),\n",
       " (0, 48, 0, 2),\n",
       " (0, 50, 0, 1),\n",
       " (0, 9, 0, 0),\n",
       " (0, 9, 1, 0),\n",
       " (0, 9, 2, 0),\n",
       " (0, 9, 3, 0),\n",
       " (0, 11, 4, 0),\n",
       " (0, 31, 4, 1),\n",
       " (0, 2, 3, 1),\n",
       " (0, 51, 2, 1),\n",
       " (0, 51, 1, 1),\n",
       " (0, 51, 0, 1),\n",
       " (0, 51, 0, 2),\n",
       " (0, 52, 0, 2),\n",
       " (0, 12, 1, 2),\n",
       " (0, 38, 2, 2),\n",
       " (0, 38, 2, 1),\n",
       " (0, 38, 3, 1),\n",
       " (0, 38, 3, 0),\n",
       " (0, 28, 3, 1),\n",
       " (0, 40, 3, 2),\n",
       " (0, 40, 2, 2),\n",
       " (0, 40, 1, 2),\n",
       " (0, 40, 0, 2),\n",
       " (0, 48, 0, 2),\n",
       " (0, 50, 0, 1),\n",
       " (0, 9, 0, 0),\n",
       " (0, 9, 1, 0),\n",
       " (0, 9, 2, 0),\n",
       " (0, 9, 3, 0),\n",
       " (0, 11, 4, 0),\n",
       " (0, 31, 4, 1),\n",
       " (0, 2, 3, 1),\n",
       " (0, 51, 2, 1),\n",
       " (0, 51, 1, 1),\n",
       " (0, 51, 0, 1),\n",
       " (0, 51, 0, 2),\n",
       " (0, 52, 0, 2),\n",
       " (0, 12, 1, 2),\n",
       " (0, 38, 2, 2),\n",
       " (0, 0, 4, 1),\n",
       " (0, 16, 4, 1),\n",
       " (0, 16, 3, 1),\n",
       " (0, 49, 2, 1),\n",
       " (0, 49, 2, 0),\n",
       " (0, 49, 1, 0),\n",
       " (0, 49, 0, 0),\n",
       " (0, 49, 0, 1),\n",
       " (0, 49, 0, 2),\n",
       " (0, 24, 1, 2),\n",
       " (0, 25, 2, 2),\n",
       " (0, 25, 3, 2),\n",
       " (0, 25, 4, 2),\n",
       " (0, 25, 4, 1),\n",
       " (0, 26, 3, 1),\n",
       " (0, 51, 2, 1),\n",
       " (0, 51, 1, 1),\n",
       " (0, 51, 0, 1),\n",
       " (0, 51, 0, 2),\n",
       " (0, 52, 0, 2),\n",
       " (0, 12, 0, 2),\n",
       " (0, 12, 0, 1),\n",
       " (0, 38, 1, 1),\n",
       " (0, 38, 1, 2),\n",
       " (0, 38, 1, 3),\n",
       " (0, 38, 2, 3),\n",
       " (0, 38, 2, 2),\n",
       " (0, 38, 2, 1),\n",
       " (0, 38, 3, 1),\n",
       " (0, 38, 3, 0),\n",
       " (0, 28, 3, 1),\n",
       " (0, 40, 3, 2),\n",
       " (0, 40, 2, 2),\n",
       " (0, 40, 1, 2),\n",
       " (0, 40, 0, 2),\n",
       " (0, 48, 0, 2),\n",
       " (0, 50, 0, 1),\n",
       " (0, 9, 0, 0),\n",
       " (0, 9, 1, 0),\n",
       " (0, 9, 2, 0),\n",
       " (0, 9, 3, 0),\n",
       " (0, 11, 4, 0),\n",
       " (0, 31, 4, 1),\n",
       " (0, 2, 3, 1),\n",
       " (0, 51, 2, 1),\n",
       " (0, 51, 1, 1),\n",
       " (0, 51, 0, 1),\n",
       " (0, 51, 0, 2),\n",
       " (0, 52, 0, 2),\n",
       " (0, 12, 0, 2),\n",
       " (0, 12, 0, 1),\n",
       " (0, 38, 1, 1),\n",
       " (0, 38, 2, 1),\n",
       " (0, 38, 3, 1),\n",
       " (0, 38, 3, 0),\n",
       " (0, 28, 3, 1),\n",
       " (0, 40, 3, 2),\n",
       " (0, 40, 2, 2),\n",
       " (0, 40, 1, 2),\n",
       " (0, 40, 0, 2),\n",
       " (0, 48, 0, 2),\n",
       " (0, 50, 0, 1),\n",
       " (0, 9, 0, 0),\n",
       " (0, 9, 1, 0),\n",
       " (0, 9, 2, 0),\n",
       " (0, 9, 3, 0),\n",
       " (0, 11, 4, 0),\n",
       " (0, 31, 4, 1),\n",
       " (0, 2, 3, 1),\n",
       " (0, 51, 2, 1),\n",
       " (0, 51, 1, 1),\n",
       " (0, 51, 0, 1),\n",
       " (0, 51, 0, 2),\n",
       " (0, 52, 0, 2),\n",
       " (0, 12, 0, 2),\n",
       " (0, 12, 0, 1),\n",
       " (0, 38, 1, 1),\n",
       " (0, 38, 1, 2),\n",
       " (0, 38, 1, 3),\n",
       " (0, 38, 2, 3),\n",
       " (0, 38, 2, 2),\n",
       " (0, 38, 2, 1),\n",
       " (0, 38, 3, 1),\n",
       " (0, 38, 3, 0),\n",
       " (0, 28, 3, 1),\n",
       " (0, 40, 3, 2),\n",
       " (0, 40, 2, 2),\n",
       " (0, 40, 1, 2),\n",
       " (0, 40, 0, 2),\n",
       " (0, 48, 0, 2),\n",
       " (0, 50, 0, 1),\n",
       " (0, 9, 0, 0),\n",
       " (0, 9, 1, 0),\n",
       " (0, 9, 2, 0),\n",
       " (0, 9, 3, 0),\n",
       " (0, 11, 4, 0),\n",
       " (0, 31, 4, 1),\n",
       " (0, 2, 3, 1),\n",
       " (0, 51, 2, 1),\n",
       " (0, 51, 1, 1),\n",
       " (0, 0, 4, 1),\n",
       " (0, 16, 4, 1),\n",
       " (0, 16, 3, 1),\n",
       " (0, 49, 2, 1),\n",
       " (0, 49, 2, 0),\n",
       " (0, 49, 1, 0),\n",
       " (0, 49, 0, 0),\n",
       " (0, 49, 0, 0),\n",
       " (0, 49, 0, 1),\n",
       " (0, 49, 0, 2),\n",
       " (0, 24, 1, 2),\n",
       " (0, 25, 2, 2),\n",
       " (0, 25, 3, 2),\n",
       " (0, 25, 4, 2),\n",
       " (0, 25, 4, 1),\n",
       " (0, 26, 3, 1),\n",
       " (0, 51, 2, 1),\n",
       " (0, 51, 1, 1),\n",
       " (0, 51, 0, 1),\n",
       " (0, 51, 0, 2),\n",
       " (0, 52, 0, 2),\n",
       " (0, 12, 0, 2),\n",
       " (0, 12, 0, 1),\n",
       " (0, 38, 1, 1),\n",
       " (0, 38, 2, 1),\n",
       " (0, 38, 3, 1),\n",
       " (0, 38, 3, 0),\n",
       " (0, 28, 3, 1),\n",
       " (0, 40, 3, 2),\n",
       " (0, 40, 2, 2),\n",
       " (0, 40, 1, 2),\n",
       " (0, 40, 0, 2),\n",
       " (0, 48, 0, 2),\n",
       " (0, 50, 0, 1),\n",
       " (0, 9, 0, 0),\n",
       " (0, 9, 1, 0),\n",
       " (0, 9, 2, 0),\n",
       " (0, 9, 3, 0),\n",
       " (0, 11, 4, 0),\n",
       " (0, 31, 4, 1),\n",
       " (0, 2, 3, 1),\n",
       " (0, 51, 2, 1),\n",
       " (0, 51, 1, 1),\n",
       " (0, 51, 0, 1),\n",
       " (0, 51, 0, 2),\n",
       " (0, 52, 0, 2),\n",
       " (0, 12, 0, 2),\n",
       " (0, 12, 0, 1),\n",
       " (0, 38, 1, 1),\n",
       " (0, 38, 1, 2),\n",
       " (0, 38, 2, 2),\n",
       " (0, 38, 2, 1),\n",
       " (0, 38, 3, 1),\n",
       " (0, 38, 3, 0),\n",
       " (0, 28, 3, 1),\n",
       " (0, 40, 3, 2),\n",
       " (0, 40, 2, 2),\n",
       " (0, 40, 1, 2),\n",
       " (0, 40, 0, 2),\n",
       " (0, 48, 0, 2),\n",
       " (0, 50, 0, 1),\n",
       " (0, 9, 0, 0),\n",
       " (0, 9, 1, 0),\n",
       " (0, 9, 2, 0),\n",
       " (0, 9, 3, 0),\n",
       " (0, 11, 4, 0),\n",
       " (0, 31, 4, 1),\n",
       " (0, 2, 3, 1),\n",
       " (0, 51, 2, 1),\n",
       " (0, 51, 2, 0),\n",
       " (0, 51, 1, 0),\n",
       " (0, 51, 1, 1),\n",
       " (0, 51, 0, 1),\n",
       " (0, 51, 0, 2),\n",
       " (0, 52, 0, 2),\n",
       " (0, 12, 1, 2),\n",
       " (0, 38, 2, 2),\n",
       " (0, 38, 2, 1),\n",
       " (0, 38, 3, 1),\n",
       " (0, 38, 3, 0),\n",
       " (0, 28, 3, 1),\n",
       " (0, 40, 3, 2),\n",
       " (0, 40, 2, 2),\n",
       " (0, 40, 1, 2),\n",
       " (0, 40, 0, 2),\n",
       " (0, 48, 0, 2),\n",
       " (0, 50, 0, 1),\n",
       " (0, 9, 0, 0),\n",
       " (0, 9, 1, 0),\n",
       " (0, 9, 2, 0),\n",
       " (0, 9, 3, 0),\n",
       " (0, 11, 4, 0),\n",
       " (0, 31, 4, 1),\n",
       " (0, 2, 3, 1),\n",
       " (0, 51, 2, 1),\n",
       " (0, 51, 2, 0),\n",
       " (0, 51, 1, 0),\n",
       " (0, 51, 1, 1),\n",
       " (0, 51, 0, 1),\n",
       " (0, 51, 0, 2),\n",
       " ...]"
      ]
     },
     "execution_count": 49,
     "metadata": {},
     "output_type": "execute_result"
    }
   ],
   "source": [
    "visited_states_test"
   ]
  },
  {
   "cell_type": "code",
   "execution_count": null,
   "metadata": {},
   "outputs": [],
   "source": [
    "bk_wins = win_hist.copy()"
   ]
  },
  {
   "cell_type": "code",
   "execution_count": null,
   "metadata": {},
   "outputs": [
    {
     "data": {
      "text/plain": [
       "0.8"
      ]
     },
     "execution_count": 30,
     "metadata": {},
     "output_type": "execute_result"
    },
    {
     "data": {
      "image/png": "[encoded data removed]",
      "text/plain": [
       "<Figure size 640x480 with 1 Axes>"
      ]
     },
     "metadata": {},
     "output_type": "display_data"
    }
   ],
   "source": [
    "plt.plot(win_hist)\n",
    "p"
   ]
  },
  {
   "cell_type": "code",
   "execution_count": null,
   "metadata": {},
   "outputs": [
    {
     "data": {
      "image/png": "[encoded data removed]",
      "text/plain": [
       "<Figure size 640x480 with 1 Axes>"
      ]
     },
     "metadata": {},
     "output_type": "display_data"
    }
   ],
   "source": [
    "plt.plot(train_history)\n",
    "plt.title(\"training loss\")\n",
    "plt.xticks(range(1,num_training_epochs*epochs,100), range(0,num_training_epochs,100//epochs));"
   ]
  },
  {
   "cell_type": "code",
   "execution_count": null,
   "metadata": {},
   "outputs": [
    {
     "data": {
      "text/plain": [
       "20"
      ]
     },
     "execution_count": 33,
     "metadata": {},
     "output_type": "execute_result"
    }
   ],
   "source": [
    "len(range(1,2000,100))"
   ]
  },
  {
   "cell_type": "code",
   "execution_count": null,
   "metadata": {},
   "outputs": [],
   "source": [
    "model.save_weights(f'models/Nurseryp{p}')"
   ]
  },
  {
   "cell_type": "code",
   "execution_count": null,
   "metadata": {},
   "outputs": [
    {
     "data": {
      "text/plain": [
       "<tensorflow.python.checkpoint.checkpoint.CheckpointLoadStatus at 0x21e11dd2380>"
      ]
     },
     "execution_count": 18,
     "metadata": {},
     "output_type": "execute_result"
    }
   ],
   "source": [
    "model.load_weights('models/Nurseryp1')"
   ]
  },
  {
   "cell_type": "code",
   "execution_count": null,
   "metadata": {},
   "outputs": [
    {
     "data": {
      "text/plain": [
       "[28.0, 18.5, 15.0, 15.5, 12.5, 10.5]"
      ]
     },
     "execution_count": 32,
     "metadata": {},
     "output_type": "execute_result"
    },
    {
     "data": {
      "image/png": "[encoded data removed]",
      "text/plain": [
       "<Figure size 700x400 with 1 Axes>"
      ]
     },
     "metadata": {},
     "output_type": "display_data"
    }
   ],
   "source": [
    "succes_std = np.array(succes_std)\n",
    "\n",
    "plt.figure(figsize=(7,4))\n",
    "plt.fill_between(T, succes_std[:,0], succes_std[:,1], alpha=0.3, label=\"MCTS area of 1 STD\")\n",
    "\n",
    "plt.plot(T, success_rates)\n",
    "plt.ylim(-10, 110)\n",
    "plt.xlabel(\"length of trajectory\")\n",
    "plt.ylabel(f\"succes rate (out of {num_test_epochs} runs)\")\n",
    "plt.title(\"MCTS(sd=max) adaptive training, nursery case, P=\"+str(p))\n",
    "success_rates"
   ]
  },
  {
   "cell_type": "code",
   "execution_count": null,
   "metadata": {},
   "outputs": [
    {
     "data": {
      "application/vnd.jupyter.widget-view+json": {
       "model_id": "1b53dfd39246421880ab8a9cdad50d61",
       "version_major": 2,
       "version_minor": 0
      },
      "text/plain": [
       "interactive(children=(IntSlider(value=0, description='t', max=99), Output()), _dom_classes=('widget-interact',…"
      ]
     },
     "metadata": {},
     "output_type": "display_data"
    },
    {
     "data": {
      "text/plain": [
       "<function __main__.plot_agent(t)>"
      ]
     },
     "execution_count": 37,
     "metadata": {},
     "output_type": "execute_result"
    }
   ],
   "source": [
    "from ipywidgets.widgets import IntSlider\n",
    "from ipywidgets import interact\n",
    "\n",
    "def plot_agent(t):\n",
    "    csrl.mdp.plot(agent=state_history[t][2:], save=f'test/{t}.png')\n",
    "t=IntSlider(value=0,min=0,max=T[-1]-1)\n",
    "interact(plot_agent,t=t)"
   ]
  },
  {
   "cell_type": "code",
   "execution_count": null,
   "metadata": {},
   "outputs": [],
   "source": [
    "csrl.reward[0,3,4,1]\n",
    "p = 0.8"
   ]
  },
  {
   "cell_type": "code",
   "execution_count": null,
   "metadata": {},
   "outputs": [],
   "source": [
    "Q = np.load(f'Q2_{p}.npy')"
   ]
  },
  {
   "cell_type": "code",
   "execution_count": 6,
   "metadata": {},
   "outputs": [],
   "source": [
    "Q, hist=csrl.q_learning(T=100,K=100000)\n",
    "np.save(f'Q2_{p}', Q)"
   ]
  },
  {
   "cell_type": "code",
   "execution_count": null,
   "metadata": {},
   "outputs": [],
   "source": [
    "policy=np.argmax(Q,axis=4)\n",
    "value=np.max(Q,axis=4)"
   ]
  },
  {
   "cell_type": "code",
   "execution_count": null,
   "metadata": {},
   "outputs": [
    {
     "data": {
      "application/vnd.jupyter.widget-view+json": {
       "model_id": "bf4195f309bf409cbb0acb1584c94a3a",
       "version_major": 2,
       "version_minor": 0
      },
      "text/plain": [
       "interactive(children=(IntSlider(value=0, description='i', max=0), IntSlider(value=0, description='q', max=57),…"
      ]
     },
     "metadata": {},
     "output_type": "display_data"
    }
   ],
   "source": [
    "policy=np.argmax(Q,axis=4)\n",
    "# csrl.plot(value,policy,iq=(0,0),save='safe_absorbing_states_policy.pdf')\n",
    "csrl.plot(value,policy)"
   ]
  },
  {
   "cell_type": "code",
   "execution_count": null,
   "metadata": {},
   "outputs": [],
   "source": [
    "T = [10, 20, 40, 60, 80, 100, 200, 400]\n",
    "# success_rates= [0.0, 5.0, 10.0, 14.0, 15.0, 17.0, 17.0]\n",
    "success_rates = [28.0, 18.5, 15.0, 15.5, 12.5, 10.5, 5, 1]\n",
    "# success_rates= [97, 100, 100, 100, 100, 100, 1000, 100, 100, 100]\n",
    "# success_rates= [79, 83, 73, 78, 83, 85, 88, 85, 86, 82]\n",
    "succes_std = []\n",
    "for i in success_rates:\n",
    "    temp = np.zeros(100)\n",
    "    temp[:int(i)]=1\n",
    "    std = np.sqrt(100*np.var(temp))\n",
    "    succes_std.append((i-std, i+std))\n",
    "succes_std = np.array(succes_std)"
   ]
  },
  {
   "cell_type": "code",
   "execution_count": null,
   "metadata": {},
   "outputs": [
    {
     "name": "stdout",
     "output_type": "stream",
     "text": [
      "Running 200 simulations with 10 time-steps...\n",
      "Test finished with:\n",
      "\tsuccess rate: 11 / 200 = 0.055\n",
      "Running 200 simulations with 20 time-steps...\n",
      "Test finished with:\n",
      "\tsuccess rate: 41 / 200 = 0.205\n",
      "Running 200 simulations with 40 time-steps...\n",
      "Test finished with:\n",
      "\tsuccess rate: 33 / 200 = 0.165\n",
      "Running 200 simulations with 60 time-steps...\n",
      "Test finished with:\n",
      "\tsuccess rate: 36 / 200 = 0.18\n",
      "Running 200 simulations with 80 time-steps...\n",
      "Test finished with:\n",
      "\tsuccess rate: 35 / 200 = 0.175\n",
      "Running 200 simulations with 100 time-steps...\n",
      "Test finished with:\n",
      "\tsuccess rate: 28 / 200 = 0.14\n",
      "Running 200 simulations with 200 time-steps...\n",
      "Test finished with:\n",
      "\tsuccess rate: 33 / 200 = 0.165\n",
      "Running 200 simulations with 400 time-steps...\n",
      "Test finished with:\n",
      "\tsuccess rate: 41 / 200 = 0.205\n"
     ]
    }
   ],
   "source": [
    "rewards_mean = []\n",
    "rewards_std = []\n",
    "n_runs = 200\n",
    "\n",
    "x = list(range(3,100,1))\n",
    "for i in T:\n",
    "    episodes, rew = csrl.run_Q_test(policy, LTL_formula, predicates, T=i, start=(4,1), runs=n_runs, verbose=0)\n",
    "    rewards_mean.append(100*np.mean(rew))\n",
    "    rewards_std.append((rewards_mean[-1]-np.sqrt(n_runs*np.var(rew)), rewards_mean[-1]+np.sqrt(n_runs*np.var(rew))))\n",
    "rewards_std = np.array(rewards_std)"
   ]
  },
  {
   "cell_type": "code",
   "execution_count": null,
   "metadata": {},
   "outputs": [
    {
     "data": {
      "text/plain": [
       "[4.1000000000000005,\n",
       " 19.8,\n",
       " 15.5,\n",
       " 16.900000000000002,\n",
       " 16.3,\n",
       " 14.899999999999999,\n",
       " 16.1,\n",
       " 16.8]"
      ]
     },
     "execution_count": 13,
     "metadata": {},
     "output_type": "execute_result"
    }
   ],
   "source": [
    "rewards_mean"
   ]
  },
  {
   "cell_type": "code",
   "execution_count": null,
   "metadata": {},
   "outputs": [
    {
     "data": {
      "text/plain": [
       "Text(0.5, 1.0, 'CSRL performance results on the second case study, P=0.8')"
      ]
     },
     "execution_count": 18,
     "metadata": {},
     "output_type": "execute_result"
    },
    {
     "data": {
      "image/png": "[encoded data removed]",
      "text/plain": [
       "<Figure size 700x400 with 1 Axes>"
      ]
     },
     "metadata": {},
     "output_type": "display_data"
    }
   ],
   "source": [
    "plt.figure(figsize=(7,4))\n",
    "plt.fill_between(T, rewards_std[:,0], rewards_std[:,1], alpha=0.3, label=\"1 STD\")\n",
    "\n",
    "plt.plot(T, rewards_mean, label=\"CSRL\")\n",
    "plt.xlabel(\"length of trajectory (T)\")\n",
    "plt.ylabel(\"succes rate\")\n",
    "plt.title(\"CSRL performance results on the second case study, P=\"+str(p))"
   ]
  },
  {
   "cell_type": "code",
   "execution_count": null,
   "metadata": {},
   "outputs": [
    {
     "data": {
      "image/png": "[encoded data removed]",
      "text/plain": [
       "<Figure size 700x400 with 1 Axes>"
      ]
     },
     "metadata": {},
     "output_type": "display_data"
    }
   ],
   "source": [
    "plt.figure(figsize=(7,4))\n",
    "\n",
    "plt.fill_between(T, rewards_std[:,0], rewards_std[:,1], alpha=0.3)\n",
    "plt.plot(T, rewards_mean, label=\"CSRL\")\n",
    "plt.xlabel(\"length of trajectory (T)\")\n",
    "plt.ylabel(\"succes rate\")\n",
    "plt.title(\"Comparison on the nursary case; stochastic\")\n",
    "# plt.title(\"Comparison on the nursary case; deterministic\")\n",
    "plt.ylim(-10, 110)\n",
    "\n",
    "plt.fill_between(T, succes_std[:,0], succes_std[:,1], alpha=0.3)\n",
    "plt.plot(T, success_rates, label=\"self-play\")\n",
    "plt.legend()\n",
    "plt.savefig(f\"res_400/C2_P{p}.pdf\")"
   ]
  },
  {
   "cell_type": "code",
   "execution_count": null,
   "metadata": {},
   "outputs": [
    {
     "data": {
      "text/plain": [
       "<Figure size 640x480 with 0 Axes>"
      ]
     },
     "metadata": {},
     "output_type": "display_data"
    }
   ],
   "source": []
  },
  {
   "cell_type": "code",
   "execution_count": null,
   "metadata": {},
   "outputs": [
    {
     "data": {
      "application/vnd.jupyter.widget-view+json": {
       "model_id": "e365a77ae392420abb745739595f9fa6",
       "version_major": 2,
       "version_minor": 0
      },
      "text/plain": [
       "interactive(children=(IntSlider(value=0, description='t', max=99), Output()), _dom_classes=('widget-interact',…"
      ]
     },
     "metadata": {},
     "output_type": "display_data"
    },
    {
     "data": {
      "text/plain": [
       "False"
      ]
     },
     "execution_count": 9,
     "metadata": {},
     "output_type": "execute_result"
    }
   ],
   "source": [
    "episode=csrl.simulate(policy, LTL_formula, predicates, start=(4,1),T=100)\n",
    "episode[1]"
   ]
  },
  {
   "cell_type": "code",
   "execution_count": null,
   "metadata": {},
   "outputs": [
    {
     "data": {
      "application/vnd.jupyter.widget-view+json": {
       "model_id": "c2c52ad4219340238a1c2e96dc8b8d34",
       "version_major": 2,
       "version_minor": 0
      },
      "text/plain": [
       "interactive(children=(IntSlider(value=0, description='t', max=99), Output()), _dom_classes=('widget-interact',…"
      ]
     },
     "metadata": {},
     "output_type": "display_data"
    },
    {
     "data": {
      "text/plain": [
       "[(21, 39), (24, 36), (14, 5), (4, 4), (8, 4), (9, 4), (23, 4), (26, 4), (0, 1)]"
      ]
     },
     "execution_count": 21,
     "metadata": {},
     "output_type": "execute_result"
    }
   ],
   "source": [
    "episode, rew =csrl.simulate(policy, LTL_formula, predicates, start=(9,1),T=100,plot=True)\n",
    "elements, counts = np.unique(np.array(episode)[:,1], return_counts=True)\n",
    "sorted(zip(elements,counts),key=lambda x:-x[1])"
   ]
  },
  {
   "cell_type": "code",
   "execution_count": null,
   "metadata": {},
   "outputs": [
    {
     "data": {
      "text/plain": [
       "(1, 55, 5, 4)"
      ]
     },
     "execution_count": 25,
     "metadata": {},
     "output_type": "execute_result"
    }
   ],
   "source": [
    "csrl.reward.shape"
   ]
  },
  {
   "cell_type": "code",
   "execution_count": null,
   "metadata": {},
   "outputs": [
    {
     "name": "stdout",
     "output_type": "stream",
     "text": [
      "Running 100 simulations with 100 time-steps...\n",
      "Test finished with:\n",
      "\tsuccess rate: 0 / 100 = 0.0\n"
     ]
    }
   ],
   "source": [
    "episodes, rewards = csrl.run_Q_test(policy, LTL_formula, predicates, start=(9,1),T=100, runs=100, verbose=0)"
   ]
  },
  {
   "cell_type": "code",
   "execution_count": null,
   "metadata": {},
   "outputs": [],
   "source": [
    "def plot_agent(t):\n",
    "    csrl.mdp.plot(agent=state_history[t][2:], save=f'test/{t}.png')\n",
    "t=IntSlider(value=0,min=0,max=T-1)\n",
    "interact(plot_agent,t=t)"
   ]
  },
  {
   "cell_type": "code",
   "execution_count": null,
   "metadata": {},
   "outputs": [
    {
     "data": {
      "image/png": "[encoded data removed]",
      "text/plain": [
       "<Figure size 500x500 with 1 Axes>"
      ]
     },
     "metadata": {},
     "output_type": "display_data"
    },
    {
     "data": {
      "image/png": "[encoded data removed]",
      "text/plain": [
       "<Figure size 500x500 with 1 Axes>"
      ]
     },
     "metadata": {},
     "output_type": "display_data"
    },
    {
     "data": {
      "image/png": "[encoded data removed]",
      "text/plain": [
       "<Figure size 500x500 with 1 Axes>"
      ]
     },
     "metadata": {},
     "output_type": "display_data"
    },
    {
     "data": {
      "image/png": "[encoded data removed]",
      "text/plain": [
       "<Figure size 500x500 with 1 Axes>"
      ]
     },
     "metadata": {},
     "output_type": "display_data"
    }
   ],
   "source": [
    "# Plot the important parts of the policy\n",
    "\n",
    "policy=np.argmax(Q,axis=4)\n",
    "\n",
    "hidden = [(0,0),(1,0),(2,0),(3,0),(4,0),(4,1),(0,2),(0,3)]\n",
    "path = {\n",
    "    (4,1) : 'r',\n",
    "    (4,2) : 'lu',\n",
    "    (3,2) : 'du',\n",
    "    (2,2) : 'du',\n",
    "    (1,2) : 'du',\n",
    "    (0,2) : 'd'\n",
    "}\n",
    "csrl.plot(value,policy,iq=(0,2),save='nursery_scenario_policy_cb.pdf',path=path,hidden=hidden)\n",
    "\n",
    "\n",
    "hidden = [(3,0),(4,0),(4,1),(0,2),(0,3)]\n",
    "path = {\n",
    "    (0,2) : 'l',\n",
    "    (0,1) : 'lr',\n",
    "    (0,0) : 'rd',\n",
    "    (1,0) : 'ur',\n",
    "    (1,1) : 'ld',\n",
    "    (2,1) : 'ur',\n",
    "    (2,2) : 'ld',\n",
    "    (3,2) : 'ud',\n",
    "    (4,2) : 'ul',\n",
    "    (4,1) : 'r'\n",
    "}\n",
    "csrl.plot(value,policy,iq=(0,41),save='nursery_scenario_policy_bc.pdf',hidden=hidden,path=path)\n",
    "\n",
    "hidden=[(3,0),(4,0),(4,1),(4,2),(4,3),(0,2),(0,3)]\n",
    "path = {\n",
    "    (0,2) : 'l',\n",
    "    (0,1) : 'lr',\n",
    "    (0,0) : 'rd',\n",
    "    (1,0) : 'ud',\n",
    "    (2,0) : 'ud',\n",
    "    (3,0) : 'u'\n",
    "}\n",
    "csrl.plot(value,policy,iq=(0,12),save='nursery_scenario_policy_ba.pdf',hidden=hidden,path=path)\n",
    "\n",
    "hidden=[(3,0),(4,0),(0,2),(0,3),(4,1)]\n",
    "path = {\n",
    "    (3,0) : 'r',\n",
    "    (3,1) : 'lr',\n",
    "    (3,2) : 'lu',\n",
    "    (2,2) : 'du',\n",
    "    (1,2) : 'du',\n",
    "    (0,2) : 'd'\n",
    "}\n",
    "csrl.plot(value,policy,iq=(0,9),save='nursery_scenario_policy_ab.pdf',hidden=hidden,path=path)"
   ]
  },
  {
   "cell_type": "code",
   "execution_count": null,
   "metadata": {},
   "outputs": [
    {
     "data": {
      "application/vnd.jupyter.widget-view+json": {
       "model_id": "ca520778802741108fdfdabe70315ebd",
       "version_major": 2,
       "version_minor": 0
      },
      "text/plain": [
       "interactive(children=(IntSlider(value=0, description='t', max=99), Output()), _dom_classes=('widget-interact',…"
      ]
     },
     "metadata": {},
     "output_type": "display_data"
    }
   ],
   "source": [
    "# Save the animation\n",
    "episode=csrl.simulate(policy,start=(4,1),T=100, animation='test')"
   ]
  },
  {
   "cell_type": "code",
   "execution_count": null,
   "metadata": {},
   "outputs": [],
   "source": []
  }
 ],
 "metadata": {
  "kernelspec": {
   "display_name": "base",
   "language": "python",
   "name": "python3"
  },
  "language_info": {
   "codemirror_mode": {
    "name": "ipython",
    "version": 3
   },
   "file_extension": ".py",
   "mimetype": "text/x-python",
   "name": "python",
   "nbconvert_exporter": "python",
   "pygments_lexer": "ipython3",
   "version": "3.10.8"
  },
  "vscode": {
   "interpreter": {
    "hash": "99202338b96e74e315910b3b20b9a2b0621872c4f26ff012cceee1c9c29d9125"
   }
  }
 },
 "nbformat": 4,
 "nbformat_minor": 4
}
