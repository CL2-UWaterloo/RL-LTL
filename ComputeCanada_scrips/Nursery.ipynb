{
 "cells": [
  {
   "attachments": {},
   "cell_type": "markdown",
   "metadata": {},
   "source": [
    "# Nursery Scenario"
   ]
  },
  {
   "cell_type": "code",
   "execution_count": 1,
   "metadata": {},
   "outputs": [
    {
     "name": "stderr",
     "output_type": "stream",
     "text": [
      "2023-05-24 14:58:43.068494: I tensorflow/core/platform/cpu_feature_guard.cc:193] This TensorFlow binary is optimized with oneAPI Deep Neural Network Library (oneDNN) to use the following CPU instructions in performance-critical operations:  SSE4.1 SSE4.2 AVX AVX2 FMA\n",
      "To enable them in other operations, rebuild TensorFlow with the appropriate compiler flags.\n"
     ]
    }
   ],
   "source": [
    "from NN import *\n",
    "from LTL import *\n",
    "from Utility_funcs import *\n",
    "\n",
    "from csrl.mdp import GridMDP\n",
    "from csrl.oa import OmegaAutomaton\n",
    "from csrl import ControlSynthesis\n",
    "import numpy as np\n",
    "from matplotlib import pyplot as plt\n",
    "import time"
   ]
  },
  {
   "cell_type": "code",
   "execution_count": 3,
   "metadata": {},
   "outputs": [
    {
     "name": "stdout",
     "output_type": "stream",
     "text": [
      "Number of Omega-automaton states (including the trap state): 43\n"
     ]
    },
    {
     "data": {
      "image/png": "[encoded data removed]",
      "text/plain": [
       "<Figure size 500x500 with 1 Axes>"
      ]
     },
     "metadata": {},
     "output_type": "display_data"
    }
   ],
   "source": [
    "ltl = ('G ('\n",
    "    '(!d) & '\n",
    "    '(c->((!a) U b)) & '\n",
    "    '((b & (X b))->(F a)) & '\n",
    "    '((b & (!(X b)))->(X ((!b) U (a|c)))) & '\n",
    "    '(((!b) & (X b) & (!(X X b)))->((!a) U c)) &'\n",
    "    '(a->(X ((!a) U b))) '\n",
    "')')\n",
    "\n",
    "# Translate the LTL formula to an LDBA\n",
    "oa = OmegaAutomaton(ltl)\n",
    "print('Number of Omega-automaton states (including the trap state):',oa.shape[1])\n",
    "\n",
    "# MDP Description\n",
    "shape = (5,4)\n",
    "# E: Empty, T: Trap, B: Obstacle\n",
    "structure = np.array([\n",
    "['E',  'E',  'E',  'E'],\n",
    "['E',  'E',  'E',  'E'],\n",
    "['E',  'E',  'E',  'E'],\n",
    "['E',  'E',  'E',  'E'],\n",
    "['E',  'E',  'E',  'E']\n",
    "])\n",
    "\n",
    "# Labels of the states\n",
    "label = np.array([\n",
    "[(),    (),    ('b',),('d',)],\n",
    "[(),    (),    (),    ()],\n",
    "[(),    (),    (),    ()],\n",
    "[('a',),(),    (),    ()],\n",
    "[(),    ('c',),(),    ()]\n",
    "],dtype=object)\n",
    "# Colors of the labels\n",
    "lcmap={\n",
    "    ('a',):'yellow',\n",
    "    ('b',):'greenyellow',\n",
    "    ('c',):'turquoise',\n",
    "    ('d',):'pink'\n",
    "} \n",
    "p = 1\n",
    "grid_mdp = GridMDP(shape=shape,structure=structure,label=label,lcmap=lcmap, p=p, figsize=5)  # Use figsize=4 for smaller figures\n",
    "grid_mdp.plot()\n",
    "\n",
    "# Construct the product MDP\n",
    "csrl = ControlSynthesis(grid_mdp,oa)\n",
    "max_rew = round(csrl.reward.max(), 3)\n",
    "\n",
    "s_vectors = state_vectors(csrl)\n",
    "enc = list(np.unique(grid_mdp.label))\n",
    "enc.pop(enc.index(()))\n",
    "ch_states = channeled_states(csrl, enc)"
   ]
  },
  {
   "cell_type": "code",
   "execution_count": 4,
   "metadata": {
    "tags": []
   },
   "outputs": [
    {
     "data": {
      "text/plain": [
       "((1, 43, 5, 4, 47), (5, 4, 43), 0.01)"
      ]
     },
     "execution_count": 4,
     "metadata": {},
     "output_type": "execute_result"
    }
   ],
   "source": [
    "csrl.shape, ch_states[(0,0,0,0)].shape, max_rew"
   ]
  },
  {
   "cell_type": "code",
   "execution_count": 5,
   "metadata": {},
   "outputs": [
    {
     "name": "stderr",
     "output_type": "stream",
     "text": [
      "2023-05-24 14:59:28.170284: I tensorflow/core/platform/cpu_feature_guard.cc:193] This TensorFlow binary is optimized with oneAPI Deep Neural Network Library (oneDNN) to use the following CPU instructions in performance-critical operations:  SSE4.1 SSE4.2 AVX AVX2 FMA\n",
      "To enable them in other operations, rebuild TensorFlow with the appropriate compiler flags.\n",
      "2023-05-24 14:59:28.170638: I tensorflow/core/common_runtime/process_util.cc:146] Creating new thread pool with default inter op setting: 2. Tune using inter_op_parallelism_threads for best performance.\n"
     ]
    },
    {
     "name": "stdout",
     "output_type": "stream",
     "text": [
      "Model: \"model\"\n",
      "__________________________________________________________________________________________________\n",
      " Layer (type)                   Output Shape         Param #     Connected to                     \n",
      "==================================================================================================\n",
      " input_1 (InputLayer)           [(None, 5, 4, 43)]   0           []                               \n",
      "                                                                                                  \n",
      " conv2d (Conv2D)                (None, 5, 4, 32)     5536        ['input_1[0][0]']                \n",
      "                                                                                                  \n",
      " conv2d_1 (Conv2D)              (None, 5, 4, 8)      1032        ['conv2d[0][0]']                 \n",
      "                                                                                                  \n",
      " flatten (Flatten)              (None, 160)          0           ['conv2d_1[0][0]']               \n",
      "                                                                                                  \n",
      " dense (Dense)                  (None, 32)           5152        ['flatten[0][0]']                \n",
      "                                                                                                  \n",
      " dense_1 (Dense)                (None, 16)           528         ['dense[0][0]']                  \n",
      "                                                                                                  \n",
      " dense_2 (Dense)                (None, 47)           799         ['dense_1[0][0]']                \n",
      "                                                                                                  \n",
      " dense_3 (Dense)                (None, 1)            17          ['dense_1[0][0]']                \n",
      "                                                                                                  \n",
      "==================================================================================================\n",
      "Total params: 13,064\n",
      "Trainable params: 13,064\n",
      "Non-trainable params: 0\n",
      "__________________________________________________________________________________________________\n"
     ]
    }
   ],
   "source": [
    "model = build_model(ch_states[(0,0,0,0)].shape, csrl.shape[-1])\n",
    "model.summary()"
   ]
  },
  {
   "cell_type": "code",
   "execution_count": 6,
   "metadata": {},
   "outputs": [],
   "source": [
    "t = \"[] ( (~d) /\\ (c->(~a % b)) /\\ ((b /\\ >b) -> <>a) /\\ ((b /\\ ~>b) -> >(~b % (a \\/ c))) /\\ ((~b /\\ >b /\\ ~>>b)->(~a % c)) )\"\n",
    "\n",
    "full_t = \"[] ( (~d) /\\ ((b /\\ ~>b) -> >(~b % (a \\/ c))) /\\ (a -> >(~a % b))\"\n",
    "full_t += \" /\\ ((~b /\\ >b /\\ ~>>b)->(~a % c)) /\\ (c->(~a % b)) /\\ ((b /\\ >b) -> <>a) )\"\n",
    "\n",
    "LTL_formula = parser.parse(full_t)\n",
    "predicates=get_predicates(grid_mdp)"
   ]
  },
  {
   "cell_type": "code",
   "execution_count": 7,
   "metadata": {},
   "outputs": [],
   "source": [
    "# model = build_model(ch_states[(0,0,0,0)].shape, csrl.shape[-1])\n",
    "\n",
    "N, W, Q, P = np.zeros(csrl.shape), np.zeros(csrl.shape), np.zeros(csrl.shape), np.zeros(csrl.shape)"
   ]
  },
  {
   "cell_type": "code",
   "execution_count": 8,
   "metadata": {},
   "outputs": [],
   "source": [
    "# model.load_weights(f'models/p=1/Nurseryp1')"
   ]
  },
  {
   "cell_type": "code",
   "execution_count": 10,
   "metadata": {},
   "outputs": [
    {
     "name": "stdout",
     "output_type": "stream",
     "text": [
      "LTL [---]  LDBA [ 0.0 ] path: [17, 16, 16, 17, 13, 14, 10, 6, 7, 6]\n",
      "LTL [---]  LDBA [ 0.0 ] path: [17, 17, 18, 19, 15, 19, 15, 11, 7, 6]\n",
      "LTL [+++]  LDBA [ 0.0 ] path: [17, 17, 18, 19, 15, 11, 7, 6, 2, 2]\n",
      "LTL [+++]  LDBA [ 0.0 ] path: [17, 17, 18, 19, 15, 14, 10, 6, 2, 2]\n",
      "LTL [+++]  LDBA [ 0.0 ] path: [17, 17, 18, 19, 15, 11, 10, 6, 2, 2]\n",
      "Train wins: 3 / 5\n",
      "LTL [+++]  LDBA [ 0.0 ] path: [17, 16, 17, 18, 19, 15, 11, 10, 6, 2]\n",
      "LTL [+++]  LDBA [ 0.0 ] path: [17, 17, 18, 19, 15, 11, 10, 6, 2, 2]\n",
      "LTL [+++]  LDBA [ 0.0 ] path: [17, 16, 17, 18, 19, 15, 14, 10, 6, 2]\n",
      "LTL [+++]  LDBA [ 0.0 ] path: [17, 17, 18, 19, 15, 11, 7, 6, 2, 2]\n",
      "LTL [+++]  LDBA [ 0.0 ] path: [17, 17, 18, 19, 15, 11, 7, 6, 2, 2]\n",
      "Test wins: 5 / 5\n"
     ]
    }
   ],
   "source": [
    "global LTL_coef\n",
    "LTL_coef = 1\n",
    "visited_states_train = []\n",
    "visited_states_test = []\n",
    "\n",
    "search_depth = 100\n",
    "MCTS_samples = 100\n",
    "\n",
    "num_training_epochs =  5\n",
    "num_test_epochs = 5\n",
    "training = True\n",
    "epochs = 20\n",
    "# T = [20, 40, 60, 100, 200]\n",
    "T = [10]\n",
    "K = 1\n",
    "\n",
    "success_rates = []\n",
    "succes_std = []\n",
    "win_hist = []\n",
    "train_history = []\n",
    "\n",
    "for i in T:\n",
    "    # TRAIN ##############################\n",
    "    train_wins = 0\n",
    "    # num_training_epochs = int(200 - 1.9*i)\n",
    "    # model = build_model(ch_states[(0,0,0,0)].shape, csrl.shape[-1])\n",
    "    N, W, Q, P, visited = np.zeros(csrl.shape), np.zeros(csrl.shape), np.zeros(csrl.shape), np.zeros(csrl.shape), set()\n",
    "    for epoch in range(num_training_epochs):\n",
    "        t1 = time.time()\n",
    "        state_history, channeled_states, trajectory, action_history, reward_history, better_policy = MC_learning(csrl, model, LTL_formula, predicates,\n",
    "                csrl.reward, ch_states, N = N, W = W, Q = Q, P = P, C=3, tow=0.7, n_samples=MCTS_samples, visited=visited, start=(4,1), search_depth=search_depth,\n",
    "                verbose=0, T=i, K=K)\n",
    "        # print('N',N[(0,0,4,1)][:5])\n",
    "        visited_states_train += state_history\n",
    "        t2 = time.time()\n",
    "        # print(t2-t1, \" run episode\")\n",
    "\n",
    "        win = check_LTL(LTL_formula, trajectory, predicates)[0]\n",
    "        if win: train_wins+=1\n",
    "\n",
    "        t3= time.time()\n",
    "        if training and len(action_history)>0:\n",
    "            if epoch==0:\n",
    "                x_train = np.array(channeled_states)[:-1]\n",
    "                y1_train = np.array(better_policy)\n",
    "                y2_train = np.array(reward_history) + LTL_coef*(check_LTL(LTL_formula, trajectory, predicates)[0]*max_rew)\n",
    "                # y2_train = np.array(reward_history)\n",
    "                y2_train = y2_train[:-1]\n",
    "            else:\n",
    "                x_train = np.concatenate((x_train, np.array(channeled_states)[:-1]),0)\n",
    "                y1_train = np.concatenate((y1_train, np.array(better_policy)),0)\n",
    "                y2_train_curr = np.array(reward_history) + LTL_coef*(check_LTL(LTL_formula, trajectory, predicates)[0]*max_rew)\n",
    "                # y2_train_curr = np.array(reward_history)\n",
    "                y2_train = np.concatenate((y2_train, y2_train_curr[:-1]),0)\n",
    "            tr_hist = model.fit(x_train, [y1_train, y2_train], epochs=epochs, verbose=0)\n",
    "            train_history += tr_hist.history['loss']\n",
    "        win_hist.append(win)\n",
    "        t4 = time.time()\n",
    "        # print(t4-t3, \" fit\")\n",
    "    print(\"Train wins:\",train_wins,\"/\", num_training_epochs)\n",
    "\n",
    "    # TEST ##############################\n",
    "    test_wins = 0\n",
    "    N, W, Q, P, visited = np.zeros(csrl.shape), np.zeros(csrl.shape), np.zeros(csrl.shape), np.zeros(csrl.shape), set()\n",
    "    for epoch in range(num_test_epochs):\n",
    "        \n",
    "        state_history, channeled_states, trajectory, action_history, reward_history, better_policy = MC_learning(csrl, model, LTL_formula, predicates,\n",
    "                csrl.reward, ch_states, N = N, W = W, Q = Q, P = P, C=3, tow=0.7, n_samples=100, visited=visited, start=(4,1), search_depth=search_depth, verbose=0, T=i, K=1)\n",
    "\n",
    "        win = check_LTL(LTL_formula, trajectory, predicates)[0]\n",
    "        if win: test_wins+=1\n",
    "        win_hist.append(win)\n",
    "        visited_states_test += state_history\n",
    "        \n",
    "    success_rates.append(100*test_wins/num_test_epochs)\n",
    "    temp = np.zeros(num_test_epochs)\n",
    "    temp[:test_wins]=1\n",
    "    std = np.sqrt(num_test_epochs*np.var(temp))\n",
    "    succes_std.append((success_rates[-1]-std, success_rates[-1]+std))\n",
    "    ###############################################################\n",
    "    print(\"Test wins:\",test_wins,\"/\",num_test_epochs)\n",
    "    # print(\"last reward:\", reward_history[-1], \"  | trajectory:\", trajectory)\n",
    "    # print(\"Actions:\", action_history)"
   ]
  },
  {
   "cell_type": "code",
   "execution_count": 11,
   "metadata": {},
   "outputs": [
    {
     "data": {
      "text/plain": [
       "[100.0]"
      ]
     },
     "execution_count": 11,
     "metadata": {},
     "output_type": "execute_result"
    },
    {
     "data": {
      "image/png": "[encoded data removed]",
      "text/plain": [
       "<Figure size 700x400 with 1 Axes>"
      ]
     },
     "metadata": {},
     "output_type": "display_data"
    }
   ],
   "source": [
    "succes_std = np.array(succes_std)\n",
    "\n",
    "plt.figure(figsize=(7,4))\n",
    "plt.fill_between(T, succes_std[:,0], succes_std[:,1], alpha=0.3, label=\"MCTS area of 1 STD\")\n",
    "\n",
    "plt.plot(T, success_rates)\n",
    "plt.ylim(-10, 110)\n",
    "plt.xlabel(\"length of trajectory\")\n",
    "plt.ylabel(f\"succes rate (out of {num_test_epochs} runs)\")\n",
    "plt.title(\"MCTS(sd=max) adaptive training, nursery case, P=\"+str(p))\n",
    "success_rates"
   ]
  },
  {
   "cell_type": "code",
   "execution_count": 12,
   "metadata": {},
   "outputs": [
    {
     "data": {
      "text/plain": [
       "Text(0.5, 1.0, 'training loss')"
      ]
     },
     "execution_count": 12,
     "metadata": {},
     "output_type": "execute_result"
    },
    {
     "data": {
      "image/png": "[encoded data removed]",
      "text/plain": [
       "<Figure size 700x400 with 1 Axes>"
      ]
     },
     "metadata": {},
     "output_type": "display_data"
    }
   ],
   "source": [
    "interval = 400\n",
    "plt.figure(figsize=(7,4))\n",
    "plt.plot(train_history)\n",
    "plt.title(\"training loss\")\n",
    "# plt.xticks(range(1,num_training_epochs*epochs,interval), range(0,num_training_epochs,interval//epochs));"
   ]
  },
  {
   "cell_type": "code",
   "execution_count": 13,
   "metadata": {},
   "outputs": [],
   "source": [
    "Q = csrl.q_learning(T=100,K=100000)\n",
    "np.save(f'Q2_{p}', Q)"
   ]
  },
  {
   "cell_type": "code",
   "execution_count": 14,
   "metadata": {},
   "outputs": [],
   "source": [
    "policy=np.argmax(Q,axis=4)\n",
    "value=np.max(Q,axis=4)"
   ]
  },
  {
   "cell_type": "code",
   "execution_count": 15,
   "metadata": {},
   "outputs": [
    {
     "name": "stdout",
     "output_type": "stream",
     "text": [
      "Running 200 simulations with 10 time-steps...\n",
      "Test finished with:\n",
      "\tsuccess rate: 0 / 200 = 0.0\n"
     ]
    }
   ],
   "source": [
    "rewards_mean = []\n",
    "rewards_std = []\n",
    "n_runs = 200\n",
    "\n",
    "for i in T:\n",
    "    episodes, rew = run_Q_test(csrl, policy, LTL_formula, predicates, T=i, start=(4,1), runs=n_runs, verbose=0)\n",
    "    rewards_mean.append(100*np.mean(rew))\n",
    "    rewards_std.append((rewards_mean[-1]-np.sqrt(n_runs*np.var(rew)), rewards_mean[-1]+np.sqrt(n_runs*np.var(rew))))\n",
    "rewards_std = np.array(rewards_std)"
   ]
  },
  {
   "cell_type": "code",
   "execution_count": 16,
   "metadata": {},
   "outputs": [
    {
     "data": {
      "text/plain": [
       "Text(0.5, 1.0, 'CSRL performance results on the nursery case, P=1')"
      ]
     },
     "execution_count": 16,
     "metadata": {},
     "output_type": "execute_result"
    },
    {
     "data": {
      "image/png": "[encoded data removed]",
      "text/plain": [
       "<Figure size 700x400 with 1 Axes>"
      ]
     },
     "metadata": {},
     "output_type": "display_data"
    }
   ],
   "source": [
    "plt.figure(figsize=(7,4))\n",
    "plt.fill_between(T, rewards_std[:,0], rewards_std[:,1], alpha=0.3, label=\"1 STD\")\n",
    "\n",
    "plt.plot(T, rewards_mean, label=\"CSRL\")\n",
    "plt.xlabel(\"length of trajectory (T)\")\n",
    "plt.ylabel(\"succes rate\")\n",
    "plt.title(\"CSRL performance results on the nursery case, P=\"+str(p))"
   ]
  },
  {
   "cell_type": "code",
   "execution_count": 17,
   "metadata": {},
   "outputs": [
    {
     "data": {
      "image/png": "[encoded data removed]",
      "text/plain": [
       "<Figure size 700x400 with 1 Axes>"
      ]
     },
     "metadata": {},
     "output_type": "display_data"
    }
   ],
   "source": [
    "plt.figure(figsize=(7,4))\n",
    "\n",
    "plt.fill_between(T, rewards_std[:,0], rewards_std[:,1], alpha=0.3)\n",
    "plt.plot(T, rewards_mean, label=\"CSRL\")\n",
    "plt.xlabel(\"length of trajectory (T)\")\n",
    "plt.ylabel(\"succes rate\")\n",
    "plt.title(\"Comparison on the nursary case\")\n",
    "# plt.title(\"Comparison on the nursary case; deterministic\")\n",
    "plt.ylim(-10, 110)\n",
    "\n",
    "plt.fill_between(T, succes_std[:,0], succes_std[:,1], alpha=0.3)\n",
    "plt.plot(T, success_rates, label=\"RL-LTL\")\n",
    "plt.legend()\n",
    "plt.savefig(f\"res_400/C2_P{p}.pdf\")"
   ]
  },
  {
   "cell_type": "code",
   "execution_count": null,
   "metadata": {},
   "outputs": [],
   "source": []
  }
 ],
 "metadata": {
  "kernelspec": {
   "display_name": "base",
   "language": "python",
   "name": "python3"
  },
  "language_info": {
   "codemirror_mode": {
    "name": "ipython",
    "version": 3
   },
   "file_extension": ".py",
   "mimetype": "text/x-python",
   "name": "python",
   "nbconvert_exporter": "python",
   "pygments_lexer": "ipython3",
   "version": "3.8.16"
  },
  "vscode": {
   "interpreter": {
    "hash": "99202338b96e74e315910b3b20b9a2b0621872c4f26ff012cceee1c9c29d9125"
   }
  }
 },
 "nbformat": 4,
 "nbformat_minor": 4
}
