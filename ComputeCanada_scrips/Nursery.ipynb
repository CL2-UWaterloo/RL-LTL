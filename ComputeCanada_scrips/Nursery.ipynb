{
 "cells": [
  {
   "attachments": {},
   "cell_type": "markdown",
   "metadata": {},
   "source": [
    "# Nursery Scenario"
   ]
  },
  {
   "cell_type": "code",
   "execution_count": 1,
   "metadata": {},
   "outputs": [],
   "source": [
    "from NN import *\n",
    "from LTL import *\n",
    "from Utility_funcs import *\n",
    "\n",
    "from csrl.mdp import GridMDP\n",
    "from csrl.oa import OmegaAutomaton\n",
    "from csrl import ControlSynthesis\n",
    "import numpy as np\n",
    "from matplotlib import pyplot as plt\n",
    "import time\n",
    "import os"
   ]
  },
  {
   "cell_type": "code",
   "execution_count": 2,
   "metadata": {},
   "outputs": [
    {
     "name": "stdout",
     "output_type": "stream",
     "text": [
      "Number of Omega-automaton states (including the trap state): 58\n"
     ]
    },
    {
     "data": {
      "image/png": "[encoded data removed]",
      "text/plain": [
       "<Figure size 500x500 with 1 Axes>"
      ]
     },
     "metadata": {},
     "output_type": "display_data"
    }
   ],
   "source": [
    "ltl = ('G ('\n",
    "    '(!d) & '\n",
    "    '(c->((!a) U b)) & '\n",
    "    '((b & (X b))->(F a)) & '\n",
    "    '((b & (!(X b)))->(X ((!b) U (a|c)))) & '\n",
    "    '(((!b) & (X b) & (!(X X b)))->((!a) U c)) &'\n",
    "    '(a->(X ((!a) U b))) '\n",
    "')')\n",
    "\n",
    "# Translate the LTL formula to an LDBA\n",
    "oa = OmegaAutomaton(ltl)\n",
    "print('Number of Omega-automaton states (including the trap state):',oa.shape[1])\n",
    "\n",
    "# MDP Description\n",
    "shape = (5,4)\n",
    "# E: Empty, T: Trap, B: Obstacle\n",
    "structure = np.array([\n",
    "['E',  'E',  'E',  'E'],\n",
    "['E',  'E',  'E',  'E'],\n",
    "['E',  'E',  'E',  'E'],\n",
    "['E',  'E',  'E',  'E'],\n",
    "['E',  'E',  'E',  'E']\n",
    "])\n",
    "\n",
    "# Labels of the states\n",
    "label = np.array([\n",
    "[(),    (),    ('b',),('d',)],\n",
    "[(),    (),    (),    ()],\n",
    "[(),    (),    (),    ()],\n",
    "[('a',),(),    (),    ()],\n",
    "[(),    ('c',),(),    ()]\n",
    "],dtype=object)\n",
    "# Colors of the labels\n",
    "lcmap={\n",
    "    ('a',):'yellow',\n",
    "    ('b',):'greenyellow',\n",
    "    ('c',):'turquoise',\n",
    "    ('d',):'pink'\n",
    "} \n",
    "p = 1\n",
    "grid_mdp = GridMDP(shape=shape,structure=structure,label=label,lcmap=lcmap, p=p, figsize=5)  # Use figsize=4 for smaller figures\n",
    "grid_mdp.plot()\n",
    "\n",
    "# Construct the product MDP\n",
    "csrl = ControlSynthesis(grid_mdp,oa)\n",
    "max_rew = round(csrl.reward.max(), 3)\n",
    "\n",
    "s_vectors = state_vectors(csrl)\n",
    "enc = list(np.unique(grid_mdp.label))\n",
    "enc.pop(enc.index(()))\n",
    "ch_states = channeled_states(csrl, enc)\n",
    "total_number_of_states = csrl.mdp.shape[0]*csrl.mdp.shape[1]*csrl.oa.shape[1]"
   ]
  },
  {
   "cell_type": "code",
   "execution_count": 3,
   "metadata": {
    "tags": []
   },
   "outputs": [
    {
     "data": {
      "text/plain": [
       "((1, 58, 5, 4, 62), (5, 4, 58), 0.01)"
      ]
     },
     "execution_count": 3,
     "metadata": {},
     "output_type": "execute_result"
    }
   ],
   "source": [
    "csrl.shape, ch_states[(0,0,0,0)].shape, max_rew"
   ]
  },
  {
   "cell_type": "code",
   "execution_count": 4,
   "metadata": {},
   "outputs": [
    {
     "name": "stdout",
     "output_type": "stream",
     "text": [
      "Model: \"model\"\n",
      "__________________________________________________________________________________________________\n",
      " Layer (type)                   Output Shape         Param #     Connected to                     \n",
      "==================================================================================================\n",
      " input_1 (InputLayer)           [(None, 5, 4, 58)]   0           []                               \n",
      "                                                                                                  \n",
      " conv2d (Conv2D)                (None, 5, 4, 32)     7456        ['input_1[0][0]']                \n",
      "                                                                                                  \n",
      " conv2d_1 (Conv2D)              (None, 5, 4, 8)      1032        ['conv2d[0][0]']                 \n",
      "                                                                                                  \n",
      " flatten (Flatten)              (None, 160)          0           ['conv2d_1[0][0]']               \n",
      "                                                                                                  \n",
      " dense (Dense)                  (None, 32)           5152        ['flatten[0][0]']                \n",
      "                                                                                                  \n",
      " dense_1 (Dense)                (None, 16)           528         ['dense[0][0]']                  \n",
      "                                                                                                  \n",
      " dense_2 (Dense)                (None, 62)           1054        ['dense_1[0][0]']                \n",
      "                                                                                                  \n",
      " dense_3 (Dense)                (None, 1)            17          ['dense_1[0][0]']                \n",
      "                                                                                                  \n",
      "==================================================================================================\n",
      "Total params: 15,239\n",
      "Trainable params: 15,239\n",
      "Non-trainable params: 0\n",
      "__________________________________________________________________________________________________\n"
     ]
    }
   ],
   "source": [
    "model = build_model(ch_states[(0,0,0,0)].shape, csrl.shape[-1])\n",
    "model.summary()"
   ]
  },
  {
   "cell_type": "code",
   "execution_count": 5,
   "metadata": {},
   "outputs": [],
   "source": [
    "t = \"[] ( (~d) /\\ (c->(~a % b)) /\\ ((b /\\ >b) -> <>a) /\\ ((b /\\ ~>b) -> >(~b % (a \\/ c))) /\\ ((~b /\\ >b /\\ ~>>b)->(~a % c)) )\"\n",
    "\n",
    "full_t = \"[] ( (~d) /\\ ((b /\\ ~>b) -> >(~b % (a \\/ c))) /\\ (a -> >(~a % b))\"\n",
    "full_t += \" /\\ ((~b /\\ >b /\\ ~>>b)->(~a % c)) /\\ (c->(~a % b)) /\\ ((b /\\ >b) -> <>a) )\"\n",
    "\n",
    "LTL_formula = parser.parse(full_t)\n",
    "predicates=get_predicates(grid_mdp)"
   ]
  },
  {
   "cell_type": "code",
   "execution_count": 6,
   "metadata": {},
   "outputs": [],
   "source": [
    "model = build_model(ch_states[(0,0,0,0)].shape, csrl.shape[-1])\n",
    "\n",
    "N, W, Q, P = np.zeros(csrl.shape), np.zeros(csrl.shape), np.zeros(csrl.shape), np.zeros(csrl.shape)"
   ]
  },
  {
   "cell_type": "code",
   "execution_count": 7,
   "metadata": {},
   "outputs": [],
   "source": [
    "# model.load_weights(f'models/p=1/Nurseryp1')"
   ]
  },
  {
   "cell_type": "code",
   "execution_count": 9,
   "metadata": {},
   "outputs": [
    {
     "name": "stdout",
     "output_type": "stream",
     "text": [
      "0 ) MCTS conf: 3.37 , det: 0.68 | LTL [---]  LDBA [ 0.02 ] path: [9, 10, 14, 13, 17, 18, 14, 10, 6, 2, 1, 1, 1, 2, 6, 5, 1, 1, 1, 0, 1, 0, 0, 0, 0]\n",
      "1 ) MCTS conf: 6.84 , det: 0.57 | LTL [---]  LDBA [ 0.11 ] path: [10, 14, 18, 18, 19, 19, 19, 15, 19, 15, 15, 14, 10, 9, 10, 9, 13, 14, 10, 9, 8, 8, 4, 5, 6]\n",
      "2 ) MCTS conf: 4.45 , det: 0.38 | LTL [---]  LDBA [ 0.09 ] path: [4, 5, 9, 10, 11, 7, 7, 6, 10, 9, 8, 4, 0, 0, 1, 5, 9, 10, 14, 13, 17, 18, 14, 10, 6]\n",
      "3 ) MCTS conf: 1.07 , det: 0.46 | LTL [---]  LDBA [ 0.04 ] path: [1, 1, 5, 9, 8, 8, 9, 13, 17, 18, 14, 10, 6, 2, 1, 1, 5, 1, 5, 4, 5, 6, 7, 7, 7]\n",
      "4 ) MCTS conf: 3.81 , det: 0.39 | LTL [---]  LDBA [ 0.11 ] path: [13, 9, 8, 8, 9, 10, 9, 10, 14, 15, 14, 15, 15, 11, 11, 7, 11, 15, 11, 7, 7, 11, 11, 15, 14]\n",
      "5 ) MCTS conf: -10.0 , det: 0.34 | LTL [---]  LDBA [ 0.01 ] path: [16, 12, 8, 9, 8, 4, 5, 1, 2, 1, 5, 9, 5, 1, 1, 1, 1, 5, 6, 7, 7, 11, 15, 11, 15]\n",
      "6 ) MCTS conf: 7.84 , det: 0.53 | LTL [---]  LDBA [ 0.11 ] path: [14, 18, 18, 18, 19, 19, 19, 18, 14, 13, 14, 10, 11, 10, 6, 7, 11, 11, 10, 9, 8, 8, 9, 10, 11]\n",
      "7 ) MCTS conf: 5.58 , det: 0.61 | LTL [---]  LDBA [ 0.11 ] path: [6, 10, 9, 10, 14, 13, 14, 10, 14, 10, 11, 10, 11, 11, 15, 19, 18, 14, 10, 9, 8, 9, 10, 11, 15]\n",
      "8 ) MCTS conf: 8.71 , det: 0.86 | LTL [---]  LDBA [ 0.11 ] path: [18, 14, 18, 19, 18, 19, 19, 18, 14, 15, 14, 15, 14, 15, 15, 11, 15, 19, 19, 18, 19, 15, 15, 14, 15]\n",
      "9 ) MCTS conf: 7.48 , det: 0.51 | LTL [---]  LDBA [ 0.11 ] path: [14, 18, 18, 19, 19, 19, 19, 19, 19, 15, 15, 11, 7, 11, 10, 9, 8, 9, 8, 8, 9, 10, 14, 15, 14]\n",
      "10 ) MCTS conf: 4.84 , det: 0.49 | LTL [---]  LDBA [ 0.0 ] path: [1, 2, 1, 1, 5, 4, 5, 1, 1, 1, 1, 1, 0, 0, 1, 2, 3]\n",
      "11 ) MCTS conf: -7.89 , det: 0.37 | LTL [---]  LDBA [ 0.0 ] path: [16, 16, 12, 12, 12, 13, 9, 13, 12, 16, 16, 16, 16, 16, 16, 16, 16, 16, 16, 16, 16, 16, 16, 16, 16]\n",
      "12 ) MCTS conf: 9.53 , det: 0.28 | LTL [---]  LDBA [ 0.11 ] path: [19, 18, 19, 19, 19, 19, 19, 18, 19, 19, 19, 19, 19, 19, 19, 19, 15, 19, 18, 19, 19, 18, 19, 15, 15]\n",
      "13 ) MCTS conf: 9.59 , det: 0.37 | LTL [---]  LDBA [ 0.03 ] path: [15, 15, 19, 15, 14, 13, 17, 17, 18, 14, 10, 6, 2, 1, 1, 5, 1, 0, 0, 4, 4, 5, 1, 5, 1]\n",
      "14 ) MCTS conf: 9.39 , det: 0.29 | LTL [---]  LDBA [ 0.03 ] path: [19, 15, 19, 18, 14, 13, 17, 18, 14, 10, 6, 2, 6, 10, 11, 11, 7, 11, 7, 11, 7, 7, 7, 7, 6]\n",
      "15 ) MCTS conf: 7.41 , det: 0.38 | LTL [---]  LDBA [ 0.11 ] path: [4, 5, 6, 7, 7, 6, 10, 9, 10, 6, 10, 14, 18, 19, 19, 19, 18, 18, 18, 18, 18, 14, 18, 14, 10]\n",
      "16 ) MCTS conf: 1.08 , det: 0.51 | LTL [---]  LDBA [ 0.1 ] path: [7, 11, 11, 15, 15, 19, 15, 19, 15, 11, 7, 6, 5, 6, 10, 9, 13, 9, 8, 8, 9, 13, 17, 18, 14]\n",
      "17 ) MCTS conf: 9.17 , det: 0.57 | LTL [---]  LDBA [ 0.11 ] path: [10, 14, 10, 9, 8, 8, 9, 10, 11, 11, 15, 19, 19, 19, 19, 15, 15, 11, 7, 6, 10, 14, 15, 11, 10]\n",
      "18 ) MCTS conf: 4.13 , det: 0.41 | LTL [---]  LDBA [ 0.11 ] path: [11, 11, 7, 6, 10, 9, 8, 9, 8, 9, 8, 8, 9, 10, 14, 13, 14, 18, 14, 10, 11, 7, 7, 6, 10]\n",
      "19 ) MCTS conf: 6.93 , det: 0.38 | LTL [---]  LDBA [ 0.11 ] path: [4, 5, 4, 5, 4, 4, 5, 6, 10, 9, 5, 9, 5, 9, 8, 8, 9, 10, 11, 7, 7, 6, 10, 9, 8]\n",
      "20 ) MCTS conf: 2.73 , det: 0.4 | LTL [---]  LDBA [ 0.11 ] path: [8, 8, 8, 8, 4, 4, 5, 9, 8, 8, 9, 10, 9, 8, 9, 13, 14, 15, 11, 15, 15, 19, 19, 15, 19]\n",
      "21 ) MCTS conf: 2.21 , det: 0.5 | LTL [---]  LDBA [ 0.07 ] path: [1, 1, 5, 9, 8, 8, 4, 5, 6, 7, 11, 15, 14, 13, 17, 18, 14, 10, 6, 2, 6, 10, 14, 18, 19]\n",
      "22 ) MCTS conf: 7.34 , det: 0.41 | LTL [---]  LDBA [ 0.05 ] path: [11, 15, 15, 19, 19, 19, 19, 19, 18, 18, 17, 18, 14, 10, 6, 2, 1, 0, 4, 0, 4, 8, 12, 16, 16]\n",
      "23 ) MCTS conf: 5.04 , det: 0.68 | LTL [---]  LDBA [ 0.1 ] path: [9, 13, 9, 5, 4, 5, 1, 0, 1, 0, 0, 1, 0, 0, 4, 5, 9, 8, 9, 10, 14, 13, 17, 13, 9]\n",
      "24 ) MCTS conf: 6.53 , det: 0.53 | LTL [+++]  LDBA [ 0.09 ] path: [7, 11, 11, 7, 7, 6, 10, 9, 8, 8, 9, 10, 11, 15, 19, 18, 14, 13, 17, 18, 14, 10, 6, 2, 1]\n",
      "25 ) MCTS conf: -3.11 , det: 0.38 | LTL [---]  LDBA [ 0.01 ] path: [16, 16, 16, 17, 18, 14, 10, 6, 2, 1, 2, 6, 5, 4, 0, 0, 0, 0, 0, 0, 0, 0, 0, 1, 5]\n",
      "26 ) MCTS conf: 2.92 , det: 0.48 | LTL [---]  LDBA [ 0.08 ] path: [1, 5, 6, 10, 14, 10, 11, 7, 7, 6, 10, 9, 8, 8, 9, 13, 17, 18, 14, 10, 6, 2, 6, 10, 11]\n",
      "27 ) MCTS conf: 11.25 , det: 0.55 | LTL [---]  LDBA [ 0.11 ] path: [14, 15, 19, 19, 19, 18, 14, 18, 18, 18, 14, 15, 19, 19, 15, 15, 15, 19, 19, 19, 15, 19, 19, 18, 19]\n",
      "28 ) MCTS conf: 1.42 , det: 0.46 | LTL [---]  LDBA [ 0.11 ] path: [1, 5, 9, 10, 11, 7, 7, 6, 10, 9, 13, 9, 8, 8, 8, 8, 4, 8, 4, 5, 9, 10, 14, 10, 11]\n",
      "29 ) MCTS conf: 10.05 , det: 0.85 | LTL [---]  LDBA [ 0.03 ] path: [18, 19, 18, 19, 18, 18, 17, 18, 14, 10, 6, 2, 6, 10, 14, 13, 9, 8, 12, 16, 16, 16, 16, 16, 16]\n",
      "30 ) MCTS conf: 8.51 , det: 0.54 | LTL [---]  LDBA [ 0.06 ] path: [14, 15, 19, 18, 19, 18, 19, 15, 14, 15, 15, 11, 15, 14, 13, 12, 13, 9, 8, 8, 9, 8, 9, 8, 9]\n",
      "31 ) MCTS conf: 7.42 , det: 0.48 | LTL [---]  LDBA [ 0.03 ] path: [1, 5, 1, 5, 9, 13, 17, 18, 14, 10, 6, 2, 1, 5, 6, 10, 9, 13, 9, 13, 17, 18, 14, 10, 6]\n",
      "32 ) MCTS conf: 9.14 , det: 0.38 | LTL [---]  LDBA [ 0.06 ] path: [4, 8, 4, 5, 9, 10, 9, 10, 11, 10, 14, 13, 17, 18, 14, 10, 6, 2, 6, 2, 6, 5, 9, 8, 8]\n",
      "33 ) MCTS conf: 6.56 , det: 0.48 | LTL [---]  LDBA [ 0.06 ] path: [1, 5, 9, 10, 11, 15, 14, 18, 19, 15, 14, 13, 17, 18, 14, 10, 6, 2, 1, 1, 2, 1, 1, 1, 1]\n",
      "34 ) MCTS conf: 7.52 , det: 0.41 | LTL [---]  LDBA [ 0.03 ] path: [8, 9, 10, 9, 10, 9, 13, 17, 17, 18, 14, 10, 6, 2, 1, 1, 0, 0, 4, 8, 9, 8, 12, 16, 16]\n",
      "35 ) MCTS conf: 7.69 , det: 0.55 | LTL [+++]  LDBA [ 0.09 ] path: [14, 18, 19, 18, 18, 18, 18, 19, 19, 19, 19, 19, 19, 18, 14, 13, 14, 13, 17, 18, 14, 10, 6, 2, 6]\n",
      "36 ) MCTS conf: 9.37 , det: 0.28 | LTL [---]  LDBA [ 0.06 ] path: [19, 19, 18, 14, 15, 14, 15, 15, 15, 19, 19, 18, 17, 18, 14, 10, 6, 2, 6, 2, 6, 2, 1, 1, 1]\n",
      "37 ) MCTS conf: 9.67 , det: 0.4 | LTL [---]  LDBA [ 0.11 ] path: [11, 11, 11, 7, 7, 6, 10, 9, 8, 8, 9, 10, 11, 7, 7, 11, 7, 6, 10, 6, 10, 9, 8, 8, 4]\n",
      "38 ) MCTS conf: 3.65 , det: 0.42 | LTL [---]  LDBA [ 0.06 ] path: [8, 4, 8, 8, 9, 13, 9, 10, 11, 15, 14, 13, 17, 18, 19, 15, 14, 10, 6, 2, 1, 5, 9, 13, 9]\n",
      "39 ) MCTS conf: 8.68 , det: 0.28 | LTL [---]  LDBA [ 0.11 ] path: [19, 18, 18, 14, 13, 9, 8, 8, 4, 0, 4, 0, 0, 0, 0, 1, 0, 0, 0, 1, 0, 0, 0, 0, 0]\n",
      "40 ) MCTS conf: 6.07 , det: 0.47 | LTL [---]  LDBA [ 0.11 ] path: [1, 1, 5, 9, 8, 8, 9, 8, 4, 0, 1, 0, 0, 1, 5, 6, 10, 9, 8, 8, 9, 10, 11, 11, 10]\n",
      "41 ) MCTS conf: 7.19 , det: 0.58 | LTL [---]  LDBA [ 0.06 ] path: [10, 14, 10, 9, 8, 8, 4, 4, 8, 8, 9, 13, 17, 18, 14, 10, 6, 2, 1, 2, 1, 1, 1, 1, 1]\n",
      "42 ) MCTS conf: 8.58 , det: 0.38 | LTL [---]  LDBA [ 0.11 ] path: [5, 1, 5, 9, 8, 9, 8, 8, 4, 0, 0, 0, 0, 0, 0, 0, 0, 0, 1, 5, 6, 7, 7, 6, 10]\n",
      "43 ) MCTS conf: 9.49 , det: 0.38 | LTL [---]  LDBA [ 0.04 ] path: [5, 4, 5, 9, 8, 8, 9, 13, 17, 18, 14, 10, 6, 2, 1, 2, 2, 1, 1, 1, 1, 1, 1, 1, 5]\n",
      "44 ) MCTS conf: 5.01 , det: 0.4 | LTL [---]  LDBA [ 0.01 ] path: [13, 17, 13, 14, 10, 6, 2, 1, 0, 4, 5, 9, 13, 12, 16, 16, 16, 16, 16, 16, 16, 16, 16, 16, 16]\n",
      "45 ) MCTS conf: 5.55 , det: 0.59 | LTL [---]  LDBA [ 0.02 ] path: [6, 5, 9, 13, 17, 18, 17, 18, 14, 10, 6, 2, 6, 5, 1, 1, 1, 1, 5, 4, 0, 0, 4, 0, 0]\n",
      "46 ) MCTS conf: 9.25 , det: 0.28 | LTL [---]  LDBA [ 0.06 ] path: [19, 19, 19, 15, 15, 11, 11, 15, 15, 15, 14, 13, 17, 18, 14, 10, 6, 2, 1, 0, 1, 1, 5, 1, 1]\n",
      "47 ) MCTS conf: 6.78 , det: 0.31 | LTL [---]  LDBA [ 0.11 ] path: [0, 0, 1, 5, 6, 7, 7, 11, 7, 6, 10, 9, 8, 8, 8, 4, 0, 1, 5, 9, 8, 8, 9, 13, 17]\n",
      "48 ) MCTS conf: 8.4 , det: 0.3 | LTL [---]  LDBA [ 0.11 ] path: [0, 1, 1, 0, 0, 4, 4, 0, 1, 5, 9, 10, 11, 10, 14, 18, 18, 19, 19, 19, 18, 14, 13, 9, 8]\n",
      "49 ) MCTS conf: 9.49 , det: 0.37 | LTL [---]  LDBA [ 0.09 ] path: [15, 19, 15, 14, 10, 9, 8, 4, 5, 4, 0, 0, 1, 1, 1, 5, 9, 10, 11, 7, 7, 3]\n",
      "50 ) MCTS conf: 5.16 , det: 0.69 | LTL [---]  LDBA [ 0.02 ] path: [9, 13, 9, 13, 17, 18, 14, 10, 6, 2, 1, 1, 1, 0, 4, 5, 4, 8, 4, 4, 0, 1, 0, 1, 5]\n",
      "51 ) MCTS conf: 9.03 , det: 0.55 | LTL [---]  LDBA [ 0.02 ] path: [14, 15, 14, 13, 17, 18, 14, 10, 6, 2, 6, 10, 11, 15, 11, 11, 11, 11, 15, 11, 11, 15, 15, 14, 18]\n",
      "52 ) MCTS conf: 8.03 , det: 0.68 | LTL [---]  LDBA [ 0.02 ] path: [9, 13, 9, 13, 17, 18, 14, 10, 6, 2, 1, 1, 2, 1, 5, 9, 8, 4, 0, 0, 0, 0, 0, 0, 0]\n",
      "53 ) MCTS conf: 9.18 , det: 0.38 | LTL [---]  LDBA [ 0.07 ] path: [4, 0, 0, 4, 5, 6, 10, 9, 8, 8, 9, 10, 14, 13, 17, 18, 14, 10, 6, 2, 1, 2, 6, 5, 1]\n",
      "54 ) MCTS conf: 6.46 , det: 0.41 | LTL [---]  LDBA [ 0.11 ] path: [8, 8, 4, 5, 6, 7, 11, 7, 7, 6, 10, 9, 8, 8, 9, 10, 14, 10, 6, 7, 7, 6, 10, 6, 10]\n",
      "55 ) MCTS conf: 10.34 , det: 0.28 | LTL [---]  LDBA [ 0.11 ] path: [19, 15, 11, 11, 10, 9, 8, 8, 9, 10, 9, 10, 11, 7, 7, 6, 10, 9, 8, 8, 9, 10, 11, 7, 7]\n",
      "56 ) MCTS conf: 6.81 , det: 0.38 | LTL [---]  LDBA [ 0.03 ] path: [15, 15, 19, 18, 14, 13, 17, 18, 14, 10, 6, 2, 1, 1, 2, 1, 1, 1, 1, 5, 1, 1, 1, 1, 1]\n",
      "57 ) MCTS conf: 7.8 , det: 0.38 | LTL [---]  LDBA [ 0.11 ] path: [4, 4, 0, 1, 0, 0, 1, 0, 1, 1, 5, 6, 10, 11, 11, 15, 15, 11, 11, 15, 15, 11, 7, 6, 10]\n",
      "58 ) MCTS conf: 5.22 , det: 0.56 | LTL [---]  LDBA [ 0.11 ] path: [14, 13, 9, 10, 11, 7, 7, 11, 11, 7, 7, 11, 10, 9, 10, 14, 15, 19, 19, 19, 19, 19, 19, 15, 15]\n",
      "59 ) MCTS conf: 9.44 , det: 0.38 | LTL [---]  LDBA [ 0.02 ] path: [15, 15, 14, 13, 17, 18, 14, 10, 6, 2, 1, 1, 1, 5, 9, 13, 14, 10, 11, 10, 9, 5, 6, 10, 9]\n",
      "60 ) MCTS conf: 7.04 , det: 0.69 | LTL [---]  LDBA [ 0.11 ] path: [9, 13, 9, 10, 11, 7, 7, 6, 10, 9, 10, 9, 8, 4, 8, 4, 0, 1, 5, 6, 10, 9, 8, 8, 4]\n",
      "61 ) MCTS conf: -1.96 , det: 0.38 | LTL [---]  LDBA [ 0.01 ] path: [16, 16, 17, 18, 14, 10, 6, 2, 1, 1, 1, 1, 0, 0, 0, 1, 1, 2, 1, 1, 1, 1, 1, 1, 1]\n",
      "62 ) MCTS conf: 3.07 , det: 0.47 | LTL [---]  LDBA [ 0.1 ] path: [1, 1, 5, 6, 10, 11, 11, 7, 11, 15, 15, 14, 18, 19, 18, 14, 10, 9, 8, 8, 9, 13, 17, 18, 14]\n",
      "63 ) MCTS conf: 6.89 , det: 0.54 | LTL [---]  LDBA [ 0.11 ] path: [7, 11, 7, 6, 10, 9, 5, 9, 8, 8, 9, 10, 14, 15, 15, 11, 11, 15, 14, 13, 14, 15, 11, 15, 14]\n",
      "64 ) MCTS conf: 9.88 , det: 0.37 | LTL [---]  LDBA [ 0.1 ] path: [15, 15, 19, 18, 14, 18, 18, 19, 15, 11, 15, 19, 19, 19, 19, 18, 14, 13, 9, 5, 9, 13, 17, 18, 14]\n",
      "65 ) MCTS conf: 6.68 , det: 0.58 | LTL [---]  LDBA [ 0.07 ] path: [10, 11, 7, 6, 10, 9, 8, 8, 9, 10, 6, 10, 14, 13, 17, 18, 14, 10, 6, 2, 6, 10, 11, 15, 14]\n",
      "66 ) MCTS conf: 9.36 , det: 0.37 | LTL [---]  LDBA [ 0.11 ] path: [5, 9, 13, 9, 8, 8, 9, 10, 14, 18, 14, 15, 15, 11, 10, 14, 10, 9, 8, 8, 4, 4, 8, 8, 9]\n",
      "67 ) MCTS conf: -4.17 , det: 0.39 | LTL [---]  LDBA [ 0.02 ] path: [16, 16, 16, 16, 16, 17, 18, 14, 10, 6, 2, 6, 10, 11, 11, 11, 15, 14, 10, 11, 15, 19, 19, 18, 19]\n",
      "68 ) MCTS conf: 3.61 , det: 0.47 | LTL [---]  LDBA [ 0.03 ] path: [1, 5, 1, 5, 9, 13, 17, 18, 14, 10, 6, 2, 1, 1, 1, 2, 2, 1, 1, 1, 1, 1, 1, 2, 1]\n",
      "69 ) MCTS conf: 9.64 , det: 0.4 | LTL [+++]  LDBA [ 0.09 ] path: [11, 11, 11, 10, 11, 7, 7, 6, 10, 9, 8, 8, 4, 5, 9, 10, 14, 13, 17, 18, 14, 10, 6, 2, 1]\n",
      "70 ) MCTS conf: 8.12 , det: 0.37 | LTL [---]  LDBA [ 0.08 ] path: [4, 5, 4, 0, 1, 0, 1, 5, 6, 10, 14, 10, 11, 10, 14, 13, 17, 18, 14, 10, 6, 2, 1, 1, 1]\n",
      "71 ) MCTS conf: 7.6 , det: 0.29 | LTL [---]  LDBA [ 0.1 ] path: [0, 0, 0, 0, 1, 0, 0, 0, 4, 5, 1, 0, 1, 1, 0, 0, 0, 0, 1, 5, 9, 13, 17, 18, 14]\n",
      "72 ) MCTS conf: 7.32 , det: 0.41 | LTL [---]  LDBA [ 0.05 ] path: [11, 7, 11, 10, 11, 15, 14, 10, 14, 13, 17, 18, 19, 15, 14, 10, 6, 2, 1, 5, 4, 0, 4, 4, 8]\n",
      "73 ) MCTS conf: 9.62 , det: 0.28 | LTL [---]  LDBA [ 0.11 ] path: [19, 15, 19, 18, 18, 19, 19, 19, 18, 14, 18, 14, 10, 9, 8, 8, 4, 8, 4, 5, 4, 5, 9, 10, 11]\n",
      "74 ) MCTS conf: 9.69 , det: 0.41 | LTL [---]  LDBA [ 0.08 ] path: [11, 11, 7, 11, 11, 15, 15, 11, 7, 6, 10, 9, 8, 8, 9, 10, 14, 13, 17, 18, 19, 15, 14, 10, 6]\n",
      "75 ) MCTS conf: 3.32 , det: 0.61 | LTL [---]  LDBA [ 0.11 ] path: [6, 10, 6, 5, 6, 7, 7, 6, 10, 9, 8, 8, 9, 10, 14, 13, 14, 15, 15, 11, 15, 11, 11, 15, 14]\n",
      "76 ) MCTS conf: 8.43 , det: 0.56 | LTL [---]  LDBA [ 0.02 ] path: [14, 13, 14, 13, 17, 18, 14, 10, 6, 2, 1, 5, 9, 8, 4, 8, 4, 4, 5, 6, 10, 6, 7, 11, 15]\n",
      "77 ) MCTS conf: 7.36 , det: 0.3 | LTL [---]  LDBA [ 0.11 ] path: [0, 0, 1, 0, 1, 5, 4, 4, 5, 9, 10, 11, 11, 10, 11, 7, 7, 6, 10, 9, 8, 8, 9, 13, 17]\n",
      "78 ) MCTS conf: 5.94 , det: 0.47 | LTL [---]  LDBA [ 0.09 ] path: [1, 5, 9, 8, 4, 0, 1, 5, 9, 10, 9, 10, 14, 10, 11, 10, 14, 13, 14, 13, 17, 18, 14, 10, 6]\n",
      "79 ) MCTS conf: 8.05 , det: 0.37 | LTL [---]  LDBA [ 0.03 ] path: [4, 5, 6, 10, 14, 13, 17, 13, 14, 10, 6, 2, 1, 1, 1, 1, 5, 6, 10, 9, 8, 8, 12, 8, 12]\n",
      "80 ) MCTS conf: 9.43 , det: 0.41 | LTL [---]  LDBA [ 0.07 ] path: [11, 10, 11, 15, 15, 19, 15, 19, 19, 18, 19, 15, 14, 13, 17, 18, 14, 10, 6, 2, 1, 1, 0, 0, 0]\n",
      "81 ) MCTS conf: 5.95 , det: 0.47 | LTL [---]  LDBA [ 0.06 ] path: [1, 5, 4, 4, 8, 8, 4, 5, 9, 10, 9, 13, 17, 13, 9, 10, 6, 2, 6, 5, 1, 1, 2, 2, 1]\n",
      "82 ) MCTS conf: 8.59 , det: 0.41 | LTL [---]  LDBA [ 0.11 ] path: [11, 11, 11, 7, 6, 5, 9, 13, 9, 10, 14, 13, 14, 13, 9, 5, 1, 5, 9, 10, 14, 15, 14, 13, 17]\n",
      "83 ) MCTS conf: 11.84 , det: 0.37 | LTL [---]  LDBA [ 0.11 ] path: [4, 8, 4, 0, 1, 5, 6, 7, 7, 6, 10, 11, 7, 6, 7, 7, 7, 11, 10, 9, 5, 9, 8, 8, 4]\n",
      "84 ) MCTS conf: 4.05 , det: 0.53 | LTL [---]  LDBA [ 0.06 ] path: [7, 6, 5, 4, 5, 9, 8, 8, 9, 13, 14, 13, 17, 18, 14, 10, 6, 2, 6, 7, 11, 15, 14, 18, 17]\n",
      "85 ) MCTS conf: 16.72 , det: 0.51 | LTL [---]  LDBA [ 0.03 ] path: [1, 5, 9, 8, 9, 13, 17, 18, 14, 10, 6, 2, 1, 5, 6, 5, 4, 5, 1, 0, 4, 8, 9, 5, 1]\n",
      "86 ) MCTS conf: 5.79 , det: 0.55 | LTL [---]  LDBA [ 0.04 ] path: [14, 18, 19, 18, 14, 18, 14, 13, 17, 18, 14, 10, 6, 2, 1, 1, 1, 2, 2, 1, 1, 1, 1, 1, 1]\n",
      "87 ) MCTS conf: 12.5 , det: 0.36 | LTL [---]  LDBA [ 0.04 ] path: [5, 1, 5, 9, 8, 8, 9, 13, 17, 18, 14, 10, 6, 2, 6, 5, 9, 10, 6, 7, 11, 10, 11, 11, 15]\n",
      "88 ) MCTS conf: 10.14 , det: 0.4 | LTL [---]  LDBA [ 0.01 ] path: [13, 17, 18, 14, 10, 6, 2, 1, 1, 5, 1, 1, 1, 5, 9, 13, 12, 12, 16, 16, 16, 16, 16, 16, 16]\n",
      "89 ) MCTS conf: 3.65 , det: 0.53 | LTL [---]  LDBA [ 0.11 ] path: [7, 11, 11, 10, 11, 7, 7, 6, 10, 14, 10, 9, 8, 8, 9, 5, 6, 7, 7, 6, 10, 6, 10, 11, 7]\n",
      "90 ) MCTS conf: 9.21 , det: 0.54 | LTL [---]  LDBA [ 0.02 ] path: [14, 10, 14, 13, 17, 18, 14, 10, 6, 2, 1, 5, 6, 10, 9, 13, 12, 8, 9, 5, 1, 1, 1, 1, 1]\n",
      "91 ) MCTS conf: 9.85 , det: 0.42 | LTL [---]  LDBA [ 0.11 ] path: [8, 9, 10, 9, 8, 8, 9, 10, 11, 15, 15, 19, 19, 18, 18, 14, 13, 9, 8, 8, 9, 10, 11, 10, 11]\n",
      "92 ) MCTS conf: 7.5 , det: 0.6 | LTL [---]  LDBA [ 0.02 ] path: [6, 10, 14, 13, 17, 18, 14, 10, 6, 2, 1, 5, 4, 0, 0, 4, 0, 0, 0, 4, 5, 9, 5, 1, 5]\n",
      "93 ) MCTS conf: 8.89 , det: 0.59 | LTL [---]  LDBA [ 0.05 ] path: [6, 10, 11, 15, 15, 11, 11, 10, 14, 13, 17, 18, 14, 10, 6, 2, 1, 5, 1, 0, 0, 0, 4, 5, 1]\n",
      "94 ) MCTS conf: 15.73 , det: 0.86 | LTL [---]  LDBA [ 0.05 ] path: [18, 19, 19, 19, 19, 15, 19, 18, 14, 13, 17, 18, 14, 10, 6, 2, 1, 1, 0, 0, 0, 0, 4, 4, 4]\n",
      "95 ) MCTS conf: 10.54 , det: 0.36 | LTL [---]  LDBA [ 0.04 ] path: [5, 1, 0, 1, 5, 6, 10, 9, 8, 12, 8, 4, 0, 1, 2, 1, 0, 0, 4, 0, 1, 5, 6, 2, 6]\n",
      "96 ) MCTS conf: 12.27 , det: 0.34 | LTL [---]  LDBA [ 0.11 ] path: [5, 1, 1, 0, 0, 4, 0, 1, 5, 9, 8, 8, 4, 0, 1, 5, 6, 10, 11, 7, 7, 6, 10, 9, 8]\n",
      "97 ) MCTS conf: 6.97 , det: 0.41 | LTL [---]  LDBA [ 0.08 ] path: [13, 9, 10, 9, 8, 8, 4, 5, 9, 5, 9, 10, 14, 15, 14, 18, 14, 13, 17, 18, 19, 15, 14, 10, 6]\n",
      "98 ) MCTS conf: 8.49 , det: 0.58 | LTL [---]  LDBA [ 0.11 ] path: [10, 14, 15, 19, 15, 11, 11, 10, 11, 7, 11, 15, 11, 7, 7, 6, 10, 9, 8, 8, 4, 4, 0, 0, 0]\n",
      "99 ) MCTS conf: 3.21 , det: 0.68 | LTL [---]  LDBA [ 0.07 ] path: [9, 8, 4, 0, 1, 0, 1, 5, 6, 10, 11, 15, 14, 13, 17, 13, 9, 10, 6, 2, 1, 5, 1, 5, 4]\n",
      "100 ) MCTS conf: 5.66 , det: 0.28 | LTL [---]  LDBA [ 0.11 ] path: [19, 19, 18, 14, 18, 19, 19, 15, 15, 19, 19, 19, 18, 14, 13, 9, 8, 8, 9, 5, 9, 10, 14, 15, 15]\n",
      "101 ) MCTS conf: 14.43 , det: 0.39 | LTL [---]  LDBA [ 0.04 ] path: [4, 8, 8, 8, 9, 10, 14, 13, 17, 18, 14, 10, 6, 2, 1, 2, 6, 5, 1, 1, 1, 1, 1, 1, 1]\n",
      "102 ) MCTS conf: 12.66 , det: 0.57 | LTL [---]  LDBA [ 0.05 ] path: [10, 6, 7, 6, 10, 9, 8, 8, 9, 13, 17, 18, 14, 10, 6, 2, 6, 5, 1, 5, 6, 2, 2, 1, 1]\n",
      "103 ) MCTS conf: 13.47 , det: 0.41 | LTL [---]  LDBA [ 0.09 ] path: [13, 14, 18, 14, 15, 11, 11, 15, 15, 19, 19, 19, 19, 15, 15, 19, 18, 19, 19, 18, 17, 18, 14, 10, 6]\n",
      "104 ) MCTS conf: 7.62 , det: 0.68 | LTL [---]  LDBA [ 0.02 ] path: [9, 13, 14, 13, 17, 18, 19, 15, 19, 19, 15, 14, 10, 6, 2, 1, 1, 5, 9, 13, 9, 13, 17, 18, 14]\n",
      "105 ) MCTS conf: 8.83 , det: 0.54 | LTL [---]  LDBA [ 0.05 ] path: [7, 7, 11, 15, 15, 11, 7, 11, 10, 9, 10, 9, 8, 12, 16, 12, 12, 16, 16, 16, 16, 16, 16, 16, 16]\n",
      "106 ) MCTS conf: -1.26 , det: 0.37 | LTL [---]  LDBA [ 0.02 ] path: [16, 16, 16, 16, 16, 17, 18, 14, 10, 6, 2, 1, 1, 0, 1, 2, 2, 1, 1, 1, 1, 1, 1, 1, 1]\n",
      "107 ) MCTS conf: 1.05 , det: 0.36 | LTL [---]  LDBA [ 0.02 ] path: [16, 16, 16, 16, 16, 16, 12, 12, 13, 9, 8, 4, 5, 1, 1, 1, 1, 1, 1, 1, 1, 1, 1, 1, 1]\n",
      "108 ) MCTS conf: 8.54 , det: 0.58 | LTL [---]  LDBA [ 0.06 ] path: [10, 6, 5, 6, 10, 9, 8, 8, 9, 13, 14, 13, 17, 18, 14, 10, 6, 2, 6, 5, 1, 1, 1, 5, 9]\n",
      "109 ) MCTS conf: 12.52 , det: 0.33 | LTL [---]  LDBA [ 0.11 ] path: [5, 6, 10, 9, 8, 8, 4, 0, 0, 4, 0, 0, 4, 4, 8, 4, 0, 1, 5, 6, 10, 9, 8, 8, 4]\n",
      "110 ) MCTS conf: 10.48 , det: 0.59 | LTL [---]  LDBA [ 0.11 ] path: [10, 6, 10, 9, 13, 9, 5, 4, 8, 8, 9, 10, 14, 15, 15, 19, 18, 18, 14, 15, 15, 19, 15, 15, 15]\n",
      "111 ) MCTS conf: 15.7 , det: 0.37 | LTL [---]  LDBA [ 0.03 ] path: [4, 4, 8, 8, 9, 13, 17, 18, 14, 10, 6, 2, 1, 1, 5, 9, 13, 14, 13, 12, 13, 9, 8, 12, 16]\n",
      "112 ) MCTS conf: 4.04 , det: 0.86 | LTL [+++]  LDBA [ 0.09 ] path: [18, 19, 15, 19, 19, 19, 19, 15, 15, 11, 15, 14, 13, 9, 8, 8, 9, 13, 17, 18, 14, 10, 6, 2, 1]\n",
      "113 ) MCTS conf: 5.27 , det: 0.37 | LTL [---]  LDBA [ 0.03 ] path: [15, 15, 19, 18, 14, 13, 17, 18, 14, 10, 6, 2, 1, 0, 0, 0, 0, 1, 2, 2, 1, 1, 0, 0, 0]\n",
      "114 ) MCTS conf: 16.77 , det: 0.62 | LTL [---]  LDBA [ 0.11 ] path: [10, 14, 10, 9, 8, 4, 4, 8, 4, 4, 0, 0, 1, 0, 1, 0, 1, 1, 5, 6, 10, 14, 13, 9, 8]\n",
      "115 ) MCTS conf: 7.69 , det: 0.54 | LTL [---]  LDBA [ 0.05 ] path: [1, 1, 5, 4, 4, 5, 1, 5, 9, 13, 17, 18, 14, 10, 6, 2, 1, 0, 1, 1, 5, 4, 8, 9, 13]\n",
      "116 ) MCTS conf: 17.74 , det: 0.28 | LTL [---]  LDBA [ 0.11 ] path: [19, 15, 19, 19, 19, 19, 19, 18, 14, 10, 14, 15, 15, 19, 19, 19, 19, 15, 11, 15, 15, 19, 18, 19, 19]\n",
      "117 ) MCTS conf: 8.9 , det: 0.6 | LTL [---]  LDBA [ 0.08 ] path: [6, 10, 14, 18, 14, 15, 15, 19, 19, 18, 19, 15, 14, 15, 14, 13, 17, 18, 14, 10, 6, 2, 1, 2, 1]\n",
      "118 ) MCTS conf: 4.51 , det: 0.67 | LTL [---]  LDBA [ 0.02 ] path: [9, 13, 14, 13, 17, 18, 14, 10, 6, 2, 1, 1, 1, 2, 1, 1, 1, 1, 1, 1, 1, 1, 1, 1, 1]\n",
      "119 ) MCTS conf: 9.64 , det: 0.32 | LTL [---]  LDBA [ 0.06 ] path: [5, 9, 10, 9, 5, 9, 8, 8, 9, 10, 14, 13, 17, 18, 19, 15, 14, 10, 6, 2, 1, 0, 0, 4, 8]\n",
      "120 ) MCTS conf: 7.12 , det: 0.54 | LTL [---]  LDBA [ 0.09 ] path: [1, 1, 5, 9, 8, 8, 4, 0, 0, 0, 1, 5, 9, 5, 9, 10, 14, 10, 14, 13, 17, 18, 14, 10, 6]\n",
      "121 ) MCTS conf: 8.03 , det: 0.86 | LTL [---]  LDBA [ 0.04 ] path: [18, 18, 19, 19, 19, 15, 14, 13, 17, 18, 14, 10, 6, 2, 6, 2, 1, 1, 1, 1, 1, 1, 1, 1, 1]\n",
      "122 ) MCTS conf: 7.76 , det: 0.67 | LTL [---]  LDBA [ 0.09 ] path: [9, 13, 14, 15, 15, 19, 19, 15, 14, 18, 19, 18, 19, 18, 19, 19, 19, 15, 14, 13, 17, 18, 14, 10, 6]\n",
      "123 ) MCTS conf: 9.23 , det: 0.54 | LTL [---]  LDBA [ 0.11 ] path: [14, 10, 9, 10, 11, 7, 7, 6, 10, 9, 8, 8, 8, 8, 4, 5, 9, 10, 11, 15, 15, 14, 13, 14, 13]\n",
      "124 ) MCTS conf: 9.49 , det: 0.62 | LTL [---]  LDBA [ 0.02 ] path: [10, 14, 18, 14, 13, 12, 13, 14, 13, 14, 10, 11, 11, 7, 6, 2, 6, 10, 14, 15, 14, 10, 14, 18, 17]\n",
      "125 ) MCTS conf: 17.18 , det: 0.37 | LTL [---]  LDBA [ 0.11 ] path: [15, 11, 11, 15, 15, 19, 19, 18, 19, 15, 19, 15, 15, 15, 14, 15, 15, 19, 19, 19, 19, 18, 19, 18, 17]\n",
      "126 ) MCTS conf: 16.29 , det: 0.41 | LTL [---]  LDBA [ 0.08 ] path: [11, 11, 11, 15, 15, 11, 15, 11, 10, 9, 8, 8, 4, 5, 9, 10, 14, 13, 17, 18, 19, 15, 14, 10, 6]\n",
      "127 ) MCTS conf: 8.19 , det: 0.32 | LTL [---]  LDBA [ 0.05 ] path: [5, 6, 5, 9, 8, 8, 9, 10, 14, 13, 17, 18, 14, 10, 6, 2, 1, 5, 9, 13, 17, 18, 14, 10, 6]\n",
      "128 ) MCTS conf: 9.06 , det: 0.32 | LTL [---]  LDBA [ 0.05 ] path: [5, 9, 5, 9, 8, 8, 9, 10, 14, 13, 17, 18, 14, 10, 6, 2, 6, 10, 11, 7, 7, 7, 11, 11, 15]\n",
      "129 ) MCTS conf: 18.0 , det: 0.4 | LTL [---]  LDBA [ 0.11 ] path: [11, 11, 15, 11, 11, 15, 15, 11, 10, 9, 13, 9, 8, 8, 9, 5, 6, 7, 7, 6, 10, 9, 8, 8, 4]\n",
      "130 ) MCTS conf: 8.08 , det: 0.32 | LTL [---]  LDBA [ 0.11 ] path: [5, 4, 4, 0, 1, 5, 4, 5, 9, 10, 11, 7, 7, 6, 10, 9, 8, 8, 9, 5, 9, 5, 6, 10, 6]\n",
      "131 ) MCTS conf: 6.85 , det: 0.66 | LTL [---]  LDBA [ 0.02 ] path: [9, 13, 14, 13, 17, 18, 14, 10, 6, 2, 6, 7, 11, 10, 14, 10, 6, 7, 11, 7, 11, 15, 15, 15, 11]\n",
      "132 ) MCTS conf: 4.72 , det: 0.41 | LTL [---]  LDBA [ 0.11 ] path: [8, 4, 5, 1, 0, 0, 1, 5, 6, 7, 7, 6, 10, 9, 8, 8, 9, 5, 6, 5, 9, 10, 14, 15, 15]\n",
      "133 ) MCTS conf: 14.24 , det: 0.49 | LTL [---]  LDBA [ 0.11 ] path: [7, 11, 15, 19, 19, 15, 14, 15, 11, 15, 15, 11, 7, 6, 10, 9, 8, 8, 4, 5, 4, 5, 9, 10, 14]\n",
      "134 ) MCTS conf: 14.67 , det: 0.29 | LTL [---]  LDBA [ 0.1 ] path: [19, 15, 19, 18, 18, 19, 19, 15, 15, 11, 7, 6, 10, 9, 8, 8, 9, 10, 11, 15, 19, 18, 17, 18, 14]\n",
      "135 ) MCTS conf: 8.62 , det: 0.4 | LTL [---]  LDBA [ 0.06 ] path: [11, 15, 11, 15, 15, 14, 18, 18, 14, 15, 14, 13, 17, 18, 14, 15, 14, 10, 6, 2, 1, 5, 1, 0, 1]\n",
      "136 ) MCTS conf: 6.87 , det: 0.39 | LTL [---]  LDBA [ 0.07 ] path: [11, 11, 15, 11, 11, 7, 7, 11, 15, 11, 11, 10, 14, 13, 17, 18, 19, 15, 14, 10, 6, 2, 1, 0, 0]\n",
      "137 ) MCTS conf: 6.4 , det: 0.49 | LTL [---]  LDBA [ 0.05 ] path: [7, 6, 10, 9, 8, 8, 9, 10, 14, 13, 17, 18, 14, 10, 6, 2, 1, 2, 2, 1, 1, 1, 1, 1, 1]\n",
      "138 ) MCTS conf: 0.52 , det: 0.36 | LTL [---]  LDBA [ 0.01 ] path: [16, 17, 18, 14, 10, 6, 2, 6, 10, 6, 2, 6, 5, 1, 1, 1, 1, 1, 1, 1, 1, 1, 1, 1, 1]\n",
      "139 ) MCTS conf: 12.44 , det: 0.42 | LTL [---]  LDBA [ 0.02 ] path: [13, 14, 18, 18, 17, 18, 14, 10, 6, 2, 1, 0, 1, 0, 0, 1, 0, 1, 1, 5, 6, 5, 9, 13, 17]\n",
      "140 ) MCTS conf: 17.26 , det: 0.57 | LTL [---]  LDBA [ 0.07 ] path: [14, 18, 14, 15, 15, 19, 15, 11, 15, 19, 19, 18, 14, 13, 17, 18, 14, 10, 6, 2, 6, 10, 9, 13, 17]\n",
      "141 ) MCTS conf: 10.23 , det: 0.66 | LTL [---]  LDBA [ 0.02 ] path: [9, 13, 14, 13, 17, 18, 14, 10, 6, 2, 6, 10, 6, 7, 6, 5, 1, 2, 6, 10, 14, 10, 14, 10, 14]\n",
      "142 ) MCTS conf: 9.73 , det: 0.61 | LTL [---]  LDBA [ 0.09 ] path: [10, 14, 18, 18, 18, 14, 13, 9, 8, 8, 4, 0, 1, 5, 9, 10, 14, 13, 14, 13, 17, 18, 14, 10, 6]\n",
      "143 ) MCTS conf: 5.05 , det: 0.42 | LTL [---]  LDBA [ 0.01 ] path: [13, 9, 13, 17, 17, 18, 14, 10, 6, 2, 1, 5, 6, 2, 2, 1, 1, 1, 1, 1, 1, 1, 1, 1, 1]\n",
      "144 ) MCTS conf: 17.09 , det: 0.56 | LTL [---]  LDBA [ 0.11 ] path: [10, 11, 7, 6, 10, 9, 8, 8, 8, 8, 9, 10, 14, 13, 14, 15, 15, 11, 11, 7, 7, 6, 10, 9, 8]\n",
      "145 ) MCTS conf: 17.93 , det: 0.34 | LTL [---]  LDBA [ 0.06 ] path: [5, 9, 13, 9, 8, 8, 9, 10, 14, 13, 14, 13, 17, 18, 14, 10, 6, 2, 1, 1, 0, 0, 4, 5, 9]\n",
      "146 ) MCTS conf: 6.53 , det: 0.66 | LTL [---]  LDBA [ 0.11 ] path: [9, 13, 9, 10, 11, 15, 15, 11, 10, 9, 8, 8, 9, 5, 6, 10, 11, 7, 7, 6, 10, 9, 8, 8, 4]\n",
      "147 ) MCTS conf: 3.88 , det: 0.66 | LTL [+++]  LDBA [ 0.09 ] path: [9, 13, 14, 15, 15, 19, 19, 15, 15, 19, 19, 19, 19, 19, 19, 18, 14, 13, 17, 18, 14, 10, 6, 2, 1]\n",
      "148 ) MCTS conf: 16.46 , det: 0.4 | LTL [---]  LDBA [ 0.06 ] path: [4, 4, 0, 1, 5, 9, 8, 8, 9, 10, 14, 13, 17, 18, 14, 10, 6, 2, 6, 10, 11, 15, 14, 13, 17]\n",
      "149 ) MCTS conf: 12.86 , det: 0.86 | LTL [---]  LDBA [ 0.1 ] path: [18, 19, 15, 19, 19, 18, 14, 15, 15, 14, 15, 19, 19, 15, 15, 14, 13, 14, 18, 14, 13, 9, 8, 12, 16]\n",
      "150 ) MCTS conf: 8.39 , det: 0.3 | LTL [---]  LDBA [ 0.11 ] path: [0, 4, 5, 9, 8, 8, 4, 5, 9, 10, 11, 7, 7, 6, 10, 6, 10, 11, 15, 14, 13, 14, 13, 9, 8]\n",
      "151 ) MCTS conf: 6.59 , det: 0.53 | LTL [---]  LDBA [ 0.08 ] path: [1, 1, 5, 6, 5, 4, 0, 1, 5, 9, 8, 8, 4, 5, 9, 13, 17, 18, 14, 10, 6, 2, 6, 5, 6]\n",
      "152 ) MCTS conf: 14.2 , det: 0.87 | LTL [---]  LDBA [ 0.1 ] path: [18, 14, 10, 14, 15, 11, 10, 9, 8, 4, 5, 6, 10, 9, 8, 8, 9, 10, 11, 15, 14, 13, 17, 18, 14]\n",
      "153 ) MCTS conf: 6.91 , det: 0.5 | LTL [---]  LDBA [ 0.11 ] path: [7, 7, 11, 7, 7, 6, 10, 14, 13, 9, 10, 6, 10, 9, 8, 4, 0, 1, 5, 6, 10, 9, 8, 8, 9]\n",
      "154 ) MCTS conf: 16.49 , det: 0.3 | LTL [---]  LDBA [ 0.06 ] path: [19, 18, 19, 18, 19, 18, 19, 18, 18, 18, 14, 13, 17, 18, 14, 10, 6, 2, 6, 7, 6, 5, 9, 13, 17]\n",
      "155 ) MCTS conf: 5.0 , det: 0.57 | LTL [---]  LDBA [ 0.08 ] path: [14, 18, 14, 15, 15, 11, 7, 11, 15, 11, 15, 11, 11, 15, 14, 13, 17, 18, 14, 10, 6, 2, 6, 7, 7]\n",
      "156 ) MCTS conf: 13.16 , det: 0.36 | LTL [---]  LDBA [ 0.05 ] path: [15, 15, 15, 11, 11, 15, 15, 19, 19, 18, 17, 18, 14, 10, 6, 2, 1, 5, 4, 8, 12, 13, 12, 16, 16]\n",
      "157 ) MCTS conf: 13.64 , det: 0.4 | LTL [---]  LDBA [ 0.02 ] path: [11, 15, 19, 18, 17, 18, 14, 10, 6, 2, 1, 0, 4, 4, 5, 4, 8, 9, 13, 17, 17, 18, 14, 10, 6]\n",
      "158 ) MCTS conf: 15.98 , det: 0.28 | LTL [---]  LDBA [ 0.11 ] path: [19, 19, 18, 14, 13, 9, 13, 14, 13, 9, 8, 8, 9, 10, 11, 10, 14, 15, 15, 11, 15, 19, 19, 18, 17]\n",
      "159 ) MCTS conf: 16.79 , det: 0.28 | LTL [---]  LDBA [ 0.05 ] path: [19, 19, 19, 15, 19, 18, 14, 18, 19, 18, 17, 18, 14, 10, 6, 2, 1, 5, 1, 5, 4, 8, 12, 13, 9]\n",
      "160 ) MCTS conf: 16.4 , det: 0.54 | LTL [---]  LDBA [ 0.11 ] path: [7, 11, 10, 14, 13, 9, 8, 8, 4, 0, 1, 5, 6, 7, 7, 11, 11, 7, 7, 6, 10, 9, 8, 8, 4]\n",
      "161 ) MCTS conf: 17.41 , det: 0.28 | LTL [---]  LDBA [ 0.07 ] path: [19, 19, 18, 14, 10, 9, 8, 8, 9, 10, 14, 15, 14, 13, 17, 18, 14, 10, 6, 2, 6, 10, 14, 10, 6]\n",
      "162 ) MCTS conf: 6.99 , det: 0.3 | LTL [---]  LDBA [ 0.09 ] path: [0, 0, 0, 0, 0, 0, 1, 5, 9, 10, 11, 15, 15, 19, 19, 19, 19, 18, 19, 18, 17, 18, 14, 10, 6]\n",
      "163 ) MCTS conf: 6.13 , det: 0.66 | LTL [---]  LDBA [ 0.11 ] path: [9, 13, 14, 15, 15, 11, 11, 15, 15, 11, 11, 7, 7, 6, 10, 11, 7, 11, 11, 7, 7, 6, 10, 9, 8]\n",
      "164 ) MCTS conf: 9.06 , det: 0.36 | LTL [---]  LDBA [ 0.08 ] path: [15, 11, 15, 11, 11, 15, 15, 11, 10, 9, 8, 8, 9, 10, 14, 13, 17, 18, 14, 10, 6, 2, 1, 5, 6]\n",
      "165 ) MCTS conf: 12.03 , det: 0.3 | LTL [---]  LDBA [ 0.02 ] path: [0, 4, 5, 9, 8, 12, 13, 9, 5, 6, 7, 6, 2, 1, 1, 1, 2, 2, 1, 1, 1, 1, 1, 1, 1]\n",
      "166 ) MCTS conf: 7.9 , det: 0.66 | LTL [---]  LDBA [ 0.11 ] path: [9, 8, 4, 5, 4, 5, 6, 7, 7, 6, 10, 9, 8, 8, 4, 0, 1, 5, 6, 10, 11, 11, 11, 11, 7]\n",
      "167 ) MCTS conf: 17.19 , det: 0.29 | LTL [---]  LDBA [ 0.05 ] path: [19, 19, 18, 19, 19, 15, 15, 19, 19, 18, 17, 18, 14, 10, 6, 2, 1, 5, 9, 5, 9, 10, 11, 15, 11]\n",
      "168 ) MCTS conf: 12.97 , det: 0.34 | LTL [---]  LDBA [ 0.05 ] path: [5, 9, 10, 9, 8, 8, 9, 10, 14, 13, 17, 18, 14, 10, 6, 2, 1, 1, 5, 6, 5, 9, 8, 12, 8]\n",
      "169 ) MCTS conf: 9.68 , det: 0.36 | LTL [---]  LDBA [ 0.03 ] path: [15, 11, 15, 11, 10, 6, 10, 9, 8, 12, 16, 12, 13, 9, 5, 1, 1, 1, 1, 1, 1, 1, 1, 1, 1]\n",
      "170 ) MCTS conf: 6.48 , det: 0.29 | LTL [---]  LDBA [ 0.08 ] path: [19, 15, 15, 11, 7, 6, 10, 9, 8, 8, 9, 10, 11, 10, 14, 13, 17, 18, 14, 10, 6, 2, 6, 10, 14]\n",
      "171 ) MCTS conf: 13.87 , det: 0.47 | LTL [---]  LDBA [ 0.11 ] path: [13, 14, 15, 19, 19, 18, 19, 18, 18, 18, 18, 14, 15, 19, 15, 19, 19, 18, 18, 19, 19, 19, 18, 19, 19]\n",
      "172 ) MCTS conf: 5.06 , det: 0.3 | LTL [---]  LDBA [ 0.07 ] path: [0, 1, 5, 4, 5, 9, 8, 8, 9, 10, 14, 15, 14, 13, 17, 18, 14, 10, 6, 2, 1, 0, 1, 0, 0]\n",
      "173 ) MCTS conf: 16.71 , det: 0.31 | LTL [---]  LDBA [ 0.11 ] path: [0, 0, 0, 1, 1, 5, 9, 10, 11, 15, 15, 14, 13, 9, 8, 4, 8, 8, 4, 5, 6, 10, 14, 13, 17]\n",
      "174 ) MCTS conf: 9.14 , det: 0.34 | LTL [---]  LDBA [ 0.11 ] path: [5, 6, 5, 9, 8, 8, 9, 10, 14, 15, 15, 14, 15, 19, 19, 19, 19, 19, 15, 15, 15, 19, 19, 15, 14]\n",
      "175 ) MCTS conf: -0.27 , det: 0.37 | LTL [---]  LDBA [ 0.01 ] path: [16, 12, 16, 16, 16, 17, 18, 18, 14, 10, 6, 2, 1, 5, 4, 4, 5, 9, 13, 17, 17, 18, 14, 10, 6]\n",
      "176 ) MCTS conf: 14.87 , det: 0.43 | LTL [---]  LDBA [ 0.11 ] path: [4, 4, 5, 9, 8, 4, 0, 4, 5, 9, 8, 8, 9, 10, 14, 15, 15, 19, 15, 11, 10, 9, 13, 9, 8]\n",
      "177 ) MCTS conf: 9.28 , det: 0.36 | LTL [---]  LDBA [ 0.05 ] path: [15, 15, 15, 19, 19, 15, 15, 15, 14, 13, 17, 18, 14, 10, 6, 2, 6, 10, 14, 10, 11, 11, 15, 19, 19]\n",
      "178 ) MCTS conf: 9.57 , det: 0.34 | LTL [---]  LDBA [ 0.05 ] path: [5, 9, 10, 9, 8, 8, 9, 10, 14, 13, 17, 18, 14, 10, 6, 2, 1, 5, 6, 2, 1, 1, 1, 1, 1]\n",
      "179 ) MCTS conf: 9.67 , det: 0.29 | LTL [---]  LDBA [ 0.04 ] path: [19, 15, 15, 11, 15, 19, 19, 18, 17, 18, 14, 10, 6, 2, 1, 2, 2, 1, 1, 1, 1, 1, 1, 1, 1]\n",
      "180 ) MCTS conf: 8.66 , det: 0.41 | LTL [---]  LDBA [ 0.11 ] path: [8, 9, 13, 14, 10, 9, 8, 8, 9, 10, 11, 10, 14, 13, 9, 10, 11, 15, 15, 11, 11, 15, 15, 14, 18]\n",
      "181 ) MCTS conf: 9.57 , det: 0.42 | LTL [---]  LDBA [ 0.05 ] path: [8, 4, 5, 9, 8, 8, 9, 10, 14, 13, 17, 18, 14, 10, 6, 2, 1, 5, 4, 5, 9, 10, 6, 2, 1]\n",
      "182 ) MCTS conf: 14.78 , det: 0.47 | LTL [---]  LDBA [ 0.09 ] path: [13, 9, 10, 9, 8, 8, 9, 10, 11, 7, 7, 6, 7, 6, 10, 9, 8, 4, 4, 0, 1, 2, 6, 10, 9]\n",
      "183 ) MCTS conf: -0.49 , det: 0.37 | LTL [---]  LDBA [ 0.02 ] path: [16, 17, 13, 9, 10, 6, 2, 1, 5, 9, 13, 17, 18, 14, 10, 6, 2, 6, 5, 1, 5, 9, 5, 9, 13]\n",
      "184 ) MCTS conf: 13.41 , det: 0.51 | LTL [---]  LDBA [ 0.11 ] path: [1, 5, 6, 10, 14, 15, 15, 11, 11, 7, 7, 6, 10, 11, 7, 6, 10, 11, 11, 7, 7, 6, 10, 14, 13]\n",
      "185 ) MCTS conf: 1.24 , det: 0.37 | LTL [---]  LDBA [ 0.01 ] path: [16, 17, 16, 16, 17, 18, 14, 10, 6, 2, 6, 10, 11, 15, 11, 15, 15, 14, 10, 14, 10, 14, 10, 14, 18]\n",
      "186 ) MCTS conf: 8.69 , det: 0.56 | LTL [---]  LDBA [ 0.1 ] path: [10, 14, 13, 9, 13, 9, 8, 8, 9, 13, 14, 15, 15, 19, 15, 11, 10, 9, 8, 8, 9, 13, 17, 18, 14]\n",
      "187 ) MCTS conf: 5.33 , det: 0.29 | LTL [---]  LDBA [ 0.02 ] path: [19, 15, 19, 18, 17, 18, 14, 10, 6, 2, 1, 0, 0, 1, 5, 4, 0, 1, 5, 6, 10, 9, 5, 9, 8]\n",
      "188 ) MCTS conf: 8.2 , det: 0.36 | LTL [---]  LDBA [ 0.06 ] path: [15, 19, 15, 19, 19, 15, 19, 19, 19, 15, 14, 13, 17, 18, 14, 10, 6, 2, 6, 5, 6, 7, 11, 7, 11]\n",
      "189 ) MCTS conf: 7.97 , det: 0.29 | LTL [---]  LDBA [ 0.11 ] path: [19, 19, 19, 18, 18, 18, 19, 15, 15, 11, 10, 9, 8, 8, 9, 10, 14, 15, 15, 11, 11, 10, 6, 10, 14]\n",
      "190 ) MCTS conf: 10.24 , det: 0.87 | LTL [---]  LDBA [ 0.06 ] path: [18, 19, 15, 19, 19, 18, 14, 18, 19, 18, 14, 13, 17, 18, 14, 10, 6, 2, 1, 1, 5, 9, 13, 17, 17]\n",
      "191 ) MCTS conf: 7.21 , det: 0.42 | LTL [---]  LDBA [ 0.09 ] path: [8, 4, 5, 1, 5, 9, 8, 8, 9, 10, 14, 15, 19, 18, 18, 19, 19, 18, 14, 13, 17, 18, 14, 10, 6]\n",
      "192 ) MCTS conf: 8.85 , det: 0.42 | LTL [---]  LDBA [ 0.06 ] path: [8, 4, 0, 0, 1, 5, 9, 10, 14, 13, 14, 13, 17, 18, 14, 10, 6, 2, 1, 5, 1, 0, 1, 5, 4]\n",
      "193 ) MCTS conf: 18.0 , det: 0.44 | LTL [---]  LDBA [ 0.06 ] path: [8, 9, 5, 4, 5, 9, 8, 8, 9, 10, 14, 13, 17, 18, 14, 10, 6, 2, 1, 1, 5, 9, 13, 17, 18]\n",
      "194 ) MCTS conf: 4.73 , det: 0.39 | LTL [---]  LDBA [ 0.11 ] path: [11, 11, 11, 7, 7, 6, 10, 9, 8, 8, 9, 10, 14, 15, 11, 11, 10, 9, 8, 8, 4, 5, 9, 10, 11]\n",
      "195 ) MCTS conf: 8.7 , det: 0.66 | LTL [---]  LDBA [ 0.11 ] path: [9, 8, 4, 5, 4, 0, 1, 5, 6, 7, 7, 6, 10, 9, 8, 8, 9, 10, 9, 8, 4, 4, 8, 8, 4]\n",
      "196 ) MCTS conf: 5.25 , det: 0.42 | LTL [---]  LDBA [ 0.05 ] path: [4, 5, 9, 10, 11, 15, 14, 18, 19, 18, 17, 18, 14, 10, 6, 2, 1, 2, 2, 1, 1, 1, 1, 1, 1]\n",
      "197 ) MCTS conf: 8.87 , det: 0.52 | LTL [---]  LDBA [ 0.11 ] path: [7, 11, 15, 14, 18, 19, 19, 19, 19, 15, 15, 11, 11, 15, 11, 10, 11, 15, 14, 18, 18, 14, 13, 9, 8]\n",
      "198 ) MCTS conf: 10.47 , det: 0.39 | LTL [---]  LDBA [ 0.06 ] path: [11, 11, 11, 7, 7, 6, 10, 14, 13, 9, 5, 4, 5, 9, 13, 12, 13, 12, 16, 16, 16, 16, 16, 16, 16]\n",
      "199 ) MCTS conf: 15.83 , det: 0.53 | LTL [---]  LDBA [ 0.11 ] path: [14, 15, 15, 19, 19, 19, 19, 18, 14, 15, 15, 11, 11, 7, 7, 6, 10, 9, 8, 8, 9, 10, 14, 13, 17]\n",
      "Train wins: 5 / 200\n",
      "None ) MCTS conf: 1.58 , det: 0.4 | LTL [---]  LDBA [ 0.11 ] path: [11, 11, 11, 11, 11, 11, 15, 11, 7, 6, 10, 9, 8, 9, 5, 1, 5, 9, 8, 8, 9, 10, 11, 15, 15]\n",
      "None ) MCTS conf: 5.27 , det: 0.41 | LTL [---]  LDBA [ 0.05 ] path: [13, 9, 10, 9, 8, 8, 9, 10, 14, 13, 17, 18, 14, 10, 6, 2, 6, 5, 9, 13, 14, 18, 18, 14, 10]\n",
      "None ) MCTS conf: -2.7 , det: 0.38 | LTL [---]  LDBA [ 0.04 ] path: [16, 16, 16, 16, 16, 16, 16, 16, 17, 18, 14, 10, 6, 2, 1, 0, 0, 4, 0, 0, 1, 5, 1, 1, 5]\n",
      "None ) MCTS conf: 6.88 , det: 0.6 | LTL [---]  LDBA [ 0.02 ] path: [14, 13, 17, 18, 14, 10, 6, 2, 1, 5, 1, 5, 9, 13, 17, 18, 14, 10, 6, 2, 6, 5, 9, 13, 17]\n",
      "None ) MCTS conf: 8.67 , det: 0.32 | LTL [---]  LDBA [ 0.03 ] path: [15, 15, 19, 18, 14, 13, 17, 18, 14, 10, 6, 2, 6, 10, 14, 10, 6, 10, 14, 18, 17, 18, 14, 10, 6]\n",
      "None ) MCTS conf: 8.23 , det: 0.59 | LTL [---]  LDBA [ 0.11 ] path: [14, 18, 19, 19, 19, 15, 15, 19, 18, 19, 19, 19, 18, 18, 18, 19, 18, 19, 19, 19, 19, 19, 19, 18, 18]\n",
      "None ) MCTS conf: 8.68 , det: 0.41 | LTL [---]  LDBA [ 0.02 ] path: [11, 10, 14, 13, 17, 18, 14, 10, 6, 2, 6, 10, 14, 18, 14, 15, 15, 19, 15, 14, 18, 17, 17, 18, 14]\n",
      "None ) MCTS conf: 8.13 , det: 0.65 | LTL [---]  LDBA [ 0.07 ] path: [6, 10, 11, 7, 7, 6, 10, 14, 13, 9, 8, 8, 9, 13, 17, 18, 14, 10, 6, 2, 6, 10, 14, 18, 18]\n",
      "None ) MCTS conf: 6.16 , det: 0.31 | LTL [---]  LDBA [ 0.02 ] path: [19, 18, 19, 18, 17, 18, 14, 10, 6, 2, 1, 1, 2, 6, 5, 1, 1, 1, 1, 1, 1, 1, 1, 1, 0]\n",
      "None ) MCTS conf: 8.11 , det: 0.65 | "
     ]
    }
   ],
   "source": [
    "visited_states_train = []\n",
    "visited_states_test = []\n",
    "LTL_coef = 10\n",
    "\n",
    "search_depth = 40\n",
    "MCTS_samples = 100\n",
    "\n",
    "num_training_epochs =  200\n",
    "num_test_epochs = 10\n",
    "training = True\n",
    "epochs = 5\n",
    "T = [25]\n",
    "K = 1\n",
    "batch_size = 32\n",
    "steps_per_epoch = 4\n",
    "\n",
    "success_rates = []\n",
    "succes_std = []\n",
    "win_hist = []\n",
    "train_history = []\n",
    "\n",
    "os.remove(\"Log_run.txt\")\n",
    "for i in T:\n",
    "    # TRAIN ##############################\n",
    "    train_wins = 0\n",
    "    # num_training_epochs = int(200 - 1.9*i)\n",
    "    # model = build_model(ch_states[(0,0,0,0)].shape, csrl.shape[-1])\n",
    "    N, W, Q, P, visited = np.zeros(csrl.shape), np.zeros(csrl.shape), np.zeros(csrl.shape), np.zeros(csrl.shape), set()\n",
    "    for epoch in range(num_training_epochs):\n",
    "        t1 = time.time()\n",
    "        state_history, channeled_states, trajectory, action_history, reward_history, better_policy = MC_learning(csrl, model, LTL_formula, predicates,\n",
    "                csrl.reward, ch_states, N = N, W = W, Q = Q, P = P, C=3, tow=1, n_samples=MCTS_samples, visited=visited, start=None, search_depth=search_depth,\n",
    "                verbose=0, T=i, K=K, run_num=epoch)\n",
    "        # print('N',N[(0,0,4,1)][:5])\n",
    "        visited_states_train += state_history\n",
    "        t2 = time.time()\n",
    "        # print(t2-t1, \" run episode\")\n",
    "\n",
    "        # win = check_LTL(LTL_formula, trajectory, predicates)[0]\n",
    "        if reward_history[-1]>0: train_wins+=1\n",
    "\n",
    "        if training and len(action_history)>0:\n",
    "            if epoch==0:\n",
    "                x_train = np.array(channeled_states)[:-1]\n",
    "                y1_train = np.array(better_policy)\n",
    "                y2_train = np.array(reward_history) + LTL_coef*reward_history[-1]\n",
    "                # y2_train = np.array(reward_history)\n",
    "                y2_train = y2_train[:-1]\n",
    "            else:\n",
    "                x_train = np.concatenate((x_train, np.array(channeled_states)[:-1]),0)\n",
    "                y1_train = np.concatenate((y1_train, np.array(better_policy)),0)\n",
    "                y2_train_curr = np.array(reward_history) + LTL_coef*reward_history[-1]\n",
    "                # y2_train_curr = np.array(reward_history)\n",
    "                y2_train = np.concatenate((y2_train, y2_train_curr[:-1]),0)\n",
    "            t3= time.time()\n",
    "            # print(t3-t2, \" build database\")\n",
    "            tr_hist = model.fit(x_train, [y1_train, y2_train], epochs=epochs, batch_size=batch_size,\n",
    "                                steps_per_epoch=steps_per_epoch if len(x_train)>steps_per_epoch*epochs*batch_size else None, verbose=0)\n",
    "            train_history += tr_hist.history['loss']\n",
    "        # win_hist.append(win)\n",
    "        t4 = time.time()\n",
    "        # print(t4-t3, \"fit\", len(x_train))\n",
    "    print(\"Train wins:\",train_wins,\"/\", num_training_epochs)\n",
    "\n",
    "    # TEST ##############################\n",
    "    test_wins = 0\n",
    "    N, W, Q, P, visited = np.zeros(csrl.shape), np.zeros(csrl.shape), np.zeros(csrl.shape), np.zeros(csrl.shape), set()\n",
    "    for epoch in range(num_test_epochs):\n",
    "        \n",
    "        state_history, channeled_states, trajectory, action_history, reward_history, better_policy = MC_learning(csrl, model, LTL_formula, predicates,\n",
    "                csrl.reward, ch_states, N = N, W = W, Q = Q, P = P, C=3, tow=1, n_samples=MCTS_samples, visited=visited, start=None, search_depth=search_depth, verbose=0, T=i, K=1)\n",
    "\n",
    "        # win = check_LTL(LTL_formula, trajectory, predicates)[0]\n",
    "        win = reward_history[-1]\n",
    "        if win: test_wins+=1\n",
    "        win_hist.append(win)\n",
    "        visited_states_test += state_history\n",
    "        \n",
    "    success_rates.append(100*test_wins/num_test_epochs)\n",
    "    temp = np.zeros(num_test_epochs)\n",
    "    temp[:test_wins]=1\n",
    "    std = np.sqrt(num_test_epochs*np.var(temp))\n",
    "    succes_std.append((success_rates[-1]-std, success_rates[-1]+std))\n",
    "    ###############################################################\n",
    "    print(\"Test wins:\",test_wins,\"/\",num_test_epochs)\n",
    "    # print(\"last reward:\", reward_history[-1], \"  | trajectory:\", trajectory)\n",
    "    # print(\"Actions:\", action_history)\n",
    "\n",
    "encode_visited_states_test = [i[1]*csrl.shape[-2]*csrl.shape[-3]+i[2]*csrl.shape[-2]+i[3] for i in visited_states_test]\n",
    "encode_visited_states_train = [i[1]*csrl.shape[-2]*csrl.shape[-3]+i[2]*csrl.shape[-2]+i[3] for i in visited_states_train]"
   ]
  },
  {
   "cell_type": "code",
   "execution_count": 9,
   "metadata": {},
   "outputs": [
    {
     "name": "stdout",
     "output_type": "stream",
     "text": [
      "exploration in training: 0.1\n",
      "exploration in testing: 0.04\n"
     ]
    },
    {
     "data": {
      "image/png": "[encoded data removed]",
      "text/plain": [
       "<Figure size 800x600 with 1 Axes>"
      ]
     },
     "metadata": {},
     "output_type": "display_data"
    }
   ],
   "source": [
    "plt.figure(figsize=(8,6))\n",
    "plt.hist(encode_visited_states_train, bins=range(total_number_of_states), density=True, alpha=0.5, label=\"train\")\n",
    "plt.title(\"MCTS - histogram of visited states during train and test\")\n",
    "plt.xlabel(\"space state\")\n",
    "\n",
    "plt.hist(encode_visited_states_test, bins=range(total_number_of_states), density=True, alpha=0.5, label=\"test\")\n",
    "plt.legend()\n",
    "\n",
    "print(\"exploration in training:\", round(np.unique(encode_visited_states_train).shape[0]/total_number_of_states, 2))\n",
    "print(\"exploration in testing:\", round(np.unique(encode_visited_states_test).shape[0]/total_number_of_states, 2))"
   ]
  },
  {
   "cell_type": "code",
   "execution_count": 10,
   "metadata": {},
   "outputs": [
    {
     "data": {
      "text/plain": [
       "[20.0]"
      ]
     },
     "execution_count": 10,
     "metadata": {},
     "output_type": "execute_result"
    },
    {
     "data": {
      "image/png": "[encoded data removed]",
      "text/plain": [
       "<Figure size 700x400 with 1 Axes>"
      ]
     },
     "metadata": {},
     "output_type": "display_data"
    }
   ],
   "source": [
    "succes_std = np.array(succes_std)\n",
    "\n",
    "plt.figure(figsize=(7,4))\n",
    "plt.fill_between(T, succes_std[:,0], succes_std[:,1], alpha=0.3, label=\"MCTS area of 1 STD\")\n",
    "\n",
    "plt.plot(T, success_rates)\n",
    "plt.ylim(-10, 110)\n",
    "plt.xlabel(\"length of trajectory\")\n",
    "plt.ylabel(f\"succes rate (out of {num_test_epochs} runs)\")\n",
    "plt.title(\"MCTS(sd=max) adaptive training, nursery case, P=\"+str(p))\n",
    "success_rates"
   ]
  },
  {
   "cell_type": "code",
   "execution_count": 11,
   "metadata": {},
   "outputs": [
    {
     "data": {
      "text/plain": [
       "Text(0.5, 1.0, 'training loss')"
      ]
     },
     "execution_count": 11,
     "metadata": {},
     "output_type": "execute_result"
    },
    {
     "data": {
      "image/png": "[encoded data removed]",
      "text/plain": [
       "<Figure size 700x400 with 1 Axes>"
      ]
     },
     "metadata": {},
     "output_type": "display_data"
    }
   ],
   "source": [
    "interval = 400\n",
    "plt.figure(figsize=(7,4))\n",
    "plt.plot(train_history)\n",
    "plt.title(\"training loss\")\n",
    "# plt.xticks(range(1,num_training_epochs*epochs,interval), range(0,num_training_epochs,interval//epochs));"
   ]
  },
  {
   "cell_type": "code",
   "execution_count": 12,
   "metadata": {},
   "outputs": [
    {
     "data": {
      "application/vnd.jupyter.widget-view+json": {
       "model_id": "13c090723c4949248023350e7493fd6e",
       "version_major": 2,
       "version_minor": 0
      },
      "text/plain": [
       "interactive(children=(IntSlider(value=0, description='t', max=24), Output()), _dom_classes=('widget-interact',…"
      ]
     },
     "metadata": {},
     "output_type": "display_data"
    },
    {
     "data": {
      "text/plain": [
       "<function __main__.plot_agent(t)>"
      ]
     },
     "execution_count": 12,
     "metadata": {},
     "output_type": "execute_result"
    }
   ],
   "source": [
    "from ipywidgets.widgets import IntSlider\n",
    "from ipywidgets import interact\n",
    "\n",
    "def plot_agent(t):\n",
    "    csrl.mdp.plot(agent=state_history[t][2:], save=f'test/{t}.png')\n",
    "\n",
    "t=IntSlider(value=0,min=0,max=T[-1]-1)\n",
    "interact(plot_agent,t=t)"
   ]
  },
  {
   "cell_type": "code",
   "execution_count": 13,
   "metadata": {},
   "outputs": [
    {
     "ename": "KeyboardInterrupt",
     "evalue": "",
     "output_type": "error",
     "traceback": [
      "\u001b[1;31m---------------------------------------------------------------------------\u001b[0m",
      "\u001b[1;31mKeyboardInterrupt\u001b[0m                         Traceback (most recent call last)",
      "Cell \u001b[1;32mIn[13], line 1\u001b[0m\n\u001b[1;32m----> 1\u001b[0m Q, visited_states \u001b[39m=\u001b[39mcsrl\u001b[39m.\u001b[39;49mq_learning(T\u001b[39m=\u001b[39;49m\u001b[39m100\u001b[39;49m,K\u001b[39m=\u001b[39;49m\u001b[39m100000\u001b[39;49m)\n\u001b[0;32m      3\u001b[0m policy\u001b[39m=\u001b[39mnp\u001b[39m.\u001b[39margmax(Q,axis\u001b[39m=\u001b[39m\u001b[39m4\u001b[39m)\n\u001b[0;32m      4\u001b[0m value\u001b[39m=\u001b[39mnp\u001b[39m.\u001b[39mmax(Q,axis\u001b[39m=\u001b[39m\u001b[39m4\u001b[39m)\n",
      "File \u001b[1;32mc:\\Users\\pc-admin\\OneDrive - University of Waterloo\\MSc\\research\\Code\\RL-LTL\\ComputeCanada_scrips\\csrl\\__init__.py:162\u001b[0m, in \u001b[0;36mControlSynthesis.q_learning\u001b[1;34m(self, start, T, K)\u001b[0m\n\u001b[0;32m    160\u001b[0m \u001b[39m# Observe the next state\u001b[39;00m\n\u001b[0;32m    161\u001b[0m states, probs \u001b[39m=\u001b[39m \u001b[39mself\u001b[39m\u001b[39m.\u001b[39mtransition_probs[state][action]\n\u001b[1;32m--> 162\u001b[0m next_state \u001b[39m=\u001b[39m states[np\u001b[39m.\u001b[39;49mrandom\u001b[39m.\u001b[39;49mchoice(\u001b[39mlen\u001b[39;49m(states),p\u001b[39m=\u001b[39;49mprobs)]\n\u001b[0;32m    164\u001b[0m \u001b[39m# Q-update\u001b[39;00m\n\u001b[0;32m    165\u001b[0m Q[state][action] \u001b[39m+\u001b[39m\u001b[39m=\u001b[39m alpha \u001b[39m*\u001b[39m (reward \u001b[39m+\u001b[39m gamma\u001b[39m*\u001b[39mnp\u001b[39m.\u001b[39mmax(Q[next_state]) \u001b[39m-\u001b[39m Q[state][action])\n",
      "\u001b[1;31mKeyboardInterrupt\u001b[0m: "
     ]
    }
   ],
   "source": [
    "Q, visited_states =csrl.q_learning(T=100,K=100000)\n",
    "\n",
    "policy=np.argmax(Q,axis=4)\n",
    "value=np.max(Q,axis=4)\n",
    "\n",
    "encode_visited_states = [i[1]*csrl.shape[-2]*csrl.shape[-3]+i[2]*csrl.shape[-2]+i[3] for i in visited_states]"
   ]
  },
  {
   "cell_type": "code",
   "execution_count": null,
   "metadata": {},
   "outputs": [
    {
     "name": "stdout",
     "output_type": "stream",
     "text": [
      "CSRL exploration in training: 0.34\n"
     ]
    },
    {
     "data": {
      "image/png": "[encoded data removed]",
      "text/plain": [
       "<Figure size 800x600 with 1 Axes>"
      ]
     },
     "metadata": {},
     "output_type": "display_data"
    }
   ],
   "source": [
    "plt.figure(figsize=(8,6))\n",
    "plt.hist(encode_visited_states, bins=range(total_number_of_states), density=True, alpha=0.5, label=\"train\")\n",
    "plt.title(\"CSRL - histogram of visited states during train and test\")\n",
    "plt.xlabel(\"space state\")\n",
    "\n",
    "plt.legend()\n",
    "\n",
    "print(\"CSRL exploration in training:\", round(np.unique(encode_visited_states).shape[0]/total_number_of_states, 2))"
   ]
  },
  {
   "cell_type": "code",
   "execution_count": null,
   "metadata": {},
   "outputs": [],
   "source": [
    "episode, rew =csrl.simulate(policy, LTL_formula, predicates, start=(4,1),T=100,plot=True)"
   ]
  },
  {
   "cell_type": "code",
   "execution_count": null,
   "metadata": {},
   "outputs": [
    {
     "name": "stdout",
     "output_type": "stream",
     "text": [
      "Running 200 simulations with 10 time-steps...\n",
      "Test finished with:\n",
      "\tsuccess rate: 0 / 200 = 0.0\n"
     ]
    }
   ],
   "source": [
    "rewards_mean = []\n",
    "rewards_std = []\n",
    "n_runs = 200\n",
    "\n",
    "for i in T:\n",
    "    episodes, rew = run_Q_test(csrl, policy, LTL_formula, predicates, T=i, start=(4,1), runs=n_runs, verbose=0)\n",
    "    rewards_mean.append(100*np.mean(rew))\n",
    "    rewards_std.append((rewards_mean[-1]-np.sqrt(n_runs*np.var(rew)), rewards_mean[-1]+np.sqrt(n_runs*np.var(rew))))\n",
    "rewards_std = np.array(rewards_std)"
   ]
  },
  {
   "cell_type": "code",
   "execution_count": null,
   "metadata": {},
   "outputs": [
    {
     "data": {
      "text/plain": [
       "Text(0.5, 1.0, 'CSRL performance results on the nursery case, P=1')"
      ]
     },
     "execution_count": 16,
     "metadata": {},
     "output_type": "execute_result"
    },
    {
     "data": {
      "image/png": "[encoded data removed]",
      "text/plain": [
       "<Figure size 700x400 with 1 Axes>"
      ]
     },
     "metadata": {},
     "output_type": "display_data"
    }
   ],
   "source": [
    "plt.figure(figsize=(7,4))\n",
    "plt.fill_between(T, rewards_std[:,0], rewards_std[:,1], alpha=0.3, label=\"1 STD\")\n",
    "\n",
    "plt.plot(T, rewards_mean, label=\"CSRL\")\n",
    "plt.xlabel(\"length of trajectory (T)\")\n",
    "plt.ylabel(\"succes rate\")\n",
    "plt.title(\"CSRL performance results on the nursery case, P=\"+str(p))"
   ]
  },
  {
   "cell_type": "code",
   "execution_count": null,
   "metadata": {},
   "outputs": [
    {
     "data": {
      "image/png": "[encoded data removed]",
      "text/plain": [
       "<Figure size 700x400 with 1 Axes>"
      ]
     },
     "metadata": {},
     "output_type": "display_data"
    }
   ],
   "source": [
    "plt.figure(figsize=(7,4))\n",
    "\n",
    "plt.fill_between(T, rewards_std[:,0], rewards_std[:,1], alpha=0.3)\n",
    "plt.plot(T, rewards_mean, label=\"CSRL\")\n",
    "plt.xlabel(\"length of trajectory (T)\")\n",
    "plt.ylabel(\"succes rate\")\n",
    "plt.title(\"Comparison on the nursary case\")\n",
    "# plt.title(\"Comparison on the nursary case; deterministic\")\n",
    "plt.ylim(-10, 110)\n",
    "\n",
    "plt.fill_between(T, succes_std[:,0], succes_std[:,1], alpha=0.3)\n",
    "plt.plot(T, success_rates, label=\"RL-LTL\")\n",
    "plt.legend()\n",
    "plt.savefig(f\"res_400/C2_P{p}.pdf\")"
   ]
  },
  {
   "cell_type": "code",
   "execution_count": null,
   "metadata": {},
   "outputs": [],
   "source": []
  }
 ],
 "metadata": {
  "kernelspec": {
   "display_name": "base",
   "language": "python",
   "name": "python3"
  },
  "language_info": {
   "codemirror_mode": {
    "name": "ipython",
    "version": 3
   },
   "file_extension": ".py",
   "mimetype": "text/x-python",
   "name": "python",
   "nbconvert_exporter": "python",
   "pygments_lexer": "ipython3",
   "version": "3.10.8"
  },
  "vscode": {
   "interpreter": {
    "hash": "99202338b96e74e315910b3b20b9a2b0621872c4f26ff012cceee1c9c29d9125"
   }
  }
 },
 "nbformat": 4,
 "nbformat_minor": 4
}
