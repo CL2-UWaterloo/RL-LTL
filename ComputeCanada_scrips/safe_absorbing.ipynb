{
 "cells": [
  {
   "attachments": {},
   "cell_type": "markdown",
   "metadata": {},
   "source": [
    "# Safe Absorbing States"
   ]
  },
  {
   "cell_type": "code",
   "execution_count": 1,
   "metadata": {},
   "outputs": [],
   "source": [
    "from NN import *\n",
    "from LTL import *\n",
    "from Utility_funcs import *\n",
    "\n",
    "%matplotlib inline\n",
    "from csrl.mdp import GridMDP\n",
    "from csrl.oa import OmegaAutomaton\n",
    "from csrl import ControlSynthesis\n",
    "import numpy as np\n",
    "from matplotlib import pyplot as plt\n",
    "import time\n",
    "import os\n"
   ]
  },
  {
   "cell_type": "code",
   "execution_count": 2,
   "metadata": {},
   "outputs": [
    {
     "name": "stdout",
     "output_type": "stream",
     "text": [
      "Number of Omega-automaton states (including the trap state): 4\n"
     ]
    },
    {
     "data": {
      "text/plain": [
       "<csrl.oa.OmegaAutomaton at 0x193170f8310>"
      ]
     },
     "metadata": {},
     "output_type": "display_data"
    },
    {
     "data": {
      "image/png": "[encoded data removed]",
      "text/plain": [
       "<Figure size 500x500 with 1 Axes>"
      ]
     },
     "metadata": {},
     "output_type": "display_data"
    }
   ],
   "source": [
    "# LTL Specification\n",
    "ltl = '(F G a | F G b) & G !d'\n",
    "\n",
    "# Translate the LTL formula to an LDBA\n",
    "oa = OmegaAutomaton(ltl)\n",
    "print('Number of Omega-automaton states (including the trap state):',oa.shape[1])\n",
    "display(oa)\n",
    "\n",
    "# MDP Description\n",
    "shape = (5,4)\n",
    "# E: Empty, T: Trap, B: Obstacle\n",
    "structure = np.array([\n",
    "['E',  'E',  'E',  'E'],\n",
    "['E',  'E',  'E',  'T'],\n",
    "['B',  'E',  'E',  'E'],\n",
    "['T',  'E',  'T',  'E'],\n",
    "['E',  'E',  'E',  'E']\n",
    "])\n",
    "\n",
    "# Labels of the states\n",
    "label = np.array([\n",
    "[(),       (),     ('d',),()],\n",
    "[(),       (),     ('a',),('b',)],\n",
    "[(),       (),     ('d',),()],\n",
    "[('b',),   (),     ('a',),()],\n",
    "[(),       ('d',), (),    ('d',)]\n",
    "],dtype=object)\n",
    "# Colors of the labels\n",
    "lcmap={\n",
    "    ('a',):'lightgreen',\n",
    "    ('b',):'lightgreen',\n",
    "    ('d',):'pink'\n",
    "}\n",
    "p = 1\n",
    "grid_mdp = GridMDP(shape=shape,structure=structure,label=label,lcmap=lcmap, p=p, figsize=5)  # Use figsize=4 for smaller figures\n",
    "grid_mdp.plot()\n",
    "\n",
    "# Construct the product MDP\n",
    "csrl = ControlSynthesis(grid_mdp,oa)\n",
    "max_rew = round(csrl.reward.max(), 3)\n",
    "\n",
    "s_vectors = state_vectors(csrl)\n",
    "enc = list(np.unique(grid_mdp.label))\n",
    "enc.pop(enc.index(()))\n",
    "ch_states = channeled(csrl, enc)"
   ]
  },
  {
   "cell_type": "code",
   "execution_count": 3,
   "metadata": {},
   "outputs": [
    {
     "data": {
      "text/plain": [
       "{'a': [6, 14], 'b': [7, 12], 'd': [2, 10, 17, 19]}"
      ]
     },
     "execution_count": 3,
     "metadata": {},
     "output_type": "execute_result"
    }
   ],
   "source": [
    "full_t = \"(<> [] a \\/ <> [] b) /\\ [] ~d\"\n",
    "\n",
    "LTL_formula = parser.parse(full_t)\n",
    "predicates=get_predicates(grid_mdp)\n",
    "predicates"
   ]
  },
  {
   "cell_type": "code",
   "execution_count": 4,
   "metadata": {},
   "outputs": [
    {
     "name": "stdout",
     "output_type": "stream",
     "text": [
      "Model: \"model\"\n",
      "__________________________________________________________________________________________________\n",
      " Layer (type)                   Output Shape         Param #     Connected to                     \n",
      "==================================================================================================\n",
      " input_1 (InputLayer)           [(None, 5, 4, 4)]    0           []                               \n",
      "                                                                                                  \n",
      " conv2d (Conv2D)                (None, 5, 4, 32)     544         ['input_1[0][0]']                \n",
      "                                                                                                  \n",
      " conv2d_1 (Conv2D)              (None, 5, 4, 8)      1032        ['conv2d[0][0]']                 \n",
      "                                                                                                  \n",
      " flatten (Flatten)              (None, 160)          0           ['conv2d_1[0][0]']               \n",
      "                                                                                                  \n",
      " dense (Dense)                  (None, 32)           5152        ['flatten[0][0]']                \n",
      "                                                                                                  \n",
      " dense_1 (Dense)                (None, 16)           528         ['dense[0][0]']                  \n",
      "                                                                                                  \n",
      " dense_2 (Dense)                (None, 8)            136         ['dense_1[0][0]']                \n",
      "                                                                                                  \n",
      " dense_3 (Dense)                (None, 1)            17          ['dense_1[0][0]']                \n",
      "                                                                                                  \n",
      "==================================================================================================\n",
      "Total params: 7,409\n",
      "Trainable params: 7,409\n",
      "Non-trainable params: 0\n",
      "__________________________________________________________________________________________________\n"
     ]
    }
   ],
   "source": [
    "model = build_model(ch_states[(0,0,0,0)].shape, csrl.shape[-1])\n",
    "model.summary()"
   ]
  },
  {
   "cell_type": "code",
   "execution_count": 5,
   "metadata": {},
   "outputs": [],
   "source": [
    "model(ch_states[(0,0,0,0)][np.newaxis])\n",
    "\n",
    "N, W, Q, P = np.zeros(csrl.shape), np.zeros(csrl.shape), np.zeros(csrl.shape), np.zeros(csrl.shape)"
   ]
  },
  {
   "cell_type": "code",
   "execution_count": 6,
   "metadata": {},
   "outputs": [],
   "source": [
    "# model.load_weights(f'first_case_{p}')"
   ]
  },
  {
   "cell_type": "code",
   "execution_count": 7,
   "metadata": {},
   "outputs": [
    {
     "name": "stdout",
     "output_type": "stream",
     "text": [
      "[0. 0. 0. 0.] 0\n",
      "0 ) MCTS conf: 0.69 , det: 0.92 | LTL [+++]  LDBA [ 0.23 ] path: [11, 7, 7, 7, 7, 7, 7, 7, 7, 7, 7, 7, 7, 7, 7, 7, 7, 7, 7, 7, 7, 7, 7, 7, 7]\n",
      "[0. 0. 0. 0.] 8\n",
      "1 ) MCTS conf: 0.9 , det: 0.97 | LTL [+++]  LDBA [ 0.23 ] path: [11, 7, 7, 7, 7, 7, 7, 7, 7, 7, 7, 7, 7, 7, 7, 7, 7, 7, 7, 7, 7, 7, 7, 7, 7]\n",
      "[0. 0. 0. 0.] 8\n",
      "2 ) MCTS conf: -0.08 , det: 0.87 | LTL [---]  LDBA [ 0.0 ] path: [9, 5, 1, 0, 0, 1, 5, 9, 13, 9, 13, 12, 12, 12, 12, 12, 12, 12, 12, 12, 12, 12, 12, 12, 12]\n",
      "[-0.3 -0.3 -0.3 -0.3] 36\n",
      "3 ) MCTS conf: 0.8 , det: 0.5 | LTL [+++]  LDBA [ 0.22 ] path: [5, 6, 7, 7, 7, 7, 7, 7, 7, 7, 7, 7, 7, 7, 7, 7, 7, 7, 7, 7, 7, 7, 7, 7, 7]\n",
      "[-0.3 -0.3 -0.3 -0.3] 36\n",
      "4 ) MCTS conf: 0.8 , det: 0.71 | LTL [---]  LDBA [ 0.0 ] path: [5, 1, 1, 1, 5, 4, 0, 0, 0, 0, 0, 0, 0, 0, 0, 0, 0, 0, 0, 0, 0, 0, 0, 0, 0]\n",
      "[-0.3 -0.3 -0.3 -0.3] 36\n",
      "5 ) MCTS conf: 0.7 , det: 0.96 | LTL [+++]  LDBA [ 0.21 ] path: [9, 5, 6, 7, 7, 7, 7, 7, 7, 7, 7, 7, 7, 7, 7, 7, 7, 7, 7, 7, 7, 7, 7, 7, 7]\n",
      "[-0.3 -0.3 -0.3 -0.3] 36\n",
      "6 ) MCTS conf: 0.72 , det: 0.94 | LTL [+++]  LDBA [ 0.23 ] path: [18, 14, 14, 14, 14, 14, 14, 14, 14, 14, 14, 14, 14, 14, 14, 14, 14, 14, 14, 14, 14, 14, 14, 14, 14]\n",
      "[-0.3 -0.3 -0.3 -0.3] 42\n",
      "7 ) MCTS conf: 0.7 , det: 0.98 | LTL [+++]  LDBA [ 0.21 ] path: [9, 5, 6, 7, 7, 7, 7, 7, 7, 7, 7, 7, 7, 7, 7, 7, 7, 7, 7, 7, 7, 7, 7, 7, 7]\n",
      "[-0.3 -0.3 -0.3 -0.3] 42\n",
      "8 ) MCTS conf: 0.7 , det: 0.47 | LTL [+++]  LDBA [ 0.21 ] path: [1, 5, 6, 7, 7, 7, 7, 7, 7, 7, 7, 7, 7, 7, 7, 7, 7, 7, 7, 7, 7, 7, 7, 7, 7]\n",
      "[-0.3 -0.3 -0.3 -0.3] 42\n",
      "9 ) MCTS conf: 0.7 , det: 0.64 | LTL [+++]  LDBA [ 0.21 ] path: [1, 5, 6, 7, 7, 7, 7, 7, 7, 7, 7, 7, 7, 7, 7, 7, 7, 7, 7, 7, 7, 7, 7, 7, 7]\n",
      "[-0.3 -0.3 -0.3 -0.3] 42\n",
      "10 ) MCTS conf: 0.9 , det: 0.98 | LTL [+++]  LDBA [ 0.23 ] path: [11, 7, 7, 7, 7, 7, 7, 7, 7, 7, 7, 7, 7, 7, 7, 7, 7, 7, 7, 7, 7, 7, 7, 7, 7]\n",
      "[-0.3 -0.3 -0.3 -0.3] 42\n",
      "11 ) MCTS conf: 0.9 , det: 0.99 | LTL [+++]  LDBA [ 0.23 ] path: [11, 7, 7, 7, 7, 7, 7, 7, 7, 7, 7, 7, 7, 7, 7, 7, 7, 7, 7, 7, 7, 7, 7, 7, 7]\n",
      "[-0.3 -0.3 -0.3 -0.3] 42\n",
      "12 ) MCTS conf: 0.7 , det: 0.74 | LTL [+++]  LDBA [ 0.21 ] path: [1, 5, 6, 7, 7, 7, 7, 7, 7, 7, 7, 7, 7, 7, 7, 7, 7, 7, 7, 7, 7, 7, 7, 7, 7]\n",
      "[-0.3 -0.3 -0.3 -0.3] 42\n",
      "13 ) MCTS conf: 0.81 , det: 0.91 | LTL [+++]  LDBA [ 0.23 ] path: [3, 7, 7, 7, 7, 7, 7, 7, 7, 7, 7, 7, 7, 7, 7, 7, 7, 7, 7, 7, 7, 7, 7, 7, 7]\n",
      "[-0.3 -0.3 -0.3 -0.3] 45\n",
      "14 ) MCTS conf: 0.64 , det: 0.87 | LTL [+++]  LDBA [ 0.23 ] path: [16, 12, 12, 12, 12, 12, 12, 12, 12, 12, 12, 12, 12, 12, 12, 12, 12, 12, 12, 12, 12, 12, 12, 12, 12]\n",
      "[-0.3 -0.3 -0.3 -0.3] 52\n",
      "15 ) MCTS conf: 0.06 , det: 0.41 | LTL [---]  LDBA [ 0.0 ] path: [0, 0, 0, 0, 0, 0, 0, 1, 1, 5, 1, 0, 0, 0, 0, 0, 0, 0, 0, 0, 0, 0, 0, 0, 0]\n",
      "[-0.3        -0.3         0.51818182 -0.3       ] 52\n",
      "16 ) MCTS conf: 0.7 , det: 0.85 | LTL [+++]  LDBA [ 0.21 ] path: [1, 5, 6, 7, 7, 7, 7, 7, 7, 7, 7, 7, 7, 7, 7, 7, 7, 7, 7, 7, 7, 7, 7, 7, 7]\n",
      "[-0.3        -0.3         0.51818182 -0.3       ] 52\n",
      "17 ) MCTS conf: 0.6 , det: 0.54 | LTL [+++]  LDBA [ 0.2 ] path: [0, 1, 5, 6, 7, 7, 7, 7, 7, 7, 7, 7, 7, 7, 7, 7, 7, 7, 7, 7, 7, 7, 7, 7, 7]\n",
      "[-0.3       -0.3        0.5503937 -0.3      ] 52\n",
      "18 ) MCTS conf: 0.9 , det: 0.99 | LTL [+++]  LDBA [ 0.23 ] path: [11, 7, 7, 7, 7, 7, 7, 7, 7, 7, 7, 7, 7, 7, 7, 7, 7, 7, 7, 7, 7, 7, 7, 7, 7]\n",
      "[-0.3       -0.3        0.5503937 -0.3      ] 52\n",
      "19 ) MCTS conf: 0.9 , det: 0.99 | LTL [+++]  LDBA [ 0.23 ] path: [11, 7, 7, 7, 7, 7, 7, 7, 7, 7, 7, 7, 7, 7, 7, 7, 7, 7, 7, 7, 7, 7, 7, 7, 7]\n",
      "Train wins: 17 / 20\n",
      "None ) MCTS conf: 0.78 , det: 0.91 | LTL [+++]  LDBA [ 0.23 ] path: [16, 12, 12, 12, 12, 12, 12, 12, 12, 12, 12, 12, 12, 12, 12, 12, 12, 12, 12, 12, 12, 12, 12, 12, 12]\n",
      "None ) MCTS conf: -0.27 , det: 0.43 | LTL [+++]  LDBA [ 0.16 ] path: [0, 4, 4, 4, 0, 1, 5, 6, 7, 7, 7, 7, 7, 7, 7, 7, 7, 7, 7, 7, 7, 7, 7, 7, 7]\n",
      "None ) MCTS conf: 0.8 , det: 0.99 | LTL [+++]  LDBA [ 0.22 ] path: [5, 6, 7, 7, 7, 7, 7, 7, 7, 7, 7, 7, 7, 7, 7, 7, 7, 7, 7, 7, 7, 7, 7, 7, 7]\n",
      "None ) MCTS conf: 0.65 , det: 0.9 | LTL [+++]  LDBA [ 0.21 ] path: [9, 5, 6, 7, 7, 7, 7, 7, 7, 7, 7, 7, 7, 7, 7, 7, 7, 7, 7, 7, 7, 7, 7, 7, 7]\n",
      "None ) MCTS conf: 0.78 , det: 1.0 | LTL [+++]  LDBA [ 0.22 ] path: [15, 11, 7, 7, 7, 7, 7, 7, 7, 7, 7, 7, 7, 7, 7, 7, 7, 7, 7, 7, 7, 7, 7, 7, 7]\n",
      "None ) MCTS conf: 0.9 , det: 0.99 | LTL [+++]  LDBA [ 0.23 ] path: [13, 12, 12, 12, 12, 12, 12, 12, 12, 12, 12, 12, 12, 12, 12, 12, 12, 12, 12, 12, 12, 12, 12, 12, 12]\n",
      "None ) MCTS conf: 0.9 , det: 0.97 | LTL [+++]  LDBA [ 0.23 ] path: [16, 12, 12, 12, 12, 12, 12, 12, 12, 12, 12, 12, 12, 12, 12, 12, 12, 12, 12, 12, 12, 12, 12, 12, 12]\n",
      "None ) MCTS conf: 0.82 , det: 0.96 | LTL [+++]  LDBA [ 0.23 ] path: [18, 14, 14, 14, 14, 14, 14, 14, 14, 14, 14, 14, 14, 14, 14, 14, 14, 14, 14, 14, 14, 14, 14, 14, 14]\n",
      "None ) MCTS conf: 0.7 , det: 0.99 | LTL [+++]  LDBA [ 0.21 ] path: [1, 5, 6, 7, 7, 7, 7, 7, 7, 7, 7, 7, 7, 7, 7, 7, 7, 7, 7, 7, 7, 7, 7, 7, 7]\n",
      "None ) MCTS conf: 0.5 , det: 0.95 | LTL [+++]  LDBA [ 0.19 ] path: [4, 0, 1, 5, 6, 7, 7, 7, 7, 7, 7, 7, 7, 7, 7, 7, 7, 7, 7, 7, 7, 7, 7, 7, 7]\n",
      "None ) MCTS conf: 0.5 , det: 0.96 | LTL [+++]  LDBA [ 0.19 ] path: [4, 0, 1, 5, 6, 7, 7, 7, 7, 7, 7, 7, 7, 7, 7, 7, 7, 7, 7, 7, 7, 7, 7, 7, 7]\n",
      "None ) MCTS conf: 0.9 , det: 0.98 | LTL [+++]  LDBA [ 0.23 ] path: [18, 14, 14, 14, 14, 14, 14, 14, 14, 14, 14, 14, 14, 14, 14, 14, 14, 14, 14, 14, 14, 14, 14, 14, 14]\n",
      "None ) MCTS conf: 0.8 , det: 1.0 | LTL [+++]  LDBA [ 0.22 ] path: [5, 6, 7, 7, 7, 7, 7, 7, 7, 7, 7, 7, 7, 7, 7, 7, 7, 7, 7, 7, 7, 7, 7, 7, 7]\n",
      "None ) MCTS conf: 0.9 , det: 0.98 | LTL [+++]  LDBA [ 0.23 ] path: [16, 12, 12, 12, 12, 12, 12, 12, 12, 12, 12, 12, 12, 12, 12, 12, 12, 12, 12, 12, 12, 12, 12, 12, 12]\n",
      "None ) MCTS conf: 0.9 , det: 0.99 | LTL [+++]  LDBA [ 0.23 ] path: [18, 14, 14, 14, 14, 14, 14, 14, 14, 14, 14, 14, 14, 14, 14, 14, 14, 14, 14, 14, 14, 14, 14, 14, 14]\n",
      "None ) MCTS conf: 0.87 , det: 0.96 | LTL [+++]  LDBA [ 0.23 ] path: [3, 7, 7, 7, 7, 7, 7, 7, 7, 7, 7, 7, 7, 7, 7, 7, 7, 7, 7, 7, 7, 7, 7, 7, 7]\n",
      "None ) MCTS conf: 0.9 , det: 1.0 | LTL [+++]  LDBA [ 0.23 ] path: [13, 12, 12, 12, 12, 12, 12, 12, 12, 12, 12, 12, 12, 12, 12, 12, 12, 12, 12, 12, 12, 12, 12, 12, 12]\n",
      "None ) MCTS conf: 0.9 , det: 0.99 | LTL [+++]  LDBA [ 0.23 ] path: [16, 12, 12, 12, 12, 12, 12, 12, 12, 12, 12, 12, 12, 12, 12, 12, 12, 12, 12, 12, 12, 12, 12, 12, 12]\n",
      "None ) MCTS conf: 0.7 , det: 1.0 | LTL [+++]  LDBA [ 0.21 ] path: [1, 5, 6, 7, 7, 7, 7, 7, 7, 7, 7, 7, 7, 7, 7, 7, 7, 7, 7, 7, 7, 7, 7, 7, 7]\n",
      "None ) MCTS conf: 0.7 , det: 0.96 | LTL [+++]  LDBA [ 0.21 ] path: [9, 5, 6, 7, 7, 7, 7, 7, 7, 7, 7, 7, 7, 7, 7, 7, 7, 7, 7, 7, 7, 7, 7, 7, 7]\n",
      "Test wins: 20 / 20\n",
      "[0. 0. 0. 0.] 0\n",
      "0 ) MCTS conf: 0.38 , det: 0.73 | LTL [+++]  LDBA [ 0.46 ] path: [4, 5, 6, 7, 7, 7, 7, 7, 7, 7, 7, 7, 7, 7, 7, 7, 7, 7, 7, 7, 7, 7, 7, 7, 7, 7, 7, 7, 7, 7, 7, 7, 7, 7, 7, 7, 7, 7, 7, 7, 7, 7, 7, 7, 7, 7, 7, 7, 7, 7]\n",
      "[-0.3 -0.3  0.   0. ] 20\n",
      "1 ) MCTS conf: 0.59 , det: 1.0 | LTL [+++]  LDBA [ 0.45 ] path: [13, 9, 5, 6, 7, 7, 7, 7, 7, 7, 7, 7, 7, 7, 7, 7, 7, 7, 7, 7, 7, 7, 7, 7, 7, 7, 7, 7, 7, 7, 7, 7, 7, 7, 7, 7, 7, 7, 7, 7, 7, 7, 7, 7, 7, 7, 7, 7, 7, 7]\n",
      "[-0.3 -0.3  0.   0. ] 23\n",
      "2 ) MCTS conf: 0.9 , det: 1.0 | LTL [+++]  LDBA [ 0.48 ] path: [11, 7, 7, 7, 7, 7, 7, 7, 7, 7, 7, 7, 7, 7, 7, 7, 7, 7, 7, 7, 7, 7, 7, 7, 7, 7, 7, 7, 7, 7, 7, 7, 7, 7, 7, 7, 7, 7, 7, 7, 7, 7, 7, 7, 7, 7, 7, 7, 7, 7]\n",
      "[-0.3 -0.3  0.   0. ] 24\n",
      "3 ) MCTS conf: 0.7 , det: 0.91 | LTL [+++]  LDBA [ 0.46 ] path: [4, 5, 6, 7, 7, 7, 7, 7, 7, 7, 7, 7, 7, 7, 7, 7, 7, 7, 7, 7, 7, 7, 7, 7, 7, 7, 7, 7, 7, 7, 7, 7, 7, 7, 7, 7, 7, 7, 7, 7, 7, 7, 7, 7, 7, 7, 7, 7, 7, 7]\n",
      "[-0.3 -0.3  0.   0. ] 24\n",
      "4 ) MCTS conf: 0.59 , det: 1.0 | LTL [+++]  LDBA [ 0.45 ] path: [13, 9, 5, 6, 7, 7, 7, 7, 7, 7, 7, 7, 7, 7, 7, 7, 7, 7, 7, 7, 7, 7, 7, 7, 7, 7, 7, 7, 7, 7, 7, 7, 7, 7, 7, 7, 7, 7, 7, 7, 7, 7, 7, 7, 7, 7, 7, 7, 7, 7]\n",
      "[-0.3 -0.3  0.   0. ] 24\n",
      "5 ) MCTS conf: 0.85 , det: 1.0 | LTL [+++]  LDBA [ 0.48 ] path: [16, 12, 12, 12, 12, 12, 12, 12, 12, 12, 12, 12, 12, 12, 12, 12, 12, 12, 12, 12, 12, 12, 12, 12, 12, 12, 12, 12, 12, 12, 12, 12, 12, 12, 12, 12, 12, 12, 12, 12, 12, 12, 12, 12, 12, 12, 12, 12, 12, 12]\n",
      "[-0.3 -0.3  0.   0. ] 27\n",
      "6 ) MCTS conf: 0.9 , det: 1.0 | LTL [+++]  LDBA [ 0.48 ] path: [11, 7, 7, 7, 7, 7, 7, 7, 7, 7, 7, 7, 7, 7, 7, 7, 7, 7, 7, 7, 7, 7, 7, 7, 7, 7, 7, 7, 7, 7, 7, 7, 7, 7, 7, 7, 7, 7, 7, 7, 7, 7, 7, 7, 7, 7, 7, 7, 7, 7]\n",
      "[-0.3 -0.3  0.   0. ] 27\n",
      "7 ) MCTS conf: 0.8 , det: 1.0 | LTL [+++]  LDBA [ 0.47 ] path: [5, 6, 7, 7, 7, 7, 7, 7, 7, 7, 7, 7, 7, 7, 7, 7, 7, 7, 7, 7, 7, 7, 7, 7, 7, 7, 7, 7, 7, 7, 7, 7, 7, 7, 7, 7, 7, 7, 7, 7, 7, 7, 7, 7, 7, 7, 7, 7, 7, 7]\n",
      "[-0.3 -0.3  0.   0. ] 27\n",
      "8 ) MCTS conf: 0.9 , det: 1.0 | LTL [+++]  LDBA [ 0.48 ] path: [16, 12, 12, 12, 12, 12, 12, 12, 12, 12, 12, 12, 12, 12, 12, 12, 12, 12, 12, 12, 12, 12, 12, 12, 12, 12, 12, 12, 12, 12, 12, 12, 12, 12, 12, 12, 12, 12, 12, 12, 12, 12, 12, 12, 12, 12, 12, 12, 12, 12]\n",
      "[-0.3 -0.3  0.   0. ] 27\n",
      "9 ) MCTS conf: 0.39 , det: 0.8 | LTL [+++]  LDBA [ 0.46 ] path: [1, 5, 6, 7, 7, 7, 7, 7, 7, 7, 7, 7, 7, 7, 7, 7, 7, 7, 7, 7, 7, 7, 7, 7, 7, 7, 7, 7, 7, 7, 7, 7, 7, 7, 7, 7, 7, 7, 7, 7, 7, 7, 7, 7, 7, 7, 7, 7, 7, 7]\n",
      "[-0.3 -0.3  0.  -0.3] 29\n",
      "10 ) MCTS conf: 0.87 , det: 0.93 | LTL [+++]  LDBA [ 0.48 ] path: [3, 7, 7, 7, 7, 7, 7, 7, 7, 7, 7, 7, 7, 7, 7, 7, 7, 7, 7, 7, 7, 7, 7, 7, 7, 7, 7, 7, 7, 7, 7, 7, 7, 7, 7, 7, 7, 7, 7, 7, 7, 7, 7, 7, 7, 7, 7, 7, 7, 7]\n",
      "[-0.3 -0.3  0.  -0.3] 30\n",
      "11 ) MCTS conf: 0.9 , det: 1.0 | LTL [+++]  LDBA [ 0.48 ] path: [11, 7, 7, 7, 7, 7, 7, 7, 7, 7, 7, 7, 7, 7, 7, 7, 7, 7, 7, 7, 7, 7, 7, 7, 7, 7, 7, 7, 7, 7, 7, 7, 7, 7, 7, 7, 7, 7, 7, 7, 7, 7, 7, 7, 7, 7, 7, 7, 7, 7]\n",
      "[-0.3 -0.3  0.  -0.3] 30\n",
      "12 ) MCTS conf: 0.9 , det: 1.0 | LTL [+++]  LDBA [ 0.48 ] path: [11, 7, 7, 7, 7, 7, 7, 7, 7, 7, 7, 7, 7, 7, 7, 7, 7, 7, 7, 7, 7, 7, 7, 7, 7, 7, 7, 7, 7, 7, 7, 7, 7, 7, 7, 7, 7, 7, 7, 7, 7, 7, 7, 7, 7, 7, 7, 7, 7, 7]\n",
      "[-0.3 -0.3  0.  -0.3] 30\n",
      "13 ) MCTS conf: 0.9 , det: 1.0 | LTL [+++]  LDBA [ 0.48 ] path: [16, 12, 12, 12, 12, 12, 12, 12, 12, 12, 12, 12, 12, 12, 12, 12, 12, 12, 12, 12, 12, 12, 12, 12, 12, 12, 12, 12, 12, 12, 12, 12, 12, 12, 12, 12, 12, 12, 12, 12, 12, 12, 12, 12, 12, 12, 12, 12, 12, 12]\n",
      "[-0.3 -0.3  0.  -0.3] 30\n",
      "14 ) MCTS conf: 0.7 , det: 0.95 | LTL [+++]  LDBA [ 0.46 ] path: [4, 5, 6, 7, 7, 7, 7, 7, 7, 7, 7, 7, 7, 7, 7, 7, 7, 7, 7, 7, 7, 7, 7, 7, 7, 7, 7, 7, 7, 7, 7, 7, 7, 7, 7, 7, 7, 7, 7, 7, 7, 7, 7, 7, 7, 7, 7, 7, 7, 7]\n",
      "[-0.3 -0.3  0.  -0.3] 30\n",
      "15 ) MCTS conf: 0.7 , det: 0.97 | LTL [+++]  LDBA [ 0.46 ] path: [4, 5, 6, 7, 7, 7, 7, 7, 7, 7, 7, 7, 7, 7, 7, 7, 7, 7, 7, 7, 7, 7, 7, 7, 7, 7, 7, 7, 7, 7, 7, 7, 7, 7, 7, 7, 7, 7, 7, 7, 7, 7, 7, 7, 7, 7, 7, 7, 7, 7]\n",
      "[-0.3 -0.3  0.  -0.3] 30\n",
      "16 ) MCTS conf: 0.59 , det: 1.0 | LTL [+++]  LDBA [ 0.45 ] path: [13, 9, 5, 6, 7, 7, 7, 7, 7, 7, 7, 7, 7, 7, 7, 7, 7, 7, 7, 7, 7, 7, 7, 7, 7, 7, 7, 7, 7, 7, 7, 7, 7, 7, 7, 7, 7, 7, 7, 7, 7, 7, 7, 7, 7, 7, 7, 7, 7, 7]\n",
      "[-0.3 -0.3  0.  -0.3] 30\n",
      "17 ) MCTS conf: 0.75 , det: 0.93 | LTL [+++]  LDBA [ 0.48 ] path: [18, 14, 14, 14, 14, 14, 14, 14, 14, 14, 14, 14, 14, 14, 14, 14, 14, 14, 14, 14, 14, 14, 14, 14, 14, 14, 14, 14, 14, 14, 14, 14, 14, 14, 14, 14, 14, 14, 14, 14, 14, 14, 14, 14, 14, 14, 14, 14, 14, 14]\n",
      "[-0.3 -0.3  0.  -0.3] 35\n",
      "18 ) MCTS conf: 0.9 , det: 0.97 | LTL [+++]  LDBA [ 0.48 ] path: [18, 14, 14, 14, 14, 14, 14, 14, 14, 14, 14, 14, 14, 14, 14, 14, 14, 14, 14, 14, 14, 14, 14, 14, 14, 14, 14, 14, 14, 14, 14, 14, 14, 14, 14, 14, 14, 14, 14, 14, 14, 14, 14, 14, 14, 14, 14, 14, 14, 14]\n",
      "[-0.3 -0.3  0.  -0.3] 35\n",
      "19 ) MCTS conf: 0.7 , det: 0.93 | LTL [---]  LDBA [ 0.0 ] path: [1, 1, 1, 5, 6, 5, 9, 13, 12, 12, 12, 12, 12, 12, 12, 12, 12, 12, 12, 12, 12, 12, 12, 12, 12, 12, 12, 12, 12, 12, 12, 12, 12, 12, 12, 12, 12, 12, 12, 12, 12, 12, 12, 12, 12, 12, 12, 12, 12, 12]\n",
      "Train wins: 19 / 20\n",
      "None ) MCTS conf: 0.6 , det: 0.93 | LTL [+++]  LDBA [ 0.47 ] path: [15, 11, 7, 7, 7, 7, 7, 7, 7, 7, 7, 7, 7, 7, 7, 7, 7, 7, 7, 7, 7, 7, 7, 7, 7, 7, 7, 7, 7, 7, 7, 7, 7, 7, 7, 7, 7, 7, 7, 7, 7, 7, 7, 7, 7, 7, 7, 7, 7, 7]\n",
      "None ) MCTS conf: 0.73 , det: 0.95 | LTL [+++]  LDBA [ 0.48 ] path: [13, 14, 14, 14, 14, 14, 14, 14, 14, 14, 14, 14, 14, 14, 14, 14, 14, 14, 14, 14, 14, 14, 14, 14, 14, 14, 14, 14, 14, 14, 14, 14, 14, 14, 14, 14, 14, 14, 14, 14, 14, 14, 14, 14, 14, 14, 14, 14, 14, 14]\n",
      "None ) MCTS conf: 0.9 , det: 1.0 | LTL [+++]  LDBA [ 0.48 ] path: [11, 7, 7, 7, 7, 7, 7, 7, 7, 7, 7, 7, 7, 7, 7, 7, 7, 7, 7, 7, 7, 7, 7, 7, 7, 7, 7, 7, 7, 7, 7, 7, 7, 7, 7, 7, 7, 7, 7, 7, 7, 7, 7, 7, 7, 7, 7, 7, 7, 7]\n",
      "None ) MCTS conf: 0.8 , det: 0.97 | LTL [+++]  LDBA [ 0.47 ] path: [15, 11, 7, 7, 7, 7, 7, 7, 7, 7, 7, 7, 7, 7, 7, 7, 7, 7, 7, 7, 7, 7, 7, 7, 7, 7, 7, 7, 7, 7, 7, 7, 7, 7, 7, 7, 7, 7, 7, 7, 7, 7, 7, 7, 7, 7, 7, 7, 7, 7]\n",
      "None ) MCTS conf: 0.88 , det: 0.96 | LTL [+++]  LDBA [ 0.48 ] path: [3, 7, 7, 7, 7, 7, 7, 7, 7, 7, 7, 7, 7, 7, 7, 7, 7, 7, 7, 7, 7, 7, 7, 7, 7, 7, 7, 7, 7, 7, 7, 7, 7, 7, 7, 7, 7, 7, 7, 7, 7, 7, 7, 7, 7, 7, 7, 7, 7, 7]\n",
      "None ) MCTS conf: 0.9 , det: 0.98 | LTL [+++]  LDBA [ 0.48 ] path: [13, 14, 14, 14, 14, 14, 14, 14, 14, 14, 14, 14, 14, 14, 14, 14, 14, 14, 14, 14, 14, 14, 14, 14, 14, 14, 14, 14, 14, 14, 14, 14, 14, 14, 14, 14, 14, 14, 14, 14, 14, 14, 14, 14, 14, 14, 14, 14, 14, 14]\n",
      "None ) MCTS conf: 0.36 , det: 0.84 | LTL [+++]  LDBA [ 0.45 ] path: [4, 5, 9, 13, 14, 14, 14, 14, 14, 14, 14, 14, 14, 14, 14, 14, 14, 14, 14, 14, 14, 14, 14, 14, 14, 14, 14, 14, 14, 14, 14, 14, 14, 14, 14, 14, 14, 14, 14, 14, 14, 14, 14, 14, 14, 14, 14, 14, 14, 14]\n",
      "None ) MCTS conf: 0.88 , det: 1.0 | LTL [+++]  LDBA [ 0.48 ] path: [16, 12, 12, 12, 12, 12, 12, 12, 12, 12, 12, 12, 12, 12, 12, 12, 12, 12, 12, 12, 12, 12, 12, 12, 12, 12, 12, 12, 12, 12, 12, 12, 12, 12, 12, 12, 12, 12, 12, 12, 12, 12, 12, 12, 12, 12, 12, 12, 12, 12]\n",
      "None ) MCTS conf: 0.8 , det: 1.0 | LTL [+++]  LDBA [ 0.47 ] path: [9, 13, 14, 14, 14, 14, 14, 14, 14, 14, 14, 14, 14, 14, 14, 14, 14, 14, 14, 14, 14, 14, 14, 14, 14, 14, 14, 14, 14, 14, 14, 14, 14, 14, 14, 14, 14, 14, 14, 14, 14, 14, 14, 14, 14, 14, 14, 14, 14, 14]\n",
      "None ) MCTS conf: 0.6 , det: 0.94 | LTL [+++]  LDBA [ 0.45 ] path: [4, 5, 9, 13, 14, 14, 14, 14, 14, 14, 14, 14, 14, 14, 14, 14, 14, 14, 14, 14, 14, 14, 14, 14, 14, 14, 14, 14, 14, 14, 14, 14, 14, 14, 14, 14, 14, 14, 14, 14, 14, 14, 14, 14, 14, 14, 14, 14, 14, 14]\n",
      "None ) MCTS conf: 0.9 , det: 1.0 | LTL [+++]  LDBA [ 0.48 ] path: [16, 12, 12, 12, 12, 12, 12, 12, 12, 12, 12, 12, 12, 12, 12, 12, 12, 12, 12, 12, 12, 12, 12, 12, 12, 12, 12, 12, 12, 12, 12, 12, 12, 12, 12, 12, 12, 12, 12, 12, 12, 12, 12, 12, 12, 12, 12, 12, 12, 12]\n",
      "None ) MCTS conf: 0.8 , det: 1.0 | LTL [+++]  LDBA [ 0.47 ] path: [9, 13, 14, 14, 14, 14, 14, 14, 14, 14, 14, 14, 14, 14, 14, 14, 14, 14, 14, 14, 14, 14, 14, 14, 14, 14, 14, 14, 14, 14, 14, 14, 14, 14, 14, 14, 14, 14, 14, 14, 14, 14, 14, 14, 14, 14, 14, 14, 14, 14]\n",
      "None ) MCTS conf: 0.9 , det: 0.99 | LTL [+++]  LDBA [ 0.48 ] path: [3, 7, 7, 7, 7, 7, 7, 7, 7, 7, 7, 7, 7, 7, 7, 7, 7, 7, 7, 7, 7, 7, 7, 7, 7, 7, 7, 7, 7, 7, 7, 7, 7, 7, 7, 7, 7, 7, 7, 7, 7, 7, 7, 7, 7, 7, 7, 7, 7, 7]\n",
      "None ) MCTS conf: 0.37 , det: 0.86 | LTL [+++]  LDBA [ 0.44 ] path: [0, 4, 5, 9, 13, 14, 14, 14, 14, 14, 14, 14, 14, 14, 14, 14, 14, 14, 14, 14, 14, 14, 14, 14, 14, 14, 14, 14, 14, 14, 14, 14, 14, 14, 14, 14, 14, 14, 14, 14, 14, 14, 14, 14, 14, 14, 14, 14, 14, 14]\n",
      "None ) MCTS conf: 0.9 , det: 1.0 | LTL [+++]  LDBA [ 0.48 ] path: [11, 7, 7, 7, 7, 7, 7, 7, 7, 7, 7, 7, 7, 7, 7, 7, 7, 7, 7, 7, 7, 7, 7, 7, 7, 7, 7, 7, 7, 7, 7, 7, 7, 7, 7, 7, 7, 7, 7, 7, 7, 7, 7, 7, 7, 7, 7, 7, 7, 7]\n",
      "None ) MCTS conf: 0.9 , det: 0.99 | LTL [+++]  LDBA [ 0.48 ] path: [3, 7, 7, 7, 7, 7, 7, 7, 7, 7, 7, 7, 7, 7, 7, 7, 7, 7, 7, 7, 7, 7, 7, 7, 7, 7, 7, 7, 7, 7, 7, 7, 7, 7, 7, 7, 7, 7, 7, 7, 7, 7, 7, 7, 7, 7, 7, 7, 7, 7]\n",
      "None ) MCTS conf: 0.8 , det: 0.99 | LTL [+++]  LDBA [ 0.47 ] path: [15, 11, 7, 7, 7, 7, 7, 7, 7, 7, 7, 7, 7, 7, 7, 7, 7, 7, 7, 7, 7, 7, 7, 7, 7, 7, 7, 7, 7, 7, 7, 7, 7, 7, 7, 7, 7, 7, 7, 7, 7, 7, 7, 7, 7, 7, 7, 7, 7, 7]\n",
      "None ) MCTS conf: 0.9 , det: 0.99 | LTL [+++]  LDBA [ 0.48 ] path: [3, 7, 7, 7, 7, 7, 7, 7, 7, 7, 7, 7, 7, 7, 7, 7, 7, 7, 7, 7, 7, 7, 7, 7, 7, 7, 7, 7, 7, 7, 7, 7, 7, 7, 7, 7, 7, 7, 7, 7, 7, 7, 7, 7, 7, 7, 7, 7, 7, 7]\n",
      "None ) MCTS conf: 0.8 , det: 1.0 | LTL [+++]  LDBA [ 0.47 ] path: [9, 13, 14, 14, 14, 14, 14, 14, 14, 14, 14, 14, 14, 14, 14, 14, 14, 14, 14, 14, 14, 14, 14, 14, 14, 14, 14, 14, 14, 14, 14, 14, 14, 14, 14, 14, 14, 14, 14, 14, 14, 14, 14, 14, 14, 14, 14, 14, 14, 14]\n",
      "None ) MCTS conf: 0.7 , det: 1.0 | LTL [+++]  LDBA [ 0.46 ] path: [5, 9, 13, 14, 14, 14, 14, 14, 14, 14, 14, 14, 14, 14, 14, 14, 14, 14, 14, 14, 14, 14, 14, 14, 14, 14, 14, 14, 14, 14, 14, 14, 14, 14, 14, 14, 14, 14, 14, 14, 14, 14, 14, 14, 14, 14, 14, 14, 14, 14]\n",
      "Test wins: 20 / 20\n",
      "[0. 0. 0. 0.] 0\n",
      "0 ) MCTS conf: 0.75 , det: 0.98 | LTL [+++]  LDBA [ 0.72 ] path: [5, 6, 7, 7, 7, 7, 7, 7, 7, 7, 7, 7, 7, 7, 7, 7, 7, 7, 7, 7, 7, 7, 7, 7, 7, 7, 7, 7, 7, 7, 7, 7, 7, 7, 7, 7, 7, 7, 7, 7, 7, 7, 7, 7, 7, 7, 7, 7, 7, 7, 7, 7, 7, 7, 7, 7, 7, 7, 7, 7, 7, 7, 7, 7, 7, 7, 7, 7, 7, 7, 7, 7, 7, 7, 7]\n",
      "[0. 0. 0. 0.] 5\n",
      "1 ) MCTS conf: 0.8 , det: 0.99 | LTL [+++]  LDBA [ 0.72 ] path: [5, 6, 7, 7, 7, 7, 7, 7, 7, 7, 7, 7, 7, 7, 7, 7, 7, 7, 7, 7, 7, 7, 7, 7, 7, 7, 7, 7, 7, 7, 7, 7, 7, 7, 7, 7, 7, 7, 7, 7, 7, 7, 7, 7, 7, 7, 7, 7, 7, 7, 7, 7, 7, 7, 7, 7, 7, 7, 7, 7, 7, 7, 7, 7, 7, 7, 7, 7, 7, 7, 7, 7, 7, 7, 7]\n",
      "[0. 0. 0. 0.] 5\n",
      "2 ) MCTS conf: 0.88 , det: 1.0 | LTL [+++]  LDBA [ 0.73 ] path: [18, 14, 14, 14, 14, 14, 14, 14, 14, 14, 14, 14, 14, 14, 14, 14, 14, 14, 14, 14, 14, 14, 14, 14, 14, 14, 14, 14, 14, 14, 14, 14, 14, 14, 14, 14, 14, 14, 14, 14, 14, 14, 14, 14, 14, 14, 14, 14, 14, 14, 14, 14, 14, 14, 14, 14, 14, 14, 14, 14, 14, 14, 14, 14, 14, 14, 14, 14, 14, 14, 14, 14, 14, 14, 14]\n",
      "[0. 0. 0. 0.] 8\n",
      "3 ) MCTS conf: 0.84 , det: 0.95 | LTL [+++]  LDBA [ 0.73 ] path: [3, 7, 7, 7, 7, 7, 7, 7, 7, 7, 7, 7, 7, 7, 7, 7, 7, 7, 7, 7, 7, 7, 7, 7, 7, 7, 7, 7, 7, 7, 7, 7, 7, 7, 7, 7, 7, 7, 7, 7, 7, 7, 7, 7, 7, 7, 7, 7, 7, 7, 7, 7, 7, 7, 7, 7, 7, 7, 7, 7, 7, 7, 7, 7, 7, 7, 7, 7, 7, 7, 7, 7, 7, 7, 7]\n",
      "[0. 0. 0. 0.] 11\n",
      "4 ) MCTS conf: 0.6 , det: 1.0 | LTL [+++]  LDBA [ 0.7 ] path: [13, 9, 5, 6, 7, 7, 7, 7, 7, 7, 7, 7, 7, 7, 7, 7, 7, 7, 7, 7, 7, 7, 7, 7, 7, 7, 7, 7, 7, 7, 7, 7, 7, 7, 7, 7, 7, 7, 7, 7, 7, 7, 7, 7, 7, 7, 7, 7, 7, 7, 7, 7, 7, 7, 7, 7, 7, 7, 7, 7, 7, 7, 7, 7, 7, 7, 7, 7, 7, 7, 7, 7, 7, 7, 7]\n",
      "[0. 0. 0. 0.] 13\n",
      "5 ) MCTS conf: 0.8 , det: 1.0 | LTL [+++]  LDBA [ 0.72 ] path: [5, 6, 7, 7, 7, 7, 7, 7, 7, 7, 7, 7, 7, 7, 7, 7, 7, 7, 7, 7, 7, 7, 7, 7, 7, 7, 7, 7, 7, 7, 7, 7, 7, 7, 7, 7, 7, 7, 7, 7, 7, 7, 7, 7, 7, 7, 7, 7, 7, 7, 7, 7, 7, 7, 7, 7, 7, 7, 7, 7, 7, 7, 7, 7, 7, 7, 7, 7, 7, 7, 7, 7, 7, 7, 7]\n",
      "[0. 0. 0. 0.] 13\n",
      "6 ) MCTS conf: 0.9 , det: 1.0 | LTL [+++]  LDBA [ 0.73 ] path: [18, 14, 14, 14, 14, 14, 14, 14, 14, 14, 14, 14, 14, 14, 14, 14, 14, 14, 14, 14, 14, 14, 14, 14, 14, 14, 14, 14, 14, 14, 14, 14, 14, 14, 14, 14, 14, 14, 14, 14, 14, 14, 14, 14, 14, 14, 14, 14, 14, 14, 14, 14, 14, 14, 14, 14, 14, 14, 14, 14, 14, 14, 14, 14, 14, 14, 14, 14, 14, 14, 14, 14, 14, 14, 14]\n",
      "[0. 0. 0. 0.] 13\n",
      "7 ) MCTS conf: 0.64 , det: 0.94 | LTL [+++]  LDBA [ 0.71 ] path: [4, 5, 6, 7, 7, 7, 7, 7, 7, 7, 7, 7, 7, 7, 7, 7, 7, 7, 7, 7, 7, 7, 7, 7, 7, 7, 7, 7, 7, 7, 7, 7, 7, 7, 7, 7, 7, 7, 7, 7, 7, 7, 7, 7, 7, 7, 7, 7, 7, 7, 7, 7, 7, 7, 7, 7, 7, 7, 7, 7, 7, 7, 7, 7, 7, 7, 7, 7, 7, 7, 7, 7, 7, 7, 7]\n",
      "[-0.3  0.   0.   0. ] 20\n",
      "8 ) MCTS conf: 0.59 , det: 0.93 | LTL [+++]  LDBA [ 0.7 ] path: [0, 4, 5, 6, 7, 7, 7, 7, 7, 7, 7, 7, 7, 7, 7, 7, 7, 7, 7, 7, 7, 7, 7, 7, 7, 7, 7, 7, 7, 7, 7, 7, 7, 7, 7, 7, 7, 7, 7, 7, 7, 7, 7, 7, 7, 7, 7, 7, 7, 7, 7, 7, 7, 7, 7, 7, 7, 7, 7, 7, 7, 7, 7, 7, 7, 7, 7, 7, 7, 7, 7, 7, 7, 7, 7]\n",
      "[-0.3  0.6  0.   0. ] 20\n",
      "9 ) MCTS conf: 0.8 , det: 1.0 | LTL [+++]  LDBA [ 0.72 ] path: [5, 6, 7, 7, 7, 7, 7, 7, 7, 7, 7, 7, 7, 7, 7, 7, 7, 7, 7, 7, 7, 7, 7, 7, 7, 7, 7, 7, 7, 7, 7, 7, 7, 7, 7, 7, 7, 7, 7, 7, 7, 7, 7, 7, 7, 7, 7, 7, 7, 7, 7, 7, 7, 7, 7, 7, 7, 7, 7, 7, 7, 7, 7, 7, 7, 7, 7, 7, 7, 7, 7, 7, 7, 7, 7]\n",
      "[-0.3  0.6  0.   0. ] 20\n",
      "10 ) MCTS conf: 0.7 , det: 0.99 | LTL [+++]  LDBA [ 0.71 ] path: [4, 5, 6, 7, 7, 7, 7, 7, 7, 7, 7, 7, 7, 7, 7, 7, 7, 7, 7, 7, 7, 7, 7, 7, 7, 7, 7, 7, 7, 7, 7, 7, 7, 7, 7, 7, 7, 7, 7, 7, 7, 7, 7, 7, 7, 7, 7, 7, 7, 7, 7, 7, 7, 7, 7, 7, 7, 7, 7, 7, 7, 7, 7, 7, 7, 7, 7, 7, 7, 7, 7, 7, 7, 7, 7]\n",
      "[-0.3  0.6  0.   0. ] 20\n",
      "11 ) MCTS conf: 0.6 , det: 0.97 | LTL [+++]  LDBA [ 0.7 ] path: [0, 4, 5, 6, 7, 7, 7, 7, 7, 7, 7, 7, 7, 7, 7, 7, 7, 7, 7, 7, 7, 7, 7, 7, 7, 7, 7, 7, 7, 7, 7, 7, 7, 7, 7, 7, 7, 7, 7, 7, 7, 7, 7, 7, 7, 7, 7, 7, 7, 7, 7, 7, 7, 7, 7, 7, 7, 7, 7, 7, 7, 7, 7, 7, 7, 7, 7, 7, 7, 7, 7, 7, 7, 7, 7]\n",
      "[-0.3  0.6  0.   0. ] 20\n",
      "12 ) MCTS conf: 0.7 , det: 1.0 | LTL [+++]  LDBA [ 0.71 ] path: [4, 5, 6, 7, 7, 7, 7, 7, 7, 7, 7, 7, 7, 7, 7, 7, 7, 7, 7, 7, 7, 7, 7, 7, 7, 7, 7, 7, 7, 7, 7, 7, 7, 7, 7, 7, 7, 7, 7, 7, 7, 7, 7, 7, 7, 7, 7, 7, 7, 7, 7, 7, 7, 7, 7, 7, 7, 7, 7, 7, 7, 7, 7, 7, 7, 7, 7, 7, 7, 7, 7, 7, 7, 7, 7]\n",
      "[-0.3  0.6  0.   0. ] 20\n",
      "13 ) MCTS conf: 0.7 , det: 1.0 | LTL [+++]  LDBA [ 0.71 ] path: [9, 5, 6, 7, 7, 7, 7, 7, 7, 7, 7, 7, 7, 7, 7, 7, 7, 7, 7, 7, 7, 7, 7, 7, 7, 7, 7, 7, 7, 7, 7, 7, 7, 7, 7, 7, 7, 7, 7, 7, 7, 7, 7, 7, 7, 7, 7, 7, 7, 7, 7, 7, 7, 7, 7, 7, 7, 7, 7, 7, 7, 7, 7, 7, 7, 7, 7, 7, 7, 7, 7, 7, 7, 7, 7]\n",
      "[-0.3  0.6  0.   0. ] 20\n",
      "14 ) MCTS conf: 0.9 , det: 1.0 | LTL [+++]  LDBA [ 0.73 ] path: [11, 7, 7, 7, 7, 7, 7, 7, 7, 7, 7, 7, 7, 7, 7, 7, 7, 7, 7, 7, 7, 7, 7, 7, 7, 7, 7, 7, 7, 7, 7, 7, 7, 7, 7, 7, 7, 7, 7, 7, 7, 7, 7, 7, 7, 7, 7, 7, 7, 7, 7, 7, 7, 7, 7, 7, 7, 7, 7, 7, 7, 7, 7, 7, 7, 7, 7, 7, 7, 7, 7, 7, 7, 7, 7]\n",
      "[-0.3  0.6  0.   0. ] 21\n",
      "15 ) MCTS conf: 0.42 , det: 0.9 | LTL [+++]  LDBA [ 0.69 ] path: [1, 0, 4, 5, 6, 7, 7, 7, 7, 7, 7, 7, 7, 7, 7, 7, 7, 7, 7, 7, 7, 7, 7, 7, 7, 7, 7, 7, 7, 7, 7, 7, 7, 7, 7, 7, 7, 7, 7, 7, 7, 7, 7, 7, 7, 7, 7, 7, 7, 7, 7, 7, 7, 7, 7, 7, 7, 7, 7, 7, 7, 7, 7, 7, 7, 7, 7, 7, 7, 7, 7, 7, 7, 7, 7]\n",
      "[-0.3         0.57766234  0.          0.        ] 26\n",
      "16 ) MCTS conf: 0.7 , det: 1.0 | LTL [+++]  LDBA [ 0.71 ] path: [4, 5, 6, 7, 7, 7, 7, 7, 7, 7, 7, 7, 7, 7, 7, 7, 7, 7, 7, 7, 7, 7, 7, 7, 7, 7, 7, 7, 7, 7, 7, 7, 7, 7, 7, 7, 7, 7, 7, 7, 7, 7, 7, 7, 7, 7, 7, 7, 7, 7, 7, 7, 7, 7, 7, 7, 7, 7, 7, 7, 7, 7, 7, 7, 7, 7, 7, 7, 7, 7, 7, 7, 7, 7, 7]\n",
      "[-0.3         0.57766234  0.          0.        ] 26\n",
      "17 ) MCTS conf: 0.8 , det: 1.0 | LTL [+++]  LDBA [ 0.72 ] path: [15, 11, 7, 7, 7, 7, 7, 7, 7, 7, 7, 7, 7, 7, 7, 7, 7, 7, 7, 7, 7, 7, 7, 7, 7, 7, 7, 7, 7, 7, 7, 7, 7, 7, 7, 7, 7, 7, 7, 7, 7, 7, 7, 7, 7, 7, 7, 7, 7, 7, 7, 7, 7, 7, 7, 7, 7, 7, 7, 7, 7, 7, 7, 7, 7, 7, 7, 7, 7, 7, 7, 7, 7, 7, 7]\n",
      "[-0.3         0.57766234  0.          0.        ] 27\n",
      "18 ) MCTS conf: 0.5 , det: 0.96 | LTL [+++]  LDBA [ 0.69 ] path: [1, 0, 4, 5, 6, 7, 7, 7, 7, 7, 7, 7, 7, 7, 7, 7, 7, 7, 7, 7, 7, 7, 7, 7, 7, 7, 7, 7, 7, 7, 7, 7, 7, 7, 7, 7, 7, 7, 7, 7, 7, 7, 7, 7, 7, 7, 7, 7, 7, 7, 7, 7, 7, 7, 7, 7, 7, 7, 7, 7, 7, 7, 7, 7, 7, 7, 7, 7, 7, 7, 7, 7, 7, 7, 7]\n",
      "[-0.3         0.56666667  0.          0.        ] 27\n",
      "19 ) MCTS conf: 0.88 , det: 1.0 | LTL [+++]  LDBA [ 0.73 ] path: [16, 12, 12, 12, 12, 12, 12, 12, 12, 12, 12, 12, 12, 12, 12, 12, 12, 12, 12, 12, 12, 12, 12, 12, 12, 12, 12, 12, 12, 12, 12, 12, 12, 12, 12, 12, 12, 12, 12, 12, 12, 12, 12, 12, 12, 12, 12, 12, 12, 12, 12, 12, 12, 12, 12, 12, 12, 12, 12, 12, 12, 12, 12, 12, 12, 12, 12, 12, 12, 12, 12, 12, 12, 12, 12]\n",
      "Train wins: 20 / 20\n",
      "None ) MCTS conf: -0.29 , det: 0.45 | LTL [+++]  LDBA [ 0.71 ] path: [4, 5, 6, 7, 7, 7, 7, 7, 7, 7, 7, 7, 7, 7, 7, 7, 7, 7, 7, 7, 7, 7, 7, 7, 7, 7, 7, 7, 7, 7, 7, 7, 7, 7, 7, 7, 7, 7, 7, 7, 7, 7, 7, 7, 7, 7, 7, 7, 7, 7, 7, 7, 7, 7, 7, 7, 7, 7, 7, 7, 7, 7, 7, 7, 7, 7, 7, 7, 7, 7, 7, 7, 7, 7, 7]\n",
      "None ) MCTS conf: 0.7 , det: 0.94 | LTL [+++]  LDBA [ 0.71 ] path: [9, 5, 6, 7, 7, 7, 7, 7, 7, 7, 7, 7, 7, 7, 7, 7, 7, 7, 7, 7, 7, 7, 7, 7, 7, 7, 7, 7, 7, 7, 7, 7, 7, 7, 7, 7, 7, 7, 7, 7, 7, 7, 7, 7, 7, 7, 7, 7, 7, 7, 7, 7, 7, 7, 7, 7, 7, 7, 7, 7, 7, 7, 7, 7, 7, 7, 7, 7, 7, 7, 7, 7, 7, 7, 7]\n",
      "None ) MCTS conf: 0.78 , det: 0.97 | LTL [+++]  LDBA [ 0.73 ] path: [13, 14, 14, 14, 14, 14, 14, 14, 14, 14, 14, 14, 14, 14, 14, 14, 14, 14, 14, 14, 14, 14, 14, 14, 14, 14, 14, 14, 14, 14, 14, 14, 14, 14, 14, 14, 14, 14, 14, 14, 14, 14, 14, 14, 14, 14, 14, 14, 14, 14, 14, 14, 14, 14, 14, 14, 14, 14, 14, 14, 14, 14, 14, 14, 14, 14, 14, 14, 14, 14, 14, 14, 14, 14, 14]\n",
      "None ) MCTS conf: 0.78 , det: 1.0 | LTL [+++]  LDBA [ 0.72 ] path: [15, 11, 7, 7, 7, 7, 7, 7, 7, 7, 7, 7, 7, 7, 7, 7, 7, 7, 7, 7, 7, 7, 7, 7, 7, 7, 7, 7, 7, 7, 7, 7, 7, 7, 7, 7, 7, 7, 7, 7, 7, 7, 7, 7, 7, 7, 7, 7, 7, 7, 7, 7, 7, 7, 7, 7, 7, 7, 7, 7, 7, 7, 7, 7, 7, 7, 7, 7, 7, 7, 7, 7, 7, 7, 7]\n",
      "None ) MCTS conf: 0.7 , det: 0.98 | LTL [+++]  LDBA [ 0.71 ] path: [9, 5, 6, 7, 7, 7, 7, 7, 7, 7, 7, 7, 7, 7, 7, 7, 7, 7, 7, 7, 7, 7, 7, 7, 7, 7, 7, 7, 7, 7, 7, 7, 7, 7, 7, 7, 7, 7, 7, 7, 7, 7, 7, 7, 7, 7, 7, 7, 7, 7, 7, 7, 7, 7, 7, 7, 7, 7, 7, 7, 7, 7, 7, 7, 7, 7, 7, 7, 7, 7, 7, 7, 7, 7, 7]\n",
      "None ) MCTS conf: 0.7 , det: 0.76 | "
     ]
    },
    {
     "ename": "KeyboardInterrupt",
     "evalue": "",
     "output_type": "error",
     "traceback": [
      "\u001b[1;31m---------------------------------------------------------------------------\u001b[0m",
      "\u001b[1;31mKeyboardInterrupt\u001b[0m                         Traceback (most recent call last)",
      "Cell \u001b[1;32mIn[7], line 77\u001b[0m\n\u001b[0;32m     74\u001b[0m N, W, Q, P, visited_test \u001b[39m=\u001b[39m np\u001b[39m.\u001b[39mzeros(csrl\u001b[39m.\u001b[39mshape), np\u001b[39m.\u001b[39mzeros(csrl\u001b[39m.\u001b[39mshape), np\u001b[39m.\u001b[39mzeros(csrl\u001b[39m.\u001b[39mshape), np\u001b[39m.\u001b[39mzeros(csrl\u001b[39m.\u001b[39mshape), \u001b[39mset\u001b[39m()\n\u001b[0;32m     75\u001b[0m \u001b[39mfor\u001b[39;00m epoch \u001b[39min\u001b[39;00m \u001b[39mrange\u001b[39m(num_test_epochs):\n\u001b[1;32m---> 77\u001b[0m     state_history, channeled_states, trajectory, action_history, reward_history, better_policy \u001b[39m=\u001b[39m MC_learning(csrl, model, LTL_formula,\n\u001b[0;32m     78\u001b[0m             predicates, csrl\u001b[39m.\u001b[39;49mreward, ch_states, N \u001b[39m=\u001b[39;49m N, W \u001b[39m=\u001b[39;49m W, Q \u001b[39m=\u001b[39;49m Q, P \u001b[39m=\u001b[39;49m P, C\u001b[39m=\u001b[39;49m\u001b[39m0.1\u001b[39;49m, tow\u001b[39m=\u001b[39;49m\u001b[39m0.7\u001b[39;49m, n_samples\u001b[39m=\u001b[39;49mMCTS_samples, visited\u001b[39m=\u001b[39;49mvisited_test,\n\u001b[0;32m     79\u001b[0m             start\u001b[39m=\u001b[39;49m\u001b[39mNone\u001b[39;49;00m, search_depth\u001b[39m=\u001b[39;49msearch_depth, verbose\u001b[39m=\u001b[39;49m\u001b[39m0\u001b[39;49m, T\u001b[39m=\u001b[39;49mi, K\u001b[39m=\u001b[39;49m\u001b[39m1\u001b[39;49m, NN_value_active\u001b[39m=\u001b[39;49m\u001b[39mTrue\u001b[39;49;00m)\n\u001b[0;32m     81\u001b[0m     \u001b[39m# win = check_LTL(LTL_formula, trajectory, predicates)[0]\u001b[39;00m\n\u001b[0;32m     82\u001b[0m     win \u001b[39m=\u001b[39m reward_history[\u001b[39m-\u001b[39m\u001b[39m1\u001b[39m]\n",
      "File \u001b[1;32mc:\\Users\\pc-admin\\OneDrive - University of Waterloo\\MSc\\research\\Code\\RL-LTL\\ComputeCanada_scrips\\Utility_funcs.py:130\u001b[0m, in \u001b[0;36mMC_learning\u001b[1;34m(csrl, model, LTL_formula, predicates, rewards, ch_states, C, tow, n_samples, search_depth, N, W, Q, P, verbose, visited, start, T, K, run_num, ltl_f_rew, NN_value_active, LTL_coef)\u001b[0m\n\u001b[0;32m    126\u001b[0m MCST_depth \u001b[39m=\u001b[39m \u001b[39mmin\u001b[39m(T\u001b[39m-\u001b[39mt\u001b[39m-\u001b[39m\u001b[39m1\u001b[39m, search_depth)\n\u001b[0;32m    127\u001b[0m \u001b[39m# print(MCST_depth)\u001b[39;00m\n\u001b[0;32m    128\u001b[0m \u001b[39m# Choose Action\u001b[39;00m\n\u001b[0;32m    129\u001b[0m \u001b[39m# print(t+1,\")\",\"Depth:\",MCST_depth,end=\" | \")\u001b[39;00m\n\u001b[1;32m--> 130\u001b[0m Pi, acc_value \u001b[39m=\u001b[39m MCTS(csrl, model, state, LTL_formula, predicates, trajectory[:\u001b[39m-\u001b[39;49m\u001b[39m1\u001b[39;49m], state_history[:\u001b[39m-\u001b[39;49m\u001b[39m1\u001b[39;49m], rewards,\n\u001b[0;32m    131\u001b[0m                      ch_states, N, W, Q, P, visited, n_samples\u001b[39m=\u001b[39;49mn_samples, depth\u001b[39m=\u001b[39;49mMCST_depth, tow\u001b[39m=\u001b[39;49mtow, C\u001b[39m=\u001b[39;49mC,\n\u001b[0;32m    132\u001b[0m                      ltl_f_rew\u001b[39m=\u001b[39;49mltl_f_rew, NN_value_active\u001b[39m=\u001b[39;49mNN_value_active, LTL_coef\u001b[39m=\u001b[39;49mLTL_coef)\n\u001b[0;32m    133\u001b[0m \u001b[39mif\u001b[39;00m t\u001b[39m==\u001b[39m\u001b[39m0\u001b[39m: \u001b[39mprint\u001b[39m(run_num, \u001b[39m\"\u001b[39m\u001b[39m) MCTS conf:\u001b[39m\u001b[39m\"\u001b[39m, \u001b[39mround\u001b[39m(acc_value, \u001b[39m2\u001b[39m), \u001b[39m\"\u001b[39m\u001b[39m, det:\u001b[39m\u001b[39m\"\u001b[39m, \u001b[39mround\u001b[39m(Pi\u001b[39m.\u001b[39mmax(), \u001b[39m2\u001b[39m), end\u001b[39m=\u001b[39m\u001b[39m\"\u001b[39m\u001b[39m | \u001b[39m\u001b[39m\"\u001b[39m)\n\u001b[0;32m    134\u001b[0m NN_value_active \u001b[39m=\u001b[39m \u001b[39mTrue\u001b[39;00m \u001b[39mif\u001b[39;00m acc_value\u001b[39m>\u001b[39m\u001b[39m0\u001b[39m \u001b[39melse\u001b[39;00m \u001b[39mFalse\u001b[39;00m\n",
      "File \u001b[1;32mc:\\Users\\pc-admin\\OneDrive - University of Waterloo\\MSc\\research\\Code\\RL-LTL\\ComputeCanada_scrips\\Utility_funcs.py:301\u001b[0m, in \u001b[0;36mMCTS\u001b[1;34m(csrl, model, root, LTL_formula, predicates, trajectory, episode, rewards, ch_states, N, W, Q, P, visited, n_samples, tow, C, depth, ltl_f_rew, NN_value_active, LTL_coef, foo)\u001b[0m\n\u001b[0;32m    299\u001b[0m acc_value \u001b[39m=\u001b[39m \u001b[39m0\u001b[39m\n\u001b[0;32m    300\u001b[0m \u001b[39mfor\u001b[39;00m sample \u001b[39min\u001b[39;00m \u001b[39mrange\u001b[39m(n_samples):\n\u001b[1;32m--> 301\u001b[0m     acc_value \u001b[39m+\u001b[39m\u001b[39m=\u001b[39m MCTS_rec(csrl, model, root, LTL_formula, trajectory\u001b[39m.\u001b[39;49mcopy(), episode\u001b[39m.\u001b[39;49mcopy(), predicates, rewards,\n\u001b[0;32m    302\u001b[0m                           ch_states, N, W, Q, P, visited\u001b[39m=\u001b[39;49mvisited, C\u001b[39m=\u001b[39;49mC, depth\u001b[39m=\u001b[39;49mdepth, ltl_f_rew\u001b[39m=\u001b[39;49mltl_f_rew,\n\u001b[0;32m    303\u001b[0m                           NN_value_active\u001b[39m=\u001b[39;49mNN_value_active, LTL_coef\u001b[39m=\u001b[39;49mLTL_coef, foo\u001b[39m=\u001b[39;49mfoo)\n\u001b[0;32m    305\u001b[0m Pi \u001b[39m=\u001b[39m (N[root]\u001b[39m*\u001b[39m\u001b[39m*\u001b[39m(\u001b[39m1\u001b[39m\u001b[39m/\u001b[39mtow)) \u001b[39m/\u001b[39m np\u001b[39m.\u001b[39msum(N[root]\u001b[39m*\u001b[39m\u001b[39m*\u001b[39m(\u001b[39m1\u001b[39m\u001b[39m/\u001b[39mtow))\n\u001b[0;32m    307\u001b[0m \u001b[39mif\u001b[39;00m \u001b[39many\u001b[39m(np\u001b[39m.\u001b[39misnan(Pi)): \u001b[39m# for debugging puposes\u001b[39;00m\n",
      "File \u001b[1;32mc:\\Users\\pc-admin\\OneDrive - University of Waterloo\\MSc\\research\\Code\\RL-LTL\\ComputeCanada_scrips\\Utility_funcs.py:288\u001b[0m, in \u001b[0;36mMCTS_rec\u001b[1;34m(csrl, model, root, LTL_formula, trajectory, episode, predicates, rewards, ch_states, N, W, Q, P, visited, C, depth, random_move_chance, ltl_f_rew, NN_value_active, LTL_coef, foo)\u001b[0m\n\u001b[0;32m    285\u001b[0m next_state \u001b[39m=\u001b[39m states[np\u001b[39m.\u001b[39mrandom\u001b[39m.\u001b[39mchoice(\u001b[39mlen\u001b[39m(states),p\u001b[39m=\u001b[39mprobs)]\n\u001b[0;32m    287\u001b[0m \u001b[39m### expanding the next move and back tracking ###\u001b[39;00m\n\u001b[1;32m--> 288\u001b[0m value \u001b[39m=\u001b[39m MCTS_rec(csrl, model, next_state, LTL_formula, trajectory, episode, predicates, rewards, ch_states, N, W, Q, P,\n\u001b[0;32m    289\u001b[0m                  visited\u001b[39m=\u001b[39;49mvisited, C\u001b[39m=\u001b[39;49mC, depth\u001b[39m=\u001b[39;49mdepth\u001b[39m-\u001b[39;49m\u001b[39m1\u001b[39;49m, ltl_f_rew\u001b[39m=\u001b[39;49m ltl_f_rew, NN_value_active\u001b[39m=\u001b[39;49mNN_value_active, LTL_coef\u001b[39m=\u001b[39;49mLTL_coef,\n\u001b[0;32m    290\u001b[0m                  foo\u001b[39m=\u001b[39;49m\u001b[39m0\u001b[39;49m)\n\u001b[0;32m    291\u001b[0m N[root][next_move] \u001b[39m+\u001b[39m\u001b[39m=\u001b[39m \u001b[39m1\u001b[39m\n\u001b[0;32m    292\u001b[0m W[root][next_move] \u001b[39m+\u001b[39m\u001b[39m=\u001b[39m value\n",
      "File \u001b[1;32mc:\\Users\\pc-admin\\OneDrive - University of Waterloo\\MSc\\research\\Code\\RL-LTL\\ComputeCanada_scrips\\Utility_funcs.py:288\u001b[0m, in \u001b[0;36mMCTS_rec\u001b[1;34m(csrl, model, root, LTL_formula, trajectory, episode, predicates, rewards, ch_states, N, W, Q, P, visited, C, depth, random_move_chance, ltl_f_rew, NN_value_active, LTL_coef, foo)\u001b[0m\n\u001b[0;32m    285\u001b[0m next_state \u001b[39m=\u001b[39m states[np\u001b[39m.\u001b[39mrandom\u001b[39m.\u001b[39mchoice(\u001b[39mlen\u001b[39m(states),p\u001b[39m=\u001b[39mprobs)]\n\u001b[0;32m    287\u001b[0m \u001b[39m### expanding the next move and back tracking ###\u001b[39;00m\n\u001b[1;32m--> 288\u001b[0m value \u001b[39m=\u001b[39m MCTS_rec(csrl, model, next_state, LTL_formula, trajectory, episode, predicates, rewards, ch_states, N, W, Q, P,\n\u001b[0;32m    289\u001b[0m                  visited\u001b[39m=\u001b[39;49mvisited, C\u001b[39m=\u001b[39;49mC, depth\u001b[39m=\u001b[39;49mdepth\u001b[39m-\u001b[39;49m\u001b[39m1\u001b[39;49m, ltl_f_rew\u001b[39m=\u001b[39;49m ltl_f_rew, NN_value_active\u001b[39m=\u001b[39;49mNN_value_active, LTL_coef\u001b[39m=\u001b[39;49mLTL_coef,\n\u001b[0;32m    290\u001b[0m                  foo\u001b[39m=\u001b[39;49m\u001b[39m0\u001b[39;49m)\n\u001b[0;32m    291\u001b[0m N[root][next_move] \u001b[39m+\u001b[39m\u001b[39m=\u001b[39m \u001b[39m1\u001b[39m\n\u001b[0;32m    292\u001b[0m W[root][next_move] \u001b[39m+\u001b[39m\u001b[39m=\u001b[39m value\n",
      "    \u001b[1;31m[... skipping similar frames: MCTS_rec at line 288 (1 times)]\u001b[0m\n",
      "File \u001b[1;32mc:\\Users\\pc-admin\\OneDrive - University of Waterloo\\MSc\\research\\Code\\RL-LTL\\ComputeCanada_scrips\\Utility_funcs.py:288\u001b[0m, in \u001b[0;36mMCTS_rec\u001b[1;34m(csrl, model, root, LTL_formula, trajectory, episode, predicates, rewards, ch_states, N, W, Q, P, visited, C, depth, random_move_chance, ltl_f_rew, NN_value_active, LTL_coef, foo)\u001b[0m\n\u001b[0;32m    285\u001b[0m next_state \u001b[39m=\u001b[39m states[np\u001b[39m.\u001b[39mrandom\u001b[39m.\u001b[39mchoice(\u001b[39mlen\u001b[39m(states),p\u001b[39m=\u001b[39mprobs)]\n\u001b[0;32m    287\u001b[0m \u001b[39m### expanding the next move and back tracking ###\u001b[39;00m\n\u001b[1;32m--> 288\u001b[0m value \u001b[39m=\u001b[39m MCTS_rec(csrl, model, next_state, LTL_formula, trajectory, episode, predicates, rewards, ch_states, N, W, Q, P,\n\u001b[0;32m    289\u001b[0m                  visited\u001b[39m=\u001b[39;49mvisited, C\u001b[39m=\u001b[39;49mC, depth\u001b[39m=\u001b[39;49mdepth\u001b[39m-\u001b[39;49m\u001b[39m1\u001b[39;49m, ltl_f_rew\u001b[39m=\u001b[39;49m ltl_f_rew, NN_value_active\u001b[39m=\u001b[39;49mNN_value_active, LTL_coef\u001b[39m=\u001b[39;49mLTL_coef,\n\u001b[0;32m    290\u001b[0m                  foo\u001b[39m=\u001b[39;49m\u001b[39m0\u001b[39;49m)\n\u001b[0;32m    291\u001b[0m N[root][next_move] \u001b[39m+\u001b[39m\u001b[39m=\u001b[39m \u001b[39m1\u001b[39m\n\u001b[0;32m    292\u001b[0m W[root][next_move] \u001b[39m+\u001b[39m\u001b[39m=\u001b[39m value\n",
      "File \u001b[1;32mc:\\Users\\pc-admin\\OneDrive - University of Waterloo\\MSc\\research\\Code\\RL-LTL\\ComputeCanada_scrips\\Utility_funcs.py:285\u001b[0m, in \u001b[0;36mMCTS_rec\u001b[1;34m(csrl, model, root, LTL_formula, trajectory, episode, predicates, rewards, ch_states, N, W, Q, P, visited, C, depth, random_move_chance, ltl_f_rew, NN_value_active, LTL_coef, foo)\u001b[0m\n\u001b[0;32m    282\u001b[0m     \u001b[39mprint\u001b[39m(\u001b[39m\"\u001b[39m\u001b[39mnext move:\u001b[39m\u001b[39m\"\u001b[39m, next_move)\n\u001b[0;32m    283\u001b[0m     \u001b[39mprint\u001b[39m(\u001b[39m\"\u001b[39m\u001b[39mcsrl.transition_probs[root]\u001b[39m\u001b[39m\"\u001b[39m, csrl\u001b[39m.\u001b[39mtransition_probs[root])\n\u001b[1;32m--> 285\u001b[0m next_state \u001b[39m=\u001b[39m states[np\u001b[39m.\u001b[39;49mrandom\u001b[39m.\u001b[39;49mchoice(\u001b[39mlen\u001b[39;49m(states),p\u001b[39m=\u001b[39;49mprobs)]\n\u001b[0;32m    287\u001b[0m \u001b[39m### expanding the next move and back tracking ###\u001b[39;00m\n\u001b[0;32m    288\u001b[0m value \u001b[39m=\u001b[39m MCTS_rec(csrl, model, next_state, LTL_formula, trajectory, episode, predicates, rewards, ch_states, N, W, Q, P,\n\u001b[0;32m    289\u001b[0m                  visited\u001b[39m=\u001b[39mvisited, C\u001b[39m=\u001b[39mC, depth\u001b[39m=\u001b[39mdepth\u001b[39m-\u001b[39m\u001b[39m1\u001b[39m, ltl_f_rew\u001b[39m=\u001b[39m ltl_f_rew, NN_value_active\u001b[39m=\u001b[39mNN_value_active, LTL_coef\u001b[39m=\u001b[39mLTL_coef,\n\u001b[0;32m    290\u001b[0m                  foo\u001b[39m=\u001b[39m\u001b[39m0\u001b[39m)\n",
      "\u001b[1;31mKeyboardInterrupt\u001b[0m: "
     ]
    }
   ],
   "source": [
    "visited_states_train = []\n",
    "visited_states_test = []\n",
    "LTL_coef = 10\n",
    "\n",
    "search_depth = 10\n",
    "MCTS_samples = 100\n",
    "\n",
    "num_training_epochs =  20\n",
    "num_test_epochs = 20\n",
    "training = True\n",
    "epochs = 10\n",
    "T = [25, 50, 75, 100, 200, 400]\n",
    "LTL_coefs = [100, 10, 1]\n",
    "K = 1\n",
    "batch_size = 32\n",
    "steps_per_epoch = 4\n",
    "idx = 0\n",
    "success_rates = []\n",
    "succes_std = []\n",
    "win_hist = []\n",
    "train_history = []\n",
    "\n",
    "os.remove(\"Log_run.txt\")\n",
    "model = build_model(ch_states[(0,0,0,0)].shape, csrl.shape[-1])\n",
    "for i in T:\n",
    "    # C = Cs[idx % 5]\n",
    "    # LTL_coef = LTL_coefs[idx]\n",
    "    # print(C)\n",
    "    idx += 1\n",
    "    # TRAIN ##############################\n",
    "    train_wins = 0\n",
    "    # num_training_epochs = int(200 - 1.9*i)\n",
    "    N, W, Q, P, visited_train = np.zeros(csrl.shape), np.zeros(csrl.shape), np.zeros(csrl.shape), np.zeros(csrl.shape), set()\n",
    "    for epoch in range(num_training_epochs):\n",
    "        t1 = time.time()\n",
    "        print(Q[(0,0,0,0)][:4], len(visited_train))\n",
    "        state_history, channeled_states, trajectory, action_history, reward_history, better_policy = MC_learning(csrl, model, LTL_formula,\n",
    "                predicates, csrl.reward, ch_states, N = N, W = W, Q = Q, P = P, C=0.1, tow=0.7, n_samples=MCTS_samples, visited=visited_train,\n",
    "                start=None, search_depth=search_depth, verbose=0, T=i, K=K, run_num=epoch, ltl_f_rew=False, LTL_coef=LTL_coef)\n",
    "        \n",
    "        # print('N',N[(0,0,4,1)][:5])\n",
    "        visited_states_train += state_history\n",
    "        t2 = time.time()\n",
    "        # print(t2-t1, \" run episode\")\n",
    "\n",
    "        # win = check_LTL(LTL_formula, trajectory, predicates)[0]\n",
    "        if reward_history[-1]>0: train_wins+=1\n",
    "\n",
    "        if training and len(action_history)>0:\n",
    "            if epoch==0:\n",
    "                x_train = np.array(channeled_states)[:-1]\n",
    "                y1_train = np.array(better_policy)\n",
    "                y2_train = np.array(reward_history) + LTL_coef*reward_history[-1]\n",
    "                # y2_train = np.array(reward_history)\n",
    "                y2_train = y2_train[:-1]\n",
    "            else:\n",
    "                x_train = np.concatenate((x_train, np.array(channeled_states)[:-1]),0)\n",
    "                y1_train = np.concatenate((y1_train, np.array(better_policy)),0)\n",
    "                y2_train_curr = np.array(reward_history) + LTL_coef*reward_history[-1]\n",
    "                # y2_train_curr = np.array(reward_history)\n",
    "                y2_train = np.concatenate((y2_train, y2_train_curr[:-1]),0)\n",
    "            t3= time.time()\n",
    "            # print(t3-t2, \" build database\")\n",
    "            tr_hist = model.fit(x_train, [y1_train, y2_train], epochs=epochs, batch_size=batch_size,\n",
    "                                steps_per_epoch=steps_per_epoch if len(x_train)>steps_per_epoch*epochs*batch_size else None, verbose=0)\n",
    "            train_history += tr_hist.history['loss']\n",
    "        # win_hist.append(win)\n",
    "        t4 = time.time()\n",
    "        # print(t4-t3, \"fit\", len(x_train))\n",
    "    print(\"Train wins:\",train_wins,\"/\", num_training_epochs)\n",
    "\n",
    "    # TEST ##############################\n",
    "    test_wins = 0\n",
    "    N, W, Q, P, visited_test = np.zeros(csrl.shape), np.zeros(csrl.shape), np.zeros(csrl.shape), np.zeros(csrl.shape), set()\n",
    "    for epoch in range(num_test_epochs):\n",
    "        \n",
    "        state_history, channeled_states, trajectory, action_history, reward_history, better_policy = MC_learning(csrl, model, LTL_formula,\n",
    "                predicates, csrl.reward, ch_states, N = N, W = W, Q = Q, P = P, C=0.1, tow=0.7, n_samples=MCTS_samples, visited=visited_test,\n",
    "                start=None, search_depth=search_depth, verbose=0, T=i, K=1, NN_value_active=True)\n",
    "\n",
    "        # win = check_LTL(LTL_formula, trajectory, predicates)[0]\n",
    "        win = reward_history[-1]\n",
    "        if win: test_wins+=1\n",
    "        win_hist.append(win)\n",
    "        visited_states_test += state_history\n",
    "        \n",
    "    success_rates.append(100*test_wins/num_test_epochs)\n",
    "    temp = np.zeros(num_test_epochs)\n",
    "    temp[:test_wins]=1\n",
    "    std = np.sqrt(num_test_epochs*np.var(temp))\n",
    "    succes_std.append((success_rates[-1]-std, success_rates[-1]+std))\n",
    "    ###############################################################\n",
    "    print(\"Test wins:\",test_wins,\"/\",num_test_epochs)\n",
    "    # print(\"last reward:\", reward_history[-1], \"  | trajectory:\", trajectory)\n",
    "    # print(\"Actions:\", action_history)\n",
    "\n",
    "encode_visited_states_test = [i[1]*csrl.shape[-2]*csrl.shape[-3]+i[2]*csrl.shape[-2]+i[3] for i in visited_states_test]\n",
    "encode_visited_states_train = [i[1]*csrl.shape[-2]*csrl.shape[-3]+i[2]*csrl.shape[-2]+i[3] for i in visited_states_train]\n",
    "\n",
    "# u, d, r, l"
   ]
  },
  {
   "cell_type": "code",
   "execution_count": 8,
   "metadata": {},
   "outputs": [],
   "source": [
    "# model.save_weights(filepath=f'first_case_{p}')"
   ]
  },
  {
   "cell_type": "code",
   "execution_count": 9,
   "metadata": {},
   "outputs": [
    {
     "data": {
      "text/plain": [
       "[100.0]"
      ]
     },
     "execution_count": 9,
     "metadata": {},
     "output_type": "execute_result"
    },
    {
     "data": {
      "image/png": "[encoded data removed]",
      "text/plain": [
       "<Figure size 700x400 with 1 Axes>"
      ]
     },
     "metadata": {},
     "output_type": "display_data"
    }
   ],
   "source": [
    "succes_std = np.array(succes_std)\n",
    "\n",
    "plt.figure(figsize=(7,4))\n",
    "plt.fill_between(T, succes_std[:,0], succes_std[:,1], alpha=0.3, label=\"MCTS area of 1 STD\")\n",
    "\n",
    "plt.plot(T, success_rates)\n",
    "plt.xlabel(\"length of trajectory (T)\")\n",
    "plt.ylabel(\"succes rate (out of 20 runs)\")\n",
    "plt.title(\"MCTS (search depth=\"+str(search_depth)+\") performance results on the first case study, P=\"+str(p))\n",
    "success_rates"
   ]
  },
  {
   "cell_type": "code",
   "execution_count": 10,
   "metadata": {},
   "outputs": [
    {
     "ename": "KeyboardInterrupt",
     "evalue": "",
     "output_type": "error",
     "traceback": [
      "\u001b[1;31m---------------------------------------------------------------------------\u001b[0m",
      "\u001b[1;31mKeyboardInterrupt\u001b[0m                         Traceback (most recent call last)",
      "Cell \u001b[1;32mIn[10], line 1\u001b[0m\n\u001b[1;32m----> 1\u001b[0m Q\u001b[39m=\u001b[39mcsrl\u001b[39m.\u001b[39;49mq_learning(T\u001b[39m=\u001b[39;49m\u001b[39m100\u001b[39;49m,K\u001b[39m=\u001b[39;49m\u001b[39m100000\u001b[39;49m)\n\u001b[0;32m      2\u001b[0m np\u001b[39m.\u001b[39msave(\u001b[39mf\u001b[39m\u001b[39m'\u001b[39m\u001b[39mQ1_\u001b[39m\u001b[39m{\u001b[39;00mp\u001b[39m}\u001b[39;00m\u001b[39m'\u001b[39m, Q)\n",
      "File \u001b[1;32mc:\\Users\\pc-admin\\OneDrive - University of Waterloo\\MSc\\research\\Code\\RL-LTL\\ComputeCanada_scrips\\csrl\\__init__.py:162\u001b[0m, in \u001b[0;36mControlSynthesis.q_learning\u001b[1;34m(self, start, T, K)\u001b[0m\n\u001b[0;32m    160\u001b[0m \u001b[39m# Observe the next state\u001b[39;00m\n\u001b[0;32m    161\u001b[0m states, probs \u001b[39m=\u001b[39m \u001b[39mself\u001b[39m\u001b[39m.\u001b[39mtransition_probs[state][action]\n\u001b[1;32m--> 162\u001b[0m next_state \u001b[39m=\u001b[39m states[np\u001b[39m.\u001b[39;49mrandom\u001b[39m.\u001b[39;49mchoice(\u001b[39mlen\u001b[39;49m(states),p\u001b[39m=\u001b[39;49mprobs)]\n\u001b[0;32m    164\u001b[0m \u001b[39m# Q-update\u001b[39;00m\n\u001b[0;32m    165\u001b[0m Q[state][action] \u001b[39m+\u001b[39m\u001b[39m=\u001b[39m alpha \u001b[39m*\u001b[39m (reward \u001b[39m+\u001b[39m gamma\u001b[39m*\u001b[39mnp\u001b[39m.\u001b[39mmax(Q[next_state]) \u001b[39m-\u001b[39m Q[state][action])\n",
      "\u001b[1;31mKeyboardInterrupt\u001b[0m: "
     ]
    }
   ],
   "source": [
    "Q=csrl.q_learning(T=100,K=100000)\n",
    "np.save(f'Q1_{p}', Q)"
   ]
  },
  {
   "cell_type": "code",
   "execution_count": null,
   "metadata": {},
   "outputs": [],
   "source": [
    "policy=np.argmax(Q,axis=4)\n",
    "value=np.max(Q,axis=4)"
   ]
  },
  {
   "cell_type": "code",
   "execution_count": null,
   "metadata": {},
   "outputs": [],
   "source": [
    "rewards_mean = []\n",
    "rewards_std = []\n",
    "n_runs = 200\n",
    "\n",
    "for i in T:\n",
    "    episodes, rew = run_Q_test(csrl, policy, LTL_formula, predicates, T=i, start=None, runs=n_runs, verbose=0)\n",
    "    rewards_mean.append(100*np.mean(rew))\n",
    "    rewards_std.append((rewards_mean[-1]-np.sqrt(n_runs*np.var(rew)), rewards_mean[-1]+np.sqrt(n_runs*np.var(rew))))\n",
    "rewards_std = np.array(rewards_std)"
   ]
  },
  {
   "cell_type": "code",
   "execution_count": null,
   "metadata": {},
   "outputs": [],
   "source": [
    "plt.figure(figsize=(7,4))\n",
    "\n",
    "plt.fill_between(T, rewards_std[:,0], rewards_std[:,1], alpha=0.3)\n",
    "plt.plot(T, rewards_mean, label=\"CSRL\")\n",
    "plt.xlabel(\"length of trajectory (T)\")\n",
    "plt.ylabel(\"succes rate\")\n",
    "# plt.title(\"Comparison on the first case; stochastic\")\n",
    "plt.title(\"Comparison on the first case; deterministic\")\n",
    "plt.ylim(-10, 110)\n",
    "\n",
    "plt.fill_between(T, succes_std[:,0], succes_std[:,1], alpha=0.3)\n",
    "plt.plot(T, success_rates, label=\"RL-LTL\")\n",
    "plt.legend()\n",
    "plt.savefig(f\"res_400/C1_P{p}.pdf\")"
   ]
  },
  {
   "cell_type": "code",
   "execution_count": null,
   "metadata": {},
   "outputs": [],
   "source": [
    "plt.figure(figsize=(7,4))\n",
    "plt.fill_between(T, rewards_std[:,0], rewards_std[:,1], alpha=0.3, label=\"1 STD\")\n",
    "\n",
    "plt.plot(T, rewards_mean, label=\"CSRL\")\n",
    "plt.xlabel(\"length of trajectory (T)\")\n",
    "plt.ylabel(\"succes rate (out of 100 runs)\")\n",
    "plt.title(\"CSRL performance results on the first case study, P=\"+str(p))"
   ]
  },
  {
   "cell_type": "code",
   "execution_count": null,
   "metadata": {},
   "outputs": [],
   "source": []
  }
 ],
 "metadata": {
  "kernelspec": {
   "display_name": "base",
   "language": "python",
   "name": "python3"
  },
  "language_info": {
   "codemirror_mode": {
    "name": "ipython",
    "version": 3
   },
   "file_extension": ".py",
   "mimetype": "text/x-python",
   "name": "python",
   "nbconvert_exporter": "python",
   "pygments_lexer": "ipython3",
   "version": "3.10.8"
  },
  "vscode": {
   "interpreter": {
    "hash": "99202338b96e74e315910b3b20b9a2b0621872c4f26ff012cceee1c9c29d9125"
   }
  }
 },
 "nbformat": 4,
 "nbformat_minor": 4
}
