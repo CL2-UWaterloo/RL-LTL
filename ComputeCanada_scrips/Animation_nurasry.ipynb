{
 "cells": [
  {
   "cell_type": "code",
   "execution_count": 2,
   "metadata": {},
   "outputs": [],
   "source": [
    "from NN import *\n",
    "from LTL import *\n",
    "\n",
    "from csrl.mdp import GridMDP\n",
    "from csrl.oa import OmegaAutomaton\n",
    "from csrl import ControlSynthesis\n",
    "\n",
    "import threading\n",
    "import numpy as np\n",
    "import os\n",
    "from matplotlib import pyplot as plt"
   ]
  },
  {
   "cell_type": "code",
   "execution_count": 3,
   "metadata": {},
   "outputs": [
    {
     "name": "stdout",
     "output_type": "stream",
     "text": [
      "Number of Omega-automaton states (including the trap state): 55\n"
     ]
    },
    {
     "data": {
      "image/png": "[encoded data removed]",
      "text/plain": [
       "<Figure size 500x500 with 1 Axes>"
      ]
     },
     "metadata": {},
     "output_type": "display_data"
    }
   ],
   "source": [
    "### from the Nursary case ###\n",
    "# LTL Specification\n",
    "# ltl = ('G ('\n",
    "#     '(!d) & '\n",
    "#     '((b & (!(X b)))->(X ((!b) U (a|c)))) & '\n",
    "#     '(((!b) & (X b) & (!(X X b)))->((!a) U c)) & '\n",
    "#     '(a->(X ((!a) U b))) & '\n",
    "#     '(c->((!a) U b)) & '\n",
    "#     '((b & (X b))->(F a))'\n",
    "# ')')\n",
    "\n",
    "ltl = ('G ('\n",
    "    '(!d) & '\n",
    "    '(c->((!a) U b)) & '\n",
    "    '((b & (X b))->(F a)) & '\n",
    "    '((b & (!(X b)))->(X ((!b) U (a|c)))) & '\n",
    "    '(((!b) & (X b) & (!(X X b)))->((!a) U c)) &'\n",
    "    '(a->(X ((!a) U b))) '\n",
    "')')\n",
    "\n",
    "# Translate the LTL formula to an LDBA\n",
    "oa = OmegaAutomaton(ltl)\n",
    "print('Number of Omega-automaton states (including the trap state):',oa.shape[1])\n",
    "\n",
    "# MDP Description\n",
    "shape = (5,4)\n",
    "# E: Empty, T: Trap, B: Obstacle\n",
    "structure = np.array([\n",
    "['E',  'E',  'E',  'E'],\n",
    "['E',  'E',  'E',  'E'],\n",
    "['E',  'E',  'E',  'E'],\n",
    "['E',  'E',  'E',  'E'],\n",
    "['E',  'E',  'E',  'E']\n",
    "])\n",
    "\n",
    "# Labels of the states\n",
    "label = np.array([\n",
    "[(),    (),    ('b',),('d',)],\n",
    "[(),    (),    (),    ()],\n",
    "[(),    (),    (),    ()],\n",
    "[('a',),(),    (),    ()],\n",
    "[(),    ('c',),(),    ()]\n",
    "],dtype=object)\n",
    "# Colors of the labels\n",
    "lcmap={\n",
    "    ('a',):'yellow',\n",
    "    ('b',):'greenyellow',\n",
    "    ('c',):'turquoise',\n",
    "    ('d',):'pink'\n",
    "}\n",
    "grid_mdp = GridMDP(shape=shape,structure=structure,label=label,lcmap=lcmap, p=0.8, figsize=5)  # Use figsize=4 for smaller figures\n",
    "grid_mdp.plot()\n",
    "\n",
    "# Construct the product MDP\n",
    "csrl = ControlSynthesis(grid_mdp,oa)\n",
    "max_rew = round(csrl.reward.max(), 3)"
   ]
  },
  {
   "cell_type": "code",
   "execution_count": 4,
   "metadata": {},
   "outputs": [
    {
     "name": "stdout",
     "output_type": "stream",
     "text": [
      "Model: \"model\"\n",
      "__________________________________________________________________________________________________\n",
      " Layer (type)                   Output Shape         Param #     Connected to                     \n",
      "==================================================================================================\n",
      " input_1 (InputLayer)           [(None, 5, 4, 55)]   0           []                               \n",
      "                                                                                                  \n",
      " conv2d (Conv2D)                (None, 5, 4, 32)     7072        ['input_1[0][0]']                \n",
      "                                                                                                  \n",
      " conv2d_1 (Conv2D)              (None, 5, 4, 8)      1032        ['conv2d[0][0]']                 \n",
      "                                                                                                  \n",
      " flatten (Flatten)              (None, 160)          0           ['conv2d_1[0][0]']               \n",
      "                                                                                                  \n",
      " dense (Dense)                  (None, 32)           5152        ['flatten[0][0]']                \n",
      "                                                                                                  \n",
      " dense_1 (Dense)                (None, 16)           528         ['dense[0][0]']                  \n",
      "                                                                                                  \n",
      " dense_2 (Dense)                (None, 59)           1003        ['dense_1[0][0]']                \n",
      "                                                                                                  \n",
      " dense_3 (Dense)                (None, 1)            17          ['dense_1[0][0]']                \n",
      "                                                                                                  \n",
      "==================================================================================================\n",
      "Total params: 14,804\n",
      "Trainable params: 14,804\n",
      "Non-trainable params: 0\n",
      "__________________________________________________________________________________________________\n"
     ]
    }
   ],
   "source": [
    "model = build_model(csrl.ch_states[(0,0,0,0)].shape, csrl.shape[-1])\n",
    "model.summary()"
   ]
  },
  {
   "cell_type": "code",
   "execution_count": 5,
   "metadata": {},
   "outputs": [],
   "source": [
    "full_t = \"[] ( (~d) /\\ ((b /\\ ~>b) -> >(~b % (a \\/ c))) /\\ (a -> >(~a % b))\"\n",
    "full_t += \" /\\ ((~b /\\ >b /\\ ~>>b)->(~a % c)) /\\ (c->(~a % b)) /\\ ((b /\\ >b) -> <>a) )\"\n",
    "\n",
    "LTL_formula = parser.parse(full_t)\n",
    "predicates={'a':[12], 'b':[2], 'c':[17], 'd':[3]}\n",
    "\n",
    "### proof of satifying trajectory ###\n",
    "tra = [17,13,9,5,1,2,6,10,14,18,17]\n",
    "# print(len(tra), check_LTL(LTL_formula, tra, predicates))\n",
    "#######"
   ]
  },
  {
   "cell_type": "code",
   "execution_count": 6,
   "metadata": {},
   "outputs": [
    {
     "data": {
      "text/plain": [
       "('[]',\n",
       " ('/\\\\',\n",
       "  ('~', (None, 'd')),\n",
       "  ('/\\\\',\n",
       "   ('->',\n",
       "    ('/\\\\', (None, 'b'), ('~', ('>', (None, 'b')))),\n",
       "    ('>', ('%', ('~', (None, 'b')), ('\\\\/', (None, 'a'), (None, 'c'))))),\n",
       "   ('/\\\\',\n",
       "    ('->', (None, 'a'), ('>', ('%', ('~', (None, 'a')), (None, 'b')))),\n",
       "    ('/\\\\',\n",
       "     ('->',\n",
       "      ('/\\\\',\n",
       "       ('~', (None, 'b')),\n",
       "       ('/\\\\', ('>', (None, 'b')), ('~', ('>', ('>', (None, 'b')))))),\n",
       "      ('%', ('~', (None, 'a')), (None, 'c'))),\n",
       "     ('/\\\\',\n",
       "      ('->', (None, 'c'), ('%', ('~', (None, 'a')), (None, 'b'))),\n",
       "      ('->',\n",
       "       ('/\\\\', (None, 'b'), ('>', (None, 'b'))),\n",
       "       ('<>', (None, 'a')))))))))"
      ]
     },
     "execution_count": 6,
     "metadata": {},
     "output_type": "execute_result"
    }
   ],
   "source": [
    "LTL_formula"
   ]
  },
  {
   "cell_type": "code",
   "execution_count": 7,
   "metadata": {},
   "outputs": [],
   "source": [
    "model(csrl.ch_states[(0,0,0,0)][np.newaxis])\n",
    "\n",
    "N, W, Q, P = np.zeros(csrl.shape), np.zeros(csrl.shape), np.zeros(csrl.shape), np.zeros(csrl.shape)"
   ]
  },
  {
   "cell_type": "code",
   "execution_count": 10,
   "metadata": {},
   "outputs": [
    {
     "name": "stdout",
     "output_type": "stream",
     "text": [
      "5\n",
      "Wins: 1 / 50\n",
      "last reward: 0.0   | trajectory: [17, 18, 14, 18, 19, 18, 14, 13, 12, 13, 9, 10, 11, 15, 19, 15, 19, 18, 17, 13]\n",
      "Actions: [1, 0, 3, 1, 3, 0, 3, 3, 1, 0, 0, 2, 1, 1, 0, 1, 3, 3, 0]\n",
      "70\n",
      "Wins: 1 / 50\n",
      "last reward: 0.0   | trajectory: [17, 17, 16, 12, 13, 14, 18, 17, 16, 12, 8, 4, 0, 1, 1, 1, 0, 1, 2, 6]\n",
      "Actions: [1, 3, 0, 2, 2, 1, 3, 3, 0, 0, 0, 0, 2, 0, 0, 3, 2, 2, 1]\n",
      "116\n",
      "137\n",
      "Wins: 2 / 50\n",
      "last reward: 0.0   | trajectory: [17, 18, 14, 10, 9, 5, 1, 2, 1, 5, 4, 8, 12, 13, 17, 13, 14, 15, 19, 19]\n",
      "Actions: [1, 0, 0, 3, 0, 0, 2, 3, 1, 1, 2, 1, 0, 2, 0, 2, 2, 1, 1]\n",
      "161\n",
      "170\n",
      "171\n",
      "181\n",
      "185\n",
      "188\n",
      "194\n",
      "195\n",
      "196\n",
      "198\n",
      "Wins: 10 / 50\n",
      "last reward: 0.0   | trajectory: [17, 17, 18, 19, 15, 14, 10, 6, 7, 11, 10, 6, 2, 2, 2, 1, 0, 4, 5, 9]\n",
      "Actions: [1, 0, 2, 0, 3, 0, 0, 0, 3, 3, 0, 0, 0, 3, 3, 3, 1, 2, 1]\n",
      "204\n",
      "205\n",
      "208\n",
      "212\n",
      "214\n",
      "215\n",
      "234\n",
      "238\n",
      "239\n",
      "240\n",
      "Wins: 10 / 50\n",
      "last reward: 0.0   | trajectory: [17, 17, 18, 18, 18, 17, 13, 9, 8, 4, 4, 5, 1, 2, 2, 6, 10, 14, 13, 9]\n",
      "Actions: [1, 2, 3, 1, 3, 0, 0, 3, 0, 0, 2, 0, 2, 0, 1, 1, 1, 3, 3]\n",
      "251\n",
      "255\n",
      "259\n",
      "260\n",
      "267\n",
      "270\n",
      "273\n",
      "277\n",
      "280\n",
      "284\n",
      "285\n",
      "287\n",
      "293\n",
      "299\n",
      "300\n",
      "Wins: 15 / 50\n",
      "last reward: 0.0   | trajectory: [17, 16, 17, 13, 17, 18, 14, 10, 6, 2, 1, 5, 9, 10, 14, 18, 14, 13, 17, 18]\n",
      "Actions: [3, 2, 2, 1, 2, 0, 0, 0, 0, 0, 1, 1, 2, 1, 3, 0, 3, 1, 2]\n",
      "302\n",
      "303\n",
      "304\n",
      "305\n",
      "307\n",
      "308\n",
      "309\n",
      "312\n",
      "314\n",
      "316\n",
      "318\n",
      "319\n",
      "323\n",
      "329\n",
      "330\n",
      "334\n",
      "339\n",
      "343\n",
      "344\n",
      "346\n",
      "347\n",
      "348\n",
      "349\n",
      "Wins: 23 / 50\n",
      "last reward: 0.0   | trajectory: [17, 17, 13, 17, 13, 14, 10, 9, 8, 4, 5, 1, 2, 1, 1, 5, 6, 10, 14, 18]\n",
      "Actions: [1, 0, 2, 0, 2, 0, 3, 0, 0, 2, 0, 2, 3, 3, 1, 2, 2, 1, 1]\n",
      "354\n",
      "362\n",
      "366\n",
      "370\n",
      "374\n",
      "376\n",
      "378\n",
      "382\n",
      "384\n",
      "388\n",
      "389\n",
      "392\n",
      "393\n",
      "398\n",
      "399\n",
      "Wins: 15 / 50\n",
      "last reward: 0.0   | trajectory: [17, 18, 14, 15, 11, 7, 6, 7, 6, 2, 2, 1, 0, 4, 8, 12, 8, 4, 5, 6]\n",
      "Actions: [2, 0, 2, 0, 0, 3, 0, 3, 0, 0, 3, 3, 1, 1, 2, 2, 0, 2, 2]\n",
      "401\n",
      "402\n",
      "406\n",
      "408\n",
      "410\n",
      "412\n",
      "413\n",
      "420\n",
      "423\n",
      "426\n",
      "428\n",
      "430\n",
      "431\n",
      "436\n",
      "437\n",
      "439\n",
      "440\n",
      "444\n",
      "447\n",
      "448\n",
      "449\n",
      "Wins: 21 / 50\n",
      "last reward: 0.0   | trajectory: [17, 13, 9, 10, 9, 8, 4, 4, 0, 1, 2, 3]\n",
      "Actions: [0, 0, 0, 0, 0, 0, 0, 0, 2, 2, 0]\n",
      "451\n",
      "452\n",
      "455\n",
      "458\n",
      "459\n",
      "460\n",
      "462\n",
      "463\n",
      "468\n",
      "470\n",
      "472\n",
      "474\n",
      "475\n",
      "476\n",
      "477\n",
      "479\n",
      "480\n",
      "482\n",
      "489\n",
      "492\n",
      "493\n",
      "494\n",
      "496\n",
      "498\n",
      "499\n",
      "Wins: 25 / 50\n",
      "last reward: 0.0   | trajectory: [17, 18, 14, 10, 9, 5, 1, 2, 2, 6, 10, 9, 13, 12, 13, 9, 5, 1, 2, 3]\n",
      "Actions: [2, 0, 0, 3, 0, 0, 2, 0, 1, 1, 3, 1, 3, 2, 0, 0, 0, 2, 0]\n",
      "501\n",
      "502\n",
      "503\n",
      "508\n",
      "509\n",
      "510\n",
      "511\n",
      "512\n",
      "513\n",
      "514\n",
      "516\n",
      "517\n",
      "518\n",
      "520\n",
      "521\n",
      "524\n",
      "527\n",
      "529\n",
      "533\n",
      "535\n",
      "536\n",
      "539\n",
      "540\n",
      "541\n",
      "542\n",
      "543\n",
      "544\n",
      "545\n",
      "546\n",
      "547\n",
      "548\n",
      "550\n",
      "Wins: 32 / 50\n",
      "last reward: 0.0   | trajectory: [17, 17, 18, 19, 15, 11, 10, 6, 2, 2, 6, 5, 4, 8, 12, 8, 4, 0, 1, 2]\n",
      "Actions: [1, 0, 2, 0, 0, 3, 0, 0, 0, 3, 3, 3, 1, 1, 0, 0, 0, 2, 2]\n",
      "551\n",
      "552\n",
      "559\n",
      "560\n",
      "561\n",
      "570\n",
      "575\n",
      "576\n",
      "579\n",
      "581\n",
      "583\n",
      "585\n",
      "590\n",
      "591\n",
      "592\n",
      "593\n",
      "595\n",
      "599\n",
      "Wins: 18 / 50\n",
      "last reward: 0.0   | trajectory: [17, 18, 18, 17, 13, 9, 10, 6, 2, 2, 6, 5, 4, 4, 8, 12, 8, 9, 5, 1]\n",
      "Actions: [1, 1, 3, 0, 0, 2, 0, 0, 0, 1, 3, 3, 1, 1, 1, 0, 2, 0, 0]\n",
      "603\n",
      "605\n",
      "607\n",
      "609\n",
      "611\n",
      "612\n",
      "613\n",
      "616\n",
      "617\n",
      "619\n",
      "621\n",
      "622\n",
      "624\n",
      "625\n",
      "628\n",
      "629\n",
      "630\n",
      "634\n",
      "640\n",
      "644\n",
      "647\n",
      "Wins: 21 / 50\n",
      "last reward: 0.0   | trajectory: [17, 18, 14, 13, 9, 5, 6, 7, 6, 2, 1, 0, 1, 5, 4, 0, 0, 1, 5, 9]\n",
      "Actions: [2, 0, 3, 0, 0, 2, 0, 3, 0, 3, 1, 2, 1, 1, 0, 2, 2, 1, 1]\n",
      "652\n",
      "656\n",
      "657\n",
      "658\n",
      "659\n",
      "661\n",
      "665\n",
      "669\n",
      "673\n",
      "675\n",
      "680\n",
      "681\n",
      "683\n",
      "685\n",
      "687\n",
      "688\n",
      "689\n",
      "690\n",
      "694\n",
      "695\n",
      "697\n",
      "Wins: 21 / 50\n",
      "last reward: 0.0   | trajectory: [17, 13, 14, 10, 6, 2, 1, 5, 9, 10, 14, 13, 17, 13, 9, 5, 6, 2, 1, 5]\n",
      "Actions: [0, 2, 0, 0, 0, 3, 1, 1, 2, 1, 3, 1, 0, 2, 0, 2, 0, 3, 1]\n"
     ]
    }
   ],
   "source": [
    "num_epochs = 50\n",
    "training = False\n",
    "T = 20\n",
    "results = []\n",
    "threads = []\n",
    "t_count = 0\n",
    "search_depths = [2,4,8,16,32,40,60,80,100,120,140,160,180,200] #[2,4,6,8,10,15,20,25,30,35,40,45,50,60,70,80,90,100,120]\n",
    "\n",
    "for sd in search_depths:\n",
    "    wins = 0\n",
    "    N, W, Q, P = np.zeros(csrl.shape), np.zeros(csrl.shape), np.zeros(csrl.shape), np.zeros(csrl.shape)\n",
    "    for epoch in range(num_epochs):\n",
    "        t_count += 1\n",
    "        state_history, channeled_states, trajectory, action_history, reward_history, better_policy = csrl.MC_learning(model, LTL_formula, predicates,\n",
    "                N = N, W = W, Q = Q, P = P, C=3, tow=1, n_samples=sd,\n",
    "                verbose=0,start=(4,1),T=T,K=3)\n",
    "        if check_LTL(LTL_formula, trajectory, predicates)[0]:\n",
    "            wins+=1\n",
    "            print(t_count)\n",
    "            # print(check_LTL(LTL_formula, trajectory, predicates))\n",
    "\n",
    "        if training:\n",
    "            x_train = np.array(channeled_states)\n",
    "            y1_train = np.array(better_policy)\n",
    "            y2_train = np.array(reward_history) + (check_LTL(LTL_formula, trajectory, predicates)[0]*max_rew)\n",
    "            model.fit(x_train[:-1], [y1_train, y2_train[:-1]], epochs=20, verbose=0)\n",
    "    ###############################################################\n",
    "    print(\"Wins:\",wins,\"/\",num_epochs)\n",
    "    print(\"last reward:\", reward_history[-1], \"  | trajectory:\", trajectory)\n",
    "    print(\"Actions:\", action_history)\n",
    "    results.append(wins)"
   ]
  },
  {
   "cell_type": "code",
   "execution_count": 11,
   "metadata": {},
   "outputs": [
    {
     "data": {
      "image/png": "[encoded data removed]",
      "text/plain": [
       "<Figure size 640x480 with 1 Axes>"
      ]
     },
     "metadata": {},
     "output_type": "display_data"
    }
   ],
   "source": [
    "plt.plot(search_depths, [r*2 for r in results])\n",
    "plt.xlabel(\"number of MCTS samples in each time-step\")\n",
    "plt.ylabel(\"succes rate\")\n",
    "plt.title(\"Succes rate, over 20 runs for each MCTS sample size\")\n",
    "plt.savefig('line_plot2.pdf')"
   ]
  },
  {
   "cell_type": "code",
   "execution_count": 19,
   "metadata": {},
   "outputs": [],
   "source": [
    "from ipywidgets.widgets import IntSlider\n",
    "from ipywidgets import interact"
   ]
  },
  {
   "cell_type": "code",
   "execution_count": 25,
   "metadata": {},
   "outputs": [
    {
     "data": {
      "application/vnd.jupyter.widget-view+json": {
       "model_id": "ac7d099d97de49eeac45144a1f5d988a",
       "version_major": 2,
       "version_minor": 0
      },
      "text/plain": [
       "interactive(children=(IntSlider(value=0, description='t', max=19), Output()), _dom_classes=('widget-interact',…"
      ]
     },
     "metadata": {},
     "output_type": "display_data"
    },
    {
     "data": {
      "text/plain": [
       "<function __main__.plot_agent(t)>"
      ]
     },
     "execution_count": 25,
     "metadata": {},
     "output_type": "execute_result"
    }
   ],
   "source": [
    "def plot_agent(t):\n",
    "    csrl.mdp.plot(agent=state_history[t][2:], save=f'test/{t}.png')\n",
    "t=IntSlider(value=0,min=0,max=T-1)\n",
    "interact(plot_agent,t=t)"
   ]
  },
  {
   "cell_type": "code",
   "execution_count": 27,
   "metadata": {},
   "outputs": [
    {
     "ename": "NameError",
     "evalue": "name 'threading' is not defined",
     "output_type": "error",
     "traceback": [
      "\u001b[1;31m---------------------------------------------------------------------------\u001b[0m",
      "\u001b[1;31mNameError\u001b[0m                                 Traceback (most recent call last)",
      "Cell \u001b[1;32mIn[27], line 32\u001b[0m\n\u001b[0;32m     29\u001b[0m search_depths \u001b[39m=\u001b[39m [\u001b[39m2\u001b[39m,\u001b[39m4\u001b[39m,\u001b[39m8\u001b[39m,\u001b[39m16\u001b[39m,\u001b[39m32\u001b[39m,\u001b[39m40\u001b[39m,\u001b[39m60\u001b[39m,\u001b[39m80\u001b[39m,\u001b[39m100\u001b[39m,\u001b[39m120\u001b[39m,\u001b[39m140\u001b[39m,\u001b[39m160\u001b[39m,\u001b[39m180\u001b[39m,\u001b[39m200\u001b[39m] \u001b[39m#[2,4,6,8,10,15,20,25,30,35,40,45,50,60,70,80,90,100,120]\u001b[39;00m\n\u001b[0;32m     31\u001b[0m \u001b[39mfor\u001b[39;00m sd \u001b[39min\u001b[39;00m search_depths:\n\u001b[1;32m---> 32\u001b[0m     threads\u001b[39m.\u001b[39mappend(threading\u001b[39m.\u001b[39mThread(target\u001b[39m=\u001b[39mrun, args\u001b[39m=\u001b[39m(T, training, num_epochs, sd,)))\n\u001b[0;32m     34\u001b[0m \u001b[39mfor\u001b[39;00m t \u001b[39min\u001b[39;00m threads:\n\u001b[0;32m     35\u001b[0m     results\u001b[39m.\u001b[39mappend(t\u001b[39m.\u001b[39mstart())\n",
      "\u001b[1;31mNameError\u001b[0m: name 'threading' is not defined"
     ]
    }
   ],
   "source": []
  },
  {
   "cell_type": "code",
   "execution_count": null,
   "metadata": {},
   "outputs": [
    {
     "data": {
      "text/plain": [
       "1"
      ]
     },
     "execution_count": 18,
     "metadata": {},
     "output_type": "execute_result"
    }
   ],
   "source": [
    "os.system('ffmpeg -r 3 -i ./test/%d.png -vcodec libx264 -y ./test/test.mp4')"
   ]
  },
  {
   "cell_type": "code",
   "execution_count": 35,
   "metadata": {},
   "outputs": [
    {
     "name": "stdout",
     "output_type": "stream",
     "text": [
      "start: None\n",
      "join: None\n",
      "[25]\n"
     ]
    }
   ],
   "source": [
    "res = []\n",
    "def ttt(x):\n",
    "    res.append(x**2)\n",
    "t1 = threading.Thread(target=ttt, args=(5,))\n",
    "print(res)"
   ]
  },
  {
   "cell_type": "code",
   "execution_count": null,
   "metadata": {},
   "outputs": [],
   "source": []
  }
 ],
 "metadata": {
  "kernelspec": {
   "display_name": "base",
   "language": "python",
   "name": "python3"
  },
  "language_info": {
   "codemirror_mode": {
    "name": "ipython",
    "version": 3
   },
   "file_extension": ".py",
   "mimetype": "text/x-python",
   "name": "python",
   "nbconvert_exporter": "python",
   "pygments_lexer": "ipython3",
   "version": "3.10.8 | packaged by conda-forge | (main, Nov 24 2022, 14:07:00) [MSC v.1916 64 bit (AMD64)]"
  },
  "orig_nbformat": 4,
  "vscode": {
   "interpreter": {
    "hash": "99202338b96e74e315910b3b20b9a2b0621872c4f26ff012cceee1c9c29d9125"
   }
  }
 },
 "nbformat": 4,
 "nbformat_minor": 2
}
